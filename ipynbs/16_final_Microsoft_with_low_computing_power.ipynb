{
  "cells": [
    {
      "cell_type": "markdown",
      "metadata": {
        "id": "9IzQUF-qSWTT"
      },
      "source": [
        "#Importing libraries"
      ]
    },
    {
      "cell_type": "code",
      "execution_count": null,
      "metadata": {
        "id": "WNPsTlf_6V5L"
      },
      "outputs": [],
      "source": [
        "\n",
        "import shutil\n",
        "import codecs\n",
        "import imageio\n",
        "import array \n",
        "import numpy as np\n",
        "from tqdm import tqdm\n",
        "\n",
        "from scipy.sparse import csr_matrix\n",
        "from scipy.sparse import save_npz\n",
        "from scipy.sparse import vstack\n",
        "from sklearn.preprocessing import normalize\n",
        "import scipy.sparse\n",
        "import multiprocessing\n",
        "from multiprocessing import Process\n",
        "from numpy import savetxt"
      ]
    },
    {
      "cell_type": "code",
      "source": [
        "from google.colab import drive\n",
        "drive.mount('/content/drive')"
      ],
      "metadata": {
        "colab": {
          "base_uri": "https://localhost:8080/"
        },
        "id": "oFNmcpG9R5d6",
        "outputId": "754ff3e3-a190-4824-ef8d-b67fb44938e8"
      },
      "execution_count": null,
      "outputs": [
        {
          "output_type": "stream",
          "name": "stdout",
          "text": [
            "Mounted at /content/drive\n"
          ]
        }
      ]
    },
    {
      "cell_type": "code",
      "execution_count": null,
      "metadata": {
        "id": "qM0dkwL4G_rf"
      },
      "outputs": [],
      "source": [
        "\n",
        "import pandas as pd\n",
        "import os\n",
        "from scipy.sparse import load_npz"
      ]
    },
    {
      "cell_type": "code",
      "execution_count": null,
      "metadata": {
        "id": "eUqeDvg843rV",
        "outputId": "670b24d0-afed-472e-fe63-33a4fdee2a00"
      },
      "outputs": [
        {
          "name": "stdout",
          "output_type": "stream",
          "text": [
            "Collecting xgboost\n",
            "  Downloading xgboost-1.7.1-py3-none-win_amd64.whl (89.1 MB)\n",
            "Requirement already satisfied: numpy in c:\\users\\shabb\\anaconda3\\lib\\site-packages (from xgboost) (1.20.3)\n",
            "Requirement already satisfied: scipy in c:\\users\\shabb\\anaconda3\\lib\\site-packages (from xgboost) (1.7.1)\n",
            "Installing collected packages: xgboost\n",
            "Successfully installed xgboost-1.7.1\n"
          ]
        }
      ],
      "source": [
        "! pip3 install xgboost"
      ]
    },
    {
      "cell_type": "code",
      "execution_count": null,
      "metadata": {
        "id": "CaGsvgM-cNe7"
      },
      "outputs": [],
      "source": [
        "from sklearn.model_selection import train_test_split\n",
        "from sklearn.model_selection import RandomizedSearchCV\n",
        "from xgboost import XGBClassifier"
      ]
    },
    {
      "cell_type": "markdown",
      "metadata": {
        "id": "fxzf60q0anvy"
      },
      "source": [
        "# Kaggle file import"
      ]
    },
    {
      "cell_type": "code",
      "execution_count": null,
      "metadata": {
        "id": "4Qi3OAC-ShCp"
      },
      "outputs": [],
      "source": [
        "api_token = files.upload()"
      ]
    },
    {
      "cell_type": "code",
      "execution_count": null,
      "metadata": {
        "colab": {
          "base_uri": "https://localhost:8080/"
        },
        "id": "EOkBkLzV1TMT",
        "outputId": "cf2fbcd3-9128-4f91-ea4b-ab0925eba18c"
      },
      "outputs": [
        {
          "name": "stdout",
          "output_type": "stream",
          "text": [
            "Looking in indexes: https://pypi.org/simple, https://us-python.pkg.dev/colab-wheels/public/simple/\n",
            "Requirement already satisfied: kaggle in /usr/local/lib/python3.8/dist-packages (1.5.12)\n",
            "Requirement already satisfied: six>=1.10 in /usr/local/lib/python3.8/dist-packages (from kaggle) (1.15.0)\n",
            "Requirement already satisfied: python-slugify in /usr/local/lib/python3.8/dist-packages (from kaggle) (7.0.0)\n",
            "Requirement already satisfied: python-dateutil in /usr/local/lib/python3.8/dist-packages (from kaggle) (2.8.2)\n",
            "Requirement already satisfied: tqdm in /usr/local/lib/python3.8/dist-packages (from kaggle) (4.64.1)\n",
            "Requirement already satisfied: requests in /usr/local/lib/python3.8/dist-packages (from kaggle) (2.23.0)\n",
            "Requirement already satisfied: certifi in /usr/local/lib/python3.8/dist-packages (from kaggle) (2022.9.24)\n",
            "Requirement already satisfied: urllib3 in /usr/local/lib/python3.8/dist-packages (from kaggle) (1.24.3)\n",
            "Requirement already satisfied: text-unidecode>=1.3 in /usr/local/lib/python3.8/dist-packages (from python-slugify->kaggle) (1.3)\n",
            "Requirement already satisfied: chardet<4,>=3.0.2 in /usr/local/lib/python3.8/dist-packages (from requests->kaggle) (3.0.4)\n",
            "Requirement already satisfied: idna<3,>=2.5 in /usr/local/lib/python3.8/dist-packages (from requests->kaggle) (2.10)\n"
          ]
        }
      ],
      "source": [
        "!pip install kaggle\n",
        "\n",
        "api_token = {\"username\":\"xxxxxxx\",\"key\":\"xxxxxxxxxxxxxxxxx\"}"
      ]
    },
    {
      "cell_type": "code",
      "execution_count": null,
      "metadata": {
        "colab": {
          "base_uri": "https://localhost:8080/"
        },
        "id": "9Vv6TBsj1twd",
        "outputId": "286fbae6-c7d1-4127-d1b1-12a6e60ffa9b"
      },
      "outputs": [
        {
          "name": "stdout",
          "output_type": "stream",
          "text": [
            "Warning: Your Kaggle API key is readable by other users on this system! To fix this, you can run 'chmod 600 /root/.kaggle/kaggle.json'\n",
            "Downloading train.7z to /content\n",
            "100% 17.5G/17.5G [01:54<00:00, 222MB/s]\n",
            "100% 17.5G/17.5G [01:54<00:00, 165MB/s]\n"
          ]
        }
      ],
      "source": [
        "!mkdir ~/.kaggle\n",
        "!cp kaggle.json ~/.kaggle/\n",
        "\n",
        "!kaggle competitions download -f 'train.7z' 'malware-classification'"
      ]
    },
    {
      "cell_type": "markdown",
      "metadata": {
        "id": "DbTeeEuHQTO6"
      },
      "source": [
        "##we are only extracting byte file "
      ]
    },
    {
      "cell_type": "code",
      "execution_count": null,
      "metadata": {
        "colab": {
          "base_uri": "https://localhost:8080/"
        },
        "id": "jpXB8IU0Vgpc",
        "outputId": "6d568ee4-e048-43d1-9bc1-ce0e9cca1041"
      },
      "outputs": [
        {
          "name": "stdout",
          "output_type": "stream",
          "text": [
            "\n",
            "7-Zip [64] 16.02 : Copyright (c) 1999-2016 Igor Pavlov : 2016-05-21\n",
            "p7zip Version 16.02 (locale=en_US.UTF-8,Utf16=on,HugeFiles=on,64 bits,2 CPUs AMD EPYC 7B12 (830F10),ASM,AES-NI)\n",
            "\n",
            "Scanning the drive for archives:\n",
            "  0M Scan\b\b\b\b\b\b\b\b\b         \b\b\b\b\b\b\b\b\b1 file, 18810691091 bytes (18 GiB)\n",
            "\n",
            "Extracting archive: train.7z\n",
            "--\n",
            "Path = train.7z\n",
            "Type = 7z\n",
            "Physical Size = 18810691091\n",
            "Headers Size = 339764\n",
            "Method = LZMA:24\n",
            "Solid = +\n",
            "Blocks = 94\n",
            "\n",
            "  0%\b\b\b\b    \b\b\b\b  0% . train/kQEbWRHa04gOYDqM1NJ6.asm\b\b\b\b\b\b\b\b\b\b\b\b\b\b\b\b\b\b\b\b\b\b\b\b\b\b\b\b\b\b\b\b\b\b\b\b\b                                     \b\b\b\b\b\b\b\b\b\b\b\b\b\b\b\b\b\b\b\b\b\b\b\b\b\b\b\b\b\b\b\b\b\b\b\b\b  0% 1 . train/KqEgONxfHdP5lLaBIGQk.asm\b\b\b\b\b\b\b\b\b\b\b\b\b\b\b\b\b\b\b\b\b\b\b\b\b\b\b\b\b\b\b\b\b\b\b\b\b\b\b                                       \b\b\b\b\b\b\b\b\b\b\b\b\b\b\b\b\b\b\b\b\b\b\b\b\b\b\b\b\b\b\b\b\b\b\b\b\b\b\b  0% 2 . train/kqiOdVbRQlB2s907GLMv.asm\b\b\b\b\b\b\b\b\b\b\b\b\b\b\b\b\b\b\b\b\b\b\b\b\b\b\b\b\b\b\b\b\b\b\b\b\b\b\b                                       \b\b\b\b\b\b\b\b\b\b\b\b\b\b\b\b\b\b\b\b\b\b\b\b\b\b\b\b\b\b\b\b\b\b\b\b\b\b\b  0% 5 . train/kQsiVxDbAXt23wRWal57.asm\b\b\b\b\b\b\b\b\b\b\b\b\b\b\b\b\b\b\b\b\b\b\b\b\b\b\b\b\b\b\b\b\b\b\b\b\b\b\b                                       \b\b\b\b\b\b\b\b\b\b\b\b\b\b\b\b\b\b\b\b\b\b\b\b\b\b\b\b\b\b\b\b\b\b\b\b\b\b\b  0% 6 . train/kqvJp5E0wbWgu9mnzSQB.asm\b\b\b\b\b\b\b\b\b\b\b\b\b\b\b\b\b\b\b\b\b\b\b\b\b\b\b\b\b\b\b\b\b\b\b\b\b\b\b                                       \b\b\b\b\b\b\b\b\b\b\b\b\b\b\b\b\b\b\b\b\b\b\b\b\b\b\b\b\b\b\b\b\b\b\b\b\b\b\b  0% 7 . train/KQwj9O6dlPxNyf8zW0gp.asm\b\b\b\b\b\b\b\b\b\b\b\b\b\b\b\b\b\b\b\b\b\b\b\b\b\b\b\b\b\b\b\b\b\b\b\b\b\b\b                                       \b\b\b\b\b\b\b\b\b\b\b\b\b\b\b\b\b\b\b\b\b\b\b\b\b\b\b\b\b\b\b\b\b\b\b\b\b\b\b  0% 9 . train/KRBDxPLfj0JQV5heGX4S.asm\b\b\b\b\b\b\b\b\b\b\b\b\b\b\b\b\b\b\b\b\b\b\b\b\b\b\b\b\b\b\b\b\b\b\b\b\b\b\b                                       \b\b\b\b\b\b\b\b\b\b\b\b\b\b\b\b\b\b\b\b\b\b\b\b\b\b\b\b\b\b\b\b\b\b\b\b\b\b\b  0% 10 . train/KRNHAm094TC7OJfEPp8h.asm"
          ]
        }
      ],
      "source": [
        "!7z e train.7z -o/content/byteFiles *.bytes -r"
      ]
    },
    {
      "cell_type": "markdown",
      "metadata": {
        "id": "GCXjcaTu3mdA"
      },
      "source": [
        "#Byte bigram feature"
      ]
    },
    {
      "cell_type": "markdown",
      "metadata": {
        "id": "5OrGlGKZsk2a"
      },
      "source": [
        "##Creating txt files"
      ]
    },
    {
      "cell_type": "code",
      "execution_count": null,
      "metadata": {
        "colab": {
          "base_uri": "https://localhost:8080/"
        },
        "id": "XU-WtQyq7rp9",
        "outputId": "b606c6bd-8c74-44f2-a138-20e1c850da69"
      },
      "outputs": [
        {
          "name": "stderr",
          "output_type": "stream",
          "text": [
            "100%|██████████| 10868/10868 [37:27<00:00,  4.84it/s]\n"
          ]
        }
      ],
      "source": [
        "files = os.listdir('byteFiles')\n",
        "filenames=[]\n",
        "for file in tqdm(files):\n",
        "    if(file.endswith(\"bytes\")):\n",
        "        filenames.append(file)\n",
        "        file=file.split('.')[0]\n",
        "        text_file = open('byteFiles/'+file+\".txt\", 'w+')\n",
        "        with open('byteFiles/'+file+\".bytes\",\"r\") as fp:\n",
        "            for line in fp:\n",
        "                a=line.rstrip().split(\" \")[1:]\n",
        "                b=' '.join(a)\n",
        "                b=b+\"\\n\"\n",
        "                text_file.write(b)\n",
        "                \n",
        "            fp.close()\n",
        "            os.remove('byteFiles/'+file+\".bytes\")\n",
        "        text_file.close()"
      ]
    },
    {
      "cell_type": "markdown",
      "metadata": {
        "id": "RoRHfKxSEQYv"
      },
      "source": [
        "##Bi-gram\n",
        "The highest possible bigram is \"ffff\" it binary value is 65535\n",
        "\n",
        "We will calculate the decimal value of the byte code and store the count of that bi-gram in the index which is the decimal value.\n",
        "For that we will create a large np array with columns of 16**4 which is 65536"
      ]
    },
    {
      "cell_type": "code",
      "execution_count": null,
      "metadata": {
        "id": "kolxJyVgF48W"
      },
      "outputs": [],
      "source": [
        "files = os.listdir('byteFiles')\n",
        "with open(\"file_names.txt\",\"w+\") as fp:\n",
        "    for file in files:\n",
        "        fp.write(\"%s\\n\"%file)\n",
        "fp.close()\n",
        "\n"
      ]
    },
    {
      "cell_type": "code",
      "execution_count": null,
      "metadata": {
        "colab": {
          "base_uri": "https://localhost:8080/",
          "height": 35
        },
        "id": "AXBlrarT-fFb",
        "outputId": "f5a7a450-0367-435f-ee76-c8a0e6939d29"
      },
      "outputs": [
        {
          "data": {
            "application/vnd.google.colaboratory.intrinsic+json": {
              "type": "string"
            },
            "text/plain": [
              "'/content/drive/MyDrive/Colab Notebooks/assignment files/file_names.txt'"
            ]
          },
          "execution_count": 12,
          "metadata": {},
          "output_type": "execute_result"
        }
      ],
      "source": [
        "shutil.move(\"/content/file_names.txt\",\"/content/drive/MyDrive/Colab Notebooks/assignment files\")"
      ]
    },
    {
      "cell_type": "markdown",
      "source": [
        "###Creating bigrams for first half of the data"
      ],
      "metadata": {
        "id": "p3ev4_hv5Shv"
      }
    },
    {
      "cell_type": "code",
      "execution_count": null,
      "metadata": {
        "colab": {
          "base_uri": "https://localhost:8080/"
        },
        "id": "feMBL2298ZWl",
        "outputId": "fef46131-f60f-42cd-aa0d-66c43570b4d4"
      },
      "outputs": [
        {
          "name": "stderr",
          "output_type": "stream",
          "text": [
            "100%|██████████| 5434/5434 [1:43:03<00:00,  1.14s/it]\n"
          ]
        }
      ],
      "source": [
        "\n",
        "bi_gram_matrix = np.zeros((int(len(files)/2),16**4))\n",
        "files2 = files[:int(len(files)/2)] #half\n",
        "for idx,file in enumerate(tqdm(files2)):\n",
        "    \n",
        "    \n",
        "    if file.endswith(\"txt\"): #if file is txt\n",
        "        with open('byteFiles/'+file,\"r\") as bytefile: #read file\n",
        "            #creating bigrams\n",
        "            for line in bytefile: #for each line\n",
        "                hex = line.split() #hexadecimal values\n",
        "                bigram_hex = hex[:-1] # hex values except last value\n",
        "                for i in range(len(bigram_hex)):\n",
        "                    bigram_hex[i] += hex[i+1]#bigrams list\n",
        "                \n",
        "                decimal = [] #decimal values of bigrams\n",
        "                for i in bigram_hex:\n",
        "                    if \"??\" not in i:\n",
        "                        decimal += [int(i,16)] #converting into decimal\n",
        "                for i in decimal:\n",
        "                    bi_gram_matrix[idx,i] += 1 #adding to bigram matrix\n",
        "                \n",
        "        bytefile.close()\n",
        "        os.remove('byteFiles/'+file) #removing the txt after after processing\n",
        "        \n",
        "        \n",
        "    \n",
        "        \n",
        "    \n",
        "\n",
        "\n"
      ]
    },
    {
      "cell_type": "code",
      "execution_count": null,
      "metadata": {
        "id": "g8trM7sN_XXe"
      },
      "outputs": [],
      "source": [
        "\n",
        "bi_gram_matrix = csr_matrix(bi_gram_matrix) #converiting into sparse matrix\n",
        "save_npz('sparse_byte_matrix1.npz', bi_gram_matrix) #saving sparse matrix in npz "
      ]
    },
    {
      "cell_type": "markdown",
      "source": [
        "###Second half"
      ],
      "metadata": {
        "id": "lCxMCRrO6WWV"
      }
    },
    {
      "cell_type": "code",
      "execution_count": null,
      "metadata": {
        "colab": {
          "base_uri": "https://localhost:8080/"
        },
        "id": "cTzGxkvAr5nh",
        "outputId": "ba65a9b8-1b9b-4a5a-c913-84e1f66a19fc"
      },
      "outputs": [
        {
          "name": "stderr",
          "output_type": "stream",
          "text": [
            "100%|██████████| 5434/5434 [1:46:33<00:00,  1.18s/it]\n"
          ]
        }
      ],
      "source": [
        "bi_gram_matrix = np.zeros((int(len(files)/2),16**4))\n",
        "files2 = files[5434:]\n",
        "for idx,file in enumerate(tqdm(files2)):\n",
        "    \n",
        "    \n",
        "    if file.endswith(\"txt\"):\n",
        "        with open('byteFiles/'+file,\"r\") as bytefile:\n",
        "            #creating bigrams\n",
        "            for line in bytefile:\n",
        "                hex = line.split()\n",
        "                bigram_hex = hex[:-1]\n",
        "                for i in range(len(bigram_hex)):\n",
        "                    bigram_hex[i] += hex[i+1]#bigrams list\n",
        "                \n",
        "                decimal = [] #decimal values of bigrams\n",
        "                for i in bigram_hex:\n",
        "                    if \"??\" not in i:\n",
        "                        decimal += [int(i,16)]\n",
        "                for i in decimal:\n",
        "                    bi_gram_matrix[idx,i] += 1\n",
        "                \n",
        "        bytefile.close()\n",
        "        os.remove('byteFiles/'+file)"
      ]
    },
    {
      "cell_type": "code",
      "execution_count": null,
      "metadata": {
        "id": "fkDygNghuRUH"
      },
      "outputs": [],
      "source": [
        "bi_gram_matrix = csr_matrix(bi_gram_matrix)\n",
        "save_npz('sparse_byte_matrix2.npz', bi_gram_matrix)"
      ]
    },
    {
      "cell_type": "code",
      "execution_count": null,
      "metadata": {
        "colab": {
          "base_uri": "https://localhost:8080/",
          "height": 35
        },
        "id": "q15MpMZbyYrt",
        "outputId": "8ed71864-c67b-47f5-fa04-0d0c946c4abc"
      },
      "outputs": [
        {
          "data": {
            "application/vnd.google.colaboratory.intrinsic+json": {
              "type": "string"
            },
            "text/plain": [
              "'/content/drive/MyDrive/Colab Notebooks/assignment files/sparse_byte_matrix1.npz'"
            ]
          },
          "execution_count": 21,
          "metadata": {},
          "output_type": "execute_result"
        }
      ],
      "source": [
        "#moving files to drive\n",
        "shutil.move(\"/content/sparse_byte_matrix1.npz\",\"/content/drive/MyDrive/Colab Notebooks/assignment files\")\n",
        "shutil.move(\"/content/sparse_byte_matrix2.npz\",\"/content/drive/MyDrive/Colab Notebooks/assignment files\")\n",
        "\n",
        "first_half = load_npz(\"/content/drive/MyDrive/Colab Notebooks/assignment files/sparse_byte_matrix1.npz\")\n",
        "second_half = load_npz(\"/content/drive/MyDrive/Colab Notebooks/assignment files/sparse_byte_matrix2.npz\")\n",
        "\n",
        "final = vstack((first_half,second_half))\n",
        "save_npz('sparse_byte_matrix_full.npz', final)\n",
        "\n",
        "shutil.move(\"/content/sparse_byte_matrix_full.npz\",\"/content/drive/MyDrive/Colab Notebooks/assignment files\")"
      ]
    },
    {
      "cell_type": "markdown",
      "metadata": {
        "id": "bSHBm6lTJM-e"
      },
      "source": [
        "##Selecting 2000 most important byte bigrams"
      ]
    },
    {
      "cell_type": "markdown",
      "source": [
        "Normalizing "
      ],
      "metadata": {
        "id": "MX7mUdVU6vJt"
      }
    },
    {
      "cell_type": "code",
      "execution_count": null,
      "metadata": {
        "id": "h0kDJOvFK-ey"
      },
      "outputs": [],
      "source": [
        "byte_bigram_1 = load_npz('/content/drive/MyDrive/Colab Notebooks/assignment files/sparse_byte_matrix1.npz')\n",
        "byte_bigram_1 = normalize(byte_bigram_1,copy=False,axis=0,norm='l1')\n",
        "save_npz(\"/content/drive/MyDrive/Colab Notebooks/assignment files/byte_bigram_norm1.npz\",byte_bigram_1)\n",
        "\n",
        "byte_bigram_2 = load_npz('/content/drive/MyDrive/Colab Notebooks/assignment files/sparse_byte_matrix2.npz')\n",
        "byte_bigram_2 = normalize(byte_bigram_2,copy=False,axis=0,norm='l1')\n",
        "save_npz(\"/content/drive/MyDrive/Colab Notebooks/assignment files/byte_bigram_norm2.npz\",byte_bigram_2)"
      ]
    },
    {
      "cell_type": "code",
      "execution_count": null,
      "metadata": {
        "id": "7eYHnt_cS6ap"
      },
      "outputs": [],
      "source": [
        "byte_bigram_1 = load_npz('/content/drive/MyDrive/Colab Notebooks/assignment files/byte_bigram_norm1.npz')\n",
        "byte_bigram_1 = pd.DataFrame.sparse.from_spmatrix(byte_bigram_1)#data frame of sparse matrix"
      ]
    },
    {
      "cell_type": "code",
      "execution_count": null,
      "metadata": {
        "id": "SQoc_BAohMPy"
      },
      "outputs": [],
      "source": [
        "class_labels = pd.read_csv('/content/drive/MyDrive/MicrosoftMalware/trainLabels.csv')\n",
        "class_labels = class_labels.drop(['Id'],axis=1).values[:5434]"
      ]
    },
    {
      "cell_type": "markdown",
      "source": [
        "selecting best 2000 features using chi2 test using SelectKBest\n",
        "\n",
        "I have selected best features only using first half of the data since it was crashing when i used whole data "
      ],
      "metadata": {
        "id": "335ubHxy7JjL"
      }
    },
    {
      "cell_type": "code",
      "execution_count": null,
      "metadata": {
        "id": "CXr6CtUsWZLH"
      },
      "outputs": [],
      "source": [
        "from sklearn.feature_selection import SelectKBest, chi2\n",
        "\n",
        "skb = SelectKBest(score_func=chi2, k=2000)\n",
        "imp_2k_bigrams = skb.fit(byte_bigram_1,class_labels)\n",
        "\n",
        "#list of indices of best features\n",
        "top2k = [i for i,val in enumerate(skb.get_support()) if val ] #i is taken if val is True\n",
        "byte_bigram_1= byte_bigram_1[top2k]\n"
      ]
    },
    {
      "cell_type": "markdown",
      "source": [
        "using same indices selected best features of second half"
      ],
      "metadata": {
        "id": "G16heeTv75oB"
      }
    },
    {
      "cell_type": "code",
      "execution_count": null,
      "metadata": {
        "id": "TW-38RAzrXss"
      },
      "outputs": [],
      "source": [
        "byte_bigram_2 = load_npz('/content/drive/MyDrive/Colab Notebooks/assignment files/byte_bigram_norm2.npz')\n",
        "byte_bigram_2 = pd.DataFrame.sparse.from_spmatrix(byte_bigram_2)\n",
        "\n",
        "byte_bigram_2 = byte_bigram_2[top2k]"
      ]
    },
    {
      "cell_type": "markdown",
      "source": [
        "concatinated both halfs and saved it to drive file"
      ],
      "metadata": {
        "id": "jMBicjqC8BMZ"
      }
    },
    {
      "cell_type": "code",
      "execution_count": null,
      "metadata": {
        "id": "wKPv3J_2EoQF"
      },
      "outputs": [],
      "source": [
        "final_byte_top2k = pd.concat([byte_bigram_1, byte_bigram_2], ignore_index=True)\n",
        "final_byte_top2k.to_csv(path_or_buf='/content/drive/MyDrive/Colab Notebooks/assignment files/byte_bigram_top2k.csv',header=False,index=False)"
      ]
    },
    {
      "cell_type": "markdown",
      "metadata": {
        "id": "j3Okojw_7Ji1"
      },
      "source": [
        "#asm image feature"
      ]
    },
    {
      "cell_type": "code",
      "execution_count": null,
      "metadata": {
        "id": "rcerksw9ifY3"
      },
      "outputs": [],
      "source": [
        "data=!7z l train.7z #gives all paths in the file train.7z\n",
        "\n",
        "asm_file_list=[]\n",
        "for i in data:\n",
        "  if (i.endswith(\"asm\")): #filtering out asm files\n",
        "    asm_file_list.append(i)\n",
        "\n",
        "file_names = []\n",
        "for file in asm_file_list:\n",
        "    file_names.append((file.split()[-1]).replace('train/',\"\")) #getting the file name out of path"
      ]
    },
    {
      "cell_type": "code",
      "execution_count": null,
      "metadata": {
        "id": "RNvRqzOXtRVO"
      },
      "outputs": [],
      "source": [
        "#shutil.rmtree(\"asm_files\")"
      ]
    },
    {
      "cell_type": "markdown",
      "metadata": {
        "id": "EOu_nFgunTvi"
      },
      "source": [
        "##I ran these in different notebooks parallely in different accounts"
      ]
    },
    {
      "cell_type": "markdown",
      "metadata": {
        "id": "Sn2CYrK_EM87"
      },
      "source": [
        "Divided files into 11 parts"
      ]
    },
    {
      "cell_type": "code",
      "execution_count": null,
      "metadata": {
        "id": "LmXHFd-r5ayY"
      },
      "outputs": [],
      "source": [
        "asm_matrix= np.zeros((len(file_names),800))\n",
        "for idx,file in tqdm(enumerate(file_names[:988])):\n",
        "    print(\"#\"*50)\n",
        "    !7z e train.7z -o/content/asm_files *$file -r #unzipping specific file\n",
        "    name= file.split('.')[0]\n",
        "    asmfile = open(\"asm_files/\"+file,'rb') #opens file in byte format\n",
        "    arr = array.array('B') #array of unsigned int\n",
        "    arr.frombytes(asmfile.read()) \n",
        "    asm_matrix[idx,:]=arr[:800] #selecting first 800 pixels\n",
        "\n",
        "savetxt('first_data.csv', asm_matrix, delimiter=',') #saving to csv file\n",
        "shutil.move('/content/first_data.csv','/content/drive/MyDrive/Colab Notebooks/assignment files') "
      ]
    },
    {
      "cell_type": "code",
      "execution_count": null,
      "metadata": {
        "id": "9VC1HyiX5b1A"
      },
      "outputs": [],
      "source": [
        "asm_matrix= np.zeros((len(file_names),800))\n",
        "for idx,file in tqdm(enumerate(file_names[988:1976])):\n",
        "    print(\"#\"*50)\n",
        "    !7z e train.7z -o/content/asm_files *$file -r\n",
        "    name= file.split('.')[0]\n",
        "    asmfile = open(\"asm_files/\"+file,'rb')\n",
        "    arr = array.array('B')\n",
        "    arr.frombytes(asmfile.read())\n",
        "    asm_matrix[idx,:]=arr[:800]\n",
        "\n",
        "savetxt('second_data.csv', asm_matrix, delimiter=',') \n",
        "shutil.move('/content/second_data.csv','/content/drive/MyDrive/Colab Notebooks/assignment files') "
      ]
    },
    {
      "cell_type": "code",
      "execution_count": null,
      "metadata": {
        "id": "DyK7ySWA4vRJ"
      },
      "outputs": [],
      "source": [
        "asm_matrix= np.zeros((len(file_names),800))\n",
        "for idx,file in tqdm(enumerate(file_names[1976:2964])):\n",
        "    print(\"#\"*50)\n",
        "    !7z e train.7z -o/content/asm_files *$file -r\n",
        "    name= file.split('.')[0]\n",
        "    asmfile = open(\"asm_files/\"+file,'rb')\n",
        "    arr = array.array('B')\n",
        "    arr.frombytes(asmfile.read())\n",
        "    asm_matrix[idx,:]=arr[:800]\n",
        "savetxt('third_data.csv', asm_matrix, delimiter=',') \n",
        "shutil.move('/content/third_data.csv','/content/drive/MyDrive/Colab Notebooks/assignment files') "
      ]
    },
    {
      "cell_type": "code",
      "execution_count": null,
      "metadata": {
        "id": "yaL2sj4m3QlL"
      },
      "outputs": [],
      "source": [
        "asm_matrix= np.zeros((len(file_names),800))\n",
        "for idx,file in tqdm(enumerate(file_names[2964:3952])):\n",
        "    print(\"#\"*50)\n",
        "    !7z e train.7z -o/content/asm_files *$file -r\n",
        "    name= file.split('.')[0]\n",
        "    asmfile = open(\"asm_files/\"+file,'rb')\n",
        "    arr = array.array('B')\n",
        "    arr.frombytes(asmfile.read())\n",
        "    asm_matrix[idx,:]=arr[:800]\n",
        "savetxt('fourth_data.csv', asm_matrix, delimiter=',') \n",
        "shutil.move('/content/fourth_data.csv','/content/drive/MyDrive/Colab Notebooks/assignment files') "
      ]
    },
    {
      "cell_type": "code",
      "execution_count": null,
      "metadata": {
        "id": "WWxgdoQB3Qbq"
      },
      "outputs": [],
      "source": [
        "asm_matrix= np.zeros((len(file_names),800))\n",
        "for idx,file in tqdm(enumerate(file_names[3952:4940])):\n",
        "    print(\"#\"*50)\n",
        "    !7z e train.7z -o/content/asm_files *$file -r\n",
        "    name= file.split('.')[0]\n",
        "    asmfile = open(\"asm_files/\"+file,'rb')\n",
        "    arr = array.array('B')\n",
        "    arr.frombytes(asmfile.read())\n",
        "    asm_matrix[idx,:]=arr[:800]\n",
        "\n",
        "savetxt('fifth_data.csv', asm_matrix, delimiter=',') \n",
        "shutil.move('/content/fifth_data.csv','/content/drive/MyDrive/Colab Notebooks/assignment files') "
      ]
    },
    {
      "cell_type": "code",
      "execution_count": null,
      "metadata": {
        "id": "7EKb2UoZPWYK"
      },
      "outputs": [],
      "source": [
        "asm_matrix= np.zeros((988,800))\n",
        "for idx,file in tqdm(enumerate(file_names[4940:5928])):\n",
        "    print(\"#\"*50)\n",
        "    !7z e train.7z -o/content/asm_files *$file -r\n",
        "    name= file.split('.')[0]\n",
        "    asmfile = open(\"asm_files/\"+file,'rb')\n",
        "    arr = array.array('B')\n",
        "    arr.frombytes(asmfile.read())\n",
        "    asm_matrix[idx,:]=arr[:800]\n",
        "\n",
        "savetxt('sixth_data.csv', asm_matrix, delimiter=',') \n",
        "shutil.move('/content/sixth_data.csv','/content/drive/MyDrive/Colab Notebooks/assignment files') "
      ]
    },
    {
      "cell_type": "code",
      "execution_count": null,
      "metadata": {
        "id": "wRtRWPJF0qfr"
      },
      "outputs": [],
      "source": [
        "asm_matrix= np.zeros((988,800))\n",
        "for idx,file in tqdm(enumerate(file_names[5928:6916])):\n",
        "    print(\"#\"*50)\n",
        "    !7z e train.7z -o/content/asm_files *$file -r\n",
        "    name= file.split('.')[0]\n",
        "    asmfile = open(\"asm_files/\"+file,'rb')\n",
        "    arr = array.array('B')\n",
        "    arr.frombytes(asmfile.read())\n",
        "    asm_matrix[idx,:]=arr[:800]\n",
        "\n",
        "savetxt('seventh_data.csv', asm_matrix, delimiter=',') \n",
        "shutil.move('/content/seventh_data.csv','/content/drive/MyDrive/Colab Notebooks/assignment files') "
      ]
    },
    {
      "cell_type": "code",
      "execution_count": null,
      "metadata": {
        "id": "zD0Am__FnFSB"
      },
      "outputs": [],
      "source": [
        "asm_matrix= np.zeros((988,800))\n",
        "for idx,file in tqdm(enumerate(file_names[6916:7904])):\n",
        "    print(\"#\"*50)\n",
        "    !7z e train.7z -o/content/asm_files *$file -r\n",
        "    name= file.split('.')[0]\n",
        "    asmfile = open(\"asm_files/\"+file,'rb')\n",
        "    arr = array.array('B')\n",
        "    arr.frombytes(asmfile.read())\n",
        "    asm_matrix[idx,:]=arr[:800]\n",
        "\n",
        "savetxt('eighth_data.csv', asm_matrix, delimiter=',') \n",
        "shutil.move('/content/eighth_data.csv','/content/drive/MyDrive/Colab Notebooks/assignment files') "
      ]
    },
    {
      "cell_type": "code",
      "execution_count": null,
      "metadata": {
        "id": "kik8V78v5but"
      },
      "outputs": [],
      "source": [
        "asm_matrix= np.zeros((988,800))\n",
        "for idx,file in tqdm(enumerate(file_names[7904:8892])):\n",
        "    print(\"#\"*50)\n",
        "    !7z e train.7z -o/content/asm_files *$file -r\n",
        "    name= file.split('.')[0]\n",
        "    asmfile = open(\"asm_files/\"+file,'rb')\n",
        "    arr = array.array('B')\n",
        "    arr.frombytes(asmfile.read())\n",
        "    asm_matrix[idx,:]=arr[:800]\n",
        "\n",
        "savetxt('nineth_data.csv', asm_matrix, delimiter=',') \n",
        "shutil.move('/content/nineth_data.csv','/content/drive/MyDrive/Colab Notebooks/assignment files') "
      ]
    },
    {
      "cell_type": "code",
      "execution_count": null,
      "metadata": {
        "id": "L-67wmmT5brw"
      },
      "outputs": [],
      "source": [
        "asm_matrix= np.zeros((988,800))\n",
        "for idx,file in tqdm(enumerate(file_names[8892:9880])):\n",
        "    print(\"#\"*50)\n",
        "    !7z e train.7z -o/content/asm_files *$file -r\n",
        "    name= file.split('.')[0]\n",
        "    asmfile = open(\"asm_files/\"+file,'rb')\n",
        "    arr = array.array('B')\n",
        "    arr.frombytes(asmfile.read())\n",
        "    asm_matrix[idx,:]=arr[:800]\n",
        "\n",
        "savetxt('tenth_data.csv', asm_matrix, delimiter=',') \n",
        "shutil.move('/content/tenth_data.csv','/content/drive/MyDrive/Colab Notebooks/assignment files') "
      ]
    },
    {
      "cell_type": "code",
      "execution_count": null,
      "metadata": {
        "id": "xdM-3A0BLUjF"
      },
      "outputs": [],
      "source": [
        "asm_matrix= np.zeros((988,800))\n",
        "for idx,file in tqdm(enumerate(file_names[9880:])):\n",
        "    print(\"#\"*50)\n",
        "    !7z e train.7z -o/content/asm_files *$file -r\n",
        "    name= file.split('.')[0]\n",
        "    asmfile = open(\"asm_files/\"+file,'rb')\n",
        "    arr = array.array('B')\n",
        "    arr.frombytes(asmfile.read())\n",
        "    asm_matrix[idx,:]=arr[:800]\n",
        "\n",
        "savetxt('eleventh_data.csv', asm_matrix, delimiter=',') \n",
        "shutil.move('/content/eleventh_data.csv','/content/drive/MyDrive/Colab Notebooks/assignment files') "
      ]
    },
    {
      "cell_type": "markdown",
      "source": [
        "concatinating all 11 matrices in order"
      ],
      "metadata": {
        "id": "aXmfHfzS9qTe"
      }
    },
    {
      "cell_type": "code",
      "execution_count": null,
      "metadata": {
        "colab": {
          "base_uri": "https://localhost:8080/"
        },
        "id": "uI3I8e1N3QQC",
        "outputId": "804f65c3-3d8d-4867-c047-d6b21dfaf916"
      },
      "outputs": [
        {
          "name": "stdout",
          "output_type": "stream",
          "text": [
            "total data shape =  (10868, 800)\n"
          ]
        }
      ],
      "source": [
        "first= pd.read_csv('/content/drive/MyDrive/Colab Notebooks/assignment files/first_data.csv',header=None)\n",
        "second= pd.read_csv('/content/drive/MyDrive/Colab Notebooks/assignment files/second_data.csv',header=None)\n",
        "third= pd.read_csv('/content/drive/MyDrive/Colab Notebooks/assignment files/third_data.csv',header=None)\n",
        "fourth= pd.read_csv('/content/drive/MyDrive/Colab Notebooks/assignment files/fourth_data.csv',header=None)\n",
        "fifth= pd.read_csv('/content/drive/MyDrive/Colab Notebooks/assignment files/fifth_data.csv',header=None)\n",
        "sixth= pd.read_csv('/content/drive/MyDrive/Colab Notebooks/assignment files/sixth_data.csv',header=None)\n",
        "seventh= pd.read_csv('/content/drive/MyDrive/Colab Notebooks/assignment files/seventh_data.csv',header=None)\n",
        "eighth= pd.read_csv('/content/drive/MyDrive/Colab Notebooks/assignment files/eighth_data.csv',header=None)\n",
        "nineth= pd.read_csv('/content/drive/MyDrive/Colab Notebooks/assignment files/nineth_data.csv',header=None)\n",
        "tenth= pd.read_csv('/content/drive/MyDrive/Colab Notebooks/assignment files/tenth_data.csv',header=None)\n",
        "eleventh= pd.read_csv('/content/drive/MyDrive/Colab Notebooks/assignment files/eleventh_data.csv',header=None)\n",
        "\n",
        "asm_feature_matrix = pd.concat([first,second,third,fourth,fifth,sixth,seventh,eighth,nineth,tenth,eleventh])\n",
        "\n",
        "print(\"total data shape = \",asm_feature_matrix.shape)"
      ]
    },
    {
      "cell_type": "code",
      "execution_count": null,
      "metadata": {
        "id": "KJ-rTItxLUWA"
      },
      "outputs": [],
      "source": [
        "asm_feature_matrix.to_csv(path_or_buf='/content/drive/MyDrive/Colab Notebooks/assignment files/asm_top_800.csv',header=False,index=False)\n",
        "\n",
        "#removing the csv files of 11 parts\n",
        "os.remove('/content/drive/MyDrive/Colab Notebooks/assignment files/first_data.csv')\n",
        "os.remove('/content/drive/MyDrive/Colab Notebooks/assignment files/second_data.csv')\n",
        "os.remove('/content/drive/MyDrive/Colab Notebooks/assignment files/third_data.csv')\n",
        "os.remove('/content/drive/MyDrive/Colab Notebooks/assignment files/fourth_data.csv')\n",
        "os.remove('/content/drive/MyDrive/Colab Notebooks/assignment files/fifth_data.csv')\n",
        "os.remove('/content/drive/MyDrive/Colab Notebooks/assignment files/sixth_data.csv')\n",
        "os.remove('/content/drive/MyDrive/Colab Notebooks/assignment files/seventh_data.csv')\n",
        "os.remove('/content/drive/MyDrive/Colab Notebooks/assignment files/eighth_data.csv')\n",
        "os.remove('/content/drive/MyDrive/Colab Notebooks/assignment files/nineth_data.csv')\n",
        "os.remove('/content/drive/MyDrive/Colab Notebooks/assignment files/tenth_data.csv')\n",
        "os.remove('/content/drive/MyDrive/Colab Notebooks/assignment files/eleventh_data.csv')"
      ]
    },
    {
      "cell_type": "markdown",
      "source": [
        "#Modeling"
      ],
      "metadata": {
        "id": "pVqecmWt96ts"
      }
    },
    {
      "cell_type": "markdown",
      "metadata": {
        "id": "0GFzJ9Ssq5SE"
      },
      "source": [
        "#Reading previous features"
      ]
    },
    {
      "cell_type": "code",
      "execution_count": 1,
      "metadata": {
        "id": "VPf05bna43rh"
      },
      "outputs": [],
      "source": [
        "import pandas as pd\n",
        "from sklearn.model_selection import train_test_split\n",
        "from sklearn.model_selection import RandomizedSearchCV\n",
        "from xgboost import XGBClassifier\n",
        "from sklearn.preprocessing import LabelEncoder"
      ]
    },
    {
      "cell_type": "code",
      "execution_count": 2,
      "metadata": {
        "colab": {
          "base_uri": "https://localhost:8080/",
          "height": 255
        },
        "id": "bvpXursDdAa9",
        "outputId": "ede36262-aeed-4c34-ced3-6f0c1fd9738e"
      },
      "outputs": [
        {
          "output_type": "execute_result",
          "data": {
            "text/plain": [
              "                     ID       0     1     2     3     4     5     6     7  \\\n",
              "0  01azqd4InC7m9JpocGv5  601905  3905  2816  3832  3345  3242  3650  3201   \n",
              "1  01IsoiSMh5gxyDYTl4CB   39755  8337  7249  7186  8663  6844  8420  7589   \n",
              "2  01jsnpXSAlgw6aPeDxrU   93506  9542  2568  2438  8925  9330  9007  2342   \n",
              "3  01kcPWA9K2BOxQeS5Rju   21091  1213   726   817  1257   625   550   523   \n",
              "4  01SuzwMJEIXsK7A8dQbl   19764   710   302   433   559   410   262   249   \n",
              "\n",
              "      8  ...    f9    fa    fb    fc    fd     fe     ff     ??  byte_size  \\\n",
              "0  2965  ...  3101  3211  3097  2758  3099   2759   5753   1824   4.234863   \n",
              "1  9291  ...   439   281   302  7639   518  17001  54902   8588   5.538818   \n",
              "2  9107  ...  2242  2885  2863  2471  2786   2680  49144    468   3.887939   \n",
              "3  1078  ...   485   462   516  1133   471    761   7998  13940   0.574219   \n",
              "4   422  ...   350   209   239   653   221    242   2199   9008   0.370850   \n",
              "\n",
              "   Class  \n",
              "0      9  \n",
              "1      2  \n",
              "2      9  \n",
              "3      1  \n",
              "4      8  \n",
              "\n",
              "[5 rows x 260 columns]"
            ],
            "text/html": [
              "<div>\n",
              "<style scoped>\n",
              "    .dataframe tbody tr th:only-of-type {\n",
              "        vertical-align: middle;\n",
              "    }\n",
              "\n",
              "    .dataframe tbody tr th {\n",
              "        vertical-align: top;\n",
              "    }\n",
              "\n",
              "    .dataframe thead th {\n",
              "        text-align: right;\n",
              "    }\n",
              "</style>\n",
              "<table border=\"1\" class=\"dataframe\">\n",
              "  <thead>\n",
              "    <tr style=\"text-align: right;\">\n",
              "      <th></th>\n",
              "      <th>ID</th>\n",
              "      <th>0</th>\n",
              "      <th>1</th>\n",
              "      <th>2</th>\n",
              "      <th>3</th>\n",
              "      <th>4</th>\n",
              "      <th>5</th>\n",
              "      <th>6</th>\n",
              "      <th>7</th>\n",
              "      <th>8</th>\n",
              "      <th>...</th>\n",
              "      <th>f9</th>\n",
              "      <th>fa</th>\n",
              "      <th>fb</th>\n",
              "      <th>fc</th>\n",
              "      <th>fd</th>\n",
              "      <th>fe</th>\n",
              "      <th>ff</th>\n",
              "      <th>??</th>\n",
              "      <th>byte_size</th>\n",
              "      <th>Class</th>\n",
              "    </tr>\n",
              "  </thead>\n",
              "  <tbody>\n",
              "    <tr>\n",
              "      <th>0</th>\n",
              "      <td>01azqd4InC7m9JpocGv5</td>\n",
              "      <td>601905</td>\n",
              "      <td>3905</td>\n",
              "      <td>2816</td>\n",
              "      <td>3832</td>\n",
              "      <td>3345</td>\n",
              "      <td>3242</td>\n",
              "      <td>3650</td>\n",
              "      <td>3201</td>\n",
              "      <td>2965</td>\n",
              "      <td>...</td>\n",
              "      <td>3101</td>\n",
              "      <td>3211</td>\n",
              "      <td>3097</td>\n",
              "      <td>2758</td>\n",
              "      <td>3099</td>\n",
              "      <td>2759</td>\n",
              "      <td>5753</td>\n",
              "      <td>1824</td>\n",
              "      <td>4.234863</td>\n",
              "      <td>9</td>\n",
              "    </tr>\n",
              "    <tr>\n",
              "      <th>1</th>\n",
              "      <td>01IsoiSMh5gxyDYTl4CB</td>\n",
              "      <td>39755</td>\n",
              "      <td>8337</td>\n",
              "      <td>7249</td>\n",
              "      <td>7186</td>\n",
              "      <td>8663</td>\n",
              "      <td>6844</td>\n",
              "      <td>8420</td>\n",
              "      <td>7589</td>\n",
              "      <td>9291</td>\n",
              "      <td>...</td>\n",
              "      <td>439</td>\n",
              "      <td>281</td>\n",
              "      <td>302</td>\n",
              "      <td>7639</td>\n",
              "      <td>518</td>\n",
              "      <td>17001</td>\n",
              "      <td>54902</td>\n",
              "      <td>8588</td>\n",
              "      <td>5.538818</td>\n",
              "      <td>2</td>\n",
              "    </tr>\n",
              "    <tr>\n",
              "      <th>2</th>\n",
              "      <td>01jsnpXSAlgw6aPeDxrU</td>\n",
              "      <td>93506</td>\n",
              "      <td>9542</td>\n",
              "      <td>2568</td>\n",
              "      <td>2438</td>\n",
              "      <td>8925</td>\n",
              "      <td>9330</td>\n",
              "      <td>9007</td>\n",
              "      <td>2342</td>\n",
              "      <td>9107</td>\n",
              "      <td>...</td>\n",
              "      <td>2242</td>\n",
              "      <td>2885</td>\n",
              "      <td>2863</td>\n",
              "      <td>2471</td>\n",
              "      <td>2786</td>\n",
              "      <td>2680</td>\n",
              "      <td>49144</td>\n",
              "      <td>468</td>\n",
              "      <td>3.887939</td>\n",
              "      <td>9</td>\n",
              "    </tr>\n",
              "    <tr>\n",
              "      <th>3</th>\n",
              "      <td>01kcPWA9K2BOxQeS5Rju</td>\n",
              "      <td>21091</td>\n",
              "      <td>1213</td>\n",
              "      <td>726</td>\n",
              "      <td>817</td>\n",
              "      <td>1257</td>\n",
              "      <td>625</td>\n",
              "      <td>550</td>\n",
              "      <td>523</td>\n",
              "      <td>1078</td>\n",
              "      <td>...</td>\n",
              "      <td>485</td>\n",
              "      <td>462</td>\n",
              "      <td>516</td>\n",
              "      <td>1133</td>\n",
              "      <td>471</td>\n",
              "      <td>761</td>\n",
              "      <td>7998</td>\n",
              "      <td>13940</td>\n",
              "      <td>0.574219</td>\n",
              "      <td>1</td>\n",
              "    </tr>\n",
              "    <tr>\n",
              "      <th>4</th>\n",
              "      <td>01SuzwMJEIXsK7A8dQbl</td>\n",
              "      <td>19764</td>\n",
              "      <td>710</td>\n",
              "      <td>302</td>\n",
              "      <td>433</td>\n",
              "      <td>559</td>\n",
              "      <td>410</td>\n",
              "      <td>262</td>\n",
              "      <td>249</td>\n",
              "      <td>422</td>\n",
              "      <td>...</td>\n",
              "      <td>350</td>\n",
              "      <td>209</td>\n",
              "      <td>239</td>\n",
              "      <td>653</td>\n",
              "      <td>221</td>\n",
              "      <td>242</td>\n",
              "      <td>2199</td>\n",
              "      <td>9008</td>\n",
              "      <td>0.370850</td>\n",
              "      <td>8</td>\n",
              "    </tr>\n",
              "  </tbody>\n",
              "</table>\n",
              "<p>5 rows × 260 columns</p>\n",
              "</div>"
            ]
          },
          "metadata": {},
          "execution_count": 2
        }
      ],
      "source": [
        "byte_unigram_with_size = pd.read_csv('result_with_size.csv',index_col='Unnamed: 0')\n",
        "byte_unigram_with_size.rename(columns = {\"size\": \"byte_size\"}, inplace = True)\n",
        "byte_unigram_with_size.head(5)"
      ]
    },
    {
      "cell_type": "code",
      "execution_count": 3,
      "metadata": {
        "colab": {
          "base_uri": "https://localhost:8080/",
          "height": 206
        },
        "id": "-0NeY98zKtrS",
        "outputId": "7fb676f3-f00a-4a86-f9ec-41283fe5017c"
      },
      "outputs": [
        {
          "output_type": "execute_result",
          "data": {
            "text/plain": [
              "                     ID   size_asm  Class\n",
              "0  01azqd4InC7m9JpocGv5  56.229886      9\n",
              "1  01IsoiSMh5gxyDYTl4CB  13.999378      2\n",
              "2  01jsnpXSAlgw6aPeDxrU   8.507785      9\n",
              "3  01kcPWA9K2BOxQeS5Rju   0.078190      1\n",
              "4  01SuzwMJEIXsK7A8dQbl   0.996723      8"
            ],
            "text/html": [
              "<div>\n",
              "<style scoped>\n",
              "    .dataframe tbody tr th:only-of-type {\n",
              "        vertical-align: middle;\n",
              "    }\n",
              "\n",
              "    .dataframe tbody tr th {\n",
              "        vertical-align: top;\n",
              "    }\n",
              "\n",
              "    .dataframe thead th {\n",
              "        text-align: right;\n",
              "    }\n",
              "</style>\n",
              "<table border=\"1\" class=\"dataframe\">\n",
              "  <thead>\n",
              "    <tr style=\"text-align: right;\">\n",
              "      <th></th>\n",
              "      <th>ID</th>\n",
              "      <th>size_asm</th>\n",
              "      <th>Class</th>\n",
              "    </tr>\n",
              "  </thead>\n",
              "  <tbody>\n",
              "    <tr>\n",
              "      <th>0</th>\n",
              "      <td>01azqd4InC7m9JpocGv5</td>\n",
              "      <td>56.229886</td>\n",
              "      <td>9</td>\n",
              "    </tr>\n",
              "    <tr>\n",
              "      <th>1</th>\n",
              "      <td>01IsoiSMh5gxyDYTl4CB</td>\n",
              "      <td>13.999378</td>\n",
              "      <td>2</td>\n",
              "    </tr>\n",
              "    <tr>\n",
              "      <th>2</th>\n",
              "      <td>01jsnpXSAlgw6aPeDxrU</td>\n",
              "      <td>8.507785</td>\n",
              "      <td>9</td>\n",
              "    </tr>\n",
              "    <tr>\n",
              "      <th>3</th>\n",
              "      <td>01kcPWA9K2BOxQeS5Rju</td>\n",
              "      <td>0.078190</td>\n",
              "      <td>1</td>\n",
              "    </tr>\n",
              "    <tr>\n",
              "      <th>4</th>\n",
              "      <td>01SuzwMJEIXsK7A8dQbl</td>\n",
              "      <td>0.996723</td>\n",
              "      <td>8</td>\n",
              "    </tr>\n",
              "  </tbody>\n",
              "</table>\n",
              "</div>"
            ]
          },
          "metadata": {},
          "execution_count": 3
        }
      ],
      "source": [
        "asm_with_size= pd.read_csv('asm_with_size.csv',index_col='Unnamed: 0')\n",
        "asm_with_size.head(5)"
      ]
    },
    {
      "cell_type": "code",
      "execution_count": 4,
      "metadata": {
        "colab": {
          "base_uri": "https://localhost:8080/",
          "height": 255
        },
        "id": "eeboup-KK5Ax",
        "outputId": "7a64c0be-fd0c-48fc-92cb-dcdcc71a6bcb"
      },
      "outputs": [
        {
          "output_type": "execute_result",
          "data": {
            "text/plain": [
              "                     ID  HEADER:  .text:  .Pav:  .idata:  .data:  .bss:  \\\n",
              "0  01kcPWA9K2BOxQeS5Rju       19     744      0      127      57      0   \n",
              "1  1E93CpP60RHFNiT5Qfvn       17     838      0      103      49      0   \n",
              "2  3ekVow2ajZHbTnBcsDfX       17     427      0       50      43      0   \n",
              "3  3X2nY7iQaPBIWDrAZqJe       17     227      0       43      19      0   \n",
              "4  46OZzdsSKDCFV8h7XWxf       17     402      0       59     170      0   \n",
              "\n",
              "   .rdata:  .edata:  .rsrc:  ...  :dword  edx  esi  eax  ebx  ecx  edi  ebp  \\\n",
              "0      323        0       3  ...     137   18   66   15   43   83    0   17   \n",
              "1        0        0       3  ...     130   18   29   48   82   12    0   14   \n",
              "2      145        0       3  ...      84   13   42   10   67   14    0   11   \n",
              "3        0        0       3  ...      25    6    8   14    7    2    0    8   \n",
              "4        0        0       3  ...      18   12    9   18   29    5    0   11   \n",
              "\n",
              "   esp  eip  \n",
              "0   48   29  \n",
              "1    0   20  \n",
              "2    0    9  \n",
              "3    0    6  \n",
              "4    0   11  \n",
              "\n",
              "[5 rows x 52 columns]"
            ],
            "text/html": [
              "<div>\n",
              "<style scoped>\n",
              "    .dataframe tbody tr th:only-of-type {\n",
              "        vertical-align: middle;\n",
              "    }\n",
              "\n",
              "    .dataframe tbody tr th {\n",
              "        vertical-align: top;\n",
              "    }\n",
              "\n",
              "    .dataframe thead th {\n",
              "        text-align: right;\n",
              "    }\n",
              "</style>\n",
              "<table border=\"1\" class=\"dataframe\">\n",
              "  <thead>\n",
              "    <tr style=\"text-align: right;\">\n",
              "      <th></th>\n",
              "      <th>ID</th>\n",
              "      <th>HEADER:</th>\n",
              "      <th>.text:</th>\n",
              "      <th>.Pav:</th>\n",
              "      <th>.idata:</th>\n",
              "      <th>.data:</th>\n",
              "      <th>.bss:</th>\n",
              "      <th>.rdata:</th>\n",
              "      <th>.edata:</th>\n",
              "      <th>.rsrc:</th>\n",
              "      <th>...</th>\n",
              "      <th>:dword</th>\n",
              "      <th>edx</th>\n",
              "      <th>esi</th>\n",
              "      <th>eax</th>\n",
              "      <th>ebx</th>\n",
              "      <th>ecx</th>\n",
              "      <th>edi</th>\n",
              "      <th>ebp</th>\n",
              "      <th>esp</th>\n",
              "      <th>eip</th>\n",
              "    </tr>\n",
              "  </thead>\n",
              "  <tbody>\n",
              "    <tr>\n",
              "      <th>0</th>\n",
              "      <td>01kcPWA9K2BOxQeS5Rju</td>\n",
              "      <td>19</td>\n",
              "      <td>744</td>\n",
              "      <td>0</td>\n",
              "      <td>127</td>\n",
              "      <td>57</td>\n",
              "      <td>0</td>\n",
              "      <td>323</td>\n",
              "      <td>0</td>\n",
              "      <td>3</td>\n",
              "      <td>...</td>\n",
              "      <td>137</td>\n",
              "      <td>18</td>\n",
              "      <td>66</td>\n",
              "      <td>15</td>\n",
              "      <td>43</td>\n",
              "      <td>83</td>\n",
              "      <td>0</td>\n",
              "      <td>17</td>\n",
              "      <td>48</td>\n",
              "      <td>29</td>\n",
              "    </tr>\n",
              "    <tr>\n",
              "      <th>1</th>\n",
              "      <td>1E93CpP60RHFNiT5Qfvn</td>\n",
              "      <td>17</td>\n",
              "      <td>838</td>\n",
              "      <td>0</td>\n",
              "      <td>103</td>\n",
              "      <td>49</td>\n",
              "      <td>0</td>\n",
              "      <td>0</td>\n",
              "      <td>0</td>\n",
              "      <td>3</td>\n",
              "      <td>...</td>\n",
              "      <td>130</td>\n",
              "      <td>18</td>\n",
              "      <td>29</td>\n",
              "      <td>48</td>\n",
              "      <td>82</td>\n",
              "      <td>12</td>\n",
              "      <td>0</td>\n",
              "      <td>14</td>\n",
              "      <td>0</td>\n",
              "      <td>20</td>\n",
              "    </tr>\n",
              "    <tr>\n",
              "      <th>2</th>\n",
              "      <td>3ekVow2ajZHbTnBcsDfX</td>\n",
              "      <td>17</td>\n",
              "      <td>427</td>\n",
              "      <td>0</td>\n",
              "      <td>50</td>\n",
              "      <td>43</td>\n",
              "      <td>0</td>\n",
              "      <td>145</td>\n",
              "      <td>0</td>\n",
              "      <td>3</td>\n",
              "      <td>...</td>\n",
              "      <td>84</td>\n",
              "      <td>13</td>\n",
              "      <td>42</td>\n",
              "      <td>10</td>\n",
              "      <td>67</td>\n",
              "      <td>14</td>\n",
              "      <td>0</td>\n",
              "      <td>11</td>\n",
              "      <td>0</td>\n",
              "      <td>9</td>\n",
              "    </tr>\n",
              "    <tr>\n",
              "      <th>3</th>\n",
              "      <td>3X2nY7iQaPBIWDrAZqJe</td>\n",
              "      <td>17</td>\n",
              "      <td>227</td>\n",
              "      <td>0</td>\n",
              "      <td>43</td>\n",
              "      <td>19</td>\n",
              "      <td>0</td>\n",
              "      <td>0</td>\n",
              "      <td>0</td>\n",
              "      <td>3</td>\n",
              "      <td>...</td>\n",
              "      <td>25</td>\n",
              "      <td>6</td>\n",
              "      <td>8</td>\n",
              "      <td>14</td>\n",
              "      <td>7</td>\n",
              "      <td>2</td>\n",
              "      <td>0</td>\n",
              "      <td>8</td>\n",
              "      <td>0</td>\n",
              "      <td>6</td>\n",
              "    </tr>\n",
              "    <tr>\n",
              "      <th>4</th>\n",
              "      <td>46OZzdsSKDCFV8h7XWxf</td>\n",
              "      <td>17</td>\n",
              "      <td>402</td>\n",
              "      <td>0</td>\n",
              "      <td>59</td>\n",
              "      <td>170</td>\n",
              "      <td>0</td>\n",
              "      <td>0</td>\n",
              "      <td>0</td>\n",
              "      <td>3</td>\n",
              "      <td>...</td>\n",
              "      <td>18</td>\n",
              "      <td>12</td>\n",
              "      <td>9</td>\n",
              "      <td>18</td>\n",
              "      <td>29</td>\n",
              "      <td>5</td>\n",
              "      <td>0</td>\n",
              "      <td>11</td>\n",
              "      <td>0</td>\n",
              "      <td>11</td>\n",
              "    </tr>\n",
              "  </tbody>\n",
              "</table>\n",
              "<p>5 rows × 52 columns</p>\n",
              "</div>"
            ]
          },
          "metadata": {},
          "execution_count": 4
        }
      ],
      "source": [
        "asmoutput = pd.read_csv('asmoutputfile.csv')\n",
        "asmoutput.head(5)"
      ]
    },
    {
      "cell_type": "code",
      "execution_count": 5,
      "metadata": {
        "colab": {
          "base_uri": "https://localhost:8080/",
          "height": 255
        },
        "id": "c-LUZawxDdBd",
        "outputId": "6f226636-985f-4301-f376-285ef87c0c78"
      },
      "outputs": [
        {
          "output_type": "execute_result",
          "data": {
            "text/plain": [
              "       0         1         2         3         4         5         6     \\\n",
              "0  0.000000  0.000000  0.000000  0.000015  0.000032  0.000000  0.000000   \n",
              "1  0.000000  0.000015  0.000010  0.000000  0.000000  0.000000  0.000000   \n",
              "2  0.000105  0.000106  0.000173  0.000236  0.000080  0.000114  0.000309   \n",
              "3  0.000000  0.000000  0.000000  0.000000  0.000000  0.000010  0.000000   \n",
              "4  0.000058  0.000046  0.000041  0.000074  0.000048  0.000067  0.000027   \n",
              "\n",
              "       7         8         9     ...     1990      1991      1992      1993  \\\n",
              "0  0.000012  0.000000  0.000004  ...  0.00000  0.000040  0.000039  0.000064   \n",
              "1  0.000000  0.000009  0.000000  ...  0.00000  0.000040  0.000000  0.000032   \n",
              "2  0.000108  0.000064  0.000056  ...  0.00064  0.000441  0.000349  0.000604   \n",
              "3  0.000000  0.000000  0.000000  ...  0.00000  0.000000  0.000039  0.000000   \n",
              "4  0.000096  0.000127  0.000016  ...  0.00040  0.000120  0.000155  0.000223   \n",
              "\n",
              "       1994      1995      1996      1997      1998      1999  \n",
              "0  0.000009  0.000018  0.000039  0.000019  0.000013  0.000042  \n",
              "1  0.000013  0.000027  0.000039  0.000000  0.000053  0.000042  \n",
              "2  0.000054  0.000081  0.000273  0.000285  0.000120  0.000669  \n",
              "3  0.000000  0.000000  0.000000  0.000019  0.000000  0.000000  \n",
              "4  0.000031  0.000054  0.000195  0.000076  0.000094  0.000084  \n",
              "\n",
              "[5 rows x 2000 columns]"
            ],
            "text/html": [
              "<div>\n",
              "<style scoped>\n",
              "    .dataframe tbody tr th:only-of-type {\n",
              "        vertical-align: middle;\n",
              "    }\n",
              "\n",
              "    .dataframe tbody tr th {\n",
              "        vertical-align: top;\n",
              "    }\n",
              "\n",
              "    .dataframe thead th {\n",
              "        text-align: right;\n",
              "    }\n",
              "</style>\n",
              "<table border=\"1\" class=\"dataframe\">\n",
              "  <thead>\n",
              "    <tr style=\"text-align: right;\">\n",
              "      <th></th>\n",
              "      <th>0</th>\n",
              "      <th>1</th>\n",
              "      <th>2</th>\n",
              "      <th>3</th>\n",
              "      <th>4</th>\n",
              "      <th>5</th>\n",
              "      <th>6</th>\n",
              "      <th>7</th>\n",
              "      <th>8</th>\n",
              "      <th>9</th>\n",
              "      <th>...</th>\n",
              "      <th>1990</th>\n",
              "      <th>1991</th>\n",
              "      <th>1992</th>\n",
              "      <th>1993</th>\n",
              "      <th>1994</th>\n",
              "      <th>1995</th>\n",
              "      <th>1996</th>\n",
              "      <th>1997</th>\n",
              "      <th>1998</th>\n",
              "      <th>1999</th>\n",
              "    </tr>\n",
              "  </thead>\n",
              "  <tbody>\n",
              "    <tr>\n",
              "      <th>0</th>\n",
              "      <td>0.000000</td>\n",
              "      <td>0.000000</td>\n",
              "      <td>0.000000</td>\n",
              "      <td>0.000015</td>\n",
              "      <td>0.000032</td>\n",
              "      <td>0.000000</td>\n",
              "      <td>0.000000</td>\n",
              "      <td>0.000012</td>\n",
              "      <td>0.000000</td>\n",
              "      <td>0.000004</td>\n",
              "      <td>...</td>\n",
              "      <td>0.00000</td>\n",
              "      <td>0.000040</td>\n",
              "      <td>0.000039</td>\n",
              "      <td>0.000064</td>\n",
              "      <td>0.000009</td>\n",
              "      <td>0.000018</td>\n",
              "      <td>0.000039</td>\n",
              "      <td>0.000019</td>\n",
              "      <td>0.000013</td>\n",
              "      <td>0.000042</td>\n",
              "    </tr>\n",
              "    <tr>\n",
              "      <th>1</th>\n",
              "      <td>0.000000</td>\n",
              "      <td>0.000015</td>\n",
              "      <td>0.000010</td>\n",
              "      <td>0.000000</td>\n",
              "      <td>0.000000</td>\n",
              "      <td>0.000000</td>\n",
              "      <td>0.000000</td>\n",
              "      <td>0.000000</td>\n",
              "      <td>0.000009</td>\n",
              "      <td>0.000000</td>\n",
              "      <td>...</td>\n",
              "      <td>0.00000</td>\n",
              "      <td>0.000040</td>\n",
              "      <td>0.000000</td>\n",
              "      <td>0.000032</td>\n",
              "      <td>0.000013</td>\n",
              "      <td>0.000027</td>\n",
              "      <td>0.000039</td>\n",
              "      <td>0.000000</td>\n",
              "      <td>0.000053</td>\n",
              "      <td>0.000042</td>\n",
              "    </tr>\n",
              "    <tr>\n",
              "      <th>2</th>\n",
              "      <td>0.000105</td>\n",
              "      <td>0.000106</td>\n",
              "      <td>0.000173</td>\n",
              "      <td>0.000236</td>\n",
              "      <td>0.000080</td>\n",
              "      <td>0.000114</td>\n",
              "      <td>0.000309</td>\n",
              "      <td>0.000108</td>\n",
              "      <td>0.000064</td>\n",
              "      <td>0.000056</td>\n",
              "      <td>...</td>\n",
              "      <td>0.00064</td>\n",
              "      <td>0.000441</td>\n",
              "      <td>0.000349</td>\n",
              "      <td>0.000604</td>\n",
              "      <td>0.000054</td>\n",
              "      <td>0.000081</td>\n",
              "      <td>0.000273</td>\n",
              "      <td>0.000285</td>\n",
              "      <td>0.000120</td>\n",
              "      <td>0.000669</td>\n",
              "    </tr>\n",
              "    <tr>\n",
              "      <th>3</th>\n",
              "      <td>0.000000</td>\n",
              "      <td>0.000000</td>\n",
              "      <td>0.000000</td>\n",
              "      <td>0.000000</td>\n",
              "      <td>0.000000</td>\n",
              "      <td>0.000010</td>\n",
              "      <td>0.000000</td>\n",
              "      <td>0.000000</td>\n",
              "      <td>0.000000</td>\n",
              "      <td>0.000000</td>\n",
              "      <td>...</td>\n",
              "      <td>0.00000</td>\n",
              "      <td>0.000000</td>\n",
              "      <td>0.000039</td>\n",
              "      <td>0.000000</td>\n",
              "      <td>0.000000</td>\n",
              "      <td>0.000000</td>\n",
              "      <td>0.000000</td>\n",
              "      <td>0.000019</td>\n",
              "      <td>0.000000</td>\n",
              "      <td>0.000000</td>\n",
              "    </tr>\n",
              "    <tr>\n",
              "      <th>4</th>\n",
              "      <td>0.000058</td>\n",
              "      <td>0.000046</td>\n",
              "      <td>0.000041</td>\n",
              "      <td>0.000074</td>\n",
              "      <td>0.000048</td>\n",
              "      <td>0.000067</td>\n",
              "      <td>0.000027</td>\n",
              "      <td>0.000096</td>\n",
              "      <td>0.000127</td>\n",
              "      <td>0.000016</td>\n",
              "      <td>...</td>\n",
              "      <td>0.00040</td>\n",
              "      <td>0.000120</td>\n",
              "      <td>0.000155</td>\n",
              "      <td>0.000223</td>\n",
              "      <td>0.000031</td>\n",
              "      <td>0.000054</td>\n",
              "      <td>0.000195</td>\n",
              "      <td>0.000076</td>\n",
              "      <td>0.000094</td>\n",
              "      <td>0.000084</td>\n",
              "    </tr>\n",
              "  </tbody>\n",
              "</table>\n",
              "<p>5 rows × 2000 columns</p>\n",
              "</div>"
            ]
          },
          "metadata": {},
          "execution_count": 5
        }
      ],
      "source": [
        "byte_bigram_top2k = pd.read_csv(\"byte_bigram_top2k.csv\",header=None)\n",
        "byte_bigram_top2k.head(5)"
      ]
    },
    {
      "cell_type": "code",
      "source": [
        "asm_top_800 = pd.read_csv('asm_top_800.csv',header=None)\n",
        "asm_top_800.head(5)"
      ],
      "metadata": {
        "colab": {
          "base_uri": "https://localhost:8080/",
          "height": 235
        },
        "id": "r2cq2zLnmG73",
        "outputId": "a2afd6f8-9623-46e9-c6ca-0eb3f7b43393"
      },
      "execution_count": 6,
      "outputs": [
        {
          "output_type": "execute_result",
          "data": {
            "text/plain": [
              "    0      1      2      3      4     5     6     7     8     9    ...    790  \\\n",
              "0  72.0   69.0   65.0   68.0   69.0  82.0  58.0  48.0  48.0  52.0  ...   61.0   \n",
              "1  46.0  116.0  101.0  120.0  116.0  58.0  48.0  48.0  52.0  48.0  ...   56.0   \n",
              "2  72.0   69.0   65.0   68.0   69.0  82.0  58.0  48.0  48.0  52.0  ...   61.0   \n",
              "3  72.0   69.0   65.0   68.0   69.0  82.0  58.0  49.0  48.0  48.0  ...  109.0   \n",
              "4  72.0   69.0   65.0   68.0   69.0  82.0  58.0  48.0  48.0  52.0  ...   61.0   \n",
              "\n",
              "     791    792    793    794   795    796    797   798    799  \n",
              "0   61.0   61.0   61.0   61.0  61.0   61.0   61.0  61.0   61.0  \n",
              "1   54.0   32.0   40.0   80.0  69.0   41.0   13.0  10.0   46.0  \n",
              "2   61.0   61.0   61.0   61.0  61.0   61.0   61.0  61.0   61.0  \n",
              "3  111.0  100.0  101.0  108.0  32.0  102.0  108.0  97.0  116.0  \n",
              "4   61.0   61.0   61.0   61.0  61.0   61.0   61.0  61.0   61.0  \n",
              "\n",
              "[5 rows x 800 columns]"
            ],
            "text/html": [
              "<div>\n",
              "<style scoped>\n",
              "    .dataframe tbody tr th:only-of-type {\n",
              "        vertical-align: middle;\n",
              "    }\n",
              "\n",
              "    .dataframe tbody tr th {\n",
              "        vertical-align: top;\n",
              "    }\n",
              "\n",
              "    .dataframe thead th {\n",
              "        text-align: right;\n",
              "    }\n",
              "</style>\n",
              "<table border=\"1\" class=\"dataframe\">\n",
              "  <thead>\n",
              "    <tr style=\"text-align: right;\">\n",
              "      <th></th>\n",
              "      <th>0</th>\n",
              "      <th>1</th>\n",
              "      <th>2</th>\n",
              "      <th>3</th>\n",
              "      <th>4</th>\n",
              "      <th>5</th>\n",
              "      <th>6</th>\n",
              "      <th>7</th>\n",
              "      <th>8</th>\n",
              "      <th>9</th>\n",
              "      <th>...</th>\n",
              "      <th>790</th>\n",
              "      <th>791</th>\n",
              "      <th>792</th>\n",
              "      <th>793</th>\n",
              "      <th>794</th>\n",
              "      <th>795</th>\n",
              "      <th>796</th>\n",
              "      <th>797</th>\n",
              "      <th>798</th>\n",
              "      <th>799</th>\n",
              "    </tr>\n",
              "  </thead>\n",
              "  <tbody>\n",
              "    <tr>\n",
              "      <th>0</th>\n",
              "      <td>72.0</td>\n",
              "      <td>69.0</td>\n",
              "      <td>65.0</td>\n",
              "      <td>68.0</td>\n",
              "      <td>69.0</td>\n",
              "      <td>82.0</td>\n",
              "      <td>58.0</td>\n",
              "      <td>48.0</td>\n",
              "      <td>48.0</td>\n",
              "      <td>52.0</td>\n",
              "      <td>...</td>\n",
              "      <td>61.0</td>\n",
              "      <td>61.0</td>\n",
              "      <td>61.0</td>\n",
              "      <td>61.0</td>\n",
              "      <td>61.0</td>\n",
              "      <td>61.0</td>\n",
              "      <td>61.0</td>\n",
              "      <td>61.0</td>\n",
              "      <td>61.0</td>\n",
              "      <td>61.0</td>\n",
              "    </tr>\n",
              "    <tr>\n",
              "      <th>1</th>\n",
              "      <td>46.0</td>\n",
              "      <td>116.0</td>\n",
              "      <td>101.0</td>\n",
              "      <td>120.0</td>\n",
              "      <td>116.0</td>\n",
              "      <td>58.0</td>\n",
              "      <td>48.0</td>\n",
              "      <td>48.0</td>\n",
              "      <td>52.0</td>\n",
              "      <td>48.0</td>\n",
              "      <td>...</td>\n",
              "      <td>56.0</td>\n",
              "      <td>54.0</td>\n",
              "      <td>32.0</td>\n",
              "      <td>40.0</td>\n",
              "      <td>80.0</td>\n",
              "      <td>69.0</td>\n",
              "      <td>41.0</td>\n",
              "      <td>13.0</td>\n",
              "      <td>10.0</td>\n",
              "      <td>46.0</td>\n",
              "    </tr>\n",
              "    <tr>\n",
              "      <th>2</th>\n",
              "      <td>72.0</td>\n",
              "      <td>69.0</td>\n",
              "      <td>65.0</td>\n",
              "      <td>68.0</td>\n",
              "      <td>69.0</td>\n",
              "      <td>82.0</td>\n",
              "      <td>58.0</td>\n",
              "      <td>48.0</td>\n",
              "      <td>48.0</td>\n",
              "      <td>52.0</td>\n",
              "      <td>...</td>\n",
              "      <td>61.0</td>\n",
              "      <td>61.0</td>\n",
              "      <td>61.0</td>\n",
              "      <td>61.0</td>\n",
              "      <td>61.0</td>\n",
              "      <td>61.0</td>\n",
              "      <td>61.0</td>\n",
              "      <td>61.0</td>\n",
              "      <td>61.0</td>\n",
              "      <td>61.0</td>\n",
              "    </tr>\n",
              "    <tr>\n",
              "      <th>3</th>\n",
              "      <td>72.0</td>\n",
              "      <td>69.0</td>\n",
              "      <td>65.0</td>\n",
              "      <td>68.0</td>\n",
              "      <td>69.0</td>\n",
              "      <td>82.0</td>\n",
              "      <td>58.0</td>\n",
              "      <td>49.0</td>\n",
              "      <td>48.0</td>\n",
              "      <td>48.0</td>\n",
              "      <td>...</td>\n",
              "      <td>109.0</td>\n",
              "      <td>111.0</td>\n",
              "      <td>100.0</td>\n",
              "      <td>101.0</td>\n",
              "      <td>108.0</td>\n",
              "      <td>32.0</td>\n",
              "      <td>102.0</td>\n",
              "      <td>108.0</td>\n",
              "      <td>97.0</td>\n",
              "      <td>116.0</td>\n",
              "    </tr>\n",
              "    <tr>\n",
              "      <th>4</th>\n",
              "      <td>72.0</td>\n",
              "      <td>69.0</td>\n",
              "      <td>65.0</td>\n",
              "      <td>68.0</td>\n",
              "      <td>69.0</td>\n",
              "      <td>82.0</td>\n",
              "      <td>58.0</td>\n",
              "      <td>48.0</td>\n",
              "      <td>48.0</td>\n",
              "      <td>52.0</td>\n",
              "      <td>...</td>\n",
              "      <td>61.0</td>\n",
              "      <td>61.0</td>\n",
              "      <td>61.0</td>\n",
              "      <td>61.0</td>\n",
              "      <td>61.0</td>\n",
              "      <td>61.0</td>\n",
              "      <td>61.0</td>\n",
              "      <td>61.0</td>\n",
              "      <td>61.0</td>\n",
              "      <td>61.0</td>\n",
              "    </tr>\n",
              "  </tbody>\n",
              "</table>\n",
              "<p>5 rows × 800 columns</p>\n",
              "</div>"
            ]
          },
          "metadata": {},
          "execution_count": 6
        }
      ]
    },
    {
      "cell_type": "markdown",
      "metadata": {
        "id": "D-kGx6lthGpf"
      },
      "source": [
        "##Creating features list"
      ]
    },
    {
      "cell_type": "code",
      "execution_count": null,
      "metadata": {
        "colab": {
          "base_uri": "https://localhost:8080/"
        },
        "id": "dc-vSkVohFpQ",
        "outputId": "90a814e7-01ed-4e21-b60f-18b41c77ca9b"
      },
      "outputs": [
        {
          "data": {
            "text/plain": [
              "2310"
            ]
          },
          "execution_count": 7,
          "metadata": {},
          "output_type": "execute_result"
        }
      ],
      "source": [
        "features = []\n",
        "for f in list(byte_unigram_with_size.drop(columns=['ID','Class']).columns):\n",
        "    features.append(\"byte_uni\"+f)\n",
        "\n",
        "for f in list(byte_bigram_top2k.columns):\n",
        "    features.append('byte_bi'+str(f))\n",
        "\n",
        "for f in list(asmoutput.drop(columns=['ID']).columns):\n",
        "    features.append(f)\n",
        "\n",
        "for f in list(asm_with_size.drop(columns=['ID','Class']).columns):\n",
        "    features.append(f)\n",
        "\n",
        "    \n",
        "len(features)"
      ]
    },
    {
      "cell_type": "markdown",
      "metadata": {
        "id": "tu9q4I1aVUlI"
      },
      "source": [
        "##Concatinating all features into single df"
      ]
    },
    {
      "cell_type": "code",
      "execution_count": 7,
      "metadata": {
        "colab": {
          "base_uri": "https://localhost:8080/",
          "height": 235
        },
        "id": "clXTW4_RZcSR",
        "outputId": "c15a3336-fbec-4c8a-9bc0-d0152d3d68bd"
      },
      "outputs": [
        {
          "output_type": "execute_result",
          "data": {
            "text/plain": [
              "     0     1     2     3     4     5     6     7     8     9     ...   3100  \\\n",
              "0  601905  3905  2816  3832  3345  3242  3650  3201  2965  3205  ...   61.0   \n",
              "1   39755  8337  7249  7186  8663  6844  8420  7589  9291   358  ...   56.0   \n",
              "2   93506  9542  2568  2438  8925  9330  9007  2342  9107  2457  ...   61.0   \n",
              "3   21091  1213   726   817  1257   625   550   523  1078   473  ...  109.0   \n",
              "4   19764   710   302   433   559   410   262   249   422   223  ...   61.0   \n",
              "\n",
              "    3101   3102   3103   3104  3105   3106   3107  3108   3109  \n",
              "0   61.0   61.0   61.0   61.0  61.0   61.0   61.0  61.0   61.0  \n",
              "1   54.0   32.0   40.0   80.0  69.0   41.0   13.0  10.0   46.0  \n",
              "2   61.0   61.0   61.0   61.0  61.0   61.0   61.0  61.0   61.0  \n",
              "3  111.0  100.0  101.0  108.0  32.0  102.0  108.0  97.0  116.0  \n",
              "4   61.0   61.0   61.0   61.0  61.0   61.0   61.0  61.0   61.0  \n",
              "\n",
              "[5 rows x 3110 columns]"
            ],
            "text/html": [
              "<div>\n",
              "<style scoped>\n",
              "    .dataframe tbody tr th:only-of-type {\n",
              "        vertical-align: middle;\n",
              "    }\n",
              "\n",
              "    .dataframe tbody tr th {\n",
              "        vertical-align: top;\n",
              "    }\n",
              "\n",
              "    .dataframe thead th {\n",
              "        text-align: right;\n",
              "    }\n",
              "</style>\n",
              "<table border=\"1\" class=\"dataframe\">\n",
              "  <thead>\n",
              "    <tr style=\"text-align: right;\">\n",
              "      <th></th>\n",
              "      <th>0</th>\n",
              "      <th>1</th>\n",
              "      <th>2</th>\n",
              "      <th>3</th>\n",
              "      <th>4</th>\n",
              "      <th>5</th>\n",
              "      <th>6</th>\n",
              "      <th>7</th>\n",
              "      <th>8</th>\n",
              "      <th>9</th>\n",
              "      <th>...</th>\n",
              "      <th>3100</th>\n",
              "      <th>3101</th>\n",
              "      <th>3102</th>\n",
              "      <th>3103</th>\n",
              "      <th>3104</th>\n",
              "      <th>3105</th>\n",
              "      <th>3106</th>\n",
              "      <th>3107</th>\n",
              "      <th>3108</th>\n",
              "      <th>3109</th>\n",
              "    </tr>\n",
              "  </thead>\n",
              "  <tbody>\n",
              "    <tr>\n",
              "      <th>0</th>\n",
              "      <td>601905</td>\n",
              "      <td>3905</td>\n",
              "      <td>2816</td>\n",
              "      <td>3832</td>\n",
              "      <td>3345</td>\n",
              "      <td>3242</td>\n",
              "      <td>3650</td>\n",
              "      <td>3201</td>\n",
              "      <td>2965</td>\n",
              "      <td>3205</td>\n",
              "      <td>...</td>\n",
              "      <td>61.0</td>\n",
              "      <td>61.0</td>\n",
              "      <td>61.0</td>\n",
              "      <td>61.0</td>\n",
              "      <td>61.0</td>\n",
              "      <td>61.0</td>\n",
              "      <td>61.0</td>\n",
              "      <td>61.0</td>\n",
              "      <td>61.0</td>\n",
              "      <td>61.0</td>\n",
              "    </tr>\n",
              "    <tr>\n",
              "      <th>1</th>\n",
              "      <td>39755</td>\n",
              "      <td>8337</td>\n",
              "      <td>7249</td>\n",
              "      <td>7186</td>\n",
              "      <td>8663</td>\n",
              "      <td>6844</td>\n",
              "      <td>8420</td>\n",
              "      <td>7589</td>\n",
              "      <td>9291</td>\n",
              "      <td>358</td>\n",
              "      <td>...</td>\n",
              "      <td>56.0</td>\n",
              "      <td>54.0</td>\n",
              "      <td>32.0</td>\n",
              "      <td>40.0</td>\n",
              "      <td>80.0</td>\n",
              "      <td>69.0</td>\n",
              "      <td>41.0</td>\n",
              "      <td>13.0</td>\n",
              "      <td>10.0</td>\n",
              "      <td>46.0</td>\n",
              "    </tr>\n",
              "    <tr>\n",
              "      <th>2</th>\n",
              "      <td>93506</td>\n",
              "      <td>9542</td>\n",
              "      <td>2568</td>\n",
              "      <td>2438</td>\n",
              "      <td>8925</td>\n",
              "      <td>9330</td>\n",
              "      <td>9007</td>\n",
              "      <td>2342</td>\n",
              "      <td>9107</td>\n",
              "      <td>2457</td>\n",
              "      <td>...</td>\n",
              "      <td>61.0</td>\n",
              "      <td>61.0</td>\n",
              "      <td>61.0</td>\n",
              "      <td>61.0</td>\n",
              "      <td>61.0</td>\n",
              "      <td>61.0</td>\n",
              "      <td>61.0</td>\n",
              "      <td>61.0</td>\n",
              "      <td>61.0</td>\n",
              "      <td>61.0</td>\n",
              "    </tr>\n",
              "    <tr>\n",
              "      <th>3</th>\n",
              "      <td>21091</td>\n",
              "      <td>1213</td>\n",
              "      <td>726</td>\n",
              "      <td>817</td>\n",
              "      <td>1257</td>\n",
              "      <td>625</td>\n",
              "      <td>550</td>\n",
              "      <td>523</td>\n",
              "      <td>1078</td>\n",
              "      <td>473</td>\n",
              "      <td>...</td>\n",
              "      <td>109.0</td>\n",
              "      <td>111.0</td>\n",
              "      <td>100.0</td>\n",
              "      <td>101.0</td>\n",
              "      <td>108.0</td>\n",
              "      <td>32.0</td>\n",
              "      <td>102.0</td>\n",
              "      <td>108.0</td>\n",
              "      <td>97.0</td>\n",
              "      <td>116.0</td>\n",
              "    </tr>\n",
              "    <tr>\n",
              "      <th>4</th>\n",
              "      <td>19764</td>\n",
              "      <td>710</td>\n",
              "      <td>302</td>\n",
              "      <td>433</td>\n",
              "      <td>559</td>\n",
              "      <td>410</td>\n",
              "      <td>262</td>\n",
              "      <td>249</td>\n",
              "      <td>422</td>\n",
              "      <td>223</td>\n",
              "      <td>...</td>\n",
              "      <td>61.0</td>\n",
              "      <td>61.0</td>\n",
              "      <td>61.0</td>\n",
              "      <td>61.0</td>\n",
              "      <td>61.0</td>\n",
              "      <td>61.0</td>\n",
              "      <td>61.0</td>\n",
              "      <td>61.0</td>\n",
              "      <td>61.0</td>\n",
              "      <td>61.0</td>\n",
              "    </tr>\n",
              "  </tbody>\n",
              "</table>\n",
              "<p>5 rows × 3110 columns</p>\n",
              "</div>"
            ]
          },
          "metadata": {},
          "execution_count": 7
        }
      ],
      "source": [
        "df_list = [byte_unigram_with_size.drop(columns=['ID','Class']), #258\n",
        "           byte_bigram_top2k,  #2000\n",
        "           asmoutput.drop(columns=['ID']), #51\n",
        "           asm_with_size.drop(columns=['ID','Class']), #1\n",
        "           asm_top_800]\n",
        "\n",
        "final_data = pd.concat(df_list,axis=1,ignore_index=True)\n",
        "final_data.head(5)"
      ]
    },
    {
      "cell_type": "markdown",
      "metadata": {
        "id": "BMKcqKzebweN"
      },
      "source": [
        "#XgBoost on final data"
      ]
    },
    {
      "cell_type": "markdown",
      "metadata": {
        "id": "uGu71METdteX"
      },
      "source": [
        "##Test train split"
      ]
    },
    {
      "cell_type": "code",
      "execution_count": 8,
      "metadata": {
        "colab": {
          "base_uri": "https://localhost:8080/"
        },
        "id": "XJ25TaTAVZPQ",
        "outputId": "4d5fdd89-84d1-4dc5-9a43-b6e267460cb7"
      },
      "outputs": [
        {
          "output_type": "stream",
          "name": "stdout",
          "text": [
            "train (8694, 3110) (8694,)\n",
            "test (2174, 3110) (2174,)\n"
          ]
        }
      ],
      "source": [
        "x_train, x_test, y_train, y_test = train_test_split(final_data, asm_with_size['Class'],stratify=asm_with_size['Class'],test_size=0.20,random_state=0)\n",
        "\n",
        "print('train',x_train.shape,y_train.shape)\n",
        "\n",
        "print('test',x_test.shape,y_test.shape)"
      ]
    },
    {
      "cell_type": "code",
      "source": [
        "del byte_unigram_with_size\n",
        "del byte_bigram_top2k\n",
        "del asm_with_size\n",
        "del asmoutput\n",
        "del asm_top_800"
      ],
      "metadata": {
        "id": "5Cm2ql-EnMhy"
      },
      "execution_count": 9,
      "outputs": []
    },
    {
      "cell_type": "markdown",
      "metadata": {
        "id": "-LN30o46dsqA"
      },
      "source": [
        "##Hyper parameter tuning with randomsearchcv"
      ]
    },
    {
      "cell_type": "markdown",
      "source": [
        "Using labelenoder for class labels(y)"
      ],
      "metadata": {
        "id": "fWoLO8dk-Yxs"
      }
    },
    {
      "cell_type": "code",
      "execution_count": null,
      "metadata": {
        "id": "a4Es8V6j43rj"
      },
      "outputs": [],
      "source": [
        "le = LabelEncoder()\n",
        "new_y_train = le.fit_transform(y_train)\n",
        "new_y_test = le.transform(y_test)"
      ]
    },
    {
      "cell_type": "code",
      "execution_count": null,
      "metadata": {
        "colab": {
          "base_uri": "https://localhost:8080/"
        },
        "id": "DOMwPeQyeRYD",
        "outputId": "32245fe9-6f2a-404f-a625-cff8a310d7b0"
      },
      "outputs": [
        {
          "output_type": "stream",
          "name": "stdout",
          "text": [
            "Fitting 5 folds for each of 10 candidates, totalling 50 fits\n"
          ]
        },
        {
          "output_type": "execute_result",
          "data": {
            "text/plain": [
              "RandomizedSearchCV(estimator=XGBClassifier(base_score=None, booster=None,\n",
              "                                           callbacks=None,\n",
              "                                           colsample_bylevel=None,\n",
              "                                           colsample_bynode=None,\n",
              "                                           colsample_bytree=None,\n",
              "                                           early_stopping_rounds=None,\n",
              "                                           enable_categorical=False,\n",
              "                                           eval_metric=None, feature_types=None,\n",
              "                                           gamma=None, gpu_id=None,\n",
              "                                           grow_policy=None,\n",
              "                                           importance_type=None,\n",
              "                                           interaction_constraints=None,\n",
              "                                           learning_rate=None...\n",
              "                                           min_child_weight=None, missing=nan,\n",
              "                                           monotone_constraints=None,\n",
              "                                           n_estimators=100, n_jobs=None,\n",
              "                                           num_parallel_tree=None,\n",
              "                                           predictor=None, random_state=None, ...),\n",
              "                   n_jobs=-1,\n",
              "                   param_distributions={'colsample_bytree': [0.1, 0.3, 0.5, 1],\n",
              "                                        'learning_rate': [0.01, 0.03, 0.05, 0.1,\n",
              "                                                          0.15, 0.2],\n",
              "                                        'max_depth': [3, 5, 10],\n",
              "                                        'n_estimators': [100, 200, 500, 1000,\n",
              "                                                         2000],\n",
              "                                        'subsample': [0.1, 0.3, 0.5, 1]},\n",
              "                   verbose=10)"
            ]
          },
          "metadata": {},
          "execution_count": 29
        }
      ],
      "source": [
        "\n",
        "clf = XGBClassifier()\n",
        "params={\n",
        "    'learning_rate':[0.01,0.03,0.05,0.1,0.15,0.2],\n",
        "     'n_estimators':[100,200,500,1000,2000],\n",
        "     'max_depth':[3,5,10],\n",
        "    'colsample_bytree':[0.1,0.3,0.5,1],\n",
        "    'subsample':[0.1,0.3,0.5,1]\n",
        "}\n",
        "\n",
        "ran_s_cv=RandomizedSearchCV(clf,param_distributions=params,verbose=10,n_jobs=-1)\n",
        "ran_s_cv.fit(x_train, new_y_train)"
      ]
    },
    {
      "cell_type": "markdown",
      "source": [
        "Best parameters"
      ],
      "metadata": {
        "id": "sPUZnCaS-w0s"
      }
    },
    {
      "cell_type": "code",
      "execution_count": null,
      "metadata": {
        "colab": {
          "base_uri": "https://localhost:8080/"
        },
        "id": "NXo9dB3O43rj",
        "outputId": "165a4f97-127f-471a-f774-0813482b30f2"
      },
      "outputs": [
        {
          "output_type": "stream",
          "name": "stdout",
          "text": [
            "{'subsample': 0.5, 'n_estimators': 100, 'max_depth': 10, 'learning_rate': 0.15, 'colsample_bytree': 0.5}\n"
          ]
        }
      ],
      "source": [
        "print(ran_s_cv.best_params_)"
      ]
    },
    {
      "cell_type": "code",
      "execution_count": null,
      "metadata": {
        "id": "KkGUiikv43rk"
      },
      "outputs": [],
      "source": [
        "from sklearn.calibration import CalibratedClassifierCV\n",
        "from sklearn.metrics import log_loss"
      ]
    },
    {
      "cell_type": "markdown",
      "source": [
        "##plot confusion matrix"
      ],
      "metadata": {
        "id": "WopKKHjAin2y"
      }
    },
    {
      "cell_type": "code",
      "execution_count": 23,
      "metadata": {
        "id": "AFAGj8uZ43rk"
      },
      "outputs": [],
      "source": [
        "def plot_confusion_matrix(test_y, predict_y):\n",
        "    C = confusion_matrix(test_y, predict_y)\n",
        "    print(\"Number of misclassified points \",(len(test_y)-np.trace(C))/len(test_y)*100)\n",
        "    # C = 9,9 matrix, each cell (i,j) represents number of points of class i are predicted class j\n",
        "    \n",
        "    A =(((C.T)/(C.sum(axis=1))).T)\n",
        "    #divid each element of the confusion matrix with the sum of elements in that column\n",
        "    \n",
        "    # C = [[1, 2],\n",
        "    #     [3, 4]]\n",
        "    # C.T = [[1, 3],\n",
        "    #        [2, 4]]\n",
        "    # C.sum(axis = 1)  axis=0 corresonds to columns and axis=1 corresponds to rows in two diamensional array\n",
        "    # C.sum(axix =1) = [[3, 7]]\n",
        "    # ((C.T)/(C.sum(axis=1))) = [[1/3, 3/7]\n",
        "    #                           [2/3, 4/7]]\n",
        "\n",
        "    # ((C.T)/(C.sum(axis=1))).T = [[1/3, 2/3]\n",
        "    #                           [3/7, 4/7]]\n",
        "    # sum of row elements = 1\n",
        "    \n",
        "    B =(C/C.sum(axis=0))\n",
        "    #divid each element of the confusion matrix with the sum of elements in that row\n",
        "    # C = [[1, 2],\n",
        "    #     [3, 4]]\n",
        "    # C.sum(axis = 0)  axis=0 corresonds to columns and axis=1 corresponds to rows in two diamensional array\n",
        "    # C.sum(axix =0) = [[4, 6]]\n",
        "    # (C/C.sum(axis=0)) = [[1/4, 2/6],\n",
        "    #                      [3/4, 4/6]] \n",
        "    \n",
        "    labels = [1,2,3,4,5,6,7,8,9]\n",
        "    cmap=sns.light_palette(\"green\")\n",
        "    # representing A in heatmap format\n",
        "    print(\"-\"*50, \"Confusion matrix\", \"-\"*50)\n",
        "    plt.figure(figsize=(10,5))\n",
        "    sns.heatmap(C, annot=True, cmap=cmap, fmt=\".3f\", xticklabels=labels, yticklabels=labels)\n",
        "    plt.xlabel('Predicted Class')\n",
        "    plt.ylabel('Original Class')\n",
        "    plt.show()\n",
        "\n",
        "    print(\"-\"*50, \"Precision matrix\", \"-\"*50)\n",
        "    plt.figure(figsize=(10,5))\n",
        "    sns.heatmap(B, annot=True, cmap=cmap, fmt=\".3f\", xticklabels=labels, yticklabels=labels)\n",
        "    plt.xlabel('Predicted Class')\n",
        "    plt.ylabel('Original Class')\n",
        "    plt.show()\n",
        "    print(\"Sum of columns in precision matrix\",B.sum(axis=0))\n",
        "    \n",
        "    # representing B in heatmap format\n",
        "    print(\"-\"*50, \"Recall matrix\"    , \"-\"*50)\n",
        "    plt.figure(figsize=(10,5))\n",
        "    sns.heatmap(A, annot=True, cmap=cmap, fmt=\".3f\", xticklabels=labels, yticklabels=labels)\n",
        "    plt.xlabel('Predicted Class')\n",
        "    plt.ylabel('Original Class')\n",
        "    plt.show()\n",
        "    print(\"Sum of rows in precision matrix\",A.sum(axis=1))"
      ]
    },
    {
      "cell_type": "markdown",
      "source": [
        "#XgBosst with best parameters"
      ],
      "metadata": {
        "id": "jNbIUvJj-7Gj"
      }
    },
    {
      "cell_type": "code",
      "execution_count": 17,
      "metadata": {
        "colab": {
          "base_uri": "https://localhost:8080/"
        },
        "id": "MdZHDbHM43rk",
        "outputId": "07a159a8-5e69-43b6-8bf6-cab190d16160"
      },
      "outputs": [
        {
          "output_type": "execute_result",
          "data": {
            "text/plain": [
              "XGBClassifier(base_score=0.5, booster='gbtree', callbacks=None,\n",
              "              colsample_bylevel=1, colsample_bynode=1, colsample_bytree=0.5,\n",
              "              early_stopping_rounds=None, enable_categorical=False,\n",
              "              eval_metric=None, feature_types=None, gamma=0, gpu_id=-1,\n",
              "              grow_policy='depthwise', importance_type=None,\n",
              "              interaction_constraints='', learning_rate=0.15, max_bin=256,\n",
              "              max_cat_threshold=64, max_cat_to_onehot=4, max_delta_step=0,\n",
              "              max_depth=10, max_leaves=0, min_child_weight=1, missing=nan,\n",
              "              monotone_constraints='()', n_estimators=100, n_jobs=-1,\n",
              "              nthread=-1, num_parallel_tree=1, objective='multi:softprob', ...)"
            ]
          },
          "metadata": {},
          "execution_count": 17
        }
      ],
      "source": [
        "xgbclf = XGBClassifier(n_estimators=100,max_depth=10,learning_rate=0.15,colsample_bytree=0.5,subsample=1,nthread=-1)\n",
        "xgbclf.fit(x_train,new_y_train,verbose=True)"
      ]
    },
    {
      "cell_type": "code",
      "source": [
        "xgbclf.score(x_test,new_y_test)"
      ],
      "metadata": {
        "colab": {
          "base_uri": "https://localhost:8080/"
        },
        "id": "EnuT7YvJU3Q5",
        "outputId": "80ef408a-b1f9-4ee4-e054-174b49118644"
      },
      "execution_count": 18,
      "outputs": [
        {
          "output_type": "execute_result",
          "data": {
            "text/plain": [
              "0.9954001839926403"
            ]
          },
          "metadata": {},
          "execution_count": 18
        }
      ]
    },
    {
      "cell_type": "code",
      "source": [
        "sig_clf = CalibratedClassifierCV(xgbclf, method=\"sigmoid\")"
      ],
      "metadata": {
        "id": "b5AOdpXxhju0"
      },
      "execution_count": 19,
      "outputs": []
    },
    {
      "cell_type": "code",
      "source": [
        "sig_clf.fit(x_train, new_y_train)"
      ],
      "metadata": {
        "colab": {
          "base_uri": "https://localhost:8080/"
        },
        "id": "yemr5kgCHaRW",
        "outputId": "23669f5d-d71e-4c69-f8bc-1a651ac053a2"
      },
      "execution_count": 20,
      "outputs": [
        {
          "output_type": "execute_result",
          "data": {
            "text/plain": [
              "CalibratedClassifierCV(base_estimator=XGBClassifier(base_score=0.5,\n",
              "                                                    booster='gbtree',\n",
              "                                                    callbacks=None,\n",
              "                                                    colsample_bylevel=1,\n",
              "                                                    colsample_bynode=1,\n",
              "                                                    colsample_bytree=0.5,\n",
              "                                                    early_stopping_rounds=None,\n",
              "                                                    enable_categorical=False,\n",
              "                                                    eval_metric=None,\n",
              "                                                    feature_types=None, gamma=0,\n",
              "                                                    gpu_id=-1,\n",
              "                                                    grow_policy='depthwise',\n",
              "                                                    importance_type=None,\n",
              "                                                    interaction_constraints='',\n",
              "                                                    learning_rate=0.15,\n",
              "                                                    max_bin=256,\n",
              "                                                    max_cat_threshold=64,\n",
              "                                                    max_cat_to_onehot=4,\n",
              "                                                    max_delta_step=0,\n",
              "                                                    max_depth=10, max_leaves=0,\n",
              "                                                    min_child_weight=1,\n",
              "                                                    missing=nan,\n",
              "                                                    monotone_constraints='()',\n",
              "                                                    n_estimators=100, n_jobs=-1,\n",
              "                                                    nthread=-1,\n",
              "                                                    num_parallel_tree=1,\n",
              "                                                    objective='multi:softprob', ...))"
            ]
          },
          "metadata": {},
          "execution_count": 20
        }
      ]
    },
    {
      "cell_type": "code",
      "source": [
        "predict_y = sig_clf.predict_proba(x_train)\n",
        "print ( \"The train log loss is:\",log_loss(new_y_train, predict_y))\n",
        "\n",
        "predict_y = sig_clf.predict_proba(x_test)\n",
        "print(\"The test log loss is:\",log_loss(new_y_test, predict_y))"
      ],
      "metadata": {
        "colab": {
          "base_uri": "https://localhost:8080/"
        },
        "id": "TkGQU-DrwCMZ",
        "outputId": "01a06a8d-d62f-40e3-8f02-4714c1c85374"
      },
      "execution_count": 21,
      "outputs": [
        {
          "output_type": "stream",
          "name": "stdout",
          "text": [
            "The train log loss is: 0.009920587410315315\n",
            "The test log loss is: 0.03588203745322655\n"
          ]
        }
      ]
    },
    {
      "cell_type": "code",
      "execution_count": 22,
      "metadata": {
        "id": "ZiM1AqFV43rk"
      },
      "outputs": [],
      "source": [
        "from sklearn.metrics import confusion_matrix\n",
        "import numpy as np\n",
        "import seaborn as sns\n",
        "import matplotlib.pyplot as plt"
      ]
    },
    {
      "cell_type": "code",
      "execution_count": 24,
      "metadata": {
        "colab": {
          "base_uri": "https://localhost:8080/",
          "height": 1000
        },
        "id": "OlGp4HPd43rk",
        "outputId": "efcd11ed-e960-42d6-b080-36a2705bd4ca"
      },
      "outputs": [
        {
          "output_type": "stream",
          "name": "stdout",
          "text": [
            "Number of misclassified points  0.5059797608095675\n",
            "-------------------------------------------------- Confusion matrix --------------------------------------------------\n"
          ]
        },
        {
          "output_type": "display_data",
          "data": {
            "text/plain": [
              "<Figure size 720x360 with 2 Axes>"
            ],
            "image/png": "[encoded data removed]"
          },
          "metadata": {
            "needs_background": "light"
          }
        },
        {
          "output_type": "stream",
          "name": "stdout",
          "text": [
            "-------------------------------------------------- Precision matrix --------------------------------------------------\n"
          ]
        },
        {
          "output_type": "display_data",
          "data": {
            "text/plain": [
              "<Figure size 720x360 with 2 Axes>"
            ],
            "image/png": "[encoded data removed]"
          },
          "metadata": {
            "needs_background": "light"
          }
        },
        {
          "output_type": "stream",
          "name": "stdout",
          "text": [
            "Sum of columns in precision matrix [1. 1. 1. 1. 1. 1. 1. 1. 1.]\n",
            "-------------------------------------------------- Recall matrix --------------------------------------------------\n"
          ]
        },
        {
          "output_type": "display_data",
          "data": {
            "text/plain": [
              "<Figure size 720x360 with 2 Axes>"
            ],
            "image/png": "[encoded data removed]"
          },
          "metadata": {
            "needs_background": "light"
          }
        },
        {
          "output_type": "stream",
          "name": "stdout",
          "text": [
            "Sum of rows in precision matrix [1. 1. 1. 1. 1. 1. 1. 1. 1.]\n"
          ]
        }
      ],
      "source": [
        "plot_confusion_matrix(new_y_test,sig_clf.predict(x_test))"
      ]
    },
    {
      "cell_type": "markdown",
      "source": [
        "#XGBoost without size features"
      ],
      "metadata": {
        "id": "FqMixxCQ8bhD"
      }
    },
    {
      "cell_type": "code",
      "source": [
        "import pandas as pd"
      ],
      "metadata": {
        "id": "2cqTl72a8iSC"
      },
      "execution_count": null,
      "outputs": []
    },
    {
      "cell_type": "code",
      "source": [
        "byte_unigram= pd.read_csv('result_with_size.csv',index_col='Unnamed: 0').drop(columns=['size'])\n",
        "byte_bigram_top2k = pd.read_csv(\"byte_bigram_top2k.csv\",header=None)\n",
        "asm_unigram = pd.read_csv('asmoutputfile.csv')\n",
        "asm_top_800 = pd.read_csv('asm_top_800.csv',header=None)\n"
      ],
      "metadata": {
        "id": "YQoGuAQa8wry"
      },
      "execution_count": null,
      "outputs": []
    },
    {
      "cell_type": "code",
      "source": [
        "df_list = [byte_unigram.drop(columns=['ID','Class']), #258\n",
        "           byte_bigram_top2k,  #2000\n",
        "           asm_unigram.drop(columns=['ID']), #51\n",
        "           asm_top_800] #800\n",
        "\n",
        "final_data = pd.concat(df_list,axis=1,ignore_index=True)\n",
        "final_data.head(5)"
      ],
      "metadata": {
        "colab": {
          "base_uri": "https://localhost:8080/",
          "height": 235
        },
        "id": "8OHJ4sml_xS7",
        "outputId": "674504a7-b277-4c6d-d3a0-99d79c500735"
      },
      "execution_count": null,
      "outputs": [
        {
          "output_type": "execute_result",
          "data": {
            "text/plain": [
              "     0     1     2     3     4     5     6     7     8     9     ...   3098  \\\n",
              "0  601905  3905  2816  3832  3345  3242  3650  3201  2965  3205  ...   61.0   \n",
              "1   39755  8337  7249  7186  8663  6844  8420  7589  9291   358  ...   56.0   \n",
              "2   93506  9542  2568  2438  8925  9330  9007  2342  9107  2457  ...   61.0   \n",
              "3   21091  1213   726   817  1257   625   550   523  1078   473  ...  109.0   \n",
              "4   19764   710   302   433   559   410   262   249   422   223  ...   61.0   \n",
              "\n",
              "    3099   3100   3101   3102  3103   3104   3105  3106   3107  \n",
              "0   61.0   61.0   61.0   61.0  61.0   61.0   61.0  61.0   61.0  \n",
              "1   54.0   32.0   40.0   80.0  69.0   41.0   13.0  10.0   46.0  \n",
              "2   61.0   61.0   61.0   61.0  61.0   61.0   61.0  61.0   61.0  \n",
              "3  111.0  100.0  101.0  108.0  32.0  102.0  108.0  97.0  116.0  \n",
              "4   61.0   61.0   61.0   61.0  61.0   61.0   61.0  61.0   61.0  \n",
              "\n",
              "[5 rows x 3108 columns]"
            ],
            "text/html": [
              "<div>\n",
              "<style scoped>\n",
              "    .dataframe tbody tr th:only-of-type {\n",
              "        vertical-align: middle;\n",
              "    }\n",
              "\n",
              "    .dataframe tbody tr th {\n",
              "        vertical-align: top;\n",
              "    }\n",
              "\n",
              "    .dataframe thead th {\n",
              "        text-align: right;\n",
              "    }\n",
              "</style>\n",
              "<table border=\"1\" class=\"dataframe\">\n",
              "  <thead>\n",
              "    <tr style=\"text-align: right;\">\n",
              "      <th></th>\n",
              "      <th>0</th>\n",
              "      <th>1</th>\n",
              "      <th>2</th>\n",
              "      <th>3</th>\n",
              "      <th>4</th>\n",
              "      <th>5</th>\n",
              "      <th>6</th>\n",
              "      <th>7</th>\n",
              "      <th>8</th>\n",
              "      <th>9</th>\n",
              "      <th>...</th>\n",
              "      <th>3098</th>\n",
              "      <th>3099</th>\n",
              "      <th>3100</th>\n",
              "      <th>3101</th>\n",
              "      <th>3102</th>\n",
              "      <th>3103</th>\n",
              "      <th>3104</th>\n",
              "      <th>3105</th>\n",
              "      <th>3106</th>\n",
              "      <th>3107</th>\n",
              "    </tr>\n",
              "  </thead>\n",
              "  <tbody>\n",
              "    <tr>\n",
              "      <th>0</th>\n",
              "      <td>601905</td>\n",
              "      <td>3905</td>\n",
              "      <td>2816</td>\n",
              "      <td>3832</td>\n",
              "      <td>3345</td>\n",
              "      <td>3242</td>\n",
              "      <td>3650</td>\n",
              "      <td>3201</td>\n",
              "      <td>2965</td>\n",
              "      <td>3205</td>\n",
              "      <td>...</td>\n",
              "      <td>61.0</td>\n",
              "      <td>61.0</td>\n",
              "      <td>61.0</td>\n",
              "      <td>61.0</td>\n",
              "      <td>61.0</td>\n",
              "      <td>61.0</td>\n",
              "      <td>61.0</td>\n",
              "      <td>61.0</td>\n",
              "      <td>61.0</td>\n",
              "      <td>61.0</td>\n",
              "    </tr>\n",
              "    <tr>\n",
              "      <th>1</th>\n",
              "      <td>39755</td>\n",
              "      <td>8337</td>\n",
              "      <td>7249</td>\n",
              "      <td>7186</td>\n",
              "      <td>8663</td>\n",
              "      <td>6844</td>\n",
              "      <td>8420</td>\n",
              "      <td>7589</td>\n",
              "      <td>9291</td>\n",
              "      <td>358</td>\n",
              "      <td>...</td>\n",
              "      <td>56.0</td>\n",
              "      <td>54.0</td>\n",
              "      <td>32.0</td>\n",
              "      <td>40.0</td>\n",
              "      <td>80.0</td>\n",
              "      <td>69.0</td>\n",
              "      <td>41.0</td>\n",
              "      <td>13.0</td>\n",
              "      <td>10.0</td>\n",
              "      <td>46.0</td>\n",
              "    </tr>\n",
              "    <tr>\n",
              "      <th>2</th>\n",
              "      <td>93506</td>\n",
              "      <td>9542</td>\n",
              "      <td>2568</td>\n",
              "      <td>2438</td>\n",
              "      <td>8925</td>\n",
              "      <td>9330</td>\n",
              "      <td>9007</td>\n",
              "      <td>2342</td>\n",
              "      <td>9107</td>\n",
              "      <td>2457</td>\n",
              "      <td>...</td>\n",
              "      <td>61.0</td>\n",
              "      <td>61.0</td>\n",
              "      <td>61.0</td>\n",
              "      <td>61.0</td>\n",
              "      <td>61.0</td>\n",
              "      <td>61.0</td>\n",
              "      <td>61.0</td>\n",
              "      <td>61.0</td>\n",
              "      <td>61.0</td>\n",
              "      <td>61.0</td>\n",
              "    </tr>\n",
              "    <tr>\n",
              "      <th>3</th>\n",
              "      <td>21091</td>\n",
              "      <td>1213</td>\n",
              "      <td>726</td>\n",
              "      <td>817</td>\n",
              "      <td>1257</td>\n",
              "      <td>625</td>\n",
              "      <td>550</td>\n",
              "      <td>523</td>\n",
              "      <td>1078</td>\n",
              "      <td>473</td>\n",
              "      <td>...</td>\n",
              "      <td>109.0</td>\n",
              "      <td>111.0</td>\n",
              "      <td>100.0</td>\n",
              "      <td>101.0</td>\n",
              "      <td>108.0</td>\n",
              "      <td>32.0</td>\n",
              "      <td>102.0</td>\n",
              "      <td>108.0</td>\n",
              "      <td>97.0</td>\n",
              "      <td>116.0</td>\n",
              "    </tr>\n",
              "    <tr>\n",
              "      <th>4</th>\n",
              "      <td>19764</td>\n",
              "      <td>710</td>\n",
              "      <td>302</td>\n",
              "      <td>433</td>\n",
              "      <td>559</td>\n",
              "      <td>410</td>\n",
              "      <td>262</td>\n",
              "      <td>249</td>\n",
              "      <td>422</td>\n",
              "      <td>223</td>\n",
              "      <td>...</td>\n",
              "      <td>61.0</td>\n",
              "      <td>61.0</td>\n",
              "      <td>61.0</td>\n",
              "      <td>61.0</td>\n",
              "      <td>61.0</td>\n",
              "      <td>61.0</td>\n",
              "      <td>61.0</td>\n",
              "      <td>61.0</td>\n",
              "      <td>61.0</td>\n",
              "      <td>61.0</td>\n",
              "    </tr>\n",
              "  </tbody>\n",
              "</table>\n",
              "<p>5 rows × 3108 columns</p>\n",
              "</div>"
            ]
          },
          "metadata": {},
          "execution_count": 7
        }
      ]
    },
    {
      "cell_type": "code",
      "source": [
        "from sklearn.model_selection import train_test_split"
      ],
      "metadata": {
        "id": "82ttihQFBI1p"
      },
      "execution_count": null,
      "outputs": []
    },
    {
      "cell_type": "code",
      "source": [
        "x_train, x_test, y_train, y_test = train_test_split(final_data, byte_unigram['Class'],stratify=byte_unigram['Class'],test_size=0.20,random_state=0)\n",
        "\n",
        "print('train',x_train.shape,y_train.shape)\n",
        "\n",
        "print('test',x_test.shape,y_test.shape)"
      ],
      "metadata": {
        "colab": {
          "base_uri": "https://localhost:8080/"
        },
        "id": "az4OmZFnAc2e",
        "outputId": "a6a35aca-edd4-4bca-9943-d05fa8cbd35e"
      },
      "execution_count": null,
      "outputs": [
        {
          "output_type": "stream",
          "name": "stdout",
          "text": [
            "train (8694, 3108) (8694,)\n",
            "test (2174, 3108) (2174,)\n"
          ]
        }
      ]
    },
    {
      "cell_type": "code",
      "source": [
        "from sklearn.model_selection import RandomizedSearchCV\n",
        "from xgboost import XGBClassifier\n",
        "from sklearn.preprocessing import LabelEncoder"
      ],
      "metadata": {
        "id": "YrlgM_G5BQeY"
      },
      "execution_count": null,
      "outputs": []
    },
    {
      "cell_type": "code",
      "source": [
        "le = LabelEncoder()\n",
        "new_y_train = le.fit_transform(y_train)\n",
        "new_y_test = le.transform(y_test)"
      ],
      "metadata": {
        "id": "SbcDvqneBplr"
      },
      "execution_count": null,
      "outputs": []
    },
    {
      "cell_type": "code",
      "source": [
        "clf = XGBClassifier()\n",
        "params={\n",
        "    'learning_rate':[0.01,0.03,0.05,0.1,0.15,0.2],\n",
        "     'n_estimators':[100,200,500,1000,2000],\n",
        "     'max_depth':[3,5,10],\n",
        "    'colsample_bytree':[0.1,0.3,0.5,1],\n",
        "    'subsample':[0.1,0.3,0.5,1]\n",
        "}\n",
        "\n",
        "ran_s_cv=RandomizedSearchCV(clf,param_distributions=params,n_jobs=-1)\n",
        "ran_s_cv.fit(x_train, new_y_train)"
      ],
      "metadata": {
        "colab": {
          "base_uri": "https://localhost:8080/"
        },
        "id": "PTVanM0mBxMX",
        "outputId": "1125f917-6193-40fc-fb08-40044955d547"
      },
      "execution_count": null,
      "outputs": [
        {
          "output_type": "execute_result",
          "data": {
            "text/plain": [
              "RandomizedSearchCV(estimator=XGBClassifier(base_score=None, booster=None,\n",
              "                                           callbacks=None,\n",
              "                                           colsample_bylevel=None,\n",
              "                                           colsample_bynode=None,\n",
              "                                           colsample_bytree=None,\n",
              "                                           early_stopping_rounds=None,\n",
              "                                           enable_categorical=False,\n",
              "                                           eval_metric=None, feature_types=None,\n",
              "                                           gamma=None, gpu_id=None,\n",
              "                                           grow_policy=None,\n",
              "                                           importance_type=None,\n",
              "                                           interaction_constraints=None,\n",
              "                                           learning_rate=None...\n",
              "                                           min_child_weight=None, missing=nan,\n",
              "                                           monotone_constraints=None,\n",
              "                                           n_estimators=100, n_jobs=None,\n",
              "                                           num_parallel_tree=None,\n",
              "                                           predictor=None, random_state=None, ...),\n",
              "                   n_jobs=-1,\n",
              "                   param_distributions={'colsample_bytree': [0.1, 0.3, 0.5, 1],\n",
              "                                        'learning_rate': [0.01, 0.03, 0.05, 0.1,\n",
              "                                                          0.15, 0.2],\n",
              "                                        'max_depth': [3, 5, 10],\n",
              "                                        'n_estimators': [100, 200, 500, 1000,\n",
              "                                                         2000],\n",
              "                                        'subsample': [0.1, 0.3, 0.5, 1]})"
            ]
          },
          "metadata": {},
          "execution_count": 13
        }
      ]
    },
    {
      "cell_type": "code",
      "source": [
        "ran_s_cv.best_params_"
      ],
      "metadata": {
        "colab": {
          "base_uri": "https://localhost:8080/"
        },
        "id": "OGB7lavFyoUt",
        "outputId": "45a5061c-d150-448e-ac42-cc5e500d5c23"
      },
      "execution_count": null,
      "outputs": [
        {
          "output_type": "execute_result",
          "data": {
            "text/plain": [
              "{'subsample': 1,\n",
              " 'n_estimators': 1000,\n",
              " 'max_depth': 5,\n",
              " 'learning_rate': 0.1,\n",
              " 'colsample_bytree': 0.5}"
            ]
          },
          "metadata": {},
          "execution_count": 14
        }
      ]
    },
    {
      "cell_type": "code",
      "source": [
        "from sklearn.calibration import CalibratedClassifierCV\n",
        "from sklearn.metrics import log_loss"
      ],
      "metadata": {
        "id": "2JHAPpOpyq6u"
      },
      "execution_count": null,
      "outputs": []
    },
    {
      "cell_type": "code",
      "source": [
        "xgbclf = XGBClassifier(n_estimators=1000,max_depth=5,learning_rate=0.1,colsample_bytree=0.5,subsample=1,nthread=-1)\n",
        "xgbclf.fit(x_train,new_y_train,verbose=True)\n",
        "\n",
        "sig_clf = CalibratedClassifierCV(xgbclf, method=\"sigmoid\")\n",
        "\n",
        "sig_clf.fit(x_train, new_y_train)\n",
        "\n",
        "predict_y = sig_clf.predict_proba(x_train)\n",
        "print ( \"The train log loss is:\",log_loss(new_y_train, predict_y))\n",
        "\n",
        "predict_y = sig_clf.predict_proba(x_test)\n",
        "print(\"The test log loss is:\",log_loss(new_y_test, predict_y))\n",
        "\n",
        "plot_confusion_matrix(new_y_test,sig_clf.predict(x_test))\n"
      ],
      "metadata": {
        "colab": {
          "base_uri": "https://localhost:8080/",
          "height": 1000
        },
        "id": "qqe6t7cIzevN",
        "outputId": "cf0c5968-4995-43bb-d705-232b73c8b624"
      },
      "execution_count": null,
      "outputs": [
        {
          "output_type": "stream",
          "name": "stdout",
          "text": [
            "The train log loss is: 0.01026792790075894\n",
            "The test log loss is: 0.035212625866441104\n",
            "Number of misclassified points  0.45998160073597055\n",
            "-------------------------------------------------- Confusion matrix --------------------------------------------------\n"
          ]
        },
        {
          "output_type": "display_data",
          "data": {
            "text/plain": [
              "<Figure size 720x360 with 2 Axes>"
            ],
            "image/png": "[encoded data removed]"
          },
          "metadata": {
            "needs_background": "light"
          }
        },
        {
          "output_type": "stream",
          "name": "stdout",
          "text": [
            "-------------------------------------------------- Precision matrix --------------------------------------------------\n"
          ]
        },
        {
          "output_type": "display_data",
          "data": {
            "text/plain": [
              "<Figure size 720x360 with 2 Axes>"
            ],
            "image/png": "[encoded data removed]"
          },
          "metadata": {
            "needs_background": "light"
          }
        },
        {
          "output_type": "stream",
          "name": "stdout",
          "text": [
            "Sum of columns in precision matrix [1. 1. 1. 1. 1. 1. 1. 1. 1.]\n",
            "-------------------------------------------------- Recall matrix --------------------------------------------------\n"
          ]
        },
        {
          "output_type": "display_data",
          "data": {
            "text/plain": [
              "<Figure size 720x360 with 2 Axes>"
            ],
            "image/png": "[encoded data removed]"
          },
          "metadata": {
            "needs_background": "light"
          }
        },
        {
          "output_type": "stream",
          "name": "stdout",
          "text": [
            "Sum of rows in precision matrix [1. 1. 1. 1. 1. 1. 1. 1. 1.]\n"
          ]
        }
      ]
    },
    {
      "cell_type": "markdown",
      "source": [
        "#Hyper parameter tuning for further reducing test loss"
      ],
      "metadata": {
        "id": "4x7DXQZdF4NT"
      }
    },
    {
      "cell_type": "code",
      "source": [
        "le = LabelEncoder()\n",
        "new_y_train = le.fit_transform(y_train)\n",
        "new_y_test = le.transform(y_test)"
      ],
      "metadata": {
        "id": "2M466vWkF3O2"
      },
      "execution_count": 10,
      "outputs": []
    },
    {
      "cell_type": "markdown",
      "source": [
        "{'subsample': 0.5, 'n_estimators': 100, 'max_depth': 10, 'learning_rate': 0.15, 'colsample_bytree': 0.5}"
      ],
      "metadata": {
        "id": "hCo6aMSwGn4y"
      }
    },
    {
      "cell_type": "markdown",
      "source": [
        "##Random search"
      ],
      "metadata": {
        "id": "WO_AgsbLmNFh"
      }
    },
    {
      "cell_type": "code",
      "source": [
        "\n",
        "clf = XGBClassifier()\n",
        "params={\n",
        "    'learning_rate':[0.10,0.15,0.2],\n",
        "     'n_estimators':[80,100,150],\n",
        "     'max_depth':[8,10,12],\n",
        "    'colsample_bytree':[0.4,0.5,0.6],\n",
        "    'subsample':[0.4,0.5,0.6]\n",
        "}\n",
        "\n",
        "ran_s_cv=RandomizedSearchCV(clf,param_distributions=params,verbose=10,n_jobs=-1)\n",
        "ran_s_cv.fit(x_train, new_y_train)"
      ],
      "metadata": {
        "colab": {
          "base_uri": "https://localhost:8080/"
        },
        "id": "YOzJ6wJ4GgPb",
        "outputId": "3092be74-3f1b-43d1-f462-83cb3ac88320"
      },
      "execution_count": null,
      "outputs": [
        {
          "output_type": "stream",
          "name": "stdout",
          "text": [
            "Fitting 5 folds for each of 10 candidates, totalling 50 fits\n"
          ]
        },
        {
          "output_type": "execute_result",
          "data": {
            "text/plain": [
              "RandomizedSearchCV(estimator=XGBClassifier(base_score=None, booster=None,\n",
              "                                           callbacks=None,\n",
              "                                           colsample_bylevel=None,\n",
              "                                           colsample_bynode=None,\n",
              "                                           colsample_bytree=None,\n",
              "                                           early_stopping_rounds=None,\n",
              "                                           enable_categorical=False,\n",
              "                                           eval_metric=None, feature_types=None,\n",
              "                                           gamma=None, gpu_id=None,\n",
              "                                           grow_policy=None,\n",
              "                                           importance_type=None,\n",
              "                                           interaction_constraints=None,\n",
              "                                           learning_rate=None...\n",
              "                                           max_delta_step=None, max_depth=None,\n",
              "                                           max_leaves=None,\n",
              "                                           min_child_weight=None, missing=nan,\n",
              "                                           monotone_constraints=None,\n",
              "                                           n_estimators=100, n_jobs=None,\n",
              "                                           num_parallel_tree=None,\n",
              "                                           predictor=None, random_state=None, ...),\n",
              "                   n_jobs=-1,\n",
              "                   param_distributions={'colsample_bytree': [0.4, 0.5, 0.6],\n",
              "                                        'learning_rate': [0.1, 0.15, 0.2],\n",
              "                                        'max_depth': [8, 10, 12],\n",
              "                                        'n_estimators': [80, 100, 150],\n",
              "                                        'subsample': [0.4, 0.5, 0.6]},\n",
              "                   verbose=10)"
            ]
          },
          "metadata": {},
          "execution_count": 11
        }
      ]
    },
    {
      "cell_type": "code",
      "source": [
        "print(ran_s_cv.best_params_)"
      ],
      "metadata": {
        "colab": {
          "base_uri": "https://localhost:8080/"
        },
        "id": "RRQSgT7XHcYz",
        "outputId": "5cd06bf8-aaa8-4eaa-9e0d-0c4edbf85872"
      },
      "execution_count": null,
      "outputs": [
        {
          "output_type": "stream",
          "name": "stdout",
          "text": [
            "{'subsample': 0.6, 'n_estimators': 80, 'max_depth': 8, 'learning_rate': 0.15, 'colsample_bytree': 0.6}\n"
          ]
        }
      ]
    },
    {
      "cell_type": "code",
      "source": [
        "xgbclf = XGBClassifier(subsample=0.6,n_estimators=80,max_depth=8,learning_rate=0.15,colsample_bytree=0.6,nthread=-1)\n",
        "xgbclf.fit(x_train,new_y_train,verbose=True)"
      ],
      "metadata": {
        "colab": {
          "base_uri": "https://localhost:8080/"
        },
        "id": "UQgWBDkmHmJq",
        "outputId": "ef73ce0e-58dc-40e4-9d04-96fbbd2e155b"
      },
      "execution_count": null,
      "outputs": [
        {
          "output_type": "execute_result",
          "data": {
            "text/plain": [
              "XGBClassifier(base_score=0.5, booster='gbtree', callbacks=None,\n",
              "              colsample_bylevel=1, colsample_bynode=1, colsample_bytree=0.6,\n",
              "              early_stopping_rounds=None, enable_categorical=False,\n",
              "              eval_metric=None, feature_types=None, gamma=0, gpu_id=-1,\n",
              "              grow_policy='depthwise', importance_type=None,\n",
              "              interaction_constraints='', learning_rate=0.15, max_bin=256,\n",
              "              max_cat_threshold=64, max_cat_to_onehot=4, max_delta_step=0,\n",
              "              max_depth=8, max_leaves=0, min_child_weight=1, missing=nan,\n",
              "              monotone_constraints='()', n_estimators=80, n_jobs=-1, nthread=-1,\n",
              "              num_parallel_tree=1, objective='multi:softprob', ...)"
            ]
          },
          "metadata": {},
          "execution_count": 14
        }
      ]
    },
    {
      "cell_type": "code",
      "source": [
        "from sklearn.calibration import CalibratedClassifierCV\n",
        "from sklearn.metrics import log_loss"
      ],
      "metadata": {
        "id": "nXuDQJQwHg_-"
      },
      "execution_count": null,
      "outputs": []
    },
    {
      "cell_type": "code",
      "source": [
        "sig_clf = CalibratedClassifierCV(xgbclf, method=\"sigmoid\")\n",
        "sig_clf.fit(x_train, new_y_train)\n",
        "\n",
        "predict_y = sig_clf.predict_proba(x_train)\n",
        "print ( \"The train log loss is:\",log_loss(new_y_train, predict_y))\n",
        "\n",
        "predict_y = sig_clf.predict_proba(x_test)\n",
        "print(\"The test log loss is:\",log_loss(new_y_test, predict_y))\n"
      ],
      "metadata": {
        "colab": {
          "base_uri": "https://localhost:8080/"
        },
        "id": "qmZx82yzVJK8",
        "outputId": "0f935a9e-f047-4a59-9529-f3dfbf5da506"
      },
      "execution_count": null,
      "outputs": [
        {
          "output_type": "stream",
          "name": "stdout",
          "text": [
            "The train log loss is: 0.01034335696751511\n",
            "The test log loss is: 0.034601648327977644\n"
          ]
        }
      ]
    },
    {
      "cell_type": "code",
      "source": [
        "plot_confusion_matrix(new_y_test,sig_clf.predict(x_test))"
      ],
      "metadata": {
        "colab": {
          "base_uri": "https://localhost:8080/",
          "height": 1000
        },
        "id": "5ymvEOqZW6VA",
        "outputId": "c6b7c139-f81e-41f3-9e97-b2ff5ee55d53"
      },
      "execution_count": null,
      "outputs": [
        {
          "output_type": "stream",
          "name": "stdout",
          "text": [
            "Number of misclassified points  0.45998160073597055\n",
            "-------------------------------------------------- Confusion matrix --------------------------------------------------\n"
          ]
        },
        {
          "output_type": "display_data",
          "data": {
            "text/plain": [
              "<Figure size 720x360 with 2 Axes>"
            ],
            "image/png": "[encoded data removed]"
          },
          "metadata": {
            "needs_background": "light"
          }
        },
        {
          "output_type": "stream",
          "name": "stdout",
          "text": [
            "-------------------------------------------------- Precision matrix --------------------------------------------------\n"
          ]
        },
        {
          "output_type": "display_data",
          "data": {
            "text/plain": [
              "<Figure size 720x360 with 2 Axes>"
            ],
            "image/png": "[encoded data removed]"
          },
          "metadata": {
            "needs_background": "light"
          }
        },
        {
          "output_type": "stream",
          "name": "stdout",
          "text": [
            "Sum of columns in precision matrix [1. 1. 1. 1. 1. 1. 1. 1. 1.]\n",
            "-------------------------------------------------- Recall matrix --------------------------------------------------\n"
          ]
        },
        {
          "output_type": "display_data",
          "data": {
            "text/plain": [
              "<Figure size 720x360 with 2 Axes>"
            ],
            "image/png": "[encoded data removed]"
          },
          "metadata": {
            "needs_background": "light"
          }
        },
        {
          "output_type": "stream",
          "name": "stdout",
          "text": [
            "Sum of rows in precision matrix [1. 1. 1. 1. 1. 1. 1. 1. 1.]\n"
          ]
        }
      ]
    },
    {
      "cell_type": "markdown",
      "source": [
        "##Grid Search"
      ],
      "metadata": {
        "id": "bC27DqkGmQa6"
      }
    },
    {
      "cell_type": "code",
      "source": [
        "from sklearn.model_selection import GridSearchCV"
      ],
      "metadata": {
        "id": "NhEhUg9nmSeY"
      },
      "execution_count": 11,
      "outputs": []
    },
    {
      "cell_type": "code",
      "source": [
        "clf = XGBClassifier()\n",
        "params={\n",
        "    'learning_rate':[0.10,0.15,0.2],\n",
        "     'n_estimators':[80,100,150],\n",
        "     'max_depth':[8,10,12],\n",
        "    'colsample_bytree':[0.4,0.5,0.6],\n",
        "    'subsample':[0.4,0.5,0.6]\n",
        "}\n",
        "\n",
        "\n",
        "grid_s_cv=GridSearchCV(clf,param_grid=params,verbose=5)\n",
        "grid_s_cv.fit(x_train, new_y_train)"
      ],
      "metadata": {
        "colab": {
          "base_uri": "https://localhost:8080/"
        },
        "id": "1TUTCebumlfI",
        "outputId": "5212b8c3-894a-499d-cf0c-64c4c85ec494"
      },
      "execution_count": 12,
      "outputs": [
        {
          "output_type": "stream",
          "name": "stdout",
          "text": [
            "Fitting 5 folds for each of 243 candidates, totalling 1215 fits\n",
            "[CV 1/5] END colsample_bytree=0.4, learning_rate=0.1, max_depth=8, n_estimators=80, subsample=0.4;, score=0.993 total time= 1.3min\n",
            "[CV 2/5] END colsample_bytree=0.4, learning_rate=0.1, max_depth=8, n_estimators=80, subsample=0.4;, score=0.993 total time= 1.3min\n",
            "[CV 3/5] END colsample_bytree=0.4, learning_rate=0.1, max_depth=8, n_estimators=80, subsample=0.4;, score=0.994 total time= 1.3min\n",
            "[CV 4/5] END colsample_bytree=0.4, learning_rate=0.1, max_depth=8, n_estimators=80, subsample=0.4;, score=0.992 total time= 1.3min\n",
            "[CV 5/5] END colsample_bytree=0.4, learning_rate=0.1, max_depth=8, n_estimators=80, subsample=0.4;, score=0.994 total time= 1.3min\n",
            "[CV 1/5] END colsample_bytree=0.4, learning_rate=0.1, max_depth=8, n_estimators=80, subsample=0.5;, score=0.994 total time= 1.4min\n",
            "[CV 2/5] END colsample_bytree=0.4, learning_rate=0.1, max_depth=8, n_estimators=80, subsample=0.5;, score=0.994 total time= 1.5min\n",
            "[CV 3/5] END colsample_bytree=0.4, learning_rate=0.1, max_depth=8, n_estimators=80, subsample=0.5;, score=0.996 total time= 1.5min\n",
            "[CV 4/5] END colsample_bytree=0.4, learning_rate=0.1, max_depth=8, n_estimators=80, subsample=0.5;, score=0.993 total time= 1.4min\n",
            "[CV 5/5] END colsample_bytree=0.4, learning_rate=0.1, max_depth=8, n_estimators=80, subsample=0.5;, score=0.996 total time=  43.2s\n",
            "[CV 1/5] END colsample_bytree=0.4, learning_rate=0.1, max_depth=8, n_estimators=80, subsample=0.6;, score=0.994 total time=  49.5s\n",
            "[CV 2/5] END colsample_bytree=0.4, learning_rate=0.1, max_depth=8, n_estimators=80, subsample=0.6;, score=0.994 total time=  52.9s\n",
            "[CV 3/5] END colsample_bytree=0.4, learning_rate=0.1, max_depth=8, n_estimators=80, subsample=0.6;, score=0.995 total time=  50.5s\n",
            "[CV 4/5] END colsample_bytree=0.4, learning_rate=0.1, max_depth=8, n_estimators=80, subsample=0.6;, score=0.992 total time=  50.7s\n",
            "[CV 5/5] END colsample_bytree=0.4, learning_rate=0.1, max_depth=8, n_estimators=80, subsample=0.6;, score=0.995 total time=  50.5s\n",
            "[CV 1/5] END colsample_bytree=0.4, learning_rate=0.1, max_depth=8, n_estimators=100, subsample=0.4;, score=0.992 total time=  53.4s\n",
            "[CV 2/5] END colsample_bytree=0.4, learning_rate=0.1, max_depth=8, n_estimators=100, subsample=0.4;, score=0.993 total time=  55.7s\n",
            "[CV 3/5] END colsample_bytree=0.4, learning_rate=0.1, max_depth=8, n_estimators=100, subsample=0.4;, score=0.994 total time=  53.5s\n",
            "[CV 4/5] END colsample_bytree=0.4, learning_rate=0.1, max_depth=8, n_estimators=100, subsample=0.4;, score=0.992 total time=  53.1s\n",
            "[CV 5/5] END colsample_bytree=0.4, learning_rate=0.1, max_depth=8, n_estimators=100, subsample=0.4;, score=0.993 total time= 1.1min\n",
            "[CV 1/5] END colsample_bytree=0.4, learning_rate=0.1, max_depth=8, n_estimators=100, subsample=0.5;, score=0.994 total time=  56.6s\n",
            "[CV 2/5] END colsample_bytree=0.4, learning_rate=0.1, max_depth=8, n_estimators=100, subsample=0.5;, score=0.994 total time=  55.2s\n",
            "[CV 3/5] END colsample_bytree=0.4, learning_rate=0.1, max_depth=8, n_estimators=100, subsample=0.5;, score=0.995 total time=  54.5s\n",
            "[CV 4/5] END colsample_bytree=0.4, learning_rate=0.1, max_depth=8, n_estimators=100, subsample=0.5;, score=0.993 total time=  54.0s\n",
            "[CV 5/5] END colsample_bytree=0.4, learning_rate=0.1, max_depth=8, n_estimators=100, subsample=0.5;, score=0.996 total time=  54.2s\n",
            "[CV 1/5] END colsample_bytree=0.4, learning_rate=0.1, max_depth=8, n_estimators=100, subsample=0.6;, score=0.994 total time=  57.3s\n",
            "[CV 2/5] END colsample_bytree=0.4, learning_rate=0.1, max_depth=8, n_estimators=100, subsample=0.6;, score=0.994 total time=  57.1s\n",
            "[CV 3/5] END colsample_bytree=0.4, learning_rate=0.1, max_depth=8, n_estimators=100, subsample=0.6;, score=0.996 total time=  57.1s\n",
            "[CV 4/5] END colsample_bytree=0.4, learning_rate=0.1, max_depth=8, n_estimators=100, subsample=0.6;, score=0.992 total time=  56.7s\n",
            "[CV 5/5] END colsample_bytree=0.4, learning_rate=0.1, max_depth=8, n_estimators=100, subsample=0.6;, score=0.995 total time=  56.5s\n",
            "[CV 1/5] END colsample_bytree=0.4, learning_rate=0.1, max_depth=8, n_estimators=150, subsample=0.4;, score=0.993 total time= 1.1min\n",
            "[CV 2/5] END colsample_bytree=0.4, learning_rate=0.1, max_depth=8, n_estimators=150, subsample=0.4;, score=0.993 total time= 1.1min\n",
            "[CV 3/5] END colsample_bytree=0.4, learning_rate=0.1, max_depth=8, n_estimators=150, subsample=0.4;, score=0.994 total time= 1.1min\n",
            "[CV 4/5] END colsample_bytree=0.4, learning_rate=0.1, max_depth=8, n_estimators=150, subsample=0.4;, score=0.992 total time= 1.1min\n",
            "[CV 5/5] END colsample_bytree=0.4, learning_rate=0.1, max_depth=8, n_estimators=150, subsample=0.4;, score=0.995 total time= 1.1min\n",
            "[CV 1/5] END colsample_bytree=0.4, learning_rate=0.1, max_depth=8, n_estimators=150, subsample=0.5;, score=0.993 total time= 1.2min\n",
            "[CV 2/5] END colsample_bytree=0.4, learning_rate=0.1, max_depth=8, n_estimators=150, subsample=0.5;, score=0.994 total time= 1.2min\n",
            "[CV 3/5] END colsample_bytree=0.4, learning_rate=0.1, max_depth=8, n_estimators=150, subsample=0.5;, score=0.995 total time= 1.2min\n",
            "[CV 4/5] END colsample_bytree=0.4, learning_rate=0.1, max_depth=8, n_estimators=150, subsample=0.5;, score=0.993 total time= 1.2min\n",
            "[CV 5/5] END colsample_bytree=0.4, learning_rate=0.1, max_depth=8, n_estimators=150, subsample=0.5;, score=0.996 total time= 1.2min\n",
            "[CV 1/5] END colsample_bytree=0.4, learning_rate=0.1, max_depth=8, n_estimators=150, subsample=0.6;, score=0.994 total time= 1.3min\n",
            "[CV 2/5] END colsample_bytree=0.4, learning_rate=0.1, max_depth=8, n_estimators=150, subsample=0.6;, score=0.994 total time= 1.2min\n",
            "[CV 3/5] END colsample_bytree=0.4, learning_rate=0.1, max_depth=8, n_estimators=150, subsample=0.6;, score=0.997 total time= 1.3min\n",
            "[CV 4/5] END colsample_bytree=0.4, learning_rate=0.1, max_depth=8, n_estimators=150, subsample=0.6;, score=0.993 total time= 1.2min\n",
            "[CV 5/5] END colsample_bytree=0.4, learning_rate=0.1, max_depth=8, n_estimators=150, subsample=0.6;, score=0.995 total time= 1.3min\n",
            "[CV 1/5] END colsample_bytree=0.4, learning_rate=0.1, max_depth=10, n_estimators=80, subsample=0.4;, score=0.993 total time=  44.9s\n",
            "[CV 2/5] END colsample_bytree=0.4, learning_rate=0.1, max_depth=10, n_estimators=80, subsample=0.4;, score=0.993 total time=  44.4s\n",
            "[CV 3/5] END colsample_bytree=0.4, learning_rate=0.1, max_depth=10, n_estimators=80, subsample=0.4;, score=0.994 total time=  44.5s\n",
            "[CV 4/5] END colsample_bytree=0.4, learning_rate=0.1, max_depth=10, n_estimators=80, subsample=0.4;, score=0.992 total time=  43.7s\n",
            "[CV 5/5] END colsample_bytree=0.4, learning_rate=0.1, max_depth=10, n_estimators=80, subsample=0.4;, score=0.994 total time=  44.4s\n",
            "[CV 1/5] END colsample_bytree=0.4, learning_rate=0.1, max_depth=10, n_estimators=80, subsample=0.5;, score=0.993 total time=  49.2s\n",
            "[CV 2/5] END colsample_bytree=0.4, learning_rate=0.1, max_depth=10, n_estimators=80, subsample=0.5;, score=0.994 total time=  49.4s\n",
            "[CV 3/5] END colsample_bytree=0.4, learning_rate=0.1, max_depth=10, n_estimators=80, subsample=0.5;, score=0.995 total time=  49.3s\n",
            "[CV 4/5] END colsample_bytree=0.4, learning_rate=0.1, max_depth=10, n_estimators=80, subsample=0.5;, score=0.992 total time=  48.4s\n",
            "[CV 5/5] END colsample_bytree=0.4, learning_rate=0.1, max_depth=10, n_estimators=80, subsample=0.5;, score=0.996 total time=  48.7s\n",
            "[CV 1/5] END colsample_bytree=0.4, learning_rate=0.1, max_depth=10, n_estimators=80, subsample=0.6;, score=0.994 total time=  51.2s\n",
            "[CV 2/5] END colsample_bytree=0.4, learning_rate=0.1, max_depth=10, n_estimators=80, subsample=0.6;, score=0.994 total time=  51.6s\n",
            "[CV 3/5] END colsample_bytree=0.4, learning_rate=0.1, max_depth=10, n_estimators=80, subsample=0.6;, score=0.995 total time=  51.7s\n",
            "[CV 4/5] END colsample_bytree=0.4, learning_rate=0.1, max_depth=10, n_estimators=80, subsample=0.6;, score=0.993 total time=  50.6s\n",
            "[CV 5/5] END colsample_bytree=0.4, learning_rate=0.1, max_depth=10, n_estimators=80, subsample=0.6;, score=0.994 total time=  52.2s\n",
            "[CV 1/5] END colsample_bytree=0.4, learning_rate=0.1, max_depth=10, n_estimators=100, subsample=0.4;, score=0.993 total time=  53.1s\n",
            "[CV 2/5] END colsample_bytree=0.4, learning_rate=0.1, max_depth=10, n_estimators=100, subsample=0.4;, score=0.993 total time=  54.0s\n",
            "[CV 3/5] END colsample_bytree=0.4, learning_rate=0.1, max_depth=10, n_estimators=100, subsample=0.4;, score=0.994 total time=  52.8s\n",
            "[CV 4/5] END colsample_bytree=0.4, learning_rate=0.1, max_depth=10, n_estimators=100, subsample=0.4;, score=0.992 total time=  51.7s\n",
            "[CV 5/5] END colsample_bytree=0.4, learning_rate=0.1, max_depth=10, n_estimators=100, subsample=0.4;, score=0.994 total time=  51.8s\n",
            "[CV 1/5] END colsample_bytree=0.4, learning_rate=0.1, max_depth=10, n_estimators=100, subsample=0.5;, score=0.994 total time=  57.2s\n",
            "[CV 2/5] END colsample_bytree=0.4, learning_rate=0.1, max_depth=10, n_estimators=100, subsample=0.5;, score=0.994 total time=  57.0s\n",
            "[CV 3/5] END colsample_bytree=0.4, learning_rate=0.1, max_depth=10, n_estimators=100, subsample=0.5;, score=0.995 total time=  58.8s\n",
            "[CV 4/5] END colsample_bytree=0.4, learning_rate=0.1, max_depth=10, n_estimators=100, subsample=0.5;, score=0.993 total time=  56.8s\n",
            "[CV 5/5] END colsample_bytree=0.4, learning_rate=0.1, max_depth=10, n_estimators=100, subsample=0.5;, score=0.995 total time=  56.6s\n",
            "[CV 1/5] END colsample_bytree=0.4, learning_rate=0.1, max_depth=10, n_estimators=100, subsample=0.6;, score=0.994 total time=  59.9s\n",
            "[CV 2/5] END colsample_bytree=0.4, learning_rate=0.1, max_depth=10, n_estimators=100, subsample=0.6;, score=0.994 total time=  59.6s\n",
            "[CV 3/5] END colsample_bytree=0.4, learning_rate=0.1, max_depth=10, n_estimators=100, subsample=0.6;, score=0.995 total time= 1.0min\n",
            "[CV 4/5] END colsample_bytree=0.4, learning_rate=0.1, max_depth=10, n_estimators=100, subsample=0.6;, score=0.993 total time=  58.9s\n",
            "[CV 5/5] END colsample_bytree=0.4, learning_rate=0.1, max_depth=10, n_estimators=100, subsample=0.6;, score=0.995 total time=  59.6s\n",
            "[CV 1/5] END colsample_bytree=0.4, learning_rate=0.1, max_depth=10, n_estimators=150, subsample=0.4;, score=0.993 total time= 1.1min\n",
            "[CV 2/5] END colsample_bytree=0.4, learning_rate=0.1, max_depth=10, n_estimators=150, subsample=0.4;, score=0.993 total time= 1.3min\n",
            "[CV 3/5] END colsample_bytree=0.4, learning_rate=0.1, max_depth=10, n_estimators=150, subsample=0.4;, score=0.994 total time= 1.3min\n",
            "[CV 4/5] END colsample_bytree=0.4, learning_rate=0.1, max_depth=10, n_estimators=150, subsample=0.4;, score=0.993 total time= 1.2min\n",
            "[CV 5/5] END colsample_bytree=0.4, learning_rate=0.1, max_depth=10, n_estimators=150, subsample=0.4;, score=0.995 total time= 1.1min\n",
            "[CV 1/5] END colsample_bytree=0.4, learning_rate=0.1, max_depth=10, n_estimators=150, subsample=0.5;, score=0.994 total time= 1.2min\n",
            "[CV 2/5] END colsample_bytree=0.4, learning_rate=0.1, max_depth=10, n_estimators=150, subsample=0.5;, score=0.994 total time= 1.2min\n",
            "[CV 3/5] END colsample_bytree=0.4, learning_rate=0.1, max_depth=10, n_estimators=150, subsample=0.5;, score=0.995 total time= 1.4min\n",
            "[CV 4/5] END colsample_bytree=0.4, learning_rate=0.1, max_depth=10, n_estimators=150, subsample=0.5;, score=0.993 total time= 1.4min\n",
            "[CV 5/5] END colsample_bytree=0.4, learning_rate=0.1, max_depth=10, n_estimators=150, subsample=0.5;, score=0.995 total time= 1.9min\n",
            "[CV 1/5] END colsample_bytree=0.4, learning_rate=0.1, max_depth=10, n_estimators=150, subsample=0.6;, score=0.993 total time= 1.6min\n",
            "[CV 2/5] END colsample_bytree=0.4, learning_rate=0.1, max_depth=10, n_estimators=150, subsample=0.6;, score=0.993 total time= 1.5min\n",
            "[CV 3/5] END colsample_bytree=0.4, learning_rate=0.1, max_depth=10, n_estimators=150, subsample=0.6;, score=0.995 total time= 1.6min\n",
            "[CV 4/5] END colsample_bytree=0.4, learning_rate=0.1, max_depth=10, n_estimators=150, subsample=0.6;, score=0.993 total time= 1.5min\n",
            "[CV 5/5] END colsample_bytree=0.4, learning_rate=0.1, max_depth=10, n_estimators=150, subsample=0.6;, score=0.995 total time= 1.5min\n",
            "[CV 1/5] END colsample_bytree=0.4, learning_rate=0.1, max_depth=12, n_estimators=80, subsample=0.4;, score=0.993 total time=  54.0s\n",
            "[CV 2/5] END colsample_bytree=0.4, learning_rate=0.1, max_depth=12, n_estimators=80, subsample=0.4;, score=0.993 total time=  54.0s\n",
            "[CV 3/5] END colsample_bytree=0.4, learning_rate=0.1, max_depth=12, n_estimators=80, subsample=0.4;, score=0.994 total time=  54.3s\n",
            "[CV 4/5] END colsample_bytree=0.4, learning_rate=0.1, max_depth=12, n_estimators=80, subsample=0.4;, score=0.992 total time=  52.9s\n",
            "[CV 5/5] END colsample_bytree=0.4, learning_rate=0.1, max_depth=12, n_estimators=80, subsample=0.4;, score=0.995 total time=  53.6s\n",
            "[CV 1/5] END colsample_bytree=0.4, learning_rate=0.1, max_depth=12, n_estimators=80, subsample=0.5;, score=0.993 total time=  59.0s\n",
            "[CV 2/5] END colsample_bytree=0.4, learning_rate=0.1, max_depth=12, n_estimators=80, subsample=0.5;, score=0.994 total time=  58.6s\n",
            "[CV 3/5] END colsample_bytree=0.4, learning_rate=0.1, max_depth=12, n_estimators=80, subsample=0.5;, score=0.996 total time=  58.6s\n",
            "[CV 4/5] END colsample_bytree=0.4, learning_rate=0.1, max_depth=12, n_estimators=80, subsample=0.5;, score=0.993 total time=  58.1s\n",
            "[CV 5/5] END colsample_bytree=0.4, learning_rate=0.1, max_depth=12, n_estimators=80, subsample=0.5;, score=0.996 total time=  57.9s\n",
            "[CV 1/5] END colsample_bytree=0.4, learning_rate=0.1, max_depth=12, n_estimators=80, subsample=0.6;, score=0.994 total time= 1.0min\n",
            "[CV 2/5] END colsample_bytree=0.4, learning_rate=0.1, max_depth=12, n_estimators=80, subsample=0.6;, score=0.994 total time= 1.0min\n",
            "[CV 3/5] END colsample_bytree=0.4, learning_rate=0.1, max_depth=12, n_estimators=80, subsample=0.6;, score=0.994 total time= 1.0min\n",
            "[CV 4/5] END colsample_bytree=0.4, learning_rate=0.1, max_depth=12, n_estimators=80, subsample=0.6;, score=0.993 total time= 1.0min\n",
            "[CV 5/5] END colsample_bytree=0.4, learning_rate=0.1, max_depth=12, n_estimators=80, subsample=0.6;, score=0.994 total time= 1.0min\n",
            "[CV 1/5] END colsample_bytree=0.4, learning_rate=0.1, max_depth=12, n_estimators=100, subsample=0.4;, score=0.991 total time= 1.1min\n",
            "[CV 2/5] END colsample_bytree=0.4, learning_rate=0.1, max_depth=12, n_estimators=100, subsample=0.4;, score=0.993 total time= 1.0min\n",
            "[CV 3/5] END colsample_bytree=0.4, learning_rate=0.1, max_depth=12, n_estimators=100, subsample=0.4;, score=0.993 total time= 1.1min\n",
            "[CV 4/5] END colsample_bytree=0.4, learning_rate=0.1, max_depth=12, n_estimators=100, subsample=0.4;, score=0.992 total time= 1.0min\n",
            "[CV 5/5] END colsample_bytree=0.4, learning_rate=0.1, max_depth=12, n_estimators=100, subsample=0.4;, score=0.995 total time= 1.1min\n",
            "[CV 1/5] END colsample_bytree=0.4, learning_rate=0.1, max_depth=12, n_estimators=100, subsample=0.5;, score=0.993 total time= 1.2min\n",
            "[CV 2/5] END colsample_bytree=0.4, learning_rate=0.1, max_depth=12, n_estimators=100, subsample=0.5;, score=0.994 total time= 1.1min\n",
            "[CV 3/5] END colsample_bytree=0.4, learning_rate=0.1, max_depth=12, n_estimators=100, subsample=0.5;, score=0.995 total time= 1.1min\n",
            "[CV 4/5] END colsample_bytree=0.4, learning_rate=0.1, max_depth=12, n_estimators=100, subsample=0.5;, score=0.993 total time= 1.2min\n",
            "[CV 5/5] END colsample_bytree=0.4, learning_rate=0.1, max_depth=12, n_estimators=100, subsample=0.5;, score=0.996 total time= 1.1min\n",
            "[CV 1/5] END colsample_bytree=0.4, learning_rate=0.1, max_depth=12, n_estimators=100, subsample=0.6;, score=0.994 total time= 1.2min\n",
            "[CV 2/5] END colsample_bytree=0.4, learning_rate=0.1, max_depth=12, n_estimators=100, subsample=0.6;, score=0.994 total time= 1.2min\n",
            "[CV 3/5] END colsample_bytree=0.4, learning_rate=0.1, max_depth=12, n_estimators=100, subsample=0.6;, score=0.994 total time= 1.2min\n",
            "[CV 4/5] END colsample_bytree=0.4, learning_rate=0.1, max_depth=12, n_estimators=100, subsample=0.6;, score=0.993 total time= 1.2min\n",
            "[CV 5/5] END colsample_bytree=0.4, learning_rate=0.1, max_depth=12, n_estimators=100, subsample=0.6;, score=0.994 total time= 1.2min\n",
            "[CV 1/5] END colsample_bytree=0.4, learning_rate=0.1, max_depth=12, n_estimators=150, subsample=0.4;, score=0.992 total time= 1.4min\n",
            "[CV 2/5] END colsample_bytree=0.4, learning_rate=0.1, max_depth=12, n_estimators=150, subsample=0.4;, score=0.993 total time= 1.4min\n",
            "[CV 3/5] END colsample_bytree=0.4, learning_rate=0.1, max_depth=12, n_estimators=150, subsample=0.4;, score=0.993 total time= 1.4min\n",
            "[CV 4/5] END colsample_bytree=0.4, learning_rate=0.1, max_depth=12, n_estimators=150, subsample=0.4;, score=0.993 total time= 1.3min\n",
            "[CV 5/5] END colsample_bytree=0.4, learning_rate=0.1, max_depth=12, n_estimators=150, subsample=0.4;, score=0.995 total time= 1.4min\n",
            "[CV 1/5] END colsample_bytree=0.4, learning_rate=0.1, max_depth=12, n_estimators=150, subsample=0.5;, score=0.994 total time= 1.5min\n",
            "[CV 2/5] END colsample_bytree=0.4, learning_rate=0.1, max_depth=12, n_estimators=150, subsample=0.5;, score=0.994 total time= 1.5min\n",
            "[CV 3/5] END colsample_bytree=0.4, learning_rate=0.1, max_depth=12, n_estimators=150, subsample=0.5;, score=0.995 total time= 1.5min\n",
            "[CV 4/5] END colsample_bytree=0.4, learning_rate=0.1, max_depth=12, n_estimators=150, subsample=0.5;, score=0.993 total time= 1.5min\n",
            "[CV 5/5] END colsample_bytree=0.4, learning_rate=0.1, max_depth=12, n_estimators=150, subsample=0.5;, score=0.996 total time= 1.5min\n",
            "[CV 1/5] END colsample_bytree=0.4, learning_rate=0.1, max_depth=12, n_estimators=150, subsample=0.6;, score=0.994 total time= 1.5min\n",
            "[CV 2/5] END colsample_bytree=0.4, learning_rate=0.1, max_depth=12, n_estimators=150, subsample=0.6;, score=0.993 total time= 1.5min\n",
            "[CV 3/5] END colsample_bytree=0.4, learning_rate=0.1, max_depth=12, n_estimators=150, subsample=0.6;, score=0.995 total time= 1.5min\n",
            "[CV 4/5] END colsample_bytree=0.4, learning_rate=0.1, max_depth=12, n_estimators=150, subsample=0.6;, score=0.993 total time= 1.5min\n",
            "[CV 5/5] END colsample_bytree=0.4, learning_rate=0.1, max_depth=12, n_estimators=150, subsample=0.6;, score=0.995 total time= 1.6min\n",
            "[CV 1/5] END colsample_bytree=0.4, learning_rate=0.15, max_depth=8, n_estimators=80, subsample=0.4;, score=0.993 total time=  48.6s\n",
            "[CV 2/5] END colsample_bytree=0.4, learning_rate=0.15, max_depth=8, n_estimators=80, subsample=0.4;, score=0.993 total time=  47.1s\n",
            "[CV 3/5] END colsample_bytree=0.4, learning_rate=0.15, max_depth=8, n_estimators=80, subsample=0.4;, score=0.997 total time=  48.0s\n",
            "[CV 4/5] END colsample_bytree=0.4, learning_rate=0.15, max_depth=8, n_estimators=80, subsample=0.4;, score=0.994 total time=  46.4s\n",
            "[CV 5/5] END colsample_bytree=0.4, learning_rate=0.15, max_depth=8, n_estimators=80, subsample=0.4;, score=0.994 total time=  47.7s\n",
            "[CV 1/5] END colsample_bytree=0.4, learning_rate=0.15, max_depth=8, n_estimators=80, subsample=0.5;, score=0.994 total time=  51.3s\n",
            "[CV 2/5] END colsample_bytree=0.4, learning_rate=0.15, max_depth=8, n_estimators=80, subsample=0.5;, score=0.994 total time=  50.8s\n",
            "[CV 3/5] END colsample_bytree=0.4, learning_rate=0.15, max_depth=8, n_estimators=80, subsample=0.5;, score=0.995 total time=  50.7s\n",
            "[CV 4/5] END colsample_bytree=0.4, learning_rate=0.15, max_depth=8, n_estimators=80, subsample=0.5;, score=0.993 total time=  49.7s\n",
            "[CV 5/5] END colsample_bytree=0.4, learning_rate=0.15, max_depth=8, n_estimators=80, subsample=0.5;, score=0.997 total time=  50.7s\n",
            "[CV 1/5] END colsample_bytree=0.4, learning_rate=0.15, max_depth=8, n_estimators=80, subsample=0.6;, score=0.993 total time=  53.8s\n",
            "[CV 2/5] END colsample_bytree=0.4, learning_rate=0.15, max_depth=8, n_estimators=80, subsample=0.6;, score=0.994 total time=  52.3s\n",
            "[CV 3/5] END colsample_bytree=0.4, learning_rate=0.15, max_depth=8, n_estimators=80, subsample=0.6;, score=0.995 total time=  52.6s\n",
            "[CV 4/5] END colsample_bytree=0.4, learning_rate=0.15, max_depth=8, n_estimators=80, subsample=0.6;, score=0.993 total time=  52.3s\n",
            "[CV 5/5] END colsample_bytree=0.4, learning_rate=0.15, max_depth=8, n_estimators=80, subsample=0.6;, score=0.995 total time=  51.9s\n",
            "[CV 1/5] END colsample_bytree=0.4, learning_rate=0.15, max_depth=8, n_estimators=100, subsample=0.4;, score=0.993 total time=  54.5s\n",
            "[CV 2/5] END colsample_bytree=0.4, learning_rate=0.15, max_depth=8, n_estimators=100, subsample=0.4;, score=0.993 total time=  54.5s\n",
            "[CV 3/5] END colsample_bytree=0.4, learning_rate=0.15, max_depth=8, n_estimators=100, subsample=0.4;, score=0.997 total time=  54.3s\n",
            "[CV 4/5] END colsample_bytree=0.4, learning_rate=0.15, max_depth=8, n_estimators=100, subsample=0.4;, score=0.994 total time=  53.0s\n",
            "[CV 5/5] END colsample_bytree=0.4, learning_rate=0.15, max_depth=8, n_estimators=100, subsample=0.4;, score=0.995 total time=  54.2s\n",
            "[CV 1/5] END colsample_bytree=0.4, learning_rate=0.15, max_depth=8, n_estimators=100, subsample=0.5;, score=0.994 total time=  58.9s\n",
            "[CV 2/5] END colsample_bytree=0.4, learning_rate=0.15, max_depth=8, n_estimators=100, subsample=0.5;, score=0.995 total time=  58.2s\n",
            "[CV 3/5] END colsample_bytree=0.4, learning_rate=0.15, max_depth=8, n_estimators=100, subsample=0.5;, score=0.995 total time=  58.0s\n",
            "[CV 4/5] END colsample_bytree=0.4, learning_rate=0.15, max_depth=8, n_estimators=100, subsample=0.5;, score=0.993 total time=  56.7s\n",
            "[CV 5/5] END colsample_bytree=0.4, learning_rate=0.15, max_depth=8, n_estimators=100, subsample=0.5;, score=0.997 total time=  58.1s\n",
            "[CV 1/5] END colsample_bytree=0.4, learning_rate=0.15, max_depth=8, n_estimators=100, subsample=0.6;, score=0.994 total time= 1.0min\n",
            "[CV 2/5] END colsample_bytree=0.4, learning_rate=0.15, max_depth=8, n_estimators=100, subsample=0.6;, score=0.994 total time=  58.8s\n",
            "[CV 3/5] END colsample_bytree=0.4, learning_rate=0.15, max_depth=8, n_estimators=100, subsample=0.6;, score=0.995 total time=  51.4s\n",
            "[CV 4/5] END colsample_bytree=0.4, learning_rate=0.15, max_depth=8, n_estimators=100, subsample=0.6;, score=0.994 total time=  50.8s\n",
            "[CV 5/5] END colsample_bytree=0.4, learning_rate=0.15, max_depth=8, n_estimators=100, subsample=0.6;, score=0.995 total time=  50.6s\n",
            "[CV 1/5] END colsample_bytree=0.4, learning_rate=0.15, max_depth=8, n_estimators=150, subsample=0.4;, score=0.993 total time=  59.9s\n",
            "[CV 2/5] END colsample_bytree=0.4, learning_rate=0.15, max_depth=8, n_estimators=150, subsample=0.4;, score=0.993 total time= 1.0min\n",
            "[CV 3/5] END colsample_bytree=0.4, learning_rate=0.15, max_depth=8, n_estimators=150, subsample=0.4;, score=0.997 total time= 1.0min\n",
            "[CV 4/5] END colsample_bytree=0.4, learning_rate=0.15, max_depth=8, n_estimators=150, subsample=0.4;, score=0.994 total time= 1.1min\n",
            "[CV 5/5] END colsample_bytree=0.4, learning_rate=0.15, max_depth=8, n_estimators=150, subsample=0.4;, score=0.996 total time=  59.9s\n",
            "[CV 1/5] END colsample_bytree=0.4, learning_rate=0.15, max_depth=8, n_estimators=150, subsample=0.5;, score=0.993 total time= 1.1min\n",
            "[CV 2/5] END colsample_bytree=0.4, learning_rate=0.15, max_depth=8, n_estimators=150, subsample=0.5;, score=0.994 total time= 1.1min\n",
            "[CV 3/5] END colsample_bytree=0.4, learning_rate=0.15, max_depth=8, n_estimators=150, subsample=0.5;, score=0.995 total time= 1.1min\n",
            "[CV 4/5] END colsample_bytree=0.4, learning_rate=0.15, max_depth=8, n_estimators=150, subsample=0.5;, score=0.993 total time= 1.0min\n",
            "[CV 5/5] END colsample_bytree=0.4, learning_rate=0.15, max_depth=8, n_estimators=150, subsample=0.5;, score=0.997 total time= 1.1min\n",
            "[CV 1/5] END colsample_bytree=0.4, learning_rate=0.15, max_depth=8, n_estimators=150, subsample=0.6;, score=0.993 total time= 1.1min\n",
            "[CV 2/5] END colsample_bytree=0.4, learning_rate=0.15, max_depth=8, n_estimators=150, subsample=0.6;, score=0.994 total time= 1.1min\n",
            "[CV 3/5] END colsample_bytree=0.4, learning_rate=0.15, max_depth=8, n_estimators=150, subsample=0.6;, score=0.995 total time= 1.1min\n",
            "[CV 4/5] END colsample_bytree=0.4, learning_rate=0.15, max_depth=8, n_estimators=150, subsample=0.6;, score=0.994 total time= 1.1min\n",
            "[CV 5/5] END colsample_bytree=0.4, learning_rate=0.15, max_depth=8, n_estimators=150, subsample=0.6;, score=0.995 total time= 1.1min\n",
            "[CV 1/5] END colsample_bytree=0.4, learning_rate=0.15, max_depth=10, n_estimators=80, subsample=0.4;, score=0.993 total time=  41.7s\n",
            "[CV 2/5] END colsample_bytree=0.4, learning_rate=0.15, max_depth=10, n_estimators=80, subsample=0.4;, score=0.992 total time=  41.6s\n",
            "[CV 3/5] END colsample_bytree=0.4, learning_rate=0.15, max_depth=10, n_estimators=80, subsample=0.4;, score=0.995 total time=  41.7s\n",
            "[CV 4/5] END colsample_bytree=0.4, learning_rate=0.15, max_depth=10, n_estimators=80, subsample=0.4;, score=0.993 total time=  41.4s\n",
            "[CV 5/5] END colsample_bytree=0.4, learning_rate=0.15, max_depth=10, n_estimators=80, subsample=0.4;, score=0.995 total time=  41.2s\n",
            "[CV 1/5] END colsample_bytree=0.4, learning_rate=0.15, max_depth=10, n_estimators=80, subsample=0.5;, score=0.993 total time=  45.8s\n",
            "[CV 2/5] END colsample_bytree=0.4, learning_rate=0.15, max_depth=10, n_estimators=80, subsample=0.5;, score=0.994 total time=  45.1s\n",
            "[CV 3/5] END colsample_bytree=0.4, learning_rate=0.15, max_depth=10, n_estimators=80, subsample=0.5;, score=0.996 total time=  44.9s\n",
            "[CV 4/5] END colsample_bytree=0.4, learning_rate=0.15, max_depth=10, n_estimators=80, subsample=0.5;, score=0.993 total time=  48.7s\n",
            "[CV 5/5] END colsample_bytree=0.4, learning_rate=0.15, max_depth=10, n_estimators=80, subsample=0.5;, score=0.995 total time=  52.6s\n",
            "[CV 1/5] END colsample_bytree=0.4, learning_rate=0.15, max_depth=10, n_estimators=80, subsample=0.6;, score=0.994 total time=  55.6s\n",
            "[CV 2/5] END colsample_bytree=0.4, learning_rate=0.15, max_depth=10, n_estimators=80, subsample=0.6;, score=0.993 total time=  55.1s\n",
            "[CV 3/5] END colsample_bytree=0.4, learning_rate=0.15, max_depth=10, n_estimators=80, subsample=0.6;, score=0.996 total time=  55.0s\n",
            "[CV 4/5] END colsample_bytree=0.4, learning_rate=0.15, max_depth=10, n_estimators=80, subsample=0.6;, score=0.994 total time=  54.5s\n",
            "[CV 5/5] END colsample_bytree=0.4, learning_rate=0.15, max_depth=10, n_estimators=80, subsample=0.6;, score=0.994 total time=  55.1s\n",
            "[CV 1/5] END colsample_bytree=0.4, learning_rate=0.15, max_depth=10, n_estimators=100, subsample=0.4;, score=0.993 total time=  57.5s\n",
            "[CV 2/5] END colsample_bytree=0.4, learning_rate=0.15, max_depth=10, n_estimators=100, subsample=0.4;, score=0.993 total time=  56.7s\n",
            "[CV 3/5] END colsample_bytree=0.4, learning_rate=0.15, max_depth=10, n_estimators=100, subsample=0.4;, score=0.995 total time=  57.2s\n",
            "[CV 4/5] END colsample_bytree=0.4, learning_rate=0.15, max_depth=10, n_estimators=100, subsample=0.4;, score=0.993 total time=  55.9s\n",
            "[CV 5/5] END colsample_bytree=0.4, learning_rate=0.15, max_depth=10, n_estimators=100, subsample=0.4;, score=0.995 total time=  57.5s\n",
            "[CV 1/5] END colsample_bytree=0.4, learning_rate=0.15, max_depth=10, n_estimators=100, subsample=0.5;, score=0.993 total time= 1.0min\n",
            "[CV 2/5] END colsample_bytree=0.4, learning_rate=0.15, max_depth=10, n_estimators=100, subsample=0.5;, score=0.994 total time= 1.0min\n",
            "[CV 3/5] END colsample_bytree=0.4, learning_rate=0.15, max_depth=10, n_estimators=100, subsample=0.5;, score=0.996 total time= 1.0min\n",
            "[CV 4/5] END colsample_bytree=0.4, learning_rate=0.15, max_depth=10, n_estimators=100, subsample=0.5;, score=0.993 total time=  59.8s\n",
            "[CV 5/5] END colsample_bytree=0.4, learning_rate=0.15, max_depth=10, n_estimators=100, subsample=0.5;, score=0.995 total time= 1.0min\n",
            "[CV 1/5] END colsample_bytree=0.4, learning_rate=0.15, max_depth=10, n_estimators=100, subsample=0.6;, score=0.994 total time=  58.3s\n",
            "[CV 2/5] END colsample_bytree=0.4, learning_rate=0.15, max_depth=10, n_estimators=100, subsample=0.6;, score=0.993 total time=  51.6s\n",
            "[CV 3/5] END colsample_bytree=0.4, learning_rate=0.15, max_depth=10, n_estimators=100, subsample=0.6;, score=0.996 total time=  50.8s\n",
            "[CV 4/5] END colsample_bytree=0.4, learning_rate=0.15, max_depth=10, n_estimators=100, subsample=0.6;, score=0.994 total time=  50.1s\n",
            "[CV 5/5] END colsample_bytree=0.4, learning_rate=0.15, max_depth=10, n_estimators=100, subsample=0.6;, score=0.995 total time=  50.9s\n",
            "[CV 1/5] END colsample_bytree=0.4, learning_rate=0.15, max_depth=10, n_estimators=150, subsample=0.4;, score=0.993 total time= 1.0min\n",
            "[CV 2/5] END colsample_bytree=0.4, learning_rate=0.15, max_depth=10, n_estimators=150, subsample=0.4;, score=0.993 total time=  59.5s\n",
            "[CV 3/5] END colsample_bytree=0.4, learning_rate=0.15, max_depth=10, n_estimators=150, subsample=0.4;, score=0.995 total time= 1.0min\n",
            "[CV 4/5] END colsample_bytree=0.4, learning_rate=0.15, max_depth=10, n_estimators=150, subsample=0.4;, score=0.994 total time=  58.0s\n",
            "[CV 5/5] END colsample_bytree=0.4, learning_rate=0.15, max_depth=10, n_estimators=150, subsample=0.4;, score=0.995 total time=  59.4s\n",
            "[CV 1/5] END colsample_bytree=0.4, learning_rate=0.15, max_depth=10, n_estimators=150, subsample=0.5;, score=0.993 total time= 1.1min\n",
            "[CV 2/5] END colsample_bytree=0.4, learning_rate=0.15, max_depth=10, n_estimators=150, subsample=0.5;, score=0.994 total time= 1.1min\n",
            "[CV 3/5] END colsample_bytree=0.4, learning_rate=0.15, max_depth=10, n_estimators=150, subsample=0.5;, score=0.997 total time= 1.1min\n",
            "[CV 4/5] END colsample_bytree=0.4, learning_rate=0.15, max_depth=10, n_estimators=150, subsample=0.5;, score=0.993 total time= 1.0min\n",
            "[CV 5/5] END colsample_bytree=0.4, learning_rate=0.15, max_depth=10, n_estimators=150, subsample=0.5;, score=0.995 total time= 1.1min\n",
            "[CV 1/5] END colsample_bytree=0.4, learning_rate=0.15, max_depth=10, n_estimators=150, subsample=0.6;, score=0.994 total time= 1.1min\n",
            "[CV 2/5] END colsample_bytree=0.4, learning_rate=0.15, max_depth=10, n_estimators=150, subsample=0.6;, score=0.993 total time= 1.1min\n",
            "[CV 3/5] END colsample_bytree=0.4, learning_rate=0.15, max_depth=10, n_estimators=150, subsample=0.6;, score=0.996 total time= 1.1min\n",
            "[CV 4/5] END colsample_bytree=0.4, learning_rate=0.15, max_depth=10, n_estimators=150, subsample=0.6;, score=0.994 total time= 1.1min\n",
            "[CV 5/5] END colsample_bytree=0.4, learning_rate=0.15, max_depth=10, n_estimators=150, subsample=0.6;, score=0.995 total time= 1.1min\n",
            "[CV 1/5] END colsample_bytree=0.4, learning_rate=0.15, max_depth=12, n_estimators=80, subsample=0.4;, score=0.993 total time=  40.9s\n",
            "[CV 2/5] END colsample_bytree=0.4, learning_rate=0.15, max_depth=12, n_estimators=80, subsample=0.4;, score=0.992 total time=  40.4s\n",
            "[CV 3/5] END colsample_bytree=0.4, learning_rate=0.15, max_depth=12, n_estimators=80, subsample=0.4;, score=0.995 total time=  40.7s\n",
            "[CV 4/5] END colsample_bytree=0.4, learning_rate=0.15, max_depth=12, n_estimators=80, subsample=0.4;, score=0.993 total time=  39.6s\n",
            "[CV 5/5] END colsample_bytree=0.4, learning_rate=0.15, max_depth=12, n_estimators=80, subsample=0.4;, score=0.995 total time=  40.6s\n",
            "[CV 1/5] END colsample_bytree=0.4, learning_rate=0.15, max_depth=12, n_estimators=80, subsample=0.5;, score=0.993 total time=  45.2s\n",
            "[CV 2/5] END colsample_bytree=0.4, learning_rate=0.15, max_depth=12, n_estimators=80, subsample=0.5;, score=0.994 total time=  44.8s\n",
            "[CV 3/5] END colsample_bytree=0.4, learning_rate=0.15, max_depth=12, n_estimators=80, subsample=0.5;, score=0.995 total time=  45.5s\n",
            "[CV 4/5] END colsample_bytree=0.4, learning_rate=0.15, max_depth=12, n_estimators=80, subsample=0.5;, score=0.993 total time=  43.1s\n",
            "[CV 5/5] END colsample_bytree=0.4, learning_rate=0.15, max_depth=12, n_estimators=80, subsample=0.5;, score=0.995 total time=  44.1s\n",
            "[CV 1/5] END colsample_bytree=0.4, learning_rate=0.15, max_depth=12, n_estimators=80, subsample=0.6;, score=0.993 total time=  46.6s\n",
            "[CV 2/5] END colsample_bytree=0.4, learning_rate=0.15, max_depth=12, n_estimators=80, subsample=0.6;, score=0.993 total time=  46.2s\n",
            "[CV 3/5] END colsample_bytree=0.4, learning_rate=0.15, max_depth=12, n_estimators=80, subsample=0.6;, score=0.996 total time=  46.0s\n",
            "[CV 4/5] END colsample_bytree=0.4, learning_rate=0.15, max_depth=12, n_estimators=80, subsample=0.6;, score=0.993 total time=  45.4s\n",
            "[CV 5/5] END colsample_bytree=0.4, learning_rate=0.15, max_depth=12, n_estimators=80, subsample=0.6;, score=0.995 total time=  45.4s\n",
            "[CV 1/5] END colsample_bytree=0.4, learning_rate=0.15, max_depth=12, n_estimators=100, subsample=0.4;, score=0.993 total time=  48.6s\n",
            "[CV 2/5] END colsample_bytree=0.4, learning_rate=0.15, max_depth=12, n_estimators=100, subsample=0.4;, score=0.993 total time=  46.7s\n",
            "[CV 3/5] END colsample_bytree=0.4, learning_rate=0.15, max_depth=12, n_estimators=100, subsample=0.4;, score=0.995 total time=  47.7s\n",
            "[CV 4/5] END colsample_bytree=0.4, learning_rate=0.15, max_depth=12, n_estimators=100, subsample=0.4;, score=0.994 total time=  45.7s\n",
            "[CV 5/5] END colsample_bytree=0.4, learning_rate=0.15, max_depth=12, n_estimators=100, subsample=0.4;, score=0.995 total time=  50.5s\n",
            "[CV 1/5] END colsample_bytree=0.4, learning_rate=0.15, max_depth=12, n_estimators=100, subsample=0.5;, score=0.994 total time=  58.4s\n",
            "[CV 2/5] END colsample_bytree=0.4, learning_rate=0.15, max_depth=12, n_estimators=100, subsample=0.5;, score=0.994 total time=  55.9s\n",
            "[CV 3/5] END colsample_bytree=0.4, learning_rate=0.15, max_depth=12, n_estimators=100, subsample=0.5;, score=0.995 total time=  49.6s\n",
            "[CV 4/5] END colsample_bytree=0.4, learning_rate=0.15, max_depth=12, n_estimators=100, subsample=0.5;, score=0.993 total time=  48.5s\n",
            "[CV 5/5] END colsample_bytree=0.4, learning_rate=0.15, max_depth=12, n_estimators=100, subsample=0.5;, score=0.995 total time=  49.3s\n",
            "[CV 1/5] END colsample_bytree=0.4, learning_rate=0.15, max_depth=12, n_estimators=100, subsample=0.6;, score=0.993 total time=  52.0s\n",
            "[CV 2/5] END colsample_bytree=0.4, learning_rate=0.15, max_depth=12, n_estimators=100, subsample=0.6;, score=0.993 total time=  51.2s\n",
            "[CV 3/5] END colsample_bytree=0.4, learning_rate=0.15, max_depth=12, n_estimators=100, subsample=0.6;, score=0.996 total time=  51.1s\n",
            "[CV 4/5] END colsample_bytree=0.4, learning_rate=0.15, max_depth=12, n_estimators=100, subsample=0.6;, score=0.994 total time=  50.4s\n",
            "[CV 5/5] END colsample_bytree=0.4, learning_rate=0.15, max_depth=12, n_estimators=100, subsample=0.6;, score=0.995 total time=  51.2s\n",
            "[CV 1/5] END colsample_bytree=0.4, learning_rate=0.15, max_depth=12, n_estimators=150, subsample=0.4;, score=0.993 total time=  59.1s\n",
            "[CV 2/5] END colsample_bytree=0.4, learning_rate=0.15, max_depth=12, n_estimators=150, subsample=0.4;, score=0.993 total time=  59.3s\n",
            "[CV 3/5] END colsample_bytree=0.4, learning_rate=0.15, max_depth=12, n_estimators=150, subsample=0.4;, score=0.996 total time=  59.4s\n",
            "[CV 4/5] END colsample_bytree=0.4, learning_rate=0.15, max_depth=12, n_estimators=150, subsample=0.4;, score=0.994 total time= 1.0min\n",
            "[CV 5/5] END colsample_bytree=0.4, learning_rate=0.15, max_depth=12, n_estimators=150, subsample=0.4;, score=0.996 total time=  58.8s\n",
            "[CV 1/5] END colsample_bytree=0.4, learning_rate=0.15, max_depth=12, n_estimators=150, subsample=0.5;, score=0.993 total time= 1.1min\n",
            "[CV 2/5] END colsample_bytree=0.4, learning_rate=0.15, max_depth=12, n_estimators=150, subsample=0.5;, score=0.994 total time= 1.0min\n",
            "[CV 3/5] END colsample_bytree=0.4, learning_rate=0.15, max_depth=12, n_estimators=150, subsample=0.5;, score=0.995 total time= 1.1min\n",
            "[CV 4/5] END colsample_bytree=0.4, learning_rate=0.15, max_depth=12, n_estimators=150, subsample=0.5;, score=0.993 total time= 1.1min\n",
            "[CV 5/5] END colsample_bytree=0.4, learning_rate=0.15, max_depth=12, n_estimators=150, subsample=0.5;, score=0.995 total time= 1.1min\n",
            "[CV 1/5] END colsample_bytree=0.4, learning_rate=0.15, max_depth=12, n_estimators=150, subsample=0.6;, score=0.993 total time= 1.2min\n",
            "[CV 2/5] END colsample_bytree=0.4, learning_rate=0.15, max_depth=12, n_estimators=150, subsample=0.6;, score=0.993 total time= 1.2min\n",
            "[CV 3/5] END colsample_bytree=0.4, learning_rate=0.15, max_depth=12, n_estimators=150, subsample=0.6;, score=0.996 total time= 1.2min\n",
            "[CV 4/5] END colsample_bytree=0.4, learning_rate=0.15, max_depth=12, n_estimators=150, subsample=0.6;, score=0.994 total time= 1.2min\n",
            "[CV 5/5] END colsample_bytree=0.4, learning_rate=0.15, max_depth=12, n_estimators=150, subsample=0.6;, score=0.995 total time= 1.1min\n",
            "[CV 1/5] END colsample_bytree=0.4, learning_rate=0.2, max_depth=8, n_estimators=80, subsample=0.4;, score=0.993 total time=  38.1s\n",
            "[CV 2/5] END colsample_bytree=0.4, learning_rate=0.2, max_depth=8, n_estimators=80, subsample=0.4;, score=0.993 total time=  36.6s\n",
            "[CV 3/5] END colsample_bytree=0.4, learning_rate=0.2, max_depth=8, n_estimators=80, subsample=0.4;, score=0.995 total time=  37.4s\n",
            "[CV 4/5] END colsample_bytree=0.4, learning_rate=0.2, max_depth=8, n_estimators=80, subsample=0.4;, score=0.992 total time=  37.4s\n",
            "[CV 5/5] END colsample_bytree=0.4, learning_rate=0.2, max_depth=8, n_estimators=80, subsample=0.4;, score=0.995 total time=  36.0s\n",
            "[CV 1/5] END colsample_bytree=0.4, learning_rate=0.2, max_depth=8, n_estimators=80, subsample=0.5;, score=0.995 total time=  38.8s\n",
            "[CV 2/5] END colsample_bytree=0.4, learning_rate=0.2, max_depth=8, n_estimators=80, subsample=0.5;, score=0.994 total time=  38.5s\n",
            "[CV 3/5] END colsample_bytree=0.4, learning_rate=0.2, max_depth=8, n_estimators=80, subsample=0.5;, score=0.996 total time=  38.8s\n",
            "[CV 4/5] END colsample_bytree=0.4, learning_rate=0.2, max_depth=8, n_estimators=80, subsample=0.5;, score=0.993 total time=  37.7s\n",
            "[CV 5/5] END colsample_bytree=0.4, learning_rate=0.2, max_depth=8, n_estimators=80, subsample=0.5;, score=0.997 total time=  38.7s\n",
            "[CV 1/5] END colsample_bytree=0.4, learning_rate=0.2, max_depth=8, n_estimators=80, subsample=0.6;, score=0.994 total time=  40.4s\n",
            "[CV 2/5] END colsample_bytree=0.4, learning_rate=0.2, max_depth=8, n_estimators=80, subsample=0.6;, score=0.993 total time=  39.4s\n",
            "[CV 3/5] END colsample_bytree=0.4, learning_rate=0.2, max_depth=8, n_estimators=80, subsample=0.6;, score=0.995 total time=  39.4s\n",
            "[CV 4/5] END colsample_bytree=0.4, learning_rate=0.2, max_depth=8, n_estimators=80, subsample=0.6;, score=0.994 total time=  38.9s\n",
            "[CV 5/5] END colsample_bytree=0.4, learning_rate=0.2, max_depth=8, n_estimators=80, subsample=0.6;, score=0.995 total time=  39.7s\n",
            "[CV 1/5] END colsample_bytree=0.4, learning_rate=0.2, max_depth=8, n_estimators=100, subsample=0.4;, score=0.991 total time=  41.5s\n",
            "[CV 2/5] END colsample_bytree=0.4, learning_rate=0.2, max_depth=8, n_estimators=100, subsample=0.4;, score=0.994 total time=  40.8s\n",
            "[CV 3/5] END colsample_bytree=0.4, learning_rate=0.2, max_depth=8, n_estimators=100, subsample=0.4;, score=0.995 total time=  40.7s\n",
            "[CV 4/5] END colsample_bytree=0.4, learning_rate=0.2, max_depth=8, n_estimators=100, subsample=0.4;, score=0.993 total time=  40.1s\n",
            "[CV 5/5] END colsample_bytree=0.4, learning_rate=0.2, max_depth=8, n_estimators=100, subsample=0.4;, score=0.995 total time=  40.7s\n",
            "[CV 1/5] END colsample_bytree=0.4, learning_rate=0.2, max_depth=8, n_estimators=100, subsample=0.5;, score=0.994 total time=  44.1s\n",
            "[CV 2/5] END colsample_bytree=0.4, learning_rate=0.2, max_depth=8, n_estimators=100, subsample=0.5;, score=0.994 total time=  43.3s\n",
            "[CV 3/5] END colsample_bytree=0.4, learning_rate=0.2, max_depth=8, n_estimators=100, subsample=0.5;, score=0.996 total time=  43.8s\n",
            "[CV 4/5] END colsample_bytree=0.4, learning_rate=0.2, max_depth=8, n_estimators=100, subsample=0.5;, score=0.993 total time=  42.7s\n",
            "[CV 5/5] END colsample_bytree=0.4, learning_rate=0.2, max_depth=8, n_estimators=100, subsample=0.5;, score=0.997 total time=  43.9s\n",
            "[CV 1/5] END colsample_bytree=0.4, learning_rate=0.2, max_depth=8, n_estimators=100, subsample=0.6;, score=0.994 total time=  45.6s\n",
            "[CV 2/5] END colsample_bytree=0.4, learning_rate=0.2, max_depth=8, n_estimators=100, subsample=0.6;, score=0.993 total time=  44.6s\n",
            "[CV 3/5] END colsample_bytree=0.4, learning_rate=0.2, max_depth=8, n_estimators=100, subsample=0.6;, score=0.995 total time=  44.4s\n",
            "[CV 4/5] END colsample_bytree=0.4, learning_rate=0.2, max_depth=8, n_estimators=100, subsample=0.6;, score=0.994 total time=  44.1s\n",
            "[CV 5/5] END colsample_bytree=0.4, learning_rate=0.2, max_depth=8, n_estimators=100, subsample=0.6;, score=0.995 total time=  44.9s\n",
            "[CV 1/5] END colsample_bytree=0.4, learning_rate=0.2, max_depth=8, n_estimators=150, subsample=0.4;, score=0.991 total time=  53.2s\n",
            "[CV 2/5] END colsample_bytree=0.4, learning_rate=0.2, max_depth=8, n_estimators=150, subsample=0.4;, score=0.994 total time=  53.4s\n",
            "[CV 3/5] END colsample_bytree=0.4, learning_rate=0.2, max_depth=8, n_estimators=150, subsample=0.4;, score=0.995 total time=  53.4s\n",
            "[CV 4/5] END colsample_bytree=0.4, learning_rate=0.2, max_depth=8, n_estimators=150, subsample=0.4;, score=0.993 total time=  52.6s\n",
            "[CV 5/5] END colsample_bytree=0.4, learning_rate=0.2, max_depth=8, n_estimators=150, subsample=0.4;, score=0.995 total time=  54.7s\n",
            "[CV 1/5] END colsample_bytree=0.4, learning_rate=0.2, max_depth=8, n_estimators=150, subsample=0.5;, score=0.994 total time=  57.6s\n",
            "[CV 2/5] END colsample_bytree=0.4, learning_rate=0.2, max_depth=8, n_estimators=150, subsample=0.5;, score=0.995 total time=  56.3s\n",
            "[CV 3/5] END colsample_bytree=0.4, learning_rate=0.2, max_depth=8, n_estimators=150, subsample=0.5;, score=0.996 total time=  57.3s\n",
            "[CV 4/5] END colsample_bytree=0.4, learning_rate=0.2, max_depth=8, n_estimators=150, subsample=0.5;, score=0.993 total time=  55.8s\n",
            "[CV 5/5] END colsample_bytree=0.4, learning_rate=0.2, max_depth=8, n_estimators=150, subsample=0.5;, score=0.997 total time=  57.2s\n",
            "[CV 1/5] END colsample_bytree=0.4, learning_rate=0.2, max_depth=8, n_estimators=150, subsample=0.6;, score=0.993 total time= 1.0min\n",
            "[CV 2/5] END colsample_bytree=0.4, learning_rate=0.2, max_depth=8, n_estimators=150, subsample=0.6;, score=0.993 total time=  58.0s\n",
            "[CV 3/5] END colsample_bytree=0.4, learning_rate=0.2, max_depth=8, n_estimators=150, subsample=0.6;, score=0.996 total time=  57.9s\n",
            "[CV 4/5] END colsample_bytree=0.4, learning_rate=0.2, max_depth=8, n_estimators=150, subsample=0.6;, score=0.994 total time=  57.3s\n",
            "[CV 5/5] END colsample_bytree=0.4, learning_rate=0.2, max_depth=8, n_estimators=150, subsample=0.6;, score=0.996 total time=  58.5s\n",
            "[CV 1/5] END colsample_bytree=0.4, learning_rate=0.2, max_depth=10, n_estimators=80, subsample=0.4;, score=0.993 total time=  37.2s\n",
            "[CV 2/5] END colsample_bytree=0.4, learning_rate=0.2, max_depth=10, n_estimators=80, subsample=0.4;, score=0.993 total time=  36.8s\n",
            "[CV 3/5] END colsample_bytree=0.4, learning_rate=0.2, max_depth=10, n_estimators=80, subsample=0.4;, score=0.995 total time=  37.2s\n",
            "[CV 4/5] END colsample_bytree=0.4, learning_rate=0.2, max_depth=10, n_estimators=80, subsample=0.4;, score=0.992 total time=  36.1s\n",
            "[CV 5/5] END colsample_bytree=0.4, learning_rate=0.2, max_depth=10, n_estimators=80, subsample=0.4;, score=0.994 total time=  37.1s\n",
            "[CV 1/5] END colsample_bytree=0.4, learning_rate=0.2, max_depth=10, n_estimators=80, subsample=0.5;, score=0.995 total time=  40.1s\n",
            "[CV 2/5] END colsample_bytree=0.4, learning_rate=0.2, max_depth=10, n_estimators=80, subsample=0.5;, score=0.993 total time=  39.8s\n",
            "[CV 3/5] END colsample_bytree=0.4, learning_rate=0.2, max_depth=10, n_estimators=80, subsample=0.5;, score=0.995 total time=  40.2s\n",
            "[CV 4/5] END colsample_bytree=0.4, learning_rate=0.2, max_depth=10, n_estimators=80, subsample=0.5;, score=0.993 total time=  39.0s\n",
            "[CV 5/5] END colsample_bytree=0.4, learning_rate=0.2, max_depth=10, n_estimators=80, subsample=0.5;, score=0.997 total time=  39.6s\n",
            "[CV 1/5] END colsample_bytree=0.4, learning_rate=0.2, max_depth=10, n_estimators=80, subsample=0.6;, score=0.995 total time=  41.4s\n",
            "[CV 2/5] END colsample_bytree=0.4, learning_rate=0.2, max_depth=10, n_estimators=80, subsample=0.6;, score=0.993 total time=  40.8s\n",
            "[CV 3/5] END colsample_bytree=0.4, learning_rate=0.2, max_depth=10, n_estimators=80, subsample=0.6;, score=0.996 total time=  40.9s\n",
            "[CV 4/5] END colsample_bytree=0.4, learning_rate=0.2, max_depth=10, n_estimators=80, subsample=0.6;, score=0.994 total time=  40.1s\n",
            "[CV 5/5] END colsample_bytree=0.4, learning_rate=0.2, max_depth=10, n_estimators=80, subsample=0.6;, score=0.995 total time=  40.7s\n",
            "[CV 1/5] END colsample_bytree=0.4, learning_rate=0.2, max_depth=10, n_estimators=100, subsample=0.4;, score=0.993 total time=  42.9s\n",
            "[CV 2/5] END colsample_bytree=0.4, learning_rate=0.2, max_depth=10, n_estimators=100, subsample=0.4;, score=0.994 total time=  41.8s\n",
            "[CV 3/5] END colsample_bytree=0.4, learning_rate=0.2, max_depth=10, n_estimators=100, subsample=0.4;, score=0.995 total time=  42.5s\n",
            "[CV 4/5] END colsample_bytree=0.4, learning_rate=0.2, max_depth=10, n_estimators=100, subsample=0.4;, score=0.992 total time=  41.2s\n",
            "[CV 5/5] END colsample_bytree=0.4, learning_rate=0.2, max_depth=10, n_estimators=100, subsample=0.4;, score=0.995 total time=  42.2s\n",
            "[CV 1/5] END colsample_bytree=0.4, learning_rate=0.2, max_depth=10, n_estimators=100, subsample=0.5;, score=0.995 total time=  45.8s\n",
            "[CV 2/5] END colsample_bytree=0.4, learning_rate=0.2, max_depth=10, n_estimators=100, subsample=0.5;, score=0.993 total time=  45.3s\n",
            "[CV 3/5] END colsample_bytree=0.4, learning_rate=0.2, max_depth=10, n_estimators=100, subsample=0.5;, score=0.995 total time=  47.0s\n",
            "[CV 4/5] END colsample_bytree=0.4, learning_rate=0.2, max_depth=10, n_estimators=100, subsample=0.5;, score=0.992 total time=  44.7s\n",
            "[CV 5/5] END colsample_bytree=0.4, learning_rate=0.2, max_depth=10, n_estimators=100, subsample=0.5;, score=0.997 total time=  45.0s\n",
            "[CV 1/5] END colsample_bytree=0.4, learning_rate=0.2, max_depth=10, n_estimators=100, subsample=0.6;, score=0.994 total time=  47.1s\n",
            "[CV 2/5] END colsample_bytree=0.4, learning_rate=0.2, max_depth=10, n_estimators=100, subsample=0.6;, score=0.993 total time=  46.7s\n",
            "[CV 3/5] END colsample_bytree=0.4, learning_rate=0.2, max_depth=10, n_estimators=100, subsample=0.6;, score=0.997 total time=  46.7s\n",
            "[CV 4/5] END colsample_bytree=0.4, learning_rate=0.2, max_depth=10, n_estimators=100, subsample=0.6;, score=0.994 total time=  46.1s\n",
            "[CV 5/5] END colsample_bytree=0.4, learning_rate=0.2, max_depth=10, n_estimators=100, subsample=0.6;, score=0.995 total time=  46.4s\n",
            "[CV 1/5] END colsample_bytree=0.4, learning_rate=0.2, max_depth=10, n_estimators=150, subsample=0.4;, score=0.993 total time=  54.5s\n",
            "[CV 2/5] END colsample_bytree=0.4, learning_rate=0.2, max_depth=10, n_estimators=150, subsample=0.4;, score=0.994 total time=  53.7s\n",
            "[CV 3/5] END colsample_bytree=0.4, learning_rate=0.2, max_depth=10, n_estimators=150, subsample=0.4;, score=0.995 total time=  54.1s\n",
            "[CV 4/5] END colsample_bytree=0.4, learning_rate=0.2, max_depth=10, n_estimators=150, subsample=0.4;, score=0.993 total time=  52.9s\n",
            "[CV 5/5] END colsample_bytree=0.4, learning_rate=0.2, max_depth=10, n_estimators=150, subsample=0.4;, score=0.995 total time=  54.4s\n",
            "[CV 1/5] END colsample_bytree=0.4, learning_rate=0.2, max_depth=10, n_estimators=150, subsample=0.5;, score=0.995 total time=  58.6s\n",
            "[CV 2/5] END colsample_bytree=0.4, learning_rate=0.2, max_depth=10, n_estimators=150, subsample=0.5;, score=0.993 total time=  57.2s\n",
            "[CV 3/5] END colsample_bytree=0.4, learning_rate=0.2, max_depth=10, n_estimators=150, subsample=0.5;, score=0.995 total time=  57.5s\n",
            "[CV 4/5] END colsample_bytree=0.4, learning_rate=0.2, max_depth=10, n_estimators=150, subsample=0.5;, score=0.993 total time=  56.6s\n",
            "[CV 5/5] END colsample_bytree=0.4, learning_rate=0.2, max_depth=10, n_estimators=150, subsample=0.5;, score=0.997 total time=  58.0s\n",
            "[CV 1/5] END colsample_bytree=0.4, learning_rate=0.2, max_depth=10, n_estimators=150, subsample=0.6;, score=0.995 total time= 1.0min\n",
            "[CV 2/5] END colsample_bytree=0.4, learning_rate=0.2, max_depth=10, n_estimators=150, subsample=0.6;, score=0.993 total time=  59.5s\n",
            "[CV 3/5] END colsample_bytree=0.4, learning_rate=0.2, max_depth=10, n_estimators=150, subsample=0.6;, score=0.997 total time=  59.6s\n",
            "[CV 4/5] END colsample_bytree=0.4, learning_rate=0.2, max_depth=10, n_estimators=150, subsample=0.6;, score=0.994 total time=  58.1s\n",
            "[CV 5/5] END colsample_bytree=0.4, learning_rate=0.2, max_depth=10, n_estimators=150, subsample=0.6;, score=0.995 total time=  59.0s\n",
            "[CV 1/5] END colsample_bytree=0.4, learning_rate=0.2, max_depth=12, n_estimators=80, subsample=0.4;, score=0.992 total time=  37.2s\n",
            "[CV 2/5] END colsample_bytree=0.4, learning_rate=0.2, max_depth=12, n_estimators=80, subsample=0.4;, score=0.993 total time=  36.7s\n",
            "[CV 3/5] END colsample_bytree=0.4, learning_rate=0.2, max_depth=12, n_estimators=80, subsample=0.4;, score=0.995 total time=  37.2s\n",
            "[CV 4/5] END colsample_bytree=0.4, learning_rate=0.2, max_depth=12, n_estimators=80, subsample=0.4;, score=0.992 total time=  36.4s\n",
            "[CV 5/5] END colsample_bytree=0.4, learning_rate=0.2, max_depth=12, n_estimators=80, subsample=0.4;, score=0.995 total time=  37.0s\n",
            "[CV 1/5] END colsample_bytree=0.4, learning_rate=0.2, max_depth=12, n_estimators=80, subsample=0.5;, score=0.995 total time=  40.4s\n",
            "[CV 2/5] END colsample_bytree=0.4, learning_rate=0.2, max_depth=12, n_estimators=80, subsample=0.5;, score=0.993 total time=  39.6s\n",
            "[CV 3/5] END colsample_bytree=0.4, learning_rate=0.2, max_depth=12, n_estimators=80, subsample=0.5;, score=0.995 total time=  40.1s\n",
            "[CV 4/5] END colsample_bytree=0.4, learning_rate=0.2, max_depth=12, n_estimators=80, subsample=0.5;, score=0.993 total time=  38.9s\n",
            "[CV 5/5] END colsample_bytree=0.4, learning_rate=0.2, max_depth=12, n_estimators=80, subsample=0.5;, score=0.997 total time=  39.6s\n",
            "[CV 1/5] END colsample_bytree=0.4, learning_rate=0.2, max_depth=12, n_estimators=80, subsample=0.6;, score=0.994 total time=  41.7s\n",
            "[CV 2/5] END colsample_bytree=0.4, learning_rate=0.2, max_depth=12, n_estimators=80, subsample=0.6;, score=0.993 total time=  41.3s\n",
            "[CV 3/5] END colsample_bytree=0.4, learning_rate=0.2, max_depth=12, n_estimators=80, subsample=0.6;, score=0.997 total time=  41.0s\n",
            "[CV 4/5] END colsample_bytree=0.4, learning_rate=0.2, max_depth=12, n_estimators=80, subsample=0.6;, score=0.993 total time=  40.1s\n",
            "[CV 5/5] END colsample_bytree=0.4, learning_rate=0.2, max_depth=12, n_estimators=80, subsample=0.6;, score=0.995 total time=  40.8s\n",
            "[CV 1/5] END colsample_bytree=0.4, learning_rate=0.2, max_depth=12, n_estimators=100, subsample=0.4;, score=0.993 total time=  42.4s\n",
            "[CV 2/5] END colsample_bytree=0.4, learning_rate=0.2, max_depth=12, n_estimators=100, subsample=0.4;, score=0.993 total time=  42.1s\n",
            "[CV 3/5] END colsample_bytree=0.4, learning_rate=0.2, max_depth=12, n_estimators=100, subsample=0.4;, score=0.995 total time=  42.4s\n",
            "[CV 4/5] END colsample_bytree=0.4, learning_rate=0.2, max_depth=12, n_estimators=100, subsample=0.4;, score=0.993 total time=  41.2s\n",
            "[CV 5/5] END colsample_bytree=0.4, learning_rate=0.2, max_depth=12, n_estimators=100, subsample=0.4;, score=0.995 total time=  42.2s\n",
            "[CV 1/5] END colsample_bytree=0.4, learning_rate=0.2, max_depth=12, n_estimators=100, subsample=0.5;, score=0.994 total time=  46.0s\n",
            "[CV 2/5] END colsample_bytree=0.4, learning_rate=0.2, max_depth=12, n_estimators=100, subsample=0.5;, score=0.993 total time=  45.7s\n",
            "[CV 3/5] END colsample_bytree=0.4, learning_rate=0.2, max_depth=12, n_estimators=100, subsample=0.5;, score=0.995 total time=  45.4s\n",
            "[CV 4/5] END colsample_bytree=0.4, learning_rate=0.2, max_depth=12, n_estimators=100, subsample=0.5;, score=0.992 total time=  46.0s\n",
            "[CV 5/5] END colsample_bytree=0.4, learning_rate=0.2, max_depth=12, n_estimators=100, subsample=0.5;, score=0.997 total time=  45.3s\n",
            "[CV 1/5] END colsample_bytree=0.4, learning_rate=0.2, max_depth=12, n_estimators=100, subsample=0.6;, score=0.994 total time=  47.0s\n",
            "[CV 2/5] END colsample_bytree=0.4, learning_rate=0.2, max_depth=12, n_estimators=100, subsample=0.6;, score=0.993 total time=  46.6s\n",
            "[CV 3/5] END colsample_bytree=0.4, learning_rate=0.2, max_depth=12, n_estimators=100, subsample=0.6;, score=0.997 total time=  46.7s\n",
            "[CV 4/5] END colsample_bytree=0.4, learning_rate=0.2, max_depth=12, n_estimators=100, subsample=0.6;, score=0.993 total time=  45.8s\n",
            "[CV 5/5] END colsample_bytree=0.4, learning_rate=0.2, max_depth=12, n_estimators=100, subsample=0.6;, score=0.995 total time=  46.2s\n",
            "[CV 1/5] END colsample_bytree=0.4, learning_rate=0.2, max_depth=12, n_estimators=150, subsample=0.4;, score=0.993 total time=  53.9s\n",
            "[CV 2/5] END colsample_bytree=0.4, learning_rate=0.2, max_depth=12, n_estimators=150, subsample=0.4;, score=0.993 total time=  53.4s\n",
            "[CV 3/5] END colsample_bytree=0.4, learning_rate=0.2, max_depth=12, n_estimators=150, subsample=0.4;, score=0.995 total time=  54.1s\n",
            "[CV 4/5] END colsample_bytree=0.4, learning_rate=0.2, max_depth=12, n_estimators=150, subsample=0.4;, score=0.993 total time=  53.1s\n",
            "[CV 5/5] END colsample_bytree=0.4, learning_rate=0.2, max_depth=12, n_estimators=150, subsample=0.4;, score=0.995 total time=  54.4s\n",
            "[CV 1/5] END colsample_bytree=0.4, learning_rate=0.2, max_depth=12, n_estimators=150, subsample=0.5;, score=0.994 total time=  59.1s\n",
            "[CV 2/5] END colsample_bytree=0.4, learning_rate=0.2, max_depth=12, n_estimators=150, subsample=0.5;, score=0.993 total time=  57.5s\n",
            "[CV 3/5] END colsample_bytree=0.4, learning_rate=0.2, max_depth=12, n_estimators=150, subsample=0.5;, score=0.995 total time=  57.7s\n",
            "[CV 4/5] END colsample_bytree=0.4, learning_rate=0.2, max_depth=12, n_estimators=150, subsample=0.5;, score=0.992 total time=  57.5s\n",
            "[CV 5/5] END colsample_bytree=0.4, learning_rate=0.2, max_depth=12, n_estimators=150, subsample=0.5;, score=0.997 total time=  57.9s\n",
            "[CV 1/5] END colsample_bytree=0.4, learning_rate=0.2, max_depth=12, n_estimators=150, subsample=0.6;, score=0.995 total time=  59.7s\n",
            "[CV 2/5] END colsample_bytree=0.4, learning_rate=0.2, max_depth=12, n_estimators=150, subsample=0.6;, score=0.993 total time=  59.2s\n",
            "[CV 3/5] END colsample_bytree=0.4, learning_rate=0.2, max_depth=12, n_estimators=150, subsample=0.6;, score=0.997 total time=  58.8s\n",
            "[CV 4/5] END colsample_bytree=0.4, learning_rate=0.2, max_depth=12, n_estimators=150, subsample=0.6;, score=0.993 total time=  58.1s\n",
            "[CV 5/5] END colsample_bytree=0.4, learning_rate=0.2, max_depth=12, n_estimators=150, subsample=0.6;, score=0.995 total time= 1.0min\n",
            "[CV 1/5] END colsample_bytree=0.5, learning_rate=0.1, max_depth=8, n_estimators=80, subsample=0.4;, score=0.994 total time=  54.4s\n",
            "[CV 2/5] END colsample_bytree=0.5, learning_rate=0.1, max_depth=8, n_estimators=80, subsample=0.4;, score=0.993 total time=  59.4s\n",
            "[CV 3/5] END colsample_bytree=0.5, learning_rate=0.1, max_depth=8, n_estimators=80, subsample=0.4;, score=0.993 total time=  53.6s\n",
            "[CV 4/5] END colsample_bytree=0.5, learning_rate=0.1, max_depth=8, n_estimators=80, subsample=0.4;, score=0.991 total time=  52.3s\n",
            "[CV 5/5] END colsample_bytree=0.5, learning_rate=0.1, max_depth=8, n_estimators=80, subsample=0.4;, score=0.994 total time=  53.8s\n",
            "[CV 1/5] END colsample_bytree=0.5, learning_rate=0.1, max_depth=8, n_estimators=80, subsample=0.5;, score=0.994 total time=  58.8s\n",
            "[CV 2/5] END colsample_bytree=0.5, learning_rate=0.1, max_depth=8, n_estimators=80, subsample=0.5;, score=0.994 total time=  57.6s\n",
            "[CV 3/5] END colsample_bytree=0.5, learning_rate=0.1, max_depth=8, n_estimators=80, subsample=0.5;, score=0.997 total time=  58.4s\n",
            "[CV 4/5] END colsample_bytree=0.5, learning_rate=0.1, max_depth=8, n_estimators=80, subsample=0.5;, score=0.992 total time=  57.5s\n",
            "[CV 5/5] END colsample_bytree=0.5, learning_rate=0.1, max_depth=8, n_estimators=80, subsample=0.5;, score=0.995 total time=  58.2s\n",
            "[CV 1/5] END colsample_bytree=0.5, learning_rate=0.1, max_depth=8, n_estimators=80, subsample=0.6;, score=0.994 total time= 1.0min\n",
            "[CV 2/5] END colsample_bytree=0.5, learning_rate=0.1, max_depth=8, n_estimators=80, subsample=0.6;, score=0.994 total time= 1.0min\n",
            "[CV 3/5] END colsample_bytree=0.5, learning_rate=0.1, max_depth=8, n_estimators=80, subsample=0.6;, score=0.995 total time= 1.0min\n",
            "[CV 4/5] END colsample_bytree=0.5, learning_rate=0.1, max_depth=8, n_estimators=80, subsample=0.6;, score=0.993 total time=  59.8s\n",
            "[CV 5/5] END colsample_bytree=0.5, learning_rate=0.1, max_depth=8, n_estimators=80, subsample=0.6;, score=0.995 total time= 1.0min\n",
            "[CV 1/5] END colsample_bytree=0.5, learning_rate=0.1, max_depth=8, n_estimators=100, subsample=0.4;, score=0.993 total time= 1.1min\n",
            "[CV 2/5] END colsample_bytree=0.5, learning_rate=0.1, max_depth=8, n_estimators=100, subsample=0.4;, score=0.993 total time= 1.0min\n",
            "[CV 3/5] END colsample_bytree=0.5, learning_rate=0.1, max_depth=8, n_estimators=100, subsample=0.4;, score=0.994 total time= 1.1min\n",
            "[CV 4/5] END colsample_bytree=0.5, learning_rate=0.1, max_depth=8, n_estimators=100, subsample=0.4;, score=0.992 total time= 1.0min\n",
            "[CV 5/5] END colsample_bytree=0.5, learning_rate=0.1, max_depth=8, n_estimators=100, subsample=0.4;, score=0.994 total time= 1.1min\n",
            "[CV 1/5] END colsample_bytree=0.5, learning_rate=0.1, max_depth=8, n_estimators=100, subsample=0.5;, score=0.994 total time= 1.2min\n",
            "[CV 2/5] END colsample_bytree=0.5, learning_rate=0.1, max_depth=8, n_estimators=100, subsample=0.5;, score=0.994 total time= 1.2min\n",
            "[CV 3/5] END colsample_bytree=0.5, learning_rate=0.1, max_depth=8, n_estimators=100, subsample=0.5;, score=0.996 total time= 1.2min\n",
            "[CV 4/5] END colsample_bytree=0.5, learning_rate=0.1, max_depth=8, n_estimators=100, subsample=0.5;, score=0.993 total time= 1.1min\n",
            "[CV 5/5] END colsample_bytree=0.5, learning_rate=0.1, max_depth=8, n_estimators=100, subsample=0.5;, score=0.995 total time= 1.1min\n",
            "[CV 1/5] END colsample_bytree=0.5, learning_rate=0.1, max_depth=8, n_estimators=100, subsample=0.6;, score=0.994 total time= 1.2min\n",
            "[CV 2/5] END colsample_bytree=0.5, learning_rate=0.1, max_depth=8, n_estimators=100, subsample=0.6;, score=0.994 total time= 1.2min\n",
            "[CV 3/5] END colsample_bytree=0.5, learning_rate=0.1, max_depth=8, n_estimators=100, subsample=0.6;, score=0.995 total time= 1.2min\n",
            "[CV 4/5] END colsample_bytree=0.5, learning_rate=0.1, max_depth=8, n_estimators=100, subsample=0.6;, score=0.994 total time= 1.2min\n",
            "[CV 5/5] END colsample_bytree=0.5, learning_rate=0.1, max_depth=8, n_estimators=100, subsample=0.6;, score=0.995 total time= 1.2min\n",
            "[CV 1/5] END colsample_bytree=0.5, learning_rate=0.1, max_depth=8, n_estimators=150, subsample=0.4;, score=0.993 total time= 1.4min\n",
            "[CV 2/5] END colsample_bytree=0.5, learning_rate=0.1, max_depth=8, n_estimators=150, subsample=0.4;, score=0.993 total time= 1.4min\n",
            "[CV 3/5] END colsample_bytree=0.5, learning_rate=0.1, max_depth=8, n_estimators=150, subsample=0.4;, score=0.994 total time= 1.4min\n",
            "[CV 4/5] END colsample_bytree=0.5, learning_rate=0.1, max_depth=8, n_estimators=150, subsample=0.4;, score=0.994 total time= 1.3min\n",
            "[CV 5/5] END colsample_bytree=0.5, learning_rate=0.1, max_depth=8, n_estimators=150, subsample=0.4;, score=0.995 total time= 1.4min\n",
            "[CV 1/5] END colsample_bytree=0.5, learning_rate=0.1, max_depth=8, n_estimators=150, subsample=0.5;, score=0.995 total time= 1.5min\n",
            "[CV 2/5] END colsample_bytree=0.5, learning_rate=0.1, max_depth=8, n_estimators=150, subsample=0.5;, score=0.994 total time= 1.5min\n",
            "[CV 3/5] END colsample_bytree=0.5, learning_rate=0.1, max_depth=8, n_estimators=150, subsample=0.5;, score=0.996 total time= 1.5min\n",
            "[CV 4/5] END colsample_bytree=0.5, learning_rate=0.1, max_depth=8, n_estimators=150, subsample=0.5;, score=0.993 total time= 1.4min\n",
            "[CV 5/5] END colsample_bytree=0.5, learning_rate=0.1, max_depth=8, n_estimators=150, subsample=0.5;, score=0.995 total time= 1.5min\n",
            "[CV 1/5] END colsample_bytree=0.5, learning_rate=0.1, max_depth=8, n_estimators=150, subsample=0.6;, score=0.995 total time= 1.5min\n",
            "[CV 2/5] END colsample_bytree=0.5, learning_rate=0.1, max_depth=8, n_estimators=150, subsample=0.6;, score=0.994 total time= 1.5min\n",
            "[CV 3/5] END colsample_bytree=0.5, learning_rate=0.1, max_depth=8, n_estimators=150, subsample=0.6;, score=0.995 total time= 1.5min\n",
            "[CV 4/5] END colsample_bytree=0.5, learning_rate=0.1, max_depth=8, n_estimators=150, subsample=0.6;, score=0.994 total time= 1.5min\n",
            "[CV 5/5] END colsample_bytree=0.5, learning_rate=0.1, max_depth=8, n_estimators=150, subsample=0.6;, score=0.995 total time= 1.5min\n",
            "[CV 1/5] END colsample_bytree=0.5, learning_rate=0.1, max_depth=10, n_estimators=80, subsample=0.4;, score=0.995 total time=  54.8s\n",
            "[CV 2/5] END colsample_bytree=0.5, learning_rate=0.1, max_depth=10, n_estimators=80, subsample=0.4;, score=0.993 total time=  55.0s\n",
            "[CV 3/5] END colsample_bytree=0.5, learning_rate=0.1, max_depth=10, n_estimators=80, subsample=0.4;, score=0.993 total time=  55.6s\n",
            "[CV 4/5] END colsample_bytree=0.5, learning_rate=0.1, max_depth=10, n_estimators=80, subsample=0.4;, score=0.992 total time=  54.3s\n",
            "[CV 5/5] END colsample_bytree=0.5, learning_rate=0.1, max_depth=10, n_estimators=80, subsample=0.4;, score=0.994 total time=  55.1s\n",
            "[CV 1/5] END colsample_bytree=0.5, learning_rate=0.1, max_depth=10, n_estimators=80, subsample=0.5;, score=0.994 total time= 1.0min\n",
            "[CV 2/5] END colsample_bytree=0.5, learning_rate=0.1, max_depth=10, n_estimators=80, subsample=0.5;, score=0.994 total time= 1.0min\n",
            "[CV 3/5] END colsample_bytree=0.5, learning_rate=0.1, max_depth=10, n_estimators=80, subsample=0.5;, score=0.995 total time= 1.0min\n",
            "[CV 4/5] END colsample_bytree=0.5, learning_rate=0.1, max_depth=10, n_estimators=80, subsample=0.5;, score=0.993 total time=  60.0s\n",
            "[CV 5/5] END colsample_bytree=0.5, learning_rate=0.1, max_depth=10, n_estimators=80, subsample=0.5;, score=0.995 total time=  59.7s\n",
            "[CV 1/5] END colsample_bytree=0.5, learning_rate=0.1, max_depth=10, n_estimators=80, subsample=0.6;, score=0.994 total time= 1.1min\n",
            "[CV 2/5] END colsample_bytree=0.5, learning_rate=0.1, max_depth=10, n_estimators=80, subsample=0.6;, score=0.994 total time= 1.1min\n",
            "[CV 3/5] END colsample_bytree=0.5, learning_rate=0.1, max_depth=10, n_estimators=80, subsample=0.6;, score=0.994 total time= 1.1min\n",
            "[CV 4/5] END colsample_bytree=0.5, learning_rate=0.1, max_depth=10, n_estimators=80, subsample=0.6;, score=0.993 total time= 1.0min\n",
            "[CV 5/5] END colsample_bytree=0.5, learning_rate=0.1, max_depth=10, n_estimators=80, subsample=0.6;, score=0.995 total time= 1.1min\n",
            "[CV 1/5] END colsample_bytree=0.5, learning_rate=0.1, max_depth=10, n_estimators=100, subsample=0.4;, score=0.995 total time= 1.1min\n",
            "[CV 2/5] END colsample_bytree=0.5, learning_rate=0.1, max_depth=10, n_estimators=100, subsample=0.4;, score=0.993 total time= 1.1min\n",
            "[CV 3/5] END colsample_bytree=0.5, learning_rate=0.1, max_depth=10, n_estimators=100, subsample=0.4;, score=0.994 total time= 1.1min\n",
            "[CV 4/5] END colsample_bytree=0.5, learning_rate=0.1, max_depth=10, n_estimators=100, subsample=0.4;, score=0.991 total time= 1.1min\n",
            "[CV 5/5] END colsample_bytree=0.5, learning_rate=0.1, max_depth=10, n_estimators=100, subsample=0.4;, score=0.995 total time= 1.1min\n",
            "[CV 1/5] END colsample_bytree=0.5, learning_rate=0.1, max_depth=10, n_estimators=100, subsample=0.5;, score=0.994 total time= 1.3min\n",
            "[CV 2/5] END colsample_bytree=0.5, learning_rate=0.1, max_depth=10, n_estimators=100, subsample=0.5;, score=0.994 total time= 1.2min\n",
            "[CV 3/5] END colsample_bytree=0.5, learning_rate=0.1, max_depth=10, n_estimators=100, subsample=0.5;, score=0.995 total time= 1.2min\n",
            "[CV 4/5] END colsample_bytree=0.5, learning_rate=0.1, max_depth=10, n_estimators=100, subsample=0.5;, score=0.993 total time= 1.2min\n",
            "[CV 5/5] END colsample_bytree=0.5, learning_rate=0.1, max_depth=10, n_estimators=100, subsample=0.5;, score=0.995 total time= 1.2min\n",
            "[CV 1/5] END colsample_bytree=0.5, learning_rate=0.1, max_depth=10, n_estimators=100, subsample=0.6;, score=0.995 total time= 1.2min\n",
            "[CV 2/5] END colsample_bytree=0.5, learning_rate=0.1, max_depth=10, n_estimators=100, subsample=0.6;, score=0.994 total time= 1.2min\n",
            "[CV 3/5] END colsample_bytree=0.5, learning_rate=0.1, max_depth=10, n_estimators=100, subsample=0.6;, score=0.995 total time= 1.3min\n",
            "[CV 4/5] END colsample_bytree=0.5, learning_rate=0.1, max_depth=10, n_estimators=100, subsample=0.6;, score=0.994 total time= 1.2min\n",
            "[CV 5/5] END colsample_bytree=0.5, learning_rate=0.1, max_depth=10, n_estimators=100, subsample=0.6;, score=0.995 total time= 1.2min\n",
            "[CV 1/5] END colsample_bytree=0.5, learning_rate=0.1, max_depth=10, n_estimators=150, subsample=0.4;, score=0.994 total time= 1.4min\n",
            "[CV 2/5] END colsample_bytree=0.5, learning_rate=0.1, max_depth=10, n_estimators=150, subsample=0.4;, score=0.993 total time= 1.4min\n",
            "[CV 3/5] END colsample_bytree=0.5, learning_rate=0.1, max_depth=10, n_estimators=150, subsample=0.4;, score=0.994 total time= 1.4min\n",
            "[CV 4/5] END colsample_bytree=0.5, learning_rate=0.1, max_depth=10, n_estimators=150, subsample=0.4;, score=0.993 total time= 1.4min\n",
            "[CV 5/5] END colsample_bytree=0.5, learning_rate=0.1, max_depth=10, n_estimators=150, subsample=0.4;, score=0.994 total time= 1.4min\n",
            "[CV 1/5] END colsample_bytree=0.5, learning_rate=0.1, max_depth=10, n_estimators=150, subsample=0.5;, score=0.994 total time= 1.5min\n",
            "[CV 2/5] END colsample_bytree=0.5, learning_rate=0.1, max_depth=10, n_estimators=150, subsample=0.5;, score=0.994 total time= 1.5min\n",
            "[CV 3/5] END colsample_bytree=0.5, learning_rate=0.1, max_depth=10, n_estimators=150, subsample=0.5;, score=0.996 total time= 1.5min\n",
            "[CV 4/5] END colsample_bytree=0.5, learning_rate=0.1, max_depth=10, n_estimators=150, subsample=0.5;, score=0.993 total time= 1.5min\n",
            "[CV 5/5] END colsample_bytree=0.5, learning_rate=0.1, max_depth=10, n_estimators=150, subsample=0.5;, score=0.995 total time= 1.5min\n",
            "[CV 1/5] END colsample_bytree=0.5, learning_rate=0.1, max_depth=10, n_estimators=150, subsample=0.6;, score=0.995 total time= 1.6min\n",
            "[CV 2/5] END colsample_bytree=0.5, learning_rate=0.1, max_depth=10, n_estimators=150, subsample=0.6;, score=0.994 total time= 1.6min\n",
            "[CV 3/5] END colsample_bytree=0.5, learning_rate=0.1, max_depth=10, n_estimators=150, subsample=0.6;, score=0.995 total time= 1.6min\n",
            "[CV 4/5] END colsample_bytree=0.5, learning_rate=0.1, max_depth=10, n_estimators=150, subsample=0.6;, score=0.994 total time= 1.5min\n",
            "[CV 5/5] END colsample_bytree=0.5, learning_rate=0.1, max_depth=10, n_estimators=150, subsample=0.6;, score=0.996 total time= 1.6min\n",
            "[CV 1/5] END colsample_bytree=0.5, learning_rate=0.1, max_depth=12, n_estimators=80, subsample=0.4;, score=0.993 total time=  55.0s\n",
            "[CV 2/5] END colsample_bytree=0.5, learning_rate=0.1, max_depth=12, n_estimators=80, subsample=0.4;, score=0.993 total time=  57.5s\n",
            "[CV 3/5] END colsample_bytree=0.5, learning_rate=0.1, max_depth=12, n_estimators=80, subsample=0.4;, score=0.993 total time= 1.0min\n",
            "[CV 4/5] END colsample_bytree=0.5, learning_rate=0.1, max_depth=12, n_estimators=80, subsample=0.4;, score=0.992 total time=  54.5s\n",
            "[CV 5/5] END colsample_bytree=0.5, learning_rate=0.1, max_depth=12, n_estimators=80, subsample=0.4;, score=0.993 total time=  53.8s\n",
            "[CV 1/5] END colsample_bytree=0.5, learning_rate=0.1, max_depth=12, n_estimators=80, subsample=0.5;, score=0.994 total time=  59.8s\n",
            "[CV 2/5] END colsample_bytree=0.5, learning_rate=0.1, max_depth=12, n_estimators=80, subsample=0.5;, score=0.994 total time=  59.3s\n",
            "[CV 3/5] END colsample_bytree=0.5, learning_rate=0.1, max_depth=12, n_estimators=80, subsample=0.5;, score=0.996 total time= 1.0min\n",
            "[CV 4/5] END colsample_bytree=0.5, learning_rate=0.1, max_depth=12, n_estimators=80, subsample=0.5;, score=0.993 total time= 1.0min\n",
            "[CV 5/5] END colsample_bytree=0.5, learning_rate=0.1, max_depth=12, n_estimators=80, subsample=0.5;, score=0.995 total time= 1.0min\n",
            "[CV 1/5] END colsample_bytree=0.5, learning_rate=0.1, max_depth=12, n_estimators=80, subsample=0.6;, score=0.995 total time= 1.1min\n",
            "[CV 2/5] END colsample_bytree=0.5, learning_rate=0.1, max_depth=12, n_estimators=80, subsample=0.6;, score=0.994 total time= 1.1min\n",
            "[CV 3/5] END colsample_bytree=0.5, learning_rate=0.1, max_depth=12, n_estimators=80, subsample=0.6;, score=0.995 total time= 1.1min\n",
            "[CV 4/5] END colsample_bytree=0.5, learning_rate=0.1, max_depth=12, n_estimators=80, subsample=0.6;, score=0.993 total time= 1.1min\n",
            "[CV 5/5] END colsample_bytree=0.5, learning_rate=0.1, max_depth=12, n_estimators=80, subsample=0.6;, score=0.995 total time= 1.0min\n",
            "[CV 1/5] END colsample_bytree=0.5, learning_rate=0.1, max_depth=12, n_estimators=100, subsample=0.4;, score=0.993 total time= 1.1min\n",
            "[CV 2/5] END colsample_bytree=0.5, learning_rate=0.1, max_depth=12, n_estimators=100, subsample=0.4;, score=0.993 total time= 1.1min\n",
            "[CV 3/5] END colsample_bytree=0.5, learning_rate=0.1, max_depth=12, n_estimators=100, subsample=0.4;, score=0.993 total time= 1.1min\n",
            "[CV 4/5] END colsample_bytree=0.5, learning_rate=0.1, max_depth=12, n_estimators=100, subsample=0.4;, score=0.992 total time= 1.1min\n",
            "[CV 5/5] END colsample_bytree=0.5, learning_rate=0.1, max_depth=12, n_estimators=100, subsample=0.4;, score=0.995 total time= 1.1min\n",
            "[CV 1/5] END colsample_bytree=0.5, learning_rate=0.1, max_depth=12, n_estimators=100, subsample=0.5;, score=0.994 total time= 1.2min\n",
            "[CV 2/5] END colsample_bytree=0.5, learning_rate=0.1, max_depth=12, n_estimators=100, subsample=0.5;, score=0.994 total time= 1.2min\n",
            "[CV 3/5] END colsample_bytree=0.5, learning_rate=0.1, max_depth=12, n_estimators=100, subsample=0.5;, score=0.995 total time= 1.2min\n",
            "[CV 4/5] END colsample_bytree=0.5, learning_rate=0.1, max_depth=12, n_estimators=100, subsample=0.5;, score=0.993 total time= 1.2min\n",
            "[CV 5/5] END colsample_bytree=0.5, learning_rate=0.1, max_depth=12, n_estimators=100, subsample=0.5;, score=0.995 total time= 1.2min\n",
            "[CV 1/5] END colsample_bytree=0.5, learning_rate=0.1, max_depth=12, n_estimators=100, subsample=0.6;, score=0.995 total time= 1.2min\n",
            "[CV 2/5] END colsample_bytree=0.5, learning_rate=0.1, max_depth=12, n_estimators=100, subsample=0.6;, score=0.994 total time= 1.2min\n",
            "[CV 3/5] END colsample_bytree=0.5, learning_rate=0.1, max_depth=12, n_estimators=100, subsample=0.6;, score=0.995 total time= 1.2min\n",
            "[CV 4/5] END colsample_bytree=0.5, learning_rate=0.1, max_depth=12, n_estimators=100, subsample=0.6;, score=0.993 total time= 1.3min\n",
            "[CV 5/5] END colsample_bytree=0.5, learning_rate=0.1, max_depth=12, n_estimators=100, subsample=0.6;, score=0.995 total time= 1.3min\n",
            "[CV 1/5] END colsample_bytree=0.5, learning_rate=0.1, max_depth=12, n_estimators=150, subsample=0.4;, score=0.993 total time= 1.4min\n",
            "[CV 2/5] END colsample_bytree=0.5, learning_rate=0.1, max_depth=12, n_estimators=150, subsample=0.4;, score=0.993 total time= 1.4min\n",
            "[CV 3/5] END colsample_bytree=0.5, learning_rate=0.1, max_depth=12, n_estimators=150, subsample=0.4;, score=0.995 total time= 1.4min\n",
            "[CV 4/5] END colsample_bytree=0.5, learning_rate=0.1, max_depth=12, n_estimators=150, subsample=0.4;, score=0.992 total time= 1.3min\n",
            "[CV 5/5] END colsample_bytree=0.5, learning_rate=0.1, max_depth=12, n_estimators=150, subsample=0.4;, score=0.995 total time= 1.4min\n",
            "[CV 1/5] END colsample_bytree=0.5, learning_rate=0.1, max_depth=12, n_estimators=150, subsample=0.5;, score=0.994 total time= 1.5min\n",
            "[CV 2/5] END colsample_bytree=0.5, learning_rate=0.1, max_depth=12, n_estimators=150, subsample=0.5;, score=0.994 total time= 1.5min\n",
            "[CV 3/5] END colsample_bytree=0.5, learning_rate=0.1, max_depth=12, n_estimators=150, subsample=0.5;, score=0.996 total time= 1.5min\n",
            "[CV 4/5] END colsample_bytree=0.5, learning_rate=0.1, max_depth=12, n_estimators=150, subsample=0.5;, score=0.993 total time= 1.5min\n",
            "[CV 5/5] END colsample_bytree=0.5, learning_rate=0.1, max_depth=12, n_estimators=150, subsample=0.5;, score=0.995 total time= 1.5min\n",
            "[CV 1/5] END colsample_bytree=0.5, learning_rate=0.1, max_depth=12, n_estimators=150, subsample=0.6;, score=0.995 total time= 1.6min\n",
            "[CV 2/5] END colsample_bytree=0.5, learning_rate=0.1, max_depth=12, n_estimators=150, subsample=0.6;, score=0.994 total time= 1.6min\n",
            "[CV 3/5] END colsample_bytree=0.5, learning_rate=0.1, max_depth=12, n_estimators=150, subsample=0.6;, score=0.995 total time= 1.6min\n",
            "[CV 4/5] END colsample_bytree=0.5, learning_rate=0.1, max_depth=12, n_estimators=150, subsample=0.6;, score=0.993 total time= 1.6min\n",
            "[CV 5/5] END colsample_bytree=0.5, learning_rate=0.1, max_depth=12, n_estimators=150, subsample=0.6;, score=0.995 total time= 1.6min\n",
            "[CV 1/5] END colsample_bytree=0.5, learning_rate=0.15, max_depth=8, n_estimators=80, subsample=0.4;, score=0.994 total time=  48.6s\n",
            "[CV 2/5] END colsample_bytree=0.5, learning_rate=0.15, max_depth=8, n_estimators=80, subsample=0.4;, score=0.992 total time=  48.3s\n",
            "[CV 3/5] END colsample_bytree=0.5, learning_rate=0.15, max_depth=8, n_estimators=80, subsample=0.4;, score=0.995 total time=  48.6s\n",
            "[CV 4/5] END colsample_bytree=0.5, learning_rate=0.15, max_depth=8, n_estimators=80, subsample=0.4;, score=0.993 total time=  47.2s\n",
            "[CV 5/5] END colsample_bytree=0.5, learning_rate=0.15, max_depth=8, n_estimators=80, subsample=0.4;, score=0.995 total time=  48.2s\n",
            "[CV 1/5] END colsample_bytree=0.5, learning_rate=0.15, max_depth=8, n_estimators=80, subsample=0.5;, score=0.994 total time=  53.0s\n",
            "[CV 2/5] END colsample_bytree=0.5, learning_rate=0.15, max_depth=8, n_estimators=80, subsample=0.5;, score=0.994 total time=  53.0s\n",
            "[CV 3/5] END colsample_bytree=0.5, learning_rate=0.15, max_depth=8, n_estimators=80, subsample=0.5;, score=0.995 total time=  52.8s\n",
            "[CV 4/5] END colsample_bytree=0.5, learning_rate=0.15, max_depth=8, n_estimators=80, subsample=0.5;, score=0.993 total time=  51.5s\n",
            "[CV 5/5] END colsample_bytree=0.5, learning_rate=0.15, max_depth=8, n_estimators=80, subsample=0.5;, score=0.995 total time=  51.9s\n",
            "[CV 1/5] END colsample_bytree=0.5, learning_rate=0.15, max_depth=8, n_estimators=80, subsample=0.6;, score=0.995 total time=  54.6s\n",
            "[CV 2/5] END colsample_bytree=0.5, learning_rate=0.15, max_depth=8, n_estimators=80, subsample=0.6;, score=0.994 total time=  54.5s\n",
            "[CV 3/5] END colsample_bytree=0.5, learning_rate=0.15, max_depth=8, n_estimators=80, subsample=0.6;, score=0.996 total time=  54.0s\n",
            "[CV 4/5] END colsample_bytree=0.5, learning_rate=0.15, max_depth=8, n_estimators=80, subsample=0.6;, score=0.994 total time=  54.4s\n",
            "[CV 5/5] END colsample_bytree=0.5, learning_rate=0.15, max_depth=8, n_estimators=80, subsample=0.6;, score=0.996 total time=  54.2s\n",
            "[CV 1/5] END colsample_bytree=0.5, learning_rate=0.15, max_depth=8, n_estimators=100, subsample=0.4;, score=0.993 total time=  55.8s\n",
            "[CV 2/5] END colsample_bytree=0.5, learning_rate=0.15, max_depth=8, n_estimators=100, subsample=0.4;, score=0.992 total time=  55.0s\n",
            "[CV 3/5] END colsample_bytree=0.5, learning_rate=0.15, max_depth=8, n_estimators=100, subsample=0.4;, score=0.995 total time=  56.0s\n",
            "[CV 4/5] END colsample_bytree=0.5, learning_rate=0.15, max_depth=8, n_estimators=100, subsample=0.4;, score=0.993 total time=  54.6s\n",
            "[CV 5/5] END colsample_bytree=0.5, learning_rate=0.15, max_depth=8, n_estimators=100, subsample=0.4;, score=0.994 total time=  55.1s\n",
            "[CV 1/5] END colsample_bytree=0.5, learning_rate=0.15, max_depth=8, n_estimators=100, subsample=0.5;, score=0.994 total time= 1.0min\n",
            "[CV 2/5] END colsample_bytree=0.5, learning_rate=0.15, max_depth=8, n_estimators=100, subsample=0.5;, score=0.994 total time= 1.0min\n",
            "[CV 3/5] END colsample_bytree=0.5, learning_rate=0.15, max_depth=8, n_estimators=100, subsample=0.5;, score=0.996 total time= 1.0min\n",
            "[CV 4/5] END colsample_bytree=0.5, learning_rate=0.15, max_depth=8, n_estimators=100, subsample=0.5;, score=0.993 total time=  59.0s\n",
            "[CV 5/5] END colsample_bytree=0.5, learning_rate=0.15, max_depth=8, n_estimators=100, subsample=0.5;, score=0.995 total time= 1.0min\n",
            "[CV 1/5] END colsample_bytree=0.5, learning_rate=0.15, max_depth=8, n_estimators=100, subsample=0.6;, score=0.994 total time= 1.0min\n",
            "[CV 2/5] END colsample_bytree=0.5, learning_rate=0.15, max_depth=8, n_estimators=100, subsample=0.6;, score=0.994 total time= 1.0min\n",
            "[CV 3/5] END colsample_bytree=0.5, learning_rate=0.15, max_depth=8, n_estimators=100, subsample=0.6;, score=0.996 total time= 1.0min\n",
            "[CV 4/5] END colsample_bytree=0.5, learning_rate=0.15, max_depth=8, n_estimators=100, subsample=0.6;, score=0.994 total time= 1.0min\n",
            "[CV 5/5] END colsample_bytree=0.5, learning_rate=0.15, max_depth=8, n_estimators=100, subsample=0.6;, score=0.995 total time= 1.0min\n",
            "[CV 1/5] END colsample_bytree=0.5, learning_rate=0.15, max_depth=8, n_estimators=150, subsample=0.4;, score=0.994 total time= 1.2min\n",
            "[CV 2/5] END colsample_bytree=0.5, learning_rate=0.15, max_depth=8, n_estimators=150, subsample=0.4;, score=0.993 total time= 1.2min\n",
            "[CV 3/5] END colsample_bytree=0.5, learning_rate=0.15, max_depth=8, n_estimators=150, subsample=0.4;, score=0.996 total time= 1.2min\n",
            "[CV 4/5] END colsample_bytree=0.5, learning_rate=0.15, max_depth=8, n_estimators=150, subsample=0.4;, score=0.993 total time= 1.2min\n",
            "[CV 5/5] END colsample_bytree=0.5, learning_rate=0.15, max_depth=8, n_estimators=150, subsample=0.4;, score=0.994 total time= 1.2min\n",
            "[CV 1/5] END colsample_bytree=0.5, learning_rate=0.15, max_depth=8, n_estimators=150, subsample=0.5;, score=0.994 total time= 1.3min\n",
            "[CV 2/5] END colsample_bytree=0.5, learning_rate=0.15, max_depth=8, n_estimators=150, subsample=0.5;, score=0.993 total time= 1.3min\n",
            "[CV 3/5] END colsample_bytree=0.5, learning_rate=0.15, max_depth=8, n_estimators=150, subsample=0.5;, score=0.995 total time= 1.3min\n",
            "[CV 4/5] END colsample_bytree=0.5, learning_rate=0.15, max_depth=8, n_estimators=150, subsample=0.5;, score=0.993 total time= 1.3min\n",
            "[CV 5/5] END colsample_bytree=0.5, learning_rate=0.15, max_depth=8, n_estimators=150, subsample=0.5;, score=0.995 total time= 1.3min\n",
            "[CV 1/5] END colsample_bytree=0.5, learning_rate=0.15, max_depth=8, n_estimators=150, subsample=0.6;, score=0.994 total time= 1.3min\n",
            "[CV 2/5] END colsample_bytree=0.5, learning_rate=0.15, max_depth=8, n_estimators=150, subsample=0.6;, score=0.994 total time= 1.3min\n",
            "[CV 3/5] END colsample_bytree=0.5, learning_rate=0.15, max_depth=8, n_estimators=150, subsample=0.6;, score=0.996 total time= 1.3min\n",
            "[CV 4/5] END colsample_bytree=0.5, learning_rate=0.15, max_depth=8, n_estimators=150, subsample=0.6;, score=0.994 total time= 1.3min\n",
            "[CV 5/5] END colsample_bytree=0.5, learning_rate=0.15, max_depth=8, n_estimators=150, subsample=0.6;, score=0.995 total time= 1.3min\n",
            "[CV 1/5] END colsample_bytree=0.5, learning_rate=0.15, max_depth=10, n_estimators=80, subsample=0.4;, score=0.993 total time=  49.6s\n",
            "[CV 2/5] END colsample_bytree=0.5, learning_rate=0.15, max_depth=10, n_estimators=80, subsample=0.4;, score=0.993 total time=  48.9s\n",
            "[CV 3/5] END colsample_bytree=0.5, learning_rate=0.15, max_depth=10, n_estimators=80, subsample=0.4;, score=0.996 total time=  49.2s\n",
            "[CV 4/5] END colsample_bytree=0.5, learning_rate=0.15, max_depth=10, n_estimators=80, subsample=0.4;, score=0.991 total time=  47.6s\n",
            "[CV 5/5] END colsample_bytree=0.5, learning_rate=0.15, max_depth=10, n_estimators=80, subsample=0.4;, score=0.995 total time=  48.6s\n",
            "[CV 1/5] END colsample_bytree=0.5, learning_rate=0.15, max_depth=10, n_estimators=80, subsample=0.5;, score=0.994 total time=  54.1s\n",
            "[CV 2/5] END colsample_bytree=0.5, learning_rate=0.15, max_depth=10, n_estimators=80, subsample=0.5;, score=0.993 total time=  53.8s\n",
            "[CV 3/5] END colsample_bytree=0.5, learning_rate=0.15, max_depth=10, n_estimators=80, subsample=0.5;, score=0.994 total time=  54.0s\n",
            "[CV 4/5] END colsample_bytree=0.5, learning_rate=0.15, max_depth=10, n_estimators=80, subsample=0.5;, score=0.994 total time=  52.4s\n",
            "[CV 5/5] END colsample_bytree=0.5, learning_rate=0.15, max_depth=10, n_estimators=80, subsample=0.5;, score=0.995 total time=  53.1s\n",
            "[CV 1/5] END colsample_bytree=0.5, learning_rate=0.15, max_depth=10, n_estimators=80, subsample=0.6;, score=0.994 total time=  55.9s\n",
            "[CV 2/5] END colsample_bytree=0.5, learning_rate=0.15, max_depth=10, n_estimators=80, subsample=0.6;, score=0.994 total time=  56.1s\n",
            "[CV 3/5] END colsample_bytree=0.5, learning_rate=0.15, max_depth=10, n_estimators=80, subsample=0.6;, score=0.994 total time=  55.5s\n",
            "[CV 4/5] END colsample_bytree=0.5, learning_rate=0.15, max_depth=10, n_estimators=80, subsample=0.6;, score=0.994 total time=  54.5s\n",
            "[CV 5/5] END colsample_bytree=0.5, learning_rate=0.15, max_depth=10, n_estimators=80, subsample=0.6;, score=0.995 total time=  55.2s\n",
            "[CV 1/5] END colsample_bytree=0.5, learning_rate=0.15, max_depth=10, n_estimators=100, subsample=0.4;, score=0.993 total time=  56.6s\n",
            "[CV 2/5] END colsample_bytree=0.5, learning_rate=0.15, max_depth=10, n_estimators=100, subsample=0.4;, score=0.993 total time=  56.3s\n",
            "[CV 3/5] END colsample_bytree=0.5, learning_rate=0.15, max_depth=10, n_estimators=100, subsample=0.4;, score=0.996 total time=  56.9s\n",
            "[CV 4/5] END colsample_bytree=0.5, learning_rate=0.15, max_depth=10, n_estimators=100, subsample=0.4;, score=0.991 total time=  54.7s\n",
            "[CV 5/5] END colsample_bytree=0.5, learning_rate=0.15, max_depth=10, n_estimators=100, subsample=0.4;, score=0.995 total time=  55.8s\n",
            "[CV 1/5] END colsample_bytree=0.5, learning_rate=0.15, max_depth=10, n_estimators=100, subsample=0.5;, score=0.994 total time= 1.0min\n",
            "[CV 2/5] END colsample_bytree=0.5, learning_rate=0.15, max_depth=10, n_estimators=100, subsample=0.5;, score=0.994 total time= 1.0min\n",
            "[CV 3/5] END colsample_bytree=0.5, learning_rate=0.15, max_depth=10, n_estimators=100, subsample=0.5;, score=0.995 total time= 1.1min\n",
            "[CV 4/5] END colsample_bytree=0.5, learning_rate=0.15, max_depth=10, n_estimators=100, subsample=0.5;, score=0.994 total time= 1.1min\n",
            "[CV 5/5] END colsample_bytree=0.5, learning_rate=0.15, max_depth=10, n_estimators=100, subsample=0.5;, score=0.995 total time= 1.1min\n",
            "[CV 1/5] END colsample_bytree=0.5, learning_rate=0.15, max_depth=10, n_estimators=100, subsample=0.6;, score=0.995 total time= 1.0min\n",
            "[CV 2/5] END colsample_bytree=0.5, learning_rate=0.15, max_depth=10, n_estimators=100, subsample=0.6;, score=0.994 total time= 1.0min\n",
            "[CV 3/5] END colsample_bytree=0.5, learning_rate=0.15, max_depth=10, n_estimators=100, subsample=0.6;, score=0.995 total time= 1.0min\n",
            "[CV 4/5] END colsample_bytree=0.5, learning_rate=0.15, max_depth=10, n_estimators=100, subsample=0.6;, score=0.994 total time= 1.0min\n",
            "[CV 5/5] END colsample_bytree=0.5, learning_rate=0.15, max_depth=10, n_estimators=100, subsample=0.6;, score=0.995 total time= 1.0min\n",
            "[CV 1/5] END colsample_bytree=0.5, learning_rate=0.15, max_depth=10, n_estimators=150, subsample=0.4;, score=0.993 total time= 1.2min\n",
            "[CV 2/5] END colsample_bytree=0.5, learning_rate=0.15, max_depth=10, n_estimators=150, subsample=0.4;, score=0.993 total time= 1.2min\n",
            "[CV 3/5] END colsample_bytree=0.5, learning_rate=0.15, max_depth=10, n_estimators=150, subsample=0.4;, score=0.996 total time= 1.2min\n",
            "[CV 4/5] END colsample_bytree=0.5, learning_rate=0.15, max_depth=10, n_estimators=150, subsample=0.4;, score=0.993 total time= 1.2min\n",
            "[CV 5/5] END colsample_bytree=0.5, learning_rate=0.15, max_depth=10, n_estimators=150, subsample=0.4;, score=0.995 total time= 1.2min\n",
            "[CV 1/5] END colsample_bytree=0.5, learning_rate=0.15, max_depth=10, n_estimators=150, subsample=0.5;, score=0.994 total time= 1.3min\n",
            "[CV 2/5] END colsample_bytree=0.5, learning_rate=0.15, max_depth=10, n_estimators=150, subsample=0.5;, score=0.993 total time= 1.3min\n",
            "[CV 3/5] END colsample_bytree=0.5, learning_rate=0.15, max_depth=10, n_estimators=150, subsample=0.5;, score=0.995 total time= 1.3min\n",
            "[CV 4/5] END colsample_bytree=0.5, learning_rate=0.15, max_depth=10, n_estimators=150, subsample=0.5;, score=0.993 total time= 1.3min\n",
            "[CV 5/5] END colsample_bytree=0.5, learning_rate=0.15, max_depth=10, n_estimators=150, subsample=0.5;, score=0.995 total time= 1.3min\n",
            "[CV 1/5] END colsample_bytree=0.5, learning_rate=0.15, max_depth=10, n_estimators=150, subsample=0.6;, score=0.994 total time= 1.3min\n",
            "[CV 2/5] END colsample_bytree=0.5, learning_rate=0.15, max_depth=10, n_estimators=150, subsample=0.6;, score=0.994 total time= 1.3min\n",
            "[CV 3/5] END colsample_bytree=0.5, learning_rate=0.15, max_depth=10, n_estimators=150, subsample=0.6;, score=0.995 total time= 1.3min\n",
            "[CV 4/5] END colsample_bytree=0.5, learning_rate=0.15, max_depth=10, n_estimators=150, subsample=0.6;, score=0.994 total time= 1.3min\n",
            "[CV 5/5] END colsample_bytree=0.5, learning_rate=0.15, max_depth=10, n_estimators=150, subsample=0.6;, score=0.995 total time= 1.3min\n",
            "[CV 1/5] END colsample_bytree=0.5, learning_rate=0.15, max_depth=12, n_estimators=80, subsample=0.4;, score=0.993 total time=  49.5s\n",
            "[CV 2/5] END colsample_bytree=0.5, learning_rate=0.15, max_depth=12, n_estimators=80, subsample=0.4;, score=0.993 total time=  49.3s\n",
            "[CV 3/5] END colsample_bytree=0.5, learning_rate=0.15, max_depth=12, n_estimators=80, subsample=0.4;, score=0.995 total time=  49.7s\n",
            "[CV 4/5] END colsample_bytree=0.5, learning_rate=0.15, max_depth=12, n_estimators=80, subsample=0.4;, score=0.991 total time=  48.1s\n",
            "[CV 5/5] END colsample_bytree=0.5, learning_rate=0.15, max_depth=12, n_estimators=80, subsample=0.4;, score=0.995 total time=  48.6s\n",
            "[CV 1/5] END colsample_bytree=0.5, learning_rate=0.15, max_depth=12, n_estimators=80, subsample=0.5;, score=0.995 total time=  54.7s\n",
            "[CV 2/5] END colsample_bytree=0.5, learning_rate=0.15, max_depth=12, n_estimators=80, subsample=0.5;, score=0.994 total time=  54.2s\n",
            "[CV 3/5] END colsample_bytree=0.5, learning_rate=0.15, max_depth=12, n_estimators=80, subsample=0.5;, score=0.995 total time=  54.3s\n",
            "[CV 4/5] END colsample_bytree=0.5, learning_rate=0.15, max_depth=12, n_estimators=80, subsample=0.5;, score=0.993 total time=  53.3s\n",
            "[CV 5/5] END colsample_bytree=0.5, learning_rate=0.15, max_depth=12, n_estimators=80, subsample=0.5;, score=0.996 total time=  53.4s\n",
            "[CV 1/5] END colsample_bytree=0.5, learning_rate=0.15, max_depth=12, n_estimators=80, subsample=0.6;, score=0.994 total time=  56.7s\n",
            "[CV 2/5] END colsample_bytree=0.5, learning_rate=0.15, max_depth=12, n_estimators=80, subsample=0.6;, score=0.994 total time=  55.9s\n",
            "[CV 3/5] END colsample_bytree=0.5, learning_rate=0.15, max_depth=12, n_estimators=80, subsample=0.6;, score=0.994 total time=  55.9s\n",
            "[CV 4/5] END colsample_bytree=0.5, learning_rate=0.15, max_depth=12, n_estimators=80, subsample=0.6;, score=0.994 total time=  55.4s\n",
            "[CV 5/5] END colsample_bytree=0.5, learning_rate=0.15, max_depth=12, n_estimators=80, subsample=0.6;, score=0.996 total time=  55.7s\n",
            "[CV 1/5] END colsample_bytree=0.5, learning_rate=0.15, max_depth=12, n_estimators=100, subsample=0.4;, score=0.993 total time=  56.7s\n",
            "[CV 2/5] END colsample_bytree=0.5, learning_rate=0.15, max_depth=12, n_estimators=100, subsample=0.4;, score=0.993 total time=  56.4s\n",
            "[CV 3/5] END colsample_bytree=0.5, learning_rate=0.15, max_depth=12, n_estimators=100, subsample=0.4;, score=0.996 total time=  57.0s\n",
            "[CV 4/5] END colsample_bytree=0.5, learning_rate=0.15, max_depth=12, n_estimators=100, subsample=0.4;, score=0.992 total time=  55.6s\n",
            "[CV 5/5] END colsample_bytree=0.5, learning_rate=0.15, max_depth=12, n_estimators=100, subsample=0.4;, score=0.995 total time=  56.2s\n",
            "[CV 1/5] END colsample_bytree=0.5, learning_rate=0.15, max_depth=12, n_estimators=100, subsample=0.5;, score=0.995 total time= 1.0min\n",
            "[CV 2/5] END colsample_bytree=0.5, learning_rate=0.15, max_depth=12, n_estimators=100, subsample=0.5;, score=0.994 total time= 1.0min\n",
            "[CV 3/5] END colsample_bytree=0.5, learning_rate=0.15, max_depth=12, n_estimators=100, subsample=0.5;, score=0.995 total time= 1.0min\n",
            "[CV 4/5] END colsample_bytree=0.5, learning_rate=0.15, max_depth=12, n_estimators=100, subsample=0.5;, score=0.993 total time=  59.9s\n",
            "[CV 5/5] END colsample_bytree=0.5, learning_rate=0.15, max_depth=12, n_estimators=100, subsample=0.5;, score=0.995 total time= 1.0min\n",
            "[CV 1/5] END colsample_bytree=0.5, learning_rate=0.15, max_depth=12, n_estimators=100, subsample=0.6;, score=0.995 total time= 1.1min\n",
            "[CV 2/5] END colsample_bytree=0.5, learning_rate=0.15, max_depth=12, n_estimators=100, subsample=0.6;, score=0.994 total time= 1.1min\n",
            "[CV 3/5] END colsample_bytree=0.5, learning_rate=0.15, max_depth=12, n_estimators=100, subsample=0.6;, score=0.995 total time= 1.1min\n",
            "[CV 4/5] END colsample_bytree=0.5, learning_rate=0.15, max_depth=12, n_estimators=100, subsample=0.6;, score=0.994 total time= 1.0min\n",
            "[CV 5/5] END colsample_bytree=0.5, learning_rate=0.15, max_depth=12, n_estimators=100, subsample=0.6;, score=0.995 total time= 1.1min\n",
            "[CV 1/5] END colsample_bytree=0.5, learning_rate=0.15, max_depth=12, n_estimators=150, subsample=0.4;, score=0.993 total time= 1.3min\n",
            "[CV 2/5] END colsample_bytree=0.5, learning_rate=0.15, max_depth=12, n_estimators=150, subsample=0.4;, score=0.993 total time= 1.2min\n",
            "[CV 3/5] END colsample_bytree=0.5, learning_rate=0.15, max_depth=12, n_estimators=150, subsample=0.4;, score=0.995 total time= 1.2min\n",
            "[CV 4/5] END colsample_bytree=0.5, learning_rate=0.15, max_depth=12, n_estimators=150, subsample=0.4;, score=0.991 total time= 1.2min\n",
            "[CV 5/5] END colsample_bytree=0.5, learning_rate=0.15, max_depth=12, n_estimators=150, subsample=0.4;, score=0.995 total time= 1.2min\n",
            "[CV 1/5] END colsample_bytree=0.5, learning_rate=0.15, max_depth=12, n_estimators=150, subsample=0.5;, score=0.995 total time= 1.3min\n",
            "[CV 2/5] END colsample_bytree=0.5, learning_rate=0.15, max_depth=12, n_estimators=150, subsample=0.5;, score=0.994 total time= 1.3min\n",
            "[CV 3/5] END colsample_bytree=0.5, learning_rate=0.15, max_depth=12, n_estimators=150, subsample=0.5;, score=0.995 total time= 1.3min\n",
            "[CV 4/5] END colsample_bytree=0.5, learning_rate=0.15, max_depth=12, n_estimators=150, subsample=0.5;, score=0.994 total time= 1.3min\n",
            "[CV 5/5] END colsample_bytree=0.5, learning_rate=0.15, max_depth=12, n_estimators=150, subsample=0.5;, score=0.995 total time= 1.3min\n",
            "[CV 1/5] END colsample_bytree=0.5, learning_rate=0.15, max_depth=12, n_estimators=150, subsample=0.6;, score=0.994 total time= 1.3min\n",
            "[CV 2/5] END colsample_bytree=0.5, learning_rate=0.15, max_depth=12, n_estimators=150, subsample=0.6;, score=0.994 total time= 1.4min\n",
            "[CV 3/5] END colsample_bytree=0.5, learning_rate=0.15, max_depth=12, n_estimators=150, subsample=0.6;, score=0.996 total time= 1.3min\n",
            "[CV 4/5] END colsample_bytree=0.5, learning_rate=0.15, max_depth=12, n_estimators=150, subsample=0.6;, score=0.994 total time= 1.3min\n",
            "[CV 5/5] END colsample_bytree=0.5, learning_rate=0.15, max_depth=12, n_estimators=150, subsample=0.6;, score=0.995 total time= 1.3min\n",
            "[CV 1/5] END colsample_bytree=0.5, learning_rate=0.2, max_depth=8, n_estimators=80, subsample=0.4;, score=0.994 total time=  43.8s\n",
            "[CV 2/5] END colsample_bytree=0.5, learning_rate=0.2, max_depth=8, n_estimators=80, subsample=0.4;, score=0.994 total time=  57.4s\n",
            "[CV 3/5] END colsample_bytree=0.5, learning_rate=0.2, max_depth=8, n_estimators=80, subsample=0.4;, score=0.996 total time=  53.2s\n",
            "[CV 4/5] END colsample_bytree=0.5, learning_rate=0.2, max_depth=8, n_estimators=80, subsample=0.4;, score=0.993 total time=  58.4s\n",
            "[CV 5/5] END colsample_bytree=0.5, learning_rate=0.2, max_depth=8, n_estimators=80, subsample=0.4;, score=0.993 total time=  58.0s\n",
            "[CV 1/5] END colsample_bytree=0.5, learning_rate=0.2, max_depth=8, n_estimators=80, subsample=0.5;, score=0.994 total time= 1.0min\n",
            "[CV 2/5] END colsample_bytree=0.5, learning_rate=0.2, max_depth=8, n_estimators=80, subsample=0.5;, score=0.994 total time=  59.0s\n",
            "[CV 3/5] END colsample_bytree=0.5, learning_rate=0.2, max_depth=8, n_estimators=80, subsample=0.5;, score=0.996 total time=  59.6s\n",
            "[CV 4/5] END colsample_bytree=0.5, learning_rate=0.2, max_depth=8, n_estimators=80, subsample=0.5;, score=0.994 total time=  58.9s\n",
            "[CV 5/5] END colsample_bytree=0.5, learning_rate=0.2, max_depth=8, n_estimators=80, subsample=0.5;, score=0.994 total time= 1.0min\n",
            "[CV 1/5] END colsample_bytree=0.5, learning_rate=0.2, max_depth=8, n_estimators=80, subsample=0.6;, score=0.995 total time= 1.0min\n",
            "[CV 2/5] END colsample_bytree=0.5, learning_rate=0.2, max_depth=8, n_estimators=80, subsample=0.6;, score=0.994 total time= 1.0min\n",
            "[CV 3/5] END colsample_bytree=0.5, learning_rate=0.2, max_depth=8, n_estimators=80, subsample=0.6;, score=0.996 total time= 1.0min\n",
            "[CV 4/5] END colsample_bytree=0.5, learning_rate=0.2, max_depth=8, n_estimators=80, subsample=0.6;, score=0.993 total time= 1.0min\n",
            "[CV 5/5] END colsample_bytree=0.5, learning_rate=0.2, max_depth=8, n_estimators=80, subsample=0.6;, score=0.995 total time= 1.0min\n",
            "[CV 1/5] END colsample_bytree=0.5, learning_rate=0.2, max_depth=8, n_estimators=100, subsample=0.4;, score=0.994 total time= 1.1min\n",
            "[CV 2/5] END colsample_bytree=0.5, learning_rate=0.2, max_depth=8, n_estimators=100, subsample=0.4;, score=0.994 total time= 1.1min\n",
            "[CV 3/5] END colsample_bytree=0.5, learning_rate=0.2, max_depth=8, n_estimators=100, subsample=0.4;, score=0.996 total time= 1.1min\n",
            "[CV 4/5] END colsample_bytree=0.5, learning_rate=0.2, max_depth=8, n_estimators=100, subsample=0.4;, score=0.993 total time= 1.1min\n",
            "[CV 5/5] END colsample_bytree=0.5, learning_rate=0.2, max_depth=8, n_estimators=100, subsample=0.4;, score=0.993 total time= 1.1min\n",
            "[CV 1/5] END colsample_bytree=0.5, learning_rate=0.2, max_depth=8, n_estimators=100, subsample=0.5;, score=0.994 total time= 1.2min\n",
            "[CV 2/5] END colsample_bytree=0.5, learning_rate=0.2, max_depth=8, n_estimators=100, subsample=0.5;, score=0.994 total time= 1.2min\n",
            "[CV 3/5] END colsample_bytree=0.5, learning_rate=0.2, max_depth=8, n_estimators=100, subsample=0.5;, score=0.997 total time= 1.3min\n",
            "[CV 4/5] END colsample_bytree=0.5, learning_rate=0.2, max_depth=8, n_estimators=100, subsample=0.5;, score=0.994 total time= 1.3min\n",
            "[CV 5/5] END colsample_bytree=0.5, learning_rate=0.2, max_depth=8, n_estimators=100, subsample=0.5;, score=0.995 total time= 1.2min\n",
            "[CV 1/5] END colsample_bytree=0.5, learning_rate=0.2, max_depth=8, n_estimators=100, subsample=0.6;, score=0.995 total time= 1.2min\n",
            "[CV 2/5] END colsample_bytree=0.5, learning_rate=0.2, max_depth=8, n_estimators=100, subsample=0.6;, score=0.994 total time= 1.2min\n",
            "[CV 3/5] END colsample_bytree=0.5, learning_rate=0.2, max_depth=8, n_estimators=100, subsample=0.6;, score=0.996 total time= 1.2min\n",
            "[CV 4/5] END colsample_bytree=0.5, learning_rate=0.2, max_depth=8, n_estimators=100, subsample=0.6;, score=0.993 total time= 1.1min\n",
            "[CV 5/5] END colsample_bytree=0.5, learning_rate=0.2, max_depth=8, n_estimators=100, subsample=0.6;, score=0.997 total time= 1.2min\n",
            "[CV 1/5] END colsample_bytree=0.5, learning_rate=0.2, max_depth=8, n_estimators=150, subsample=0.4;, score=0.994 total time= 1.4min\n",
            "[CV 2/5] END colsample_bytree=0.5, learning_rate=0.2, max_depth=8, n_estimators=150, subsample=0.4;, score=0.994 total time= 1.4min\n",
            "[CV 3/5] END colsample_bytree=0.5, learning_rate=0.2, max_depth=8, n_estimators=150, subsample=0.4;, score=0.995 total time= 1.4min\n",
            "[CV 4/5] END colsample_bytree=0.5, learning_rate=0.2, max_depth=8, n_estimators=150, subsample=0.4;, score=0.993 total time= 1.4min\n",
            "[CV 5/5] END colsample_bytree=0.5, learning_rate=0.2, max_depth=8, n_estimators=150, subsample=0.4;, score=0.994 total time= 1.4min\n",
            "[CV 1/5] END colsample_bytree=0.5, learning_rate=0.2, max_depth=8, n_estimators=150, subsample=0.5;, score=0.994 total time= 1.5min\n",
            "[CV 2/5] END colsample_bytree=0.5, learning_rate=0.2, max_depth=8, n_estimators=150, subsample=0.5;, score=0.994 total time= 1.5min\n",
            "[CV 3/5] END colsample_bytree=0.5, learning_rate=0.2, max_depth=8, n_estimators=150, subsample=0.5;, score=0.997 total time= 1.5min\n",
            "[CV 4/5] END colsample_bytree=0.5, learning_rate=0.2, max_depth=8, n_estimators=150, subsample=0.5;, score=0.994 total time= 1.4min\n",
            "[CV 5/5] END colsample_bytree=0.5, learning_rate=0.2, max_depth=8, n_estimators=150, subsample=0.5;, score=0.995 total time= 1.4min\n",
            "[CV 1/5] END colsample_bytree=0.5, learning_rate=0.2, max_depth=8, n_estimators=150, subsample=0.6;, score=0.995 total time= 1.5min\n",
            "[CV 2/5] END colsample_bytree=0.5, learning_rate=0.2, max_depth=8, n_estimators=150, subsample=0.6;, score=0.994 total time= 1.5min\n",
            "[CV 3/5] END colsample_bytree=0.5, learning_rate=0.2, max_depth=8, n_estimators=150, subsample=0.6;, score=0.996 total time= 1.5min\n",
            "[CV 4/5] END colsample_bytree=0.5, learning_rate=0.2, max_depth=8, n_estimators=150, subsample=0.6;, score=0.993 total time= 1.5min\n",
            "[CV 5/5] END colsample_bytree=0.5, learning_rate=0.2, max_depth=8, n_estimators=150, subsample=0.6;, score=0.997 total time= 1.5min\n",
            "[CV 1/5] END colsample_bytree=0.5, learning_rate=0.2, max_depth=10, n_estimators=80, subsample=0.4;, score=0.993 total time=  58.9s\n",
            "[CV 2/5] END colsample_bytree=0.5, learning_rate=0.2, max_depth=10, n_estimators=80, subsample=0.4;, score=0.994 total time=  58.1s\n",
            "[CV 3/5] END colsample_bytree=0.5, learning_rate=0.2, max_depth=10, n_estimators=80, subsample=0.4;, score=0.996 total time=  57.7s\n",
            "[CV 4/5] END colsample_bytree=0.5, learning_rate=0.2, max_depth=10, n_estimators=80, subsample=0.4;, score=0.992 total time=  56.4s\n",
            "[CV 5/5] END colsample_bytree=0.5, learning_rate=0.2, max_depth=10, n_estimators=80, subsample=0.4;, score=0.993 total time=  57.0s\n",
            "[CV 1/5] END colsample_bytree=0.5, learning_rate=0.2, max_depth=10, n_estimators=80, subsample=0.5;, score=0.994 total time= 1.0min\n",
            "[CV 2/5] END colsample_bytree=0.5, learning_rate=0.2, max_depth=10, n_estimators=80, subsample=0.5;, score=0.994 total time= 1.0min\n",
            "[CV 3/5] END colsample_bytree=0.5, learning_rate=0.2, max_depth=10, n_estimators=80, subsample=0.5;, score=0.995 total time= 1.0min\n",
            "[CV 4/5] END colsample_bytree=0.5, learning_rate=0.2, max_depth=10, n_estimators=80, subsample=0.5;, score=0.993 total time=  59.6s\n",
            "[CV 5/5] END colsample_bytree=0.5, learning_rate=0.2, max_depth=10, n_estimators=80, subsample=0.5;, score=0.994 total time= 1.0min\n",
            "[CV 1/5] END colsample_bytree=0.5, learning_rate=0.2, max_depth=10, n_estimators=80, subsample=0.6;, score=0.995 total time= 1.1min\n",
            "[CV 2/5] END colsample_bytree=0.5, learning_rate=0.2, max_depth=10, n_estimators=80, subsample=0.6;, score=0.994 total time= 1.0min\n",
            "[CV 3/5] END colsample_bytree=0.5, learning_rate=0.2, max_depth=10, n_estimators=80, subsample=0.6;, score=0.995 total time= 1.2min\n",
            "[CV 4/5] END colsample_bytree=0.5, learning_rate=0.2, max_depth=10, n_estimators=80, subsample=0.6;, score=0.993 total time= 1.0min\n",
            "[CV 5/5] END colsample_bytree=0.5, learning_rate=0.2, max_depth=10, n_estimators=80, subsample=0.6;, score=0.997 total time= 1.0min\n",
            "[CV 1/5] END colsample_bytree=0.5, learning_rate=0.2, max_depth=10, n_estimators=100, subsample=0.4;, score=0.994 total time= 1.1min\n",
            "[CV 2/5] END colsample_bytree=0.5, learning_rate=0.2, max_depth=10, n_estimators=100, subsample=0.4;, score=0.993 total time= 1.1min\n",
            "[CV 3/5] END colsample_bytree=0.5, learning_rate=0.2, max_depth=10, n_estimators=100, subsample=0.4;, score=0.995 total time= 1.1min\n",
            "[CV 4/5] END colsample_bytree=0.5, learning_rate=0.2, max_depth=10, n_estimators=100, subsample=0.4;, score=0.993 total time= 1.0min\n",
            "[CV 5/5] END colsample_bytree=0.5, learning_rate=0.2, max_depth=10, n_estimators=100, subsample=0.4;, score=0.993 total time= 1.1min\n",
            "[CV 1/5] END colsample_bytree=0.5, learning_rate=0.2, max_depth=10, n_estimators=100, subsample=0.5;, score=0.994 total time= 1.2min\n",
            "[CV 2/5] END colsample_bytree=0.5, learning_rate=0.2, max_depth=10, n_estimators=100, subsample=0.5;, score=0.994 total time= 1.1min\n",
            "[CV 3/5] END colsample_bytree=0.5, learning_rate=0.2, max_depth=10, n_estimators=100, subsample=0.5;, score=0.995 total time= 1.1min\n",
            "[CV 4/5] END colsample_bytree=0.5, learning_rate=0.2, max_depth=10, n_estimators=100, subsample=0.5;, score=0.993 total time= 1.1min\n",
            "[CV 5/5] END colsample_bytree=0.5, learning_rate=0.2, max_depth=10, n_estimators=100, subsample=0.5;, score=0.994 total time= 1.1min\n",
            "[CV 1/5] END colsample_bytree=0.5, learning_rate=0.2, max_depth=10, n_estimators=100, subsample=0.6;, score=0.994 total time= 1.4min\n",
            "[CV 2/5] END colsample_bytree=0.5, learning_rate=0.2, max_depth=10, n_estimators=100, subsample=0.6;, score=0.994 total time= 1.4min\n",
            "[CV 3/5] END colsample_bytree=0.5, learning_rate=0.2, max_depth=10, n_estimators=100, subsample=0.6;, score=0.995 total time= 1.3min\n",
            "[CV 4/5] END colsample_bytree=0.5, learning_rate=0.2, max_depth=10, n_estimators=100, subsample=0.6;, score=0.993 total time= 1.3min\n",
            "[CV 5/5] END colsample_bytree=0.5, learning_rate=0.2, max_depth=10, n_estimators=100, subsample=0.6;, score=0.996 total time= 1.2min\n",
            "[CV 1/5] END colsample_bytree=0.5, learning_rate=0.2, max_depth=10, n_estimators=150, subsample=0.4;, score=0.993 total time= 1.4min\n",
            "[CV 2/5] END colsample_bytree=0.5, learning_rate=0.2, max_depth=10, n_estimators=150, subsample=0.4;, score=0.993 total time= 1.4min\n",
            "[CV 3/5] END colsample_bytree=0.5, learning_rate=0.2, max_depth=10, n_estimators=150, subsample=0.4;, score=0.995 total time= 1.4min\n",
            "[CV 4/5] END colsample_bytree=0.5, learning_rate=0.2, max_depth=10, n_estimators=150, subsample=0.4;, score=0.992 total time= 1.5min\n",
            "[CV 5/5] END colsample_bytree=0.5, learning_rate=0.2, max_depth=10, n_estimators=150, subsample=0.4;, score=0.993 total time= 1.6min\n",
            "[CV 1/5] END colsample_bytree=0.5, learning_rate=0.2, max_depth=10, n_estimators=150, subsample=0.5;, score=0.994 total time= 1.6min\n",
            "[CV 2/5] END colsample_bytree=0.5, learning_rate=0.2, max_depth=10, n_estimators=150, subsample=0.5;, score=0.994 total time= 1.5min\n",
            "[CV 3/5] END colsample_bytree=0.5, learning_rate=0.2, max_depth=10, n_estimators=150, subsample=0.5;, score=0.995 total time= 1.5min\n",
            "[CV 4/5] END colsample_bytree=0.5, learning_rate=0.2, max_depth=10, n_estimators=150, subsample=0.5;, score=0.993 total time= 1.4min\n",
            "[CV 5/5] END colsample_bytree=0.5, learning_rate=0.2, max_depth=10, n_estimators=150, subsample=0.5;, score=0.995 total time= 1.5min\n",
            "[CV 1/5] END colsample_bytree=0.5, learning_rate=0.2, max_depth=10, n_estimators=150, subsample=0.6;, score=0.995 total time= 1.5min\n",
            "[CV 2/5] END colsample_bytree=0.5, learning_rate=0.2, max_depth=10, n_estimators=150, subsample=0.6;, score=0.993 total time= 1.5min\n",
            "[CV 3/5] END colsample_bytree=0.5, learning_rate=0.2, max_depth=10, n_estimators=150, subsample=0.6;, score=0.995 total time= 1.5min\n",
            "[CV 4/5] END colsample_bytree=0.5, learning_rate=0.2, max_depth=10, n_estimators=150, subsample=0.6;, score=0.993 total time= 1.5min\n",
            "[CV 5/5] END colsample_bytree=0.5, learning_rate=0.2, max_depth=10, n_estimators=150, subsample=0.6;, score=0.996 total time= 1.5min\n",
            "[CV 1/5] END colsample_bytree=0.5, learning_rate=0.2, max_depth=12, n_estimators=80, subsample=0.4;, score=0.993 total time=  57.5s\n",
            "[CV 2/5] END colsample_bytree=0.5, learning_rate=0.2, max_depth=12, n_estimators=80, subsample=0.4;, score=0.993 total time=  56.4s\n",
            "[CV 3/5] END colsample_bytree=0.5, learning_rate=0.2, max_depth=12, n_estimators=80, subsample=0.4;, score=0.995 total time=  57.8s\n",
            "[CV 4/5] END colsample_bytree=0.5, learning_rate=0.2, max_depth=12, n_estimators=80, subsample=0.4;, score=0.991 total time=  55.9s\n",
            "[CV 5/5] END colsample_bytree=0.5, learning_rate=0.2, max_depth=12, n_estimators=80, subsample=0.4;, score=0.993 total time=  57.1s\n",
            "[CV 1/5] END colsample_bytree=0.5, learning_rate=0.2, max_depth=12, n_estimators=80, subsample=0.5;, score=0.994 total time= 1.0min\n",
            "[CV 2/5] END colsample_bytree=0.5, learning_rate=0.2, max_depth=12, n_estimators=80, subsample=0.5;, score=0.994 total time= 1.0min\n",
            "[CV 3/5] END colsample_bytree=0.5, learning_rate=0.2, max_depth=12, n_estimators=80, subsample=0.5;, score=0.995 total time= 1.0min\n",
            "[CV 4/5] END colsample_bytree=0.5, learning_rate=0.2, max_depth=12, n_estimators=80, subsample=0.5;, score=0.994 total time=  58.9s\n",
            "[CV 5/5] END colsample_bytree=0.5, learning_rate=0.2, max_depth=12, n_estimators=80, subsample=0.5;, score=0.995 total time= 1.0min\n",
            "[CV 1/5] END colsample_bytree=0.5, learning_rate=0.2, max_depth=12, n_estimators=80, subsample=0.6;, score=0.994 total time= 1.1min\n",
            "[CV 2/5] END colsample_bytree=0.5, learning_rate=0.2, max_depth=12, n_estimators=80, subsample=0.6;, score=0.993 total time= 1.1min\n",
            "[CV 3/5] END colsample_bytree=0.5, learning_rate=0.2, max_depth=12, n_estimators=80, subsample=0.6;, score=0.996 total time= 1.1min\n",
            "[CV 4/5] END colsample_bytree=0.5, learning_rate=0.2, max_depth=12, n_estimators=80, subsample=0.6;, score=0.993 total time=  53.3s\n",
            "[CV 5/5] END colsample_bytree=0.5, learning_rate=0.2, max_depth=12, n_estimators=80, subsample=0.6;, score=0.996 total time=  49.1s\n",
            "[CV 1/5] END colsample_bytree=0.5, learning_rate=0.2, max_depth=12, n_estimators=100, subsample=0.4;, score=0.993 total time=  50.8s\n",
            "[CV 2/5] END colsample_bytree=0.5, learning_rate=0.2, max_depth=12, n_estimators=100, subsample=0.4;, score=0.994 total time=  49.3s\n",
            "[CV 3/5] END colsample_bytree=0.5, learning_rate=0.2, max_depth=12, n_estimators=100, subsample=0.4;, score=0.995 total time=  50.1s\n",
            "[CV 4/5] END colsample_bytree=0.5, learning_rate=0.2, max_depth=12, n_estimators=100, subsample=0.4;, score=0.991 total time=  48.7s\n",
            "[CV 5/5] END colsample_bytree=0.5, learning_rate=0.2, max_depth=12, n_estimators=100, subsample=0.4;, score=0.993 total time=  51.2s\n",
            "[CV 1/5] END colsample_bytree=0.5, learning_rate=0.2, max_depth=12, n_estimators=100, subsample=0.5;, score=0.994 total time=  54.1s\n",
            "[CV 2/5] END colsample_bytree=0.5, learning_rate=0.2, max_depth=12, n_estimators=100, subsample=0.5;, score=0.994 total time=  53.6s\n",
            "[CV 3/5] END colsample_bytree=0.5, learning_rate=0.2, max_depth=12, n_estimators=100, subsample=0.5;, score=0.995 total time=  53.8s\n",
            "[CV 4/5] END colsample_bytree=0.5, learning_rate=0.2, max_depth=12, n_estimators=100, subsample=0.5;, score=0.994 total time=  51.9s\n",
            "[CV 5/5] END colsample_bytree=0.5, learning_rate=0.2, max_depth=12, n_estimators=100, subsample=0.5;, score=0.995 total time=  52.9s\n",
            "[CV 1/5] END colsample_bytree=0.5, learning_rate=0.2, max_depth=12, n_estimators=100, subsample=0.6;, score=0.994 total time=  55.9s\n",
            "[CV 2/5] END colsample_bytree=0.5, learning_rate=0.2, max_depth=12, n_estimators=100, subsample=0.6;, score=0.993 total time=  55.9s\n",
            "[CV 3/5] END colsample_bytree=0.5, learning_rate=0.2, max_depth=12, n_estimators=100, subsample=0.6;, score=0.996 total time=  54.4s\n",
            "[CV 4/5] END colsample_bytree=0.5, learning_rate=0.2, max_depth=12, n_estimators=100, subsample=0.6;, score=0.993 total time=  52.9s\n",
            "[CV 5/5] END colsample_bytree=0.5, learning_rate=0.2, max_depth=12, n_estimators=100, subsample=0.6;, score=0.996 total time=  54.6s\n",
            "[CV 1/5] END colsample_bytree=0.5, learning_rate=0.2, max_depth=12, n_estimators=150, subsample=0.4;, score=0.993 total time= 1.1min\n",
            "[CV 2/5] END colsample_bytree=0.5, learning_rate=0.2, max_depth=12, n_estimators=150, subsample=0.4;, score=0.994 total time= 1.0min\n",
            "[CV 3/5] END colsample_bytree=0.5, learning_rate=0.2, max_depth=12, n_estimators=150, subsample=0.4;, score=0.995 total time= 1.1min\n",
            "[CV 4/5] END colsample_bytree=0.5, learning_rate=0.2, max_depth=12, n_estimators=150, subsample=0.4;, score=0.993 total time= 1.0min\n",
            "[CV 5/5] END colsample_bytree=0.5, learning_rate=0.2, max_depth=12, n_estimators=150, subsample=0.4;, score=0.993 total time= 1.0min\n",
            "[CV 1/5] END colsample_bytree=0.5, learning_rate=0.2, max_depth=12, n_estimators=150, subsample=0.5;, score=0.994 total time= 1.1min\n",
            "[CV 2/5] END colsample_bytree=0.5, learning_rate=0.2, max_depth=12, n_estimators=150, subsample=0.5;, score=0.994 total time= 1.1min\n",
            "[CV 3/5] END colsample_bytree=0.5, learning_rate=0.2, max_depth=12, n_estimators=150, subsample=0.5;, score=0.995 total time= 1.1min\n",
            "[CV 4/5] END colsample_bytree=0.5, learning_rate=0.2, max_depth=12, n_estimators=150, subsample=0.5;, score=0.994 total time= 1.1min\n",
            "[CV 5/5] END colsample_bytree=0.5, learning_rate=0.2, max_depth=12, n_estimators=150, subsample=0.5;, score=0.995 total time= 1.1min\n",
            "[CV 1/5] END colsample_bytree=0.5, learning_rate=0.2, max_depth=12, n_estimators=150, subsample=0.6;, score=0.994 total time= 1.2min\n",
            "[CV 2/5] END colsample_bytree=0.5, learning_rate=0.2, max_depth=12, n_estimators=150, subsample=0.6;, score=0.993 total time= 1.1min\n",
            "[CV 3/5] END colsample_bytree=0.5, learning_rate=0.2, max_depth=12, n_estimators=150, subsample=0.6;, score=0.996 total time= 1.1min\n",
            "[CV 4/5] END colsample_bytree=0.5, learning_rate=0.2, max_depth=12, n_estimators=150, subsample=0.6;, score=0.993 total time= 1.1min\n",
            "[CV 5/5] END colsample_bytree=0.5, learning_rate=0.2, max_depth=12, n_estimators=150, subsample=0.6;, score=0.995 total time= 1.1min\n",
            "[CV 1/5] END colsample_bytree=0.6, learning_rate=0.1, max_depth=8, n_estimators=80, subsample=0.4;, score=0.994 total time= 1.0min\n",
            "[CV 2/5] END colsample_bytree=0.6, learning_rate=0.1, max_depth=8, n_estimators=80, subsample=0.4;, score=0.993 total time= 1.0min\n",
            "[CV 3/5] END colsample_bytree=0.6, learning_rate=0.1, max_depth=8, n_estimators=80, subsample=0.4;, score=0.994 total time= 1.1min\n",
            "[CV 4/5] END colsample_bytree=0.6, learning_rate=0.1, max_depth=8, n_estimators=80, subsample=0.4;, score=0.991 total time= 1.0min\n",
            "[CV 5/5] END colsample_bytree=0.6, learning_rate=0.1, max_depth=8, n_estimators=80, subsample=0.4;, score=0.994 total time= 1.0min\n",
            "[CV 1/5] END colsample_bytree=0.6, learning_rate=0.1, max_depth=8, n_estimators=80, subsample=0.5;, score=0.995 total time= 1.1min\n",
            "[CV 2/5] END colsample_bytree=0.6, learning_rate=0.1, max_depth=8, n_estimators=80, subsample=0.5;, score=0.994 total time= 1.1min\n",
            "[CV 3/5] END colsample_bytree=0.6, learning_rate=0.1, max_depth=8, n_estimators=80, subsample=0.5;, score=0.994 total time= 1.2min\n",
            "[CV 4/5] END colsample_bytree=0.6, learning_rate=0.1, max_depth=8, n_estimators=80, subsample=0.5;, score=0.993 total time= 1.2min\n",
            "[CV 5/5] END colsample_bytree=0.6, learning_rate=0.1, max_depth=8, n_estimators=80, subsample=0.5;, score=0.995 total time= 1.1min\n",
            "[CV 1/5] END colsample_bytree=0.6, learning_rate=0.1, max_depth=8, n_estimators=80, subsample=0.6;, score=0.994 total time= 1.2min\n",
            "[CV 2/5] END colsample_bytree=0.6, learning_rate=0.1, max_depth=8, n_estimators=80, subsample=0.6;, score=0.994 total time= 1.2min\n",
            "[CV 3/5] END colsample_bytree=0.6, learning_rate=0.1, max_depth=8, n_estimators=80, subsample=0.6;, score=0.995 total time= 1.2min\n",
            "[CV 4/5] END colsample_bytree=0.6, learning_rate=0.1, max_depth=8, n_estimators=80, subsample=0.6;, score=0.993 total time= 1.2min\n",
            "[CV 5/5] END colsample_bytree=0.6, learning_rate=0.1, max_depth=8, n_estimators=80, subsample=0.6;, score=0.994 total time= 1.2min\n",
            "[CV 1/5] END colsample_bytree=0.6, learning_rate=0.1, max_depth=8, n_estimators=100, subsample=0.4;, score=0.995 total time= 1.2min\n",
            "[CV 2/5] END colsample_bytree=0.6, learning_rate=0.1, max_depth=8, n_estimators=100, subsample=0.4;, score=0.993 total time= 1.2min\n",
            "[CV 3/5] END colsample_bytree=0.6, learning_rate=0.1, max_depth=8, n_estimators=100, subsample=0.4;, score=0.994 total time= 1.2min\n",
            "[CV 4/5] END colsample_bytree=0.6, learning_rate=0.1, max_depth=8, n_estimators=100, subsample=0.4;, score=0.991 total time= 1.2min\n",
            "[CV 5/5] END colsample_bytree=0.6, learning_rate=0.1, max_depth=8, n_estimators=100, subsample=0.4;, score=0.994 total time= 1.2min\n",
            "[CV 1/5] END colsample_bytree=0.6, learning_rate=0.1, max_depth=8, n_estimators=100, subsample=0.5;, score=0.995 total time= 1.3min\n",
            "[CV 2/5] END colsample_bytree=0.6, learning_rate=0.1, max_depth=8, n_estimators=100, subsample=0.5;, score=0.994 total time= 1.3min\n",
            "[CV 3/5] END colsample_bytree=0.6, learning_rate=0.1, max_depth=8, n_estimators=100, subsample=0.5;, score=0.994 total time= 1.4min\n",
            "[CV 4/5] END colsample_bytree=0.6, learning_rate=0.1, max_depth=8, n_estimators=100, subsample=0.5;, score=0.993 total time= 1.3min\n",
            "[CV 5/5] END colsample_bytree=0.6, learning_rate=0.1, max_depth=8, n_estimators=100, subsample=0.5;, score=0.995 total time= 1.3min\n",
            "[CV 1/5] END colsample_bytree=0.6, learning_rate=0.1, max_depth=8, n_estimators=100, subsample=0.6;, score=0.994 total time= 1.4min\n",
            "[CV 2/5] END colsample_bytree=0.6, learning_rate=0.1, max_depth=8, n_estimators=100, subsample=0.6;, score=0.994 total time= 1.4min\n",
            "[CV 3/5] END colsample_bytree=0.6, learning_rate=0.1, max_depth=8, n_estimators=100, subsample=0.6;, score=0.994 total time= 1.4min\n",
            "[CV 4/5] END colsample_bytree=0.6, learning_rate=0.1, max_depth=8, n_estimators=100, subsample=0.6;, score=0.993 total time= 1.4min\n",
            "[CV 5/5] END colsample_bytree=0.6, learning_rate=0.1, max_depth=8, n_estimators=100, subsample=0.6;, score=0.995 total time= 1.4min\n",
            "[CV 1/5] END colsample_bytree=0.6, learning_rate=0.1, max_depth=8, n_estimators=150, subsample=0.4;, score=0.995 total time= 1.6min\n",
            "[CV 2/5] END colsample_bytree=0.6, learning_rate=0.1, max_depth=8, n_estimators=150, subsample=0.4;, score=0.993 total time= 1.6min\n",
            "[CV 3/5] END colsample_bytree=0.6, learning_rate=0.1, max_depth=8, n_estimators=150, subsample=0.4;, score=0.995 total time= 1.6min\n",
            "[CV 4/5] END colsample_bytree=0.6, learning_rate=0.1, max_depth=8, n_estimators=150, subsample=0.4;, score=0.993 total time= 1.6min\n",
            "[CV 5/5] END colsample_bytree=0.6, learning_rate=0.1, max_depth=8, n_estimators=150, subsample=0.4;, score=0.995 total time= 1.6min\n",
            "[CV 1/5] END colsample_bytree=0.6, learning_rate=0.1, max_depth=8, n_estimators=150, subsample=0.5;, score=0.995 total time= 1.7min\n",
            "[CV 2/5] END colsample_bytree=0.6, learning_rate=0.1, max_depth=8, n_estimators=150, subsample=0.5;, score=0.994 total time= 1.7min\n",
            "[CV 3/5] END colsample_bytree=0.6, learning_rate=0.1, max_depth=8, n_estimators=150, subsample=0.5;, score=0.995 total time= 1.7min\n",
            "[CV 4/5] END colsample_bytree=0.6, learning_rate=0.1, max_depth=8, n_estimators=150, subsample=0.5;, score=0.993 total time= 1.7min\n",
            "[CV 5/5] END colsample_bytree=0.6, learning_rate=0.1, max_depth=8, n_estimators=150, subsample=0.5;, score=0.995 total time= 1.7min\n",
            "[CV 1/5] END colsample_bytree=0.6, learning_rate=0.1, max_depth=8, n_estimators=150, subsample=0.6;, score=0.995 total time= 1.8min\n",
            "[CV 2/5] END colsample_bytree=0.6, learning_rate=0.1, max_depth=8, n_estimators=150, subsample=0.6;, score=0.994 total time= 1.8min\n",
            "[CV 3/5] END colsample_bytree=0.6, learning_rate=0.1, max_depth=8, n_estimators=150, subsample=0.6;, score=0.994 total time= 1.8min\n",
            "[CV 4/5] END colsample_bytree=0.6, learning_rate=0.1, max_depth=8, n_estimators=150, subsample=0.6;, score=0.993 total time= 1.8min\n",
            "[CV 5/5] END colsample_bytree=0.6, learning_rate=0.1, max_depth=8, n_estimators=150, subsample=0.6;, score=0.995 total time= 1.8min\n",
            "[CV 1/5] END colsample_bytree=0.6, learning_rate=0.1, max_depth=10, n_estimators=80, subsample=0.4;, score=0.995 total time= 1.1min\n",
            "[CV 2/5] END colsample_bytree=0.6, learning_rate=0.1, max_depth=10, n_estimators=80, subsample=0.4;, score=0.993 total time= 1.1min\n",
            "[CV 3/5] END colsample_bytree=0.6, learning_rate=0.1, max_depth=10, n_estimators=80, subsample=0.4;, score=0.995 total time= 1.1min\n",
            "[CV 4/5] END colsample_bytree=0.6, learning_rate=0.1, max_depth=10, n_estimators=80, subsample=0.4;, score=0.992 total time= 1.1min\n",
            "[CV 5/5] END colsample_bytree=0.6, learning_rate=0.1, max_depth=10, n_estimators=80, subsample=0.4;, score=0.995 total time= 1.1min\n",
            "[CV 1/5] END colsample_bytree=0.6, learning_rate=0.1, max_depth=10, n_estimators=80, subsample=0.5;, score=0.995 total time= 1.2min\n",
            "[CV 2/5] END colsample_bytree=0.6, learning_rate=0.1, max_depth=10, n_estimators=80, subsample=0.5;, score=0.994 total time= 1.2min\n",
            "[CV 3/5] END colsample_bytree=0.6, learning_rate=0.1, max_depth=10, n_estimators=80, subsample=0.5;, score=0.994 total time= 1.2min\n",
            "[CV 4/5] END colsample_bytree=0.6, learning_rate=0.1, max_depth=10, n_estimators=80, subsample=0.5;, score=0.993 total time= 1.2min\n",
            "[CV 5/5] END colsample_bytree=0.6, learning_rate=0.1, max_depth=10, n_estimators=80, subsample=0.5;, score=0.995 total time= 1.2min\n",
            "[CV 1/5] END colsample_bytree=0.6, learning_rate=0.1, max_depth=10, n_estimators=80, subsample=0.6;, score=0.994 total time= 1.2min\n",
            "[CV 2/5] END colsample_bytree=0.6, learning_rate=0.1, max_depth=10, n_estimators=80, subsample=0.6;, score=0.994 total time= 1.2min\n",
            "[CV 3/5] END colsample_bytree=0.6, learning_rate=0.1, max_depth=10, n_estimators=80, subsample=0.6;, score=0.995 total time= 1.2min\n",
            "[CV 4/5] END colsample_bytree=0.6, learning_rate=0.1, max_depth=10, n_estimators=80, subsample=0.6;, score=0.993 total time= 1.2min\n",
            "[CV 5/5] END colsample_bytree=0.6, learning_rate=0.1, max_depth=10, n_estimators=80, subsample=0.6;, score=0.995 total time= 1.2min\n",
            "[CV 1/5] END colsample_bytree=0.6, learning_rate=0.1, max_depth=10, n_estimators=100, subsample=0.4;, score=0.994 total time= 1.3min\n",
            "[CV 2/5] END colsample_bytree=0.6, learning_rate=0.1, max_depth=10, n_estimators=100, subsample=0.4;, score=0.993 total time= 1.3min\n",
            "[CV 3/5] END colsample_bytree=0.6, learning_rate=0.1, max_depth=10, n_estimators=100, subsample=0.4;, score=0.995 total time= 1.3min\n",
            "[CV 4/5] END colsample_bytree=0.6, learning_rate=0.1, max_depth=10, n_estimators=100, subsample=0.4;, score=0.992 total time= 1.2min\n",
            "[CV 5/5] END colsample_bytree=0.6, learning_rate=0.1, max_depth=10, n_estimators=100, subsample=0.4;, score=0.995 total time= 1.2min\n",
            "[CV 1/5] END colsample_bytree=0.6, learning_rate=0.1, max_depth=10, n_estimators=100, subsample=0.5;, score=0.995 total time= 1.4min\n",
            "[CV 2/5] END colsample_bytree=0.6, learning_rate=0.1, max_depth=10, n_estimators=100, subsample=0.5;, score=0.994 total time= 1.4min\n",
            "[CV 3/5] END colsample_bytree=0.6, learning_rate=0.1, max_depth=10, n_estimators=100, subsample=0.5;, score=0.995 total time= 1.4min\n",
            "[CV 4/5] END colsample_bytree=0.6, learning_rate=0.1, max_depth=10, n_estimators=100, subsample=0.5;, score=0.993 total time= 1.4min\n",
            "[CV 5/5] END colsample_bytree=0.6, learning_rate=0.1, max_depth=10, n_estimators=100, subsample=0.5;, score=0.995 total time= 1.4min\n",
            "[CV 1/5] END colsample_bytree=0.6, learning_rate=0.1, max_depth=10, n_estimators=100, subsample=0.6;, score=0.994 total time= 1.4min\n",
            "[CV 2/5] END colsample_bytree=0.6, learning_rate=0.1, max_depth=10, n_estimators=100, subsample=0.6;, score=0.994 total time= 1.4min\n",
            "[CV 3/5] END colsample_bytree=0.6, learning_rate=0.1, max_depth=10, n_estimators=100, subsample=0.6;, score=0.994 total time= 1.5min\n",
            "[CV 4/5] END colsample_bytree=0.6, learning_rate=0.1, max_depth=10, n_estimators=100, subsample=0.6;, score=0.993 total time= 1.4min\n",
            "[CV 5/5] END colsample_bytree=0.6, learning_rate=0.1, max_depth=10, n_estimators=100, subsample=0.6;, score=0.995 total time= 1.4min\n",
            "[CV 1/5] END colsample_bytree=0.6, learning_rate=0.1, max_depth=10, n_estimators=150, subsample=0.4;, score=0.995 total time= 1.6min\n",
            "[CV 2/5] END colsample_bytree=0.6, learning_rate=0.1, max_depth=10, n_estimators=150, subsample=0.4;, score=0.993 total time= 1.6min\n",
            "[CV 3/5] END colsample_bytree=0.6, learning_rate=0.1, max_depth=10, n_estimators=150, subsample=0.4;, score=0.995 total time= 1.6min\n",
            "[CV 4/5] END colsample_bytree=0.6, learning_rate=0.1, max_depth=10, n_estimators=150, subsample=0.4;, score=0.993 total time= 1.6min\n",
            "[CV 5/5] END colsample_bytree=0.6, learning_rate=0.1, max_depth=10, n_estimators=150, subsample=0.4;, score=0.994 total time= 1.6min\n",
            "[CV 1/5] END colsample_bytree=0.6, learning_rate=0.1, max_depth=10, n_estimators=150, subsample=0.5;, score=0.995 total time= 1.8min\n",
            "[CV 2/5] END colsample_bytree=0.6, learning_rate=0.1, max_depth=10, n_estimators=150, subsample=0.5;, score=0.994 total time= 1.8min\n",
            "[CV 3/5] END colsample_bytree=0.6, learning_rate=0.1, max_depth=10, n_estimators=150, subsample=0.5;, score=0.996 total time= 1.8min\n",
            "[CV 4/5] END colsample_bytree=0.6, learning_rate=0.1, max_depth=10, n_estimators=150, subsample=0.5;, score=0.993 total time= 1.7min\n",
            "[CV 5/5] END colsample_bytree=0.6, learning_rate=0.1, max_depth=10, n_estimators=150, subsample=0.5;, score=0.995 total time= 1.8min\n",
            "[CV 1/5] END colsample_bytree=0.6, learning_rate=0.1, max_depth=10, n_estimators=150, subsample=0.6;, score=0.994 total time= 1.8min\n",
            "[CV 2/5] END colsample_bytree=0.6, learning_rate=0.1, max_depth=10, n_estimators=150, subsample=0.6;, score=0.994 total time= 1.8min\n",
            "[CV 3/5] END colsample_bytree=0.6, learning_rate=0.1, max_depth=10, n_estimators=150, subsample=0.6;, score=0.995 total time= 1.8min\n",
            "[CV 4/5] END colsample_bytree=0.6, learning_rate=0.1, max_depth=10, n_estimators=150, subsample=0.6;, score=0.993 total time= 1.8min\n",
            "[CV 5/5] END colsample_bytree=0.6, learning_rate=0.1, max_depth=10, n_estimators=150, subsample=0.6;, score=0.995 total time= 1.8min\n",
            "[CV 1/5] END colsample_bytree=0.6, learning_rate=0.1, max_depth=12, n_estimators=80, subsample=0.4;, score=0.995 total time= 1.1min\n",
            "[CV 2/5] END colsample_bytree=0.6, learning_rate=0.1, max_depth=12, n_estimators=80, subsample=0.4;, score=0.993 total time= 1.1min\n",
            "[CV 3/5] END colsample_bytree=0.6, learning_rate=0.1, max_depth=12, n_estimators=80, subsample=0.4;, score=0.993 total time= 1.1min\n",
            "[CV 4/5] END colsample_bytree=0.6, learning_rate=0.1, max_depth=12, n_estimators=80, subsample=0.4;, score=0.991 total time= 1.1min\n",
            "[CV 5/5] END colsample_bytree=0.6, learning_rate=0.1, max_depth=12, n_estimators=80, subsample=0.4;, score=0.994 total time= 1.1min\n",
            "[CV 1/5] END colsample_bytree=0.6, learning_rate=0.1, max_depth=12, n_estimators=80, subsample=0.5;, score=0.995 total time= 1.2min\n",
            "[CV 2/5] END colsample_bytree=0.6, learning_rate=0.1, max_depth=12, n_estimators=80, subsample=0.5;, score=0.994 total time= 1.2min\n",
            "[CV 3/5] END colsample_bytree=0.6, learning_rate=0.1, max_depth=12, n_estimators=80, subsample=0.5;, score=0.995 total time= 1.2min\n",
            "[CV 4/5] END colsample_bytree=0.6, learning_rate=0.1, max_depth=12, n_estimators=80, subsample=0.5;, score=0.993 total time= 1.2min\n",
            "[CV 5/5] END colsample_bytree=0.6, learning_rate=0.1, max_depth=12, n_estimators=80, subsample=0.5;, score=0.995 total time= 1.2min\n",
            "[CV 1/5] END colsample_bytree=0.6, learning_rate=0.1, max_depth=12, n_estimators=80, subsample=0.6;, score=0.994 total time= 1.2min\n",
            "[CV 2/5] END colsample_bytree=0.6, learning_rate=0.1, max_depth=12, n_estimators=80, subsample=0.6;, score=0.994 total time= 1.2min\n",
            "[CV 3/5] END colsample_bytree=0.6, learning_rate=0.1, max_depth=12, n_estimators=80, subsample=0.6;, score=0.995 total time= 1.3min\n",
            "[CV 4/5] END colsample_bytree=0.6, learning_rate=0.1, max_depth=12, n_estimators=80, subsample=0.6;, score=0.993 total time= 1.2min\n",
            "[CV 5/5] END colsample_bytree=0.6, learning_rate=0.1, max_depth=12, n_estimators=80, subsample=0.6;, score=0.995 total time= 1.2min\n",
            "[CV 1/5] END colsample_bytree=0.6, learning_rate=0.1, max_depth=12, n_estimators=100, subsample=0.4;, score=0.994 total time= 1.2min\n",
            "[CV 2/5] END colsample_bytree=0.6, learning_rate=0.1, max_depth=12, n_estimators=100, subsample=0.4;, score=0.993 total time= 1.2min\n",
            "[CV 3/5] END colsample_bytree=0.6, learning_rate=0.1, max_depth=12, n_estimators=100, subsample=0.4;, score=0.994 total time= 1.3min\n",
            "[CV 4/5] END colsample_bytree=0.6, learning_rate=0.1, max_depth=12, n_estimators=100, subsample=0.4;, score=0.991 total time= 1.2min\n",
            "[CV 5/5] END colsample_bytree=0.6, learning_rate=0.1, max_depth=12, n_estimators=100, subsample=0.4;, score=0.994 total time= 1.3min\n",
            "[CV 1/5] END colsample_bytree=0.6, learning_rate=0.1, max_depth=12, n_estimators=100, subsample=0.5;, score=0.995 total time= 1.4min\n",
            "[CV 2/5] END colsample_bytree=0.6, learning_rate=0.1, max_depth=12, n_estimators=100, subsample=0.5;, score=0.994 total time= 1.4min\n",
            "[CV 3/5] END colsample_bytree=0.6, learning_rate=0.1, max_depth=12, n_estimators=100, subsample=0.5;, score=0.996 total time= 1.4min\n",
            "[CV 4/5] END colsample_bytree=0.6, learning_rate=0.1, max_depth=12, n_estimators=100, subsample=0.5;, score=0.993 total time= 1.4min\n",
            "[CV 5/5] END colsample_bytree=0.6, learning_rate=0.1, max_depth=12, n_estimators=100, subsample=0.5;, score=0.995 total time= 1.4min\n",
            "[CV 1/5] END colsample_bytree=0.6, learning_rate=0.1, max_depth=12, n_estimators=100, subsample=0.6;, score=0.994 total time= 1.4min\n",
            "[CV 2/5] END colsample_bytree=0.6, learning_rate=0.1, max_depth=12, n_estimators=100, subsample=0.6;, score=0.994 total time= 1.4min\n",
            "[CV 3/5] END colsample_bytree=0.6, learning_rate=0.1, max_depth=12, n_estimators=100, subsample=0.6;, score=0.995 total time= 1.6min\n",
            "[CV 4/5] END colsample_bytree=0.6, learning_rate=0.1, max_depth=12, n_estimators=100, subsample=0.6;, score=0.993 total time= 1.5min\n",
            "[CV 5/5] END colsample_bytree=0.6, learning_rate=0.1, max_depth=12, n_estimators=100, subsample=0.6;, score=0.995 total time= 1.4min\n",
            "[CV 1/5] END colsample_bytree=0.6, learning_rate=0.1, max_depth=12, n_estimators=150, subsample=0.4;, score=0.994 total time= 1.6min\n",
            "[CV 2/5] END colsample_bytree=0.6, learning_rate=0.1, max_depth=12, n_estimators=150, subsample=0.4;, score=0.993 total time= 1.6min\n",
            "[CV 3/5] END colsample_bytree=0.6, learning_rate=0.1, max_depth=12, n_estimators=150, subsample=0.4;, score=0.995 total time= 1.6min\n",
            "[CV 4/5] END colsample_bytree=0.6, learning_rate=0.1, max_depth=12, n_estimators=150, subsample=0.4;, score=0.993 total time= 1.6min\n",
            "[CV 5/5] END colsample_bytree=0.6, learning_rate=0.1, max_depth=12, n_estimators=150, subsample=0.4;, score=0.995 total time= 1.6min\n",
            "[CV 1/5] END colsample_bytree=0.6, learning_rate=0.1, max_depth=12, n_estimators=150, subsample=0.5;, score=0.995 total time= 1.8min\n",
            "[CV 2/5] END colsample_bytree=0.6, learning_rate=0.1, max_depth=12, n_estimators=150, subsample=0.5;, score=0.994 total time= 1.8min\n",
            "[CV 3/5] END colsample_bytree=0.6, learning_rate=0.1, max_depth=12, n_estimators=150, subsample=0.5;, score=0.996 total time= 1.8min\n",
            "[CV 4/5] END colsample_bytree=0.6, learning_rate=0.1, max_depth=12, n_estimators=150, subsample=0.5;, score=0.993 total time= 1.8min\n",
            "[CV 5/5] END colsample_bytree=0.6, learning_rate=0.1, max_depth=12, n_estimators=150, subsample=0.5;, score=0.994 total time= 1.8min\n",
            "[CV 1/5] END colsample_bytree=0.6, learning_rate=0.1, max_depth=12, n_estimators=150, subsample=0.6;, score=0.995 total time= 1.8min\n",
            "[CV 2/5] END colsample_bytree=0.6, learning_rate=0.1, max_depth=12, n_estimators=150, subsample=0.6;, score=0.994 total time= 1.8min\n",
            "[CV 3/5] END colsample_bytree=0.6, learning_rate=0.1, max_depth=12, n_estimators=150, subsample=0.6;, score=0.994 total time= 1.9min\n",
            "[CV 4/5] END colsample_bytree=0.6, learning_rate=0.1, max_depth=12, n_estimators=150, subsample=0.6;, score=0.993 total time= 1.8min\n",
            "[CV 5/5] END colsample_bytree=0.6, learning_rate=0.1, max_depth=12, n_estimators=150, subsample=0.6;, score=0.995 total time= 1.8min\n",
            "[CV 1/5] END colsample_bytree=0.6, learning_rate=0.15, max_depth=8, n_estimators=80, subsample=0.4;, score=0.995 total time=  58.9s\n",
            "[CV 2/5] END colsample_bytree=0.6, learning_rate=0.15, max_depth=8, n_estimators=80, subsample=0.4;, score=0.993 total time=  56.3s\n",
            "[CV 3/5] END colsample_bytree=0.6, learning_rate=0.15, max_depth=8, n_estimators=80, subsample=0.4;, score=0.996 total time=  56.6s\n",
            "[CV 4/5] END colsample_bytree=0.6, learning_rate=0.15, max_depth=8, n_estimators=80, subsample=0.4;, score=0.990 total time=  55.6s\n",
            "[CV 5/5] END colsample_bytree=0.6, learning_rate=0.15, max_depth=8, n_estimators=80, subsample=0.4;, score=0.995 total time=  55.8s\n",
            "[CV 1/5] END colsample_bytree=0.6, learning_rate=0.15, max_depth=8, n_estimators=80, subsample=0.5;, score=0.994 total time= 1.0min\n",
            "[CV 2/5] END colsample_bytree=0.6, learning_rate=0.15, max_depth=8, n_estimators=80, subsample=0.5;, score=0.994 total time= 1.0min\n",
            "[CV 3/5] END colsample_bytree=0.6, learning_rate=0.15, max_depth=8, n_estimators=80, subsample=0.5;, score=0.995 total time= 1.0min\n",
            "[CV 4/5] END colsample_bytree=0.6, learning_rate=0.15, max_depth=8, n_estimators=80, subsample=0.5;, score=0.993 total time= 1.0min\n",
            "[CV 5/5] END colsample_bytree=0.6, learning_rate=0.15, max_depth=8, n_estimators=80, subsample=0.5;, score=0.995 total time= 1.0min\n",
            "[CV 1/5] END colsample_bytree=0.6, learning_rate=0.15, max_depth=8, n_estimators=80, subsample=0.6;, score=0.994 total time= 1.1min\n",
            "[CV 2/5] END colsample_bytree=0.6, learning_rate=0.15, max_depth=8, n_estimators=80, subsample=0.6;, score=0.994 total time= 1.1min\n",
            "[CV 3/5] END colsample_bytree=0.6, learning_rate=0.15, max_depth=8, n_estimators=80, subsample=0.6;, score=0.996 total time= 1.1min\n",
            "[CV 4/5] END colsample_bytree=0.6, learning_rate=0.15, max_depth=8, n_estimators=80, subsample=0.6;, score=0.993 total time= 1.0min\n",
            "[CV 5/5] END colsample_bytree=0.6, learning_rate=0.15, max_depth=8, n_estimators=80, subsample=0.6;, score=0.995 total time= 1.0min\n",
            "[CV 1/5] END colsample_bytree=0.6, learning_rate=0.15, max_depth=8, n_estimators=100, subsample=0.4;, score=0.994 total time= 1.1min\n",
            "[CV 2/5] END colsample_bytree=0.6, learning_rate=0.15, max_depth=8, n_estimators=100, subsample=0.4;, score=0.994 total time= 1.1min\n",
            "[CV 3/5] END colsample_bytree=0.6, learning_rate=0.15, max_depth=8, n_estimators=100, subsample=0.4;, score=0.995 total time= 1.1min\n",
            "[CV 4/5] END colsample_bytree=0.6, learning_rate=0.15, max_depth=8, n_estimators=100, subsample=0.4;, score=0.991 total time= 1.1min\n",
            "[CV 5/5] END colsample_bytree=0.6, learning_rate=0.15, max_depth=8, n_estimators=100, subsample=0.4;, score=0.995 total time= 1.1min\n",
            "[CV 1/5] END colsample_bytree=0.6, learning_rate=0.15, max_depth=8, n_estimators=100, subsample=0.5;, score=0.994 total time= 1.2min\n",
            "[CV 2/5] END colsample_bytree=0.6, learning_rate=0.15, max_depth=8, n_estimators=100, subsample=0.5;, score=0.994 total time= 1.2min\n",
            "[CV 3/5] END colsample_bytree=0.6, learning_rate=0.15, max_depth=8, n_estimators=100, subsample=0.5;, score=0.995 total time= 1.2min\n",
            "[CV 4/5] END colsample_bytree=0.6, learning_rate=0.15, max_depth=8, n_estimators=100, subsample=0.5;, score=0.993 total time= 1.1min\n",
            "[CV 5/5] END colsample_bytree=0.6, learning_rate=0.15, max_depth=8, n_estimators=100, subsample=0.5;, score=0.996 total time= 1.2min\n",
            "[CV 1/5] END colsample_bytree=0.6, learning_rate=0.15, max_depth=8, n_estimators=100, subsample=0.6;, score=0.994 total time= 1.2min\n",
            "[CV 2/5] END colsample_bytree=0.6, learning_rate=0.15, max_depth=8, n_estimators=100, subsample=0.6;, score=0.994 total time= 1.2min\n",
            "[CV 3/5] END colsample_bytree=0.6, learning_rate=0.15, max_depth=8, n_estimators=100, subsample=0.6;, score=0.995 total time= 1.2min\n",
            "[CV 4/5] END colsample_bytree=0.6, learning_rate=0.15, max_depth=8, n_estimators=100, subsample=0.6;, score=0.993 total time= 1.2min\n",
            "[CV 5/5] END colsample_bytree=0.6, learning_rate=0.15, max_depth=8, n_estimators=100, subsample=0.6;, score=0.995 total time= 1.2min\n",
            "[CV 1/5] END colsample_bytree=0.6, learning_rate=0.15, max_depth=8, n_estimators=150, subsample=0.4;, score=0.994 total time= 1.4min\n",
            "[CV 2/5] END colsample_bytree=0.6, learning_rate=0.15, max_depth=8, n_estimators=150, subsample=0.4;, score=0.994 total time= 1.4min\n",
            "[CV 3/5] END colsample_bytree=0.6, learning_rate=0.15, max_depth=8, n_estimators=150, subsample=0.4;, score=0.995 total time= 1.4min\n",
            "[CV 4/5] END colsample_bytree=0.6, learning_rate=0.15, max_depth=8, n_estimators=150, subsample=0.4;, score=0.993 total time= 1.3min\n",
            "[CV 5/5] END colsample_bytree=0.6, learning_rate=0.15, max_depth=8, n_estimators=150, subsample=0.4;, score=0.995 total time= 1.3min\n",
            "[CV 1/5] END colsample_bytree=0.6, learning_rate=0.15, max_depth=8, n_estimators=150, subsample=0.5;, score=0.994 total time= 1.5min\n",
            "[CV 2/5] END colsample_bytree=0.6, learning_rate=0.15, max_depth=8, n_estimators=150, subsample=0.5;, score=0.994 total time= 1.5min\n",
            "[CV 3/5] END colsample_bytree=0.6, learning_rate=0.15, max_depth=8, n_estimators=150, subsample=0.5;, score=0.995 total time= 1.5min\n",
            "[CV 4/5] END colsample_bytree=0.6, learning_rate=0.15, max_depth=8, n_estimators=150, subsample=0.5;, score=0.993 total time= 1.4min\n",
            "[CV 5/5] END colsample_bytree=0.6, learning_rate=0.15, max_depth=8, n_estimators=150, subsample=0.5;, score=0.996 total time= 1.5min\n",
            "[CV 1/5] END colsample_bytree=0.6, learning_rate=0.15, max_depth=8, n_estimators=150, subsample=0.6;, score=0.995 total time= 1.5min\n",
            "[CV 2/5] END colsample_bytree=0.6, learning_rate=0.15, max_depth=8, n_estimators=150, subsample=0.6;, score=0.994 total time= 1.5min\n",
            "[CV 3/5] END colsample_bytree=0.6, learning_rate=0.15, max_depth=8, n_estimators=150, subsample=0.6;, score=0.995 total time= 1.5min\n",
            "[CV 4/5] END colsample_bytree=0.6, learning_rate=0.15, max_depth=8, n_estimators=150, subsample=0.6;, score=0.993 total time= 1.5min\n",
            "[CV 5/5] END colsample_bytree=0.6, learning_rate=0.15, max_depth=8, n_estimators=150, subsample=0.6;, score=0.995 total time= 1.5min\n",
            "[CV 1/5] END colsample_bytree=0.6, learning_rate=0.15, max_depth=10, n_estimators=80, subsample=0.4;, score=0.993 total time=  57.1s\n",
            "[CV 2/5] END colsample_bytree=0.6, learning_rate=0.15, max_depth=10, n_estimators=80, subsample=0.4;, score=0.994 total time=  56.4s\n",
            "[CV 3/5] END colsample_bytree=0.6, learning_rate=0.15, max_depth=10, n_estimators=80, subsample=0.4;, score=0.995 total time=  59.2s\n",
            "[CV 4/5] END colsample_bytree=0.6, learning_rate=0.15, max_depth=10, n_estimators=80, subsample=0.4;, score=0.992 total time=  55.9s\n",
            "[CV 5/5] END colsample_bytree=0.6, learning_rate=0.15, max_depth=10, n_estimators=80, subsample=0.4;, score=0.995 total time=  56.4s\n",
            "[CV 1/5] END colsample_bytree=0.6, learning_rate=0.15, max_depth=10, n_estimators=80, subsample=0.5;, score=0.995 total time= 1.0min\n",
            "[CV 2/5] END colsample_bytree=0.6, learning_rate=0.15, max_depth=10, n_estimators=80, subsample=0.5;, score=0.995 total time= 1.0min\n",
            "[CV 3/5] END colsample_bytree=0.6, learning_rate=0.15, max_depth=10, n_estimators=80, subsample=0.5;, score=0.995 total time= 1.0min\n",
            "[CV 4/5] END colsample_bytree=0.6, learning_rate=0.15, max_depth=10, n_estimators=80, subsample=0.5;, score=0.993 total time= 1.0min\n",
            "[CV 5/5] END colsample_bytree=0.6, learning_rate=0.15, max_depth=10, n_estimators=80, subsample=0.5;, score=0.995 total time= 1.0min\n",
            "[CV 1/5] END colsample_bytree=0.6, learning_rate=0.15, max_depth=10, n_estimators=80, subsample=0.6;, score=0.995 total time= 1.1min\n",
            "[CV 2/5] END colsample_bytree=0.6, learning_rate=0.15, max_depth=10, n_estimators=80, subsample=0.6;, score=0.994 total time= 1.1min\n",
            "[CV 3/5] END colsample_bytree=0.6, learning_rate=0.15, max_depth=10, n_estimators=80, subsample=0.6;, score=0.994 total time= 1.1min\n",
            "[CV 4/5] END colsample_bytree=0.6, learning_rate=0.15, max_depth=10, n_estimators=80, subsample=0.6;, score=0.993 total time= 1.1min\n",
            "[CV 5/5] END colsample_bytree=0.6, learning_rate=0.15, max_depth=10, n_estimators=80, subsample=0.6;, score=0.995 total time= 1.1min\n",
            "[CV 1/5] END colsample_bytree=0.6, learning_rate=0.15, max_depth=10, n_estimators=100, subsample=0.4;, score=0.994 total time= 1.1min\n",
            "[CV 2/5] END colsample_bytree=0.6, learning_rate=0.15, max_depth=10, n_estimators=100, subsample=0.4;, score=0.994 total time= 1.1min\n",
            "[CV 3/5] END colsample_bytree=0.6, learning_rate=0.15, max_depth=10, n_estimators=100, subsample=0.4;, score=0.995 total time= 1.1min\n",
            "[CV 4/5] END colsample_bytree=0.6, learning_rate=0.15, max_depth=10, n_estimators=100, subsample=0.4;, score=0.993 total time= 1.1min\n",
            "[CV 5/5] END colsample_bytree=0.6, learning_rate=0.15, max_depth=10, n_estimators=100, subsample=0.4;, score=0.995 total time= 1.1min\n",
            "[CV 1/5] END colsample_bytree=0.6, learning_rate=0.15, max_depth=10, n_estimators=100, subsample=0.5;, score=0.995 total time= 1.2min\n",
            "[CV 2/5] END colsample_bytree=0.6, learning_rate=0.15, max_depth=10, n_estimators=100, subsample=0.5;, score=0.994 total time= 1.2min\n",
            "[CV 3/5] END colsample_bytree=0.6, learning_rate=0.15, max_depth=10, n_estimators=100, subsample=0.5;, score=0.995 total time= 1.2min\n",
            "[CV 4/5] END colsample_bytree=0.6, learning_rate=0.15, max_depth=10, n_estimators=100, subsample=0.5;, score=0.993 total time= 1.2min\n",
            "[CV 5/5] END colsample_bytree=0.6, learning_rate=0.15, max_depth=10, n_estimators=100, subsample=0.5;, score=0.995 total time= 1.2min\n",
            "[CV 1/5] END colsample_bytree=0.6, learning_rate=0.15, max_depth=10, n_estimators=100, subsample=0.6;, score=0.995 total time= 1.2min\n",
            "[CV 2/5] END colsample_bytree=0.6, learning_rate=0.15, max_depth=10, n_estimators=100, subsample=0.6;, score=0.994 total time= 1.2min\n",
            "[CV 3/5] END colsample_bytree=0.6, learning_rate=0.15, max_depth=10, n_estimators=100, subsample=0.6;, score=0.994 total time= 1.2min\n",
            "[CV 4/5] END colsample_bytree=0.6, learning_rate=0.15, max_depth=10, n_estimators=100, subsample=0.6;, score=0.993 total time= 1.2min\n",
            "[CV 5/5] END colsample_bytree=0.6, learning_rate=0.15, max_depth=10, n_estimators=100, subsample=0.6;, score=0.995 total time= 1.2min\n",
            "[CV 1/5] END colsample_bytree=0.6, learning_rate=0.15, max_depth=10, n_estimators=150, subsample=0.4;, score=0.993 total time= 1.4min\n",
            "[CV 2/5] END colsample_bytree=0.6, learning_rate=0.15, max_depth=10, n_estimators=150, subsample=0.4;, score=0.994 total time= 1.4min\n",
            "[CV 3/5] END colsample_bytree=0.6, learning_rate=0.15, max_depth=10, n_estimators=150, subsample=0.4;, score=0.995 total time= 1.4min\n",
            "[CV 4/5] END colsample_bytree=0.6, learning_rate=0.15, max_depth=10, n_estimators=150, subsample=0.4;, score=0.993 total time= 1.4min\n",
            "[CV 5/5] END colsample_bytree=0.6, learning_rate=0.15, max_depth=10, n_estimators=150, subsample=0.4;, score=0.995 total time= 1.4min\n",
            "[CV 1/5] END colsample_bytree=0.6, learning_rate=0.15, max_depth=10, n_estimators=150, subsample=0.5;, score=0.995 total time= 1.5min\n",
            "[CV 2/5] END colsample_bytree=0.6, learning_rate=0.15, max_depth=10, n_estimators=150, subsample=0.5;, score=0.994 total time= 1.5min\n",
            "[CV 3/5] END colsample_bytree=0.6, learning_rate=0.15, max_depth=10, n_estimators=150, subsample=0.5;, score=0.995 total time= 1.5min\n",
            "[CV 4/5] END colsample_bytree=0.6, learning_rate=0.15, max_depth=10, n_estimators=150, subsample=0.5;, score=0.993 total time= 1.5min\n",
            "[CV 5/5] END colsample_bytree=0.6, learning_rate=0.15, max_depth=10, n_estimators=150, subsample=0.5;, score=0.995 total time= 1.5min\n",
            "[CV 1/5] END colsample_bytree=0.6, learning_rate=0.15, max_depth=10, n_estimators=150, subsample=0.6;, score=0.996 total time= 1.5min\n",
            "[CV 2/5] END colsample_bytree=0.6, learning_rate=0.15, max_depth=10, n_estimators=150, subsample=0.6;, score=0.994 total time= 1.5min\n",
            "[CV 3/5] END colsample_bytree=0.6, learning_rate=0.15, max_depth=10, n_estimators=150, subsample=0.6;, score=0.994 total time= 1.5min\n",
            "[CV 4/5] END colsample_bytree=0.6, learning_rate=0.15, max_depth=10, n_estimators=150, subsample=0.6;, score=0.993 total time= 1.5min\n",
            "[CV 5/5] END colsample_bytree=0.6, learning_rate=0.15, max_depth=10, n_estimators=150, subsample=0.6;, score=0.995 total time= 1.5min\n",
            "[CV 1/5] END colsample_bytree=0.6, learning_rate=0.15, max_depth=12, n_estimators=80, subsample=0.4;, score=0.994 total time=  57.3s\n",
            "[CV 2/5] END colsample_bytree=0.6, learning_rate=0.15, max_depth=12, n_estimators=80, subsample=0.4;, score=0.994 total time=  56.9s\n",
            "[CV 3/5] END colsample_bytree=0.6, learning_rate=0.15, max_depth=12, n_estimators=80, subsample=0.4;, score=0.995 total time=  59.5s\n",
            "[CV 4/5] END colsample_bytree=0.6, learning_rate=0.15, max_depth=12, n_estimators=80, subsample=0.4;, score=0.991 total time=  55.9s\n",
            "[CV 5/5] END colsample_bytree=0.6, learning_rate=0.15, max_depth=12, n_estimators=80, subsample=0.4;, score=0.995 total time=  56.9s\n",
            "[CV 1/5] END colsample_bytree=0.6, learning_rate=0.15, max_depth=12, n_estimators=80, subsample=0.5;, score=0.994 total time= 1.1min\n",
            "[CV 2/5] END colsample_bytree=0.6, learning_rate=0.15, max_depth=12, n_estimators=80, subsample=0.5;, score=0.994 total time= 1.0min\n",
            "[CV 3/5] END colsample_bytree=0.6, learning_rate=0.15, max_depth=12, n_estimators=80, subsample=0.5;, score=0.995 total time= 1.0min\n",
            "[CV 4/5] END colsample_bytree=0.6, learning_rate=0.15, max_depth=12, n_estimators=80, subsample=0.5;, score=0.993 total time= 1.0min\n",
            "[CV 5/5] END colsample_bytree=0.6, learning_rate=0.15, max_depth=12, n_estimators=80, subsample=0.5;, score=0.995 total time= 1.0min\n",
            "[CV 1/5] END colsample_bytree=0.6, learning_rate=0.15, max_depth=12, n_estimators=80, subsample=0.6;, score=0.994 total time= 1.1min\n",
            "[CV 2/5] END colsample_bytree=0.6, learning_rate=0.15, max_depth=12, n_estimators=80, subsample=0.6;, score=0.994 total time= 1.1min\n",
            "[CV 3/5] END colsample_bytree=0.6, learning_rate=0.15, max_depth=12, n_estimators=80, subsample=0.6;, score=0.995 total time= 1.1min\n",
            "[CV 4/5] END colsample_bytree=0.6, learning_rate=0.15, max_depth=12, n_estimators=80, subsample=0.6;, score=0.993 total time= 1.1min\n",
            "[CV 5/5] END colsample_bytree=0.6, learning_rate=0.15, max_depth=12, n_estimators=80, subsample=0.6;, score=0.995 total time= 1.1min\n",
            "[CV 1/5] END colsample_bytree=0.6, learning_rate=0.15, max_depth=12, n_estimators=100, subsample=0.4;, score=0.994 total time= 1.1min\n",
            "[CV 2/5] END colsample_bytree=0.6, learning_rate=0.15, max_depth=12, n_estimators=100, subsample=0.4;, score=0.993 total time= 1.1min\n",
            "[CV 3/5] END colsample_bytree=0.6, learning_rate=0.15, max_depth=12, n_estimators=100, subsample=0.4;, score=0.994 total time= 1.1min\n",
            "[CV 4/5] END colsample_bytree=0.6, learning_rate=0.15, max_depth=12, n_estimators=100, subsample=0.4;, score=0.991 total time= 1.1min\n",
            "[CV 5/5] END colsample_bytree=0.6, learning_rate=0.15, max_depth=12, n_estimators=100, subsample=0.4;, score=0.995 total time= 1.1min\n",
            "[CV 1/5] END colsample_bytree=0.6, learning_rate=0.15, max_depth=12, n_estimators=100, subsample=0.5;, score=0.995 total time= 1.2min\n",
            "[CV 2/5] END colsample_bytree=0.6, learning_rate=0.15, max_depth=12, n_estimators=100, subsample=0.5;, score=0.994 total time= 1.2min\n",
            "[CV 3/5] END colsample_bytree=0.6, learning_rate=0.15, max_depth=12, n_estimators=100, subsample=0.5;, score=0.995 total time= 1.2min\n",
            "[CV 4/5] END colsample_bytree=0.6, learning_rate=0.15, max_depth=12, n_estimators=100, subsample=0.5;, score=0.993 total time= 1.2min\n",
            "[CV 5/5] END colsample_bytree=0.6, learning_rate=0.15, max_depth=12, n_estimators=100, subsample=0.5;, score=0.994 total time= 1.2min\n",
            "[CV 1/5] END colsample_bytree=0.6, learning_rate=0.15, max_depth=12, n_estimators=100, subsample=0.6;, score=0.994 total time= 1.2min\n",
            "[CV 2/5] END colsample_bytree=0.6, learning_rate=0.15, max_depth=12, n_estimators=100, subsample=0.6;, score=0.994 total time= 1.2min\n",
            "[CV 3/5] END colsample_bytree=0.6, learning_rate=0.15, max_depth=12, n_estimators=100, subsample=0.6;, score=0.995 total time= 1.2min\n",
            "[CV 4/5] END colsample_bytree=0.6, learning_rate=0.15, max_depth=12, n_estimators=100, subsample=0.6;, score=0.993 total time= 1.2min\n",
            "[CV 5/5] END colsample_bytree=0.6, learning_rate=0.15, max_depth=12, n_estimators=100, subsample=0.6;, score=0.995 total time= 1.2min\n",
            "[CV 1/5] END colsample_bytree=0.6, learning_rate=0.15, max_depth=12, n_estimators=150, subsample=0.4;, score=0.993 total time= 1.4min\n",
            "[CV 2/5] END colsample_bytree=0.6, learning_rate=0.15, max_depth=12, n_estimators=150, subsample=0.4;, score=0.994 total time= 1.4min\n",
            "[CV 3/5] END colsample_bytree=0.6, learning_rate=0.15, max_depth=12, n_estimators=150, subsample=0.4;, score=0.995 total time= 1.4min\n",
            "[CV 4/5] END colsample_bytree=0.6, learning_rate=0.15, max_depth=12, n_estimators=150, subsample=0.4;, score=0.993 total time= 1.4min\n",
            "[CV 5/5] END colsample_bytree=0.6, learning_rate=0.15, max_depth=12, n_estimators=150, subsample=0.4;, score=0.995 total time= 1.4min\n",
            "[CV 1/5] END colsample_bytree=0.6, learning_rate=0.15, max_depth=12, n_estimators=150, subsample=0.5;, score=0.994 total time= 1.6min\n",
            "[CV 2/5] END colsample_bytree=0.6, learning_rate=0.15, max_depth=12, n_estimators=150, subsample=0.5;, score=0.994 total time= 1.5min\n",
            "[CV 3/5] END colsample_bytree=0.6, learning_rate=0.15, max_depth=12, n_estimators=150, subsample=0.5;, score=0.995 total time= 1.5min\n",
            "[CV 4/5] END colsample_bytree=0.6, learning_rate=0.15, max_depth=12, n_estimators=150, subsample=0.5;, score=0.993 total time= 1.5min\n",
            "[CV 5/5] END colsample_bytree=0.6, learning_rate=0.15, max_depth=12, n_estimators=150, subsample=0.5;, score=0.995 total time= 1.5min\n",
            "[CV 1/5] END colsample_bytree=0.6, learning_rate=0.15, max_depth=12, n_estimators=150, subsample=0.6;, score=0.995 total time= 1.5min\n",
            "[CV 2/5] END colsample_bytree=0.6, learning_rate=0.15, max_depth=12, n_estimators=150, subsample=0.6;, score=0.994 total time= 1.5min\n",
            "[CV 3/5] END colsample_bytree=0.6, learning_rate=0.15, max_depth=12, n_estimators=150, subsample=0.6;, score=0.994 total time= 1.5min\n",
            "[CV 4/5] END colsample_bytree=0.6, learning_rate=0.15, max_depth=12, n_estimators=150, subsample=0.6;, score=0.993 total time= 1.5min\n",
            "[CV 5/5] END colsample_bytree=0.6, learning_rate=0.15, max_depth=12, n_estimators=150, subsample=0.6;, score=0.995 total time= 1.5min\n",
            "[CV 1/5] END colsample_bytree=0.6, learning_rate=0.2, max_depth=8, n_estimators=80, subsample=0.4;, score=0.994 total time=  51.1s\n",
            "[CV 2/5] END colsample_bytree=0.6, learning_rate=0.2, max_depth=8, n_estimators=80, subsample=0.4;, score=0.993 total time=  50.7s\n",
            "[CV 3/5] END colsample_bytree=0.6, learning_rate=0.2, max_depth=8, n_estimators=80, subsample=0.4;, score=0.995 total time=  51.0s\n",
            "[CV 4/5] END colsample_bytree=0.6, learning_rate=0.2, max_depth=8, n_estimators=80, subsample=0.4;, score=0.991 total time=  50.2s\n",
            "[CV 5/5] END colsample_bytree=0.6, learning_rate=0.2, max_depth=8, n_estimators=80, subsample=0.4;, score=0.994 total time=  50.9s\n",
            "[CV 1/5] END colsample_bytree=0.6, learning_rate=0.2, max_depth=8, n_estimators=80, subsample=0.5;, score=0.993 total time=  55.2s\n",
            "[CV 2/5] END colsample_bytree=0.6, learning_rate=0.2, max_depth=8, n_estimators=80, subsample=0.5;, score=0.994 total time=  54.8s\n",
            "[CV 3/5] END colsample_bytree=0.6, learning_rate=0.2, max_depth=8, n_estimators=80, subsample=0.5;, score=0.995 total time=  54.6s\n",
            "[CV 4/5] END colsample_bytree=0.6, learning_rate=0.2, max_depth=8, n_estimators=80, subsample=0.5;, score=0.992 total time=  55.2s\n",
            "[CV 5/5] END colsample_bytree=0.6, learning_rate=0.2, max_depth=8, n_estimators=80, subsample=0.5;, score=0.994 total time=  54.7s\n",
            "[CV 1/5] END colsample_bytree=0.6, learning_rate=0.2, max_depth=8, n_estimators=80, subsample=0.6;, score=0.994 total time=  56.4s\n",
            "[CV 2/5] END colsample_bytree=0.6, learning_rate=0.2, max_depth=8, n_estimators=80, subsample=0.6;, score=0.994 total time=  55.8s\n",
            "[CV 3/5] END colsample_bytree=0.6, learning_rate=0.2, max_depth=8, n_estimators=80, subsample=0.6;, score=0.995 total time=  56.2s\n",
            "[CV 4/5] END colsample_bytree=0.6, learning_rate=0.2, max_depth=8, n_estimators=80, subsample=0.6;, score=0.993 total time=  55.0s\n",
            "[CV 5/5] END colsample_bytree=0.6, learning_rate=0.2, max_depth=8, n_estimators=80, subsample=0.6;, score=0.995 total time=  56.0s\n",
            "[CV 1/5] END colsample_bytree=0.6, learning_rate=0.2, max_depth=8, n_estimators=100, subsample=0.4;, score=0.994 total time=  58.0s\n",
            "[CV 2/5] END colsample_bytree=0.6, learning_rate=0.2, max_depth=8, n_estimators=100, subsample=0.4;, score=0.993 total time=  57.7s\n",
            "[CV 3/5] END colsample_bytree=0.6, learning_rate=0.2, max_depth=8, n_estimators=100, subsample=0.4;, score=0.995 total time=  58.6s\n",
            "[CV 4/5] END colsample_bytree=0.6, learning_rate=0.2, max_depth=8, n_estimators=100, subsample=0.4;, score=0.992 total time=  57.3s\n",
            "[CV 5/5] END colsample_bytree=0.6, learning_rate=0.2, max_depth=8, n_estimators=100, subsample=0.4;, score=0.995 total time=  58.1s\n",
            "[CV 1/5] END colsample_bytree=0.6, learning_rate=0.2, max_depth=8, n_estimators=100, subsample=0.5;, score=0.993 total time= 1.0min\n",
            "[CV 2/5] END colsample_bytree=0.6, learning_rate=0.2, max_depth=8, n_estimators=100, subsample=0.5;, score=0.994 total time= 1.0min\n",
            "[CV 3/5] END colsample_bytree=0.6, learning_rate=0.2, max_depth=8, n_estimators=100, subsample=0.5;, score=0.995 total time= 1.0min\n",
            "[CV 4/5] END colsample_bytree=0.6, learning_rate=0.2, max_depth=8, n_estimators=100, subsample=0.5;, score=0.991 total time= 1.0min\n",
            "[CV 5/5] END colsample_bytree=0.6, learning_rate=0.2, max_depth=8, n_estimators=100, subsample=0.5;, score=0.994 total time= 1.0min\n",
            "[CV 1/5] END colsample_bytree=0.6, learning_rate=0.2, max_depth=8, n_estimators=100, subsample=0.6;, score=0.994 total time= 1.1min\n",
            "[CV 2/5] END colsample_bytree=0.6, learning_rate=0.2, max_depth=8, n_estimators=100, subsample=0.6;, score=0.994 total time= 1.1min\n",
            "[CV 3/5] END colsample_bytree=0.6, learning_rate=0.2, max_depth=8, n_estimators=100, subsample=0.6;, score=0.995 total time= 1.1min\n",
            "[CV 4/5] END colsample_bytree=0.6, learning_rate=0.2, max_depth=8, n_estimators=100, subsample=0.6;, score=0.993 total time= 1.1min\n",
            "[CV 5/5] END colsample_bytree=0.6, learning_rate=0.2, max_depth=8, n_estimators=100, subsample=0.6;, score=0.995 total time= 1.1min\n",
            "[CV 1/5] END colsample_bytree=0.6, learning_rate=0.2, max_depth=8, n_estimators=150, subsample=0.4;, score=0.994 total time= 1.2min\n",
            "[CV 2/5] END colsample_bytree=0.6, learning_rate=0.2, max_depth=8, n_estimators=150, subsample=0.4;, score=0.994 total time= 1.2min\n",
            "[CV 3/5] END colsample_bytree=0.6, learning_rate=0.2, max_depth=8, n_estimators=150, subsample=0.4;, score=0.995 total time= 1.2min\n",
            "[CV 4/5] END colsample_bytree=0.6, learning_rate=0.2, max_depth=8, n_estimators=150, subsample=0.4;, score=0.992 total time= 1.2min\n",
            "[CV 5/5] END colsample_bytree=0.6, learning_rate=0.2, max_depth=8, n_estimators=150, subsample=0.4;, score=0.995 total time= 1.3min\n",
            "[CV 1/5] END colsample_bytree=0.6, learning_rate=0.2, max_depth=8, n_estimators=150, subsample=0.5;, score=0.993 total time= 1.3min\n",
            "[CV 2/5] END colsample_bytree=0.6, learning_rate=0.2, max_depth=8, n_estimators=150, subsample=0.5;, score=0.994 total time= 1.3min\n",
            "[CV 3/5] END colsample_bytree=0.6, learning_rate=0.2, max_depth=8, n_estimators=150, subsample=0.5;, score=0.995 total time= 1.3min\n",
            "[CV 4/5] END colsample_bytree=0.6, learning_rate=0.2, max_depth=8, n_estimators=150, subsample=0.5;, score=0.991 total time= 1.3min\n",
            "[CV 5/5] END colsample_bytree=0.6, learning_rate=0.2, max_depth=8, n_estimators=150, subsample=0.5;, score=0.994 total time= 1.3min\n",
            "[CV 1/5] END colsample_bytree=0.6, learning_rate=0.2, max_depth=8, n_estimators=150, subsample=0.6;, score=0.994 total time= 1.4min\n",
            "[CV 2/5] END colsample_bytree=0.6, learning_rate=0.2, max_depth=8, n_estimators=150, subsample=0.6;, score=0.994 total time= 1.3min\n",
            "[CV 3/5] END colsample_bytree=0.6, learning_rate=0.2, max_depth=8, n_estimators=150, subsample=0.6;, score=0.995 total time= 1.3min\n",
            "[CV 4/5] END colsample_bytree=0.6, learning_rate=0.2, max_depth=8, n_estimators=150, subsample=0.6;, score=0.993 total time= 1.3min\n",
            "[CV 5/5] END colsample_bytree=0.6, learning_rate=0.2, max_depth=8, n_estimators=150, subsample=0.6;, score=0.995 total time= 1.4min\n",
            "[CV 1/5] END colsample_bytree=0.6, learning_rate=0.2, max_depth=10, n_estimators=80, subsample=0.4;, score=0.995 total time=  52.0s\n",
            "[CV 2/5] END colsample_bytree=0.6, learning_rate=0.2, max_depth=10, n_estimators=80, subsample=0.4;, score=0.993 total time=  51.2s\n",
            "[CV 3/5] END colsample_bytree=0.6, learning_rate=0.2, max_depth=10, n_estimators=80, subsample=0.4;, score=0.995 total time=  52.1s\n",
            "[CV 4/5] END colsample_bytree=0.6, learning_rate=0.2, max_depth=10, n_estimators=80, subsample=0.4;, score=0.991 total time=  50.8s\n",
            "[CV 5/5] END colsample_bytree=0.6, learning_rate=0.2, max_depth=10, n_estimators=80, subsample=0.4;, score=0.995 total time=  52.1s\n",
            "[CV 1/5] END colsample_bytree=0.6, learning_rate=0.2, max_depth=10, n_estimators=80, subsample=0.5;, score=0.994 total time=  56.2s\n",
            "[CV 2/5] END colsample_bytree=0.6, learning_rate=0.2, max_depth=10, n_estimators=80, subsample=0.5;, score=0.994 total time=  55.7s\n",
            "[CV 3/5] END colsample_bytree=0.6, learning_rate=0.2, max_depth=10, n_estimators=80, subsample=0.5;, score=0.994 total time=  55.7s\n",
            "[CV 4/5] END colsample_bytree=0.6, learning_rate=0.2, max_depth=10, n_estimators=80, subsample=0.5;, score=0.992 total time=  55.2s\n",
            "[CV 5/5] END colsample_bytree=0.6, learning_rate=0.2, max_depth=10, n_estimators=80, subsample=0.5;, score=0.994 total time=  55.9s\n",
            "[CV 1/5] END colsample_bytree=0.6, learning_rate=0.2, max_depth=10, n_estimators=80, subsample=0.6;, score=0.995 total time=  58.1s\n",
            "[CV 2/5] END colsample_bytree=0.6, learning_rate=0.2, max_depth=10, n_estimators=80, subsample=0.6;, score=0.993 total time=  57.8s\n",
            "[CV 3/5] END colsample_bytree=0.6, learning_rate=0.2, max_depth=10, n_estimators=80, subsample=0.6;, score=0.995 total time=  57.1s\n",
            "[CV 4/5] END colsample_bytree=0.6, learning_rate=0.2, max_depth=10, n_estimators=80, subsample=0.6;, score=0.993 total time=  55.8s\n",
            "[CV 5/5] END colsample_bytree=0.6, learning_rate=0.2, max_depth=10, n_estimators=80, subsample=0.6;, score=0.994 total time=  56.8s\n",
            "[CV 1/5] END colsample_bytree=0.6, learning_rate=0.2, max_depth=10, n_estimators=100, subsample=0.4;, score=0.994 total time=  58.9s\n",
            "[CV 2/5] END colsample_bytree=0.6, learning_rate=0.2, max_depth=10, n_estimators=100, subsample=0.4;, score=0.993 total time=  57.9s\n",
            "[CV 3/5] END colsample_bytree=0.6, learning_rate=0.2, max_depth=10, n_estimators=100, subsample=0.4;, score=0.995 total time=  59.1s\n",
            "[CV 4/5] END colsample_bytree=0.6, learning_rate=0.2, max_depth=10, n_estimators=100, subsample=0.4;, score=0.991 total time=  57.9s\n",
            "[CV 5/5] END colsample_bytree=0.6, learning_rate=0.2, max_depth=10, n_estimators=100, subsample=0.4;, score=0.994 total time=  58.9s\n",
            "[CV 1/5] END colsample_bytree=0.6, learning_rate=0.2, max_depth=10, n_estimators=100, subsample=0.5;, score=0.993 total time= 1.1min\n",
            "[CV 2/5] END colsample_bytree=0.6, learning_rate=0.2, max_depth=10, n_estimators=100, subsample=0.5;, score=0.994 total time= 1.1min\n",
            "[CV 3/5] END colsample_bytree=0.6, learning_rate=0.2, max_depth=10, n_estimators=100, subsample=0.5;, score=0.995 total time= 1.1min\n",
            "[CV 4/5] END colsample_bytree=0.6, learning_rate=0.2, max_depth=10, n_estimators=100, subsample=0.5;, score=0.991 total time= 1.0min\n",
            "[CV 5/5] END colsample_bytree=0.6, learning_rate=0.2, max_depth=10, n_estimators=100, subsample=0.5;, score=0.994 total time= 1.1min\n",
            "[CV 1/5] END colsample_bytree=0.6, learning_rate=0.2, max_depth=10, n_estimators=100, subsample=0.6;, score=0.995 total time= 1.1min\n",
            "[CV 2/5] END colsample_bytree=0.6, learning_rate=0.2, max_depth=10, n_estimators=100, subsample=0.6;, score=0.993 total time= 1.1min\n",
            "[CV 3/5] END colsample_bytree=0.6, learning_rate=0.2, max_depth=10, n_estimators=100, subsample=0.6;, score=0.995 total time= 1.1min\n",
            "[CV 4/5] END colsample_bytree=0.6, learning_rate=0.2, max_depth=10, n_estimators=100, subsample=0.6;, score=0.993 total time= 1.1min\n",
            "[CV 5/5] END colsample_bytree=0.6, learning_rate=0.2, max_depth=10, n_estimators=100, subsample=0.6;, score=0.994 total time= 1.1min\n",
            "[CV 1/5] END colsample_bytree=0.6, learning_rate=0.2, max_depth=10, n_estimators=150, subsample=0.4;, score=0.994 total time= 1.2min\n",
            "[CV 2/5] END colsample_bytree=0.6, learning_rate=0.2, max_depth=10, n_estimators=150, subsample=0.4;, score=0.994 total time= 1.2min\n",
            "[CV 3/5] END colsample_bytree=0.6, learning_rate=0.2, max_depth=10, n_estimators=150, subsample=0.4;, score=0.995 total time= 1.2min\n",
            "[CV 4/5] END colsample_bytree=0.6, learning_rate=0.2, max_depth=10, n_estimators=150, subsample=0.4;, score=0.993 total time= 1.2min\n",
            "[CV 5/5] END colsample_bytree=0.6, learning_rate=0.2, max_depth=10, n_estimators=150, subsample=0.4;, score=0.994 total time= 1.2min\n",
            "[CV 1/5] END colsample_bytree=0.6, learning_rate=0.2, max_depth=10, n_estimators=150, subsample=0.5;, score=0.993 total time= 1.3min\n",
            "[CV 2/5] END colsample_bytree=0.6, learning_rate=0.2, max_depth=10, n_estimators=150, subsample=0.5;, score=0.994 total time= 1.3min\n",
            "[CV 3/5] END colsample_bytree=0.6, learning_rate=0.2, max_depth=10, n_estimators=150, subsample=0.5;, score=0.994 total time= 1.4min\n",
            "[CV 4/5] END colsample_bytree=0.6, learning_rate=0.2, max_depth=10, n_estimators=150, subsample=0.5;, score=0.992 total time= 1.3min\n",
            "[CV 5/5] END colsample_bytree=0.6, learning_rate=0.2, max_depth=10, n_estimators=150, subsample=0.5;, score=0.995 total time= 1.3min\n",
            "[CV 1/5] END colsample_bytree=0.6, learning_rate=0.2, max_depth=10, n_estimators=150, subsample=0.6;, score=0.995 total time= 1.4min\n",
            "[CV 2/5] END colsample_bytree=0.6, learning_rate=0.2, max_depth=10, n_estimators=150, subsample=0.6;, score=0.994 total time= 1.4min\n",
            "[CV 3/5] END colsample_bytree=0.6, learning_rate=0.2, max_depth=10, n_estimators=150, subsample=0.6;, score=0.995 total time= 1.4min\n",
            "[CV 4/5] END colsample_bytree=0.6, learning_rate=0.2, max_depth=10, n_estimators=150, subsample=0.6;, score=0.993 total time= 1.3min\n",
            "[CV 5/5] END colsample_bytree=0.6, learning_rate=0.2, max_depth=10, n_estimators=150, subsample=0.6;, score=0.994 total time= 1.4min\n",
            "[CV 1/5] END colsample_bytree=0.6, learning_rate=0.2, max_depth=12, n_estimators=80, subsample=0.4;, score=0.994 total time=  51.1s\n",
            "[CV 2/5] END colsample_bytree=0.6, learning_rate=0.2, max_depth=12, n_estimators=80, subsample=0.4;, score=0.993 total time=  50.8s\n",
            "[CV 3/5] END colsample_bytree=0.6, learning_rate=0.2, max_depth=12, n_estimators=80, subsample=0.4;, score=0.995 total time=  51.7s\n",
            "[CV 4/5] END colsample_bytree=0.6, learning_rate=0.2, max_depth=12, n_estimators=80, subsample=0.4;, score=0.991 total time=  50.8s\n",
            "[CV 5/5] END colsample_bytree=0.6, learning_rate=0.2, max_depth=12, n_estimators=80, subsample=0.4;, score=0.993 total time=  51.4s\n",
            "[CV 1/5] END colsample_bytree=0.6, learning_rate=0.2, max_depth=12, n_estimators=80, subsample=0.5;, score=0.993 total time=  56.6s\n",
            "[CV 2/5] END colsample_bytree=0.6, learning_rate=0.2, max_depth=12, n_estimators=80, subsample=0.5;, score=0.994 total time=  55.3s\n",
            "[CV 3/5] END colsample_bytree=0.6, learning_rate=0.2, max_depth=12, n_estimators=80, subsample=0.5;, score=0.994 total time=  55.5s\n",
            "[CV 4/5] END colsample_bytree=0.6, learning_rate=0.2, max_depth=12, n_estimators=80, subsample=0.5;, score=0.991 total time=  54.5s\n",
            "[CV 5/5] END colsample_bytree=0.6, learning_rate=0.2, max_depth=12, n_estimators=80, subsample=0.5;, score=0.994 total time=  56.5s\n",
            "[CV 1/5] END colsample_bytree=0.6, learning_rate=0.2, max_depth=12, n_estimators=80, subsample=0.6;, score=0.995 total time=  58.0s\n",
            "[CV 2/5] END colsample_bytree=0.6, learning_rate=0.2, max_depth=12, n_estimators=80, subsample=0.6;, score=0.994 total time=  58.2s\n",
            "[CV 3/5] END colsample_bytree=0.6, learning_rate=0.2, max_depth=12, n_estimators=80, subsample=0.6;, score=0.995 total time=  58.0s\n",
            "[CV 4/5] END colsample_bytree=0.6, learning_rate=0.2, max_depth=12, n_estimators=80, subsample=0.6;, score=0.993 total time=  56.7s\n",
            "[CV 5/5] END colsample_bytree=0.6, learning_rate=0.2, max_depth=12, n_estimators=80, subsample=0.6;, score=0.995 total time=  57.9s\n",
            "[CV 1/5] END colsample_bytree=0.6, learning_rate=0.2, max_depth=12, n_estimators=100, subsample=0.4;, score=0.994 total time= 1.0min\n",
            "[CV 2/5] END colsample_bytree=0.6, learning_rate=0.2, max_depth=12, n_estimators=100, subsample=0.4;, score=0.993 total time=  58.2s\n",
            "[CV 3/5] END colsample_bytree=0.6, learning_rate=0.2, max_depth=12, n_estimators=100, subsample=0.4;, score=0.995 total time=  59.4s\n",
            "[CV 4/5] END colsample_bytree=0.6, learning_rate=0.2, max_depth=12, n_estimators=100, subsample=0.4;, score=0.991 total time=  57.8s\n",
            "[CV 5/5] END colsample_bytree=0.6, learning_rate=0.2, max_depth=12, n_estimators=100, subsample=0.4;, score=0.994 total time=  59.0s\n",
            "[CV 1/5] END colsample_bytree=0.6, learning_rate=0.2, max_depth=12, n_estimators=100, subsample=0.5;, score=0.993 total time= 1.1min\n",
            "[CV 2/5] END colsample_bytree=0.6, learning_rate=0.2, max_depth=12, n_estimators=100, subsample=0.5;, score=0.994 total time= 1.0min\n",
            "[CV 3/5] END colsample_bytree=0.6, learning_rate=0.2, max_depth=12, n_estimators=100, subsample=0.5;, score=0.994 total time= 1.1min\n",
            "[CV 4/5] END colsample_bytree=0.6, learning_rate=0.2, max_depth=12, n_estimators=100, subsample=0.5;, score=0.991 total time= 1.0min\n",
            "[CV 5/5] END colsample_bytree=0.6, learning_rate=0.2, max_depth=12, n_estimators=100, subsample=0.5;, score=0.994 total time= 1.1min\n",
            "[CV 1/5] END colsample_bytree=0.6, learning_rate=0.2, max_depth=12, n_estimators=100, subsample=0.6;, score=0.994 total time= 1.1min\n",
            "[CV 2/5] END colsample_bytree=0.6, learning_rate=0.2, max_depth=12, n_estimators=100, subsample=0.6;, score=0.994 total time= 1.1min\n",
            "[CV 3/5] END colsample_bytree=0.6, learning_rate=0.2, max_depth=12, n_estimators=100, subsample=0.6;, score=0.995 total time= 1.1min\n",
            "[CV 4/5] END colsample_bytree=0.6, learning_rate=0.2, max_depth=12, n_estimators=100, subsample=0.6;, score=0.993 total time= 1.1min\n",
            "[CV 5/5] END colsample_bytree=0.6, learning_rate=0.2, max_depth=12, n_estimators=100, subsample=0.6;, score=0.995 total time= 1.1min\n",
            "[CV 1/5] END colsample_bytree=0.6, learning_rate=0.2, max_depth=12, n_estimators=150, subsample=0.4;, score=0.994 total time= 1.2min\n",
            "[CV 2/5] END colsample_bytree=0.6, learning_rate=0.2, max_depth=12, n_estimators=150, subsample=0.4;, score=0.993 total time= 1.2min\n",
            "[CV 3/5] END colsample_bytree=0.6, learning_rate=0.2, max_depth=12, n_estimators=150, subsample=0.4;, score=0.995 total time= 1.2min\n",
            "[CV 4/5] END colsample_bytree=0.6, learning_rate=0.2, max_depth=12, n_estimators=150, subsample=0.4;, score=0.994 total time= 1.2min\n",
            "[CV 5/5] END colsample_bytree=0.6, learning_rate=0.2, max_depth=12, n_estimators=150, subsample=0.4;, score=0.994 total time= 1.2min\n",
            "[CV 1/5] END colsample_bytree=0.6, learning_rate=0.2, max_depth=12, n_estimators=150, subsample=0.5;, score=0.992 total time= 1.3min\n",
            "[CV 2/5] END colsample_bytree=0.6, learning_rate=0.2, max_depth=12, n_estimators=150, subsample=0.5;, score=0.994 total time= 1.3min\n",
            "[CV 3/5] END colsample_bytree=0.6, learning_rate=0.2, max_depth=12, n_estimators=150, subsample=0.5;, score=0.995 total time= 1.4min\n",
            "[CV 4/5] END colsample_bytree=0.6, learning_rate=0.2, max_depth=12, n_estimators=150, subsample=0.5;, score=0.992 total time= 1.3min\n",
            "[CV 5/5] END colsample_bytree=0.6, learning_rate=0.2, max_depth=12, n_estimators=150, subsample=0.5;, score=0.994 total time= 1.3min\n",
            "[CV 1/5] END colsample_bytree=0.6, learning_rate=0.2, max_depth=12, n_estimators=150, subsample=0.6;, score=0.994 total time= 1.4min\n",
            "[CV 2/5] END colsample_bytree=0.6, learning_rate=0.2, max_depth=12, n_estimators=150, subsample=0.6;, score=0.994 total time= 1.4min\n",
            "[CV 3/5] END colsample_bytree=0.6, learning_rate=0.2, max_depth=12, n_estimators=150, subsample=0.6;, score=0.995 total time= 1.4min\n",
            "[CV 4/5] END colsample_bytree=0.6, learning_rate=0.2, max_depth=12, n_estimators=150, subsample=0.6;, score=0.993 total time= 1.3min\n",
            "[CV 5/5] END colsample_bytree=0.6, learning_rate=0.2, max_depth=12, n_estimators=150, subsample=0.6;, score=0.995 total time= 1.4min\n"
          ]
        },
        {
          "output_type": "execute_result",
          "data": {
            "text/plain": [
              "GridSearchCV(estimator=XGBClassifier(base_score=None, booster=None,\n",
              "                                     callbacks=None, colsample_bylevel=None,\n",
              "                                     colsample_bynode=None,\n",
              "                                     colsample_bytree=None,\n",
              "                                     early_stopping_rounds=None,\n",
              "                                     enable_categorical=False, eval_metric=None,\n",
              "                                     feature_types=None, gamma=None,\n",
              "                                     gpu_id=None, grow_policy=None,\n",
              "                                     importance_type=None,\n",
              "                                     interaction_constraints=None,\n",
              "                                     learning_rate=None, max_b...\n",
              "                                     max_delta_step=None, max_depth=None,\n",
              "                                     max_leaves=None, min_child_weight=None,\n",
              "                                     missing=nan, monotone_constraints=None,\n",
              "                                     n_estimators=100, n_jobs=None,\n",
              "                                     num_parallel_tree=None, predictor=None,\n",
              "                                     random_state=None, ...),\n",
              "             param_grid={'colsample_bytree': [0.4, 0.5, 0.6],\n",
              "                         'learning_rate': [0.1, 0.15, 0.2],\n",
              "                         'max_depth': [8, 10, 12],\n",
              "                         'n_estimators': [80, 100, 150],\n",
              "                         'subsample': [0.4, 0.5, 0.6]},\n",
              "             verbose=5)"
            ]
          },
          "metadata": {},
          "execution_count": 12
        }
      ]
    },
    {
      "cell_type": "code",
      "source": [
        "grid_s_cv.best_params_"
      ],
      "metadata": {
        "colab": {
          "base_uri": "https://localhost:8080/"
        },
        "id": "cNHaPPnJ5LgS",
        "outputId": "7d37b4ac-7f57-487d-a9b6-d246d4a1ebb3"
      },
      "execution_count": 13,
      "outputs": [
        {
          "output_type": "execute_result",
          "data": {
            "text/plain": [
              "{'colsample_bytree': 0.4,\n",
              " 'learning_rate': 0.2,\n",
              " 'max_depth': 8,\n",
              " 'n_estimators': 80,\n",
              " 'subsample': 0.5}"
            ]
          },
          "metadata": {},
          "execution_count": 13
        }
      ]
    },
    {
      "cell_type": "code",
      "source": [
        "xgbclf = XGBClassifier(subsample=0.4,n_estimators=80,max_depth=8,learning_rate=0.2,colsample_bytree=0.4,nthread=-1)\n",
        "xgbclf.fit(x_train,new_y_train,verbose=True)"
      ],
      "metadata": {
        "colab": {
          "base_uri": "https://localhost:8080/"
        },
        "id": "VqDOFXKP5YUQ",
        "outputId": "8894aca3-2096-4b23-95c5-5e3bf01017b1"
      },
      "execution_count": 14,
      "outputs": [
        {
          "output_type": "execute_result",
          "data": {
            "text/plain": [
              "XGBClassifier(base_score=0.5, booster='gbtree', callbacks=None,\n",
              "              colsample_bylevel=1, colsample_bynode=1, colsample_bytree=0.4,\n",
              "              early_stopping_rounds=None, enable_categorical=False,\n",
              "              eval_metric=None, feature_types=None, gamma=0, gpu_id=-1,\n",
              "              grow_policy='depthwise', importance_type=None,\n",
              "              interaction_constraints='', learning_rate=0.2, max_bin=256,\n",
              "              max_cat_threshold=64, max_cat_to_onehot=4, max_delta_step=0,\n",
              "              max_depth=8, max_leaves=0, min_child_weight=1, missing=nan,\n",
              "              monotone_constraints='()', n_estimators=80, n_jobs=-1, nthread=-1,\n",
              "              num_parallel_tree=1, objective='multi:softprob', ...)"
            ]
          },
          "metadata": {},
          "execution_count": 14
        }
      ]
    },
    {
      "cell_type": "code",
      "source": [
        "from sklearn.calibration import CalibratedClassifierCV\n",
        "from sklearn.metrics import log_loss"
      ],
      "metadata": {
        "id": "CpUl-UsR53Wt"
      },
      "execution_count": 15,
      "outputs": []
    },
    {
      "cell_type": "code",
      "source": [
        "sig_clf = CalibratedClassifierCV(xgbclf, method=\"sigmoid\")\n",
        "sig_clf.fit(x_train, new_y_train)\n",
        "\n",
        "predict_y = sig_clf.predict_proba(x_train)\n",
        "print ( \"The train log loss is:\",log_loss(new_y_train, predict_y))\n",
        "\n",
        "predict_y = sig_clf.predict_proba(x_test)\n",
        "print(\"The test log loss is:\",log_loss(new_y_test, predict_y))"
      ],
      "metadata": {
        "colab": {
          "base_uri": "https://localhost:8080/"
        },
        "id": "sTqVqLCp566u",
        "outputId": "a4831f33-ee28-4c67-a94a-e31aaee145d5"
      },
      "execution_count": 16,
      "outputs": [
        {
          "output_type": "stream",
          "name": "stdout",
          "text": [
            "The train log loss is: 0.011201261700499208\n",
            "The test log loss is: 0.03374344491778447\n"
          ]
        }
      ]
    }
  ],
  "metadata": {
    "colab": {
      "provenance": [],
      "toc_visible": true
    },
    "gpuClass": "standard",
    "kernelspec": {
      "display_name": "Python 3 (ipykernel)",
      "language": "python",
      "name": "python3"
    },
    "language_info": {
      "codemirror_mode": {
        "name": "ipython",
        "version": 3
      },
      "file_extension": ".py",
      "mimetype": "text/x-python",
      "name": "python",
      "nbconvert_exporter": "python",
      "pygments_lexer": "ipython3",
      "version": "3.9.7"
    }
  },
  "nbformat": 4,
  "nbformat_minor": 0
}