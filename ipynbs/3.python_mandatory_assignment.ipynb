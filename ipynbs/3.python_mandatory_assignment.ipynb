{
  "cells": [
    {
      "cell_type": "markdown",
      "metadata": {
        "id": "l0ZzOlyxB-kf"
      },
      "source": [
        "<h1>Python: without numpy or sklearn </h1>"
      ]
    },
    {
      "cell_type": "markdown",
      "metadata": {
        "id": "C0xO8JV9B-ki"
      },
      "source": [
        "<h3> Q1: Given two matrices please print the product of those two matrices </h3>\n",
        "<pre>\n",
        "\n",
        "Ex 1: A   = [[1 3 4]\n",
        "             [2 5 7]\n",
        "             [5 9 6]]\n",
        "      B   = [[1 0 0]\n",
        "             [0 1 0]\n",
        "             [0 0 1]]\n",
        "      A*B = [[1 3 4]\n",
        "             [2 5 7]\n",
        "             [5 9 6]]\n",
        "\n",
        "     \n",
        "Ex 2: A   = [[1 2]\n",
        "             [3 4]]\n",
        "      B   = [[1 2 3 4 5]\n",
        "             [5 6 7 8 9]]\n",
        "      A*B = [[11 14 17 20 23]\n",
        "             [23 30 37 44 51]]\n",
        "             \n",
        "Ex 3: A   = [[1 2]\n",
        "             [3 4]]\n",
        "      B   = [[1 4]\n",
        "             [5 6]\n",
        "             [7 8]\n",
        "             [9 6]]\n",
        "      A*B =Not possible\n",
        "</pre>"
      ]
    },
    {
      "cell_type": "code",
      "execution_count": null,
      "metadata": {
        "id": "rnssAfpgB-kj"
      },
      "outputs": [],
      "source": [
        "\n",
        "def matrix_mul(A, B):\n",
        "    if len(A[0]) == len(B):\n",
        "      mul_ab = []\n",
        "      for i in range(len(A)):# iterating by number of rows in A\n",
        "        temp = []\n",
        "\n",
        "        for j in range(len(B[0])): # iterating by number of columns in B\n",
        "          prod = 0\n",
        "\n",
        "          for k in range(len(B)): # multiplying and adding elements of A(rows) and B(columns) \n",
        "            prod += A[i][k] * B[k][j]\n",
        "\n",
        "          temp.append(prod)\n",
        "          \n",
        "        mul_ab.append(temp)\n",
        "        \n",
        "          \n",
        "    else:\n",
        "      return \"A*B = Not possible\" \n",
        "\n",
        "    return mul_ab\n"
      ]
    },
    {
      "cell_type": "markdown",
      "source": [
        "# Example 1"
      ],
      "metadata": {
        "id": "owHKz9N4hcme"
      }
    },
    {
      "cell_type": "code",
      "source": [
        "A = [[1, 3, 4],\n",
        "    [2, 5, 7],\n",
        "    [5, 9, 6]]\n",
        "B = [[1, 0, 0],\n",
        "    [0, 1, 0],\n",
        "    [0, 0, 1]]\n",
        "matrix_mul(A, B)"
      ],
      "metadata": {
        "colab": {
          "base_uri": "https://localhost:8080/"
        },
        "id": "oYH51QetgRgm",
        "outputId": "e6631073-4af6-4072-b23c-0cb9c53fbc36"
      },
      "execution_count": null,
      "outputs": [
        {
          "output_type": "execute_result",
          "data": {
            "text/plain": [
              "[[1, 3, 4], [2, 5, 7], [5, 9, 6]]"
            ]
          },
          "metadata": {},
          "execution_count": 24
        }
      ]
    },
    {
      "cell_type": "markdown",
      "source": [
        "# Example 2"
      ],
      "metadata": {
        "id": "2ns0JSLihhG1"
      }
    },
    {
      "cell_type": "code",
      "source": [
        "A   = [[1, 2],\n",
        "      [3, 4]]\n",
        "B   = [[1, 2, 3, 4, 5],\n",
        "      [5, 6, 7, 8, 9]]\n",
        "matrix_mul(A, B)"
      ],
      "metadata": {
        "colab": {
          "base_uri": "https://localhost:8080/"
        },
        "id": "5rCXib9DdjOg",
        "outputId": "2602e5aa-e053-4b06-8fc5-58246a357325"
      },
      "execution_count": null,
      "outputs": [
        {
          "output_type": "execute_result",
          "data": {
            "text/plain": [
              "[[11, 14, 17, 20, 23], [23, 30, 37, 44, 51]]"
            ]
          },
          "metadata": {},
          "execution_count": 25
        }
      ]
    },
    {
      "cell_type": "markdown",
      "source": [
        "# Example 3"
      ],
      "metadata": {
        "id": "edzh0WWZhkes"
      }
    },
    {
      "cell_type": "code",
      "source": [
        "A   = [[1, 2],\n",
        "       [3, 4]]\n",
        "B   = [[1, 4],\n",
        "      [5, 6],\n",
        "      [7, 8],\n",
        "      [9, 6]]\n",
        "matrix_mul(A, B)  "
      ],
      "metadata": {
        "colab": {
          "base_uri": "https://localhost:8080/",
          "height": 36
        },
        "id": "fCKsz2N3hog4",
        "outputId": "05deefa0-3d32-4b6d-f270-eed0fa04b8d5"
      },
      "execution_count": null,
      "outputs": [
        {
          "output_type": "execute_result",
          "data": {
            "text/plain": [
              "'A*B = Not possible'"
            ],
            "application/vnd.google.colaboratory.intrinsic+json": {
              "type": "string"
            }
          },
          "metadata": {},
          "execution_count": 26
        }
      ]
    },
    {
      "cell_type": "markdown",
      "metadata": {
        "id": "at4VwLggB-kn"
      },
      "source": [
        "<h1> Q2: Proportional Sampling -</h3> Select a number randomly with probability proportional to its magnitude from the given array of n elements</h3>\n",
        "\n",
        "Consider an experiment, selecting an element from the list A randomly with probability proportional to its magnitude.\n",
        "assume we are doing the same experiment for 100 times with replacement, in each experiment you will print a number that is selected randomly from A.\n",
        "\n",
        "<pre>\n",
        "Ex 1: A = [0 5 27 6 13 28 100 45 10 79]\n",
        "let f(x) denote the number of times x getting selected in 100 experiments.\n",
        "f(100) > f(79) > f(45) > f(28) > f(27) > f(13) > f(10) > f(6) > f(5) > f(0)\n",
        "</pre>"
      ]
    },
    {
      "cell_type": "code",
      "execution_count": null,
      "metadata": {
        "id": "B6S2dpBhB-kn",
        "colab": {
          "base_uri": "https://localhost:8080/"
        },
        "outputId": "ee6a1642-0c1c-4f5a-b1df-c44d9ca0617f"
      },
      "outputs": [
        {
          "output_type": "stream",
          "name": "stdout",
          "text": [
            "0 \t 0\n",
            "5 \t 0\n",
            "6 \t 0\n",
            "10 \t 3\n",
            "13 \t 3\n",
            "27 \t 5\n",
            "28 \t 8\n",
            "45 \t 21\n",
            "79 \t 27\n",
            "100 \t 33\n"
          ]
        }
      ],
      "source": [
        "from random import uniform\n",
        "from functools import reduce\n",
        "\n",
        "\n",
        "def add_1(x, y): \n",
        "  # adds 2 elements\n",
        "  return x+y\n",
        "\n",
        "\n",
        "def proportional_sampling(lst): \n",
        "  # Returns a list of proportional sample of lst\n",
        "  s = sum(lst)\n",
        "  di = []\n",
        "  di_cum = []\n",
        "\n",
        "  for num in lst:\n",
        "    di.append(num/s)\n",
        "    di_cum.append(reduce(add_1, di))\n",
        "  return di_cum\n",
        "\n",
        "\n",
        "def pick_a_number_from_list(lst):\n",
        "    # for picking an element from a list with the probability propotional to its magnitude\n",
        "  r = uniform(0, 1)\n",
        "  for i in range(len(proportional_sampling(lst))):\n",
        "    if r <= proportional_sampling(lst)[i]:\n",
        "      return lst[i]\n",
        "\n",
        "\n",
        "def sampling_based_on_magnitued(lst):\n",
        "  # Gives a list of 100 trails of picking a number from list A\n",
        "  sample =[]\n",
        "  for i in range(0,100):\n",
        "    number = pick_a_number_from_list(lst)\n",
        "    sample.append(number)\n",
        "  return sample\n",
        "\n",
        "\n",
        "A = [0,5,27,6,13,28,100,45,10,79]\n",
        "\n",
        "sample_list = sampling_based_on_magnitued(A)\n",
        "for num in sorted(A):\n",
        "  print(num,'\\t', sample_list.count(num)) #printing the elements and the number of times they are picked\n"
      ]
    },
    {
      "cell_type": "markdown",
      "metadata": {
        "id": "D1xQy2WWB-kq"
      },
      "source": [
        "<h1> Q3: Replace the digits in the string with #</h3>\n",
        "\n",
        "consider a string that will have digits in that, we need to remove all the not digits and replace the digits with #\n",
        "<pre>\n",
        "Ex 1: A = 234                Output: ###\n",
        "Ex 2: A = a2b3c4             Output: ###\n",
        "Ex 3: A = abc                Output:   (empty string)\n",
        "Ex 5: A = #2a$#b%c%561#      Output: ####\n",
        "</pre>"
      ]
    },
    {
      "cell_type": "code",
      "execution_count": null,
      "metadata": {
        "id": "fxczi2jzB-kr",
        "colab": {
          "base_uri": "https://localhost:8080/"
        },
        "outputId": "9e80a212-06e7-47c8-9da3-d540a6b4823e"
      },
      "outputs": [
        {
          "output_type": "stream",
          "name": "stdout",
          "text": [
            "###\n",
            "###\n",
            "\n",
            "####\n"
          ]
        }
      ],
      "source": [
        "import re\n",
        "\n",
        "\n",
        "def replace_digits(string):\n",
        "    string_match = re.findall('\\d', string)\n",
        "    output_string = ''\n",
        "    for i in range(len(string_match)):\n",
        "      output_string += '#'\n",
        "    return output_string  # modified string which is after replacing the # with digits\n",
        "\n",
        "print(replace_digits('123'))            # exp 1\n",
        "print(replace_digits('a2b3c4 '))        # exp 2\n",
        "print(replace_digits('abc '))           # exp 3\n",
        "print(replace_digits('#2a$#b%c%561#'))  # exp 4"
      ]
    },
    {
      "cell_type": "markdown",
      "metadata": {
        "id": "j7h0Ywg7B-kw"
      },
      "source": [
        "<h1> Q4: Students marks dashboard</h3>\n",
        "\n",
        "consider the marks list of class students given two lists <br>\n",
        "Students = ['student1','student2','student3','student4','student5','student6','student7','student8','student9','student10'] <br>\n",
        "Marks = [45, 78, 12, 14, 48, 43, 45, 98, 22, 80] <br>\n",
        "from the above two lists the Student[0] got Marks[0],  Student[1] got Marks[1] and so on <br><br>\n",
        "your task is to print the name of students\n",
        "<strong>a. Who got top 5 ranks, in the descending order of marks</strong> <br>\n",
        "<strong>b. Who got least 5 ranks, in the increasing order of marks</strong><br>\n",
        "<strong>c. Who got marks between  &gt;25th percentile &lt;75th percentile, in the increasing order of marks</strong>\n",
        "\n",
        "<pre>\n",
        "Ex 1: \n",
        "Students=['student1','student2','student3','student4','student5','student6','student7','student8','student9','student10'] \n",
        "Marks = [45, 78, 12, 14, 48, 43, 47, 98, 22, 80]\n",
        "a. \n",
        "student8  98\n",
        "student10 80\n",
        "student2  78\n",
        "student5  48\n",
        "student7  47\n",
        "b.\n",
        "student3 12\n",
        "student4 14\n",
        "student9 22\n",
        "student6 43\n",
        "student1 45\n",
        "c.\n",
        "student9 22\n",
        "student6 43\n",
        "student1 45\n",
        "student7 47\n",
        "student5 48\n",
        "</pre>"
      ]
    },
    {
      "cell_type": "markdown",
      "source": [
        "# INPUT"
      ],
      "metadata": {
        "id": "OWQLqF1RDF7r"
      }
    },
    {
      "cell_type": "code",
      "source": [
        "Students=['student1','student2','student3','student4','student5','student6','student7','student8','student9','student10'] \n",
        "Marks = [45, 78, 12, 14, 48, 43, 47, 98, 22, 80]"
      ],
      "metadata": {
        "id": "3Hy3jUuQmpHF"
      },
      "execution_count": 2,
      "outputs": []
    },
    {
      "cell_type": "code",
      "execution_count": 4,
      "metadata": {
        "id": "cxPJgItsB-kx",
        "colab": {
          "base_uri": "https://localhost:8080/"
        },
        "outputId": "aad46545-32d3-4ee3-bceb-a6004fb2572d"
      },
      "outputs": [
        {
          "output_type": "stream",
          "name": "stdout",
          "text": [
            "a\n",
            "student8 98\n",
            "student10 80\n",
            "student2 78\n",
            "student5 48\n",
            "student7 47\n",
            "b\n",
            "student3 12\n",
            "student4 14\n",
            "student9 22\n",
            "student6 43\n",
            "student1 45\n",
            "c\n",
            "student9 22\n",
            "student6 43\n",
            "student1 45\n",
            "student7 47\n",
            "student5 48\n"
          ]
        }
      ],
      "source": [
        "def display_dash_board(students, marks):\n",
        "    '''returns lists of tuples of students and marks\n",
        "     of top 5 last 5 and between 25 and 75 percentile'''\n",
        "\n",
        "    sorted_marks = sorted(marks, reverse = True)\n",
        "\n",
        "    top_5_students = []\n",
        "    for num in sorted_marks[0:5]:\n",
        "      ind = marks.index(num)\n",
        "      top_5_students.append(ind)\n",
        "\n",
        "    sorted_marks = sorted(marks)   \n",
        "    least_5_students = []\n",
        "    for num in sorted_marks[0:5]:\n",
        "      ind = marks.index(num)\n",
        "      least_5_students.append(ind)\n",
        "\n",
        "    students_within_25_and_75 = []\n",
        "\n",
        "    diff = max(Marks)-min(Marks)\n",
        "    for num in sorted_marks:\n",
        "      if (num > 0.25*diff) and (num < 0.75*diff):\n",
        "        ind = marks.index(num)\n",
        "        students_within_25_and_75.append(ind)\n",
        "\n",
        "    return top_5_students, least_5_students, students_within_25_and_75\n",
        "\n",
        "\n",
        "top_5_students, least_5_students, students_within_25_and_75 = display_dash_board(Students, Marks)\n",
        "#top 5\n",
        "print('a')\n",
        "for num in top_5_students:\n",
        "  print(Students[num],Marks[num])\n",
        "\n",
        "#least 5\n",
        "print('b')\n",
        "for num in least_5_students:\n",
        "  print(Students[num],Marks[num])\n",
        "\n",
        "#between 25 and 75\n",
        "print('c')\n",
        "for num in students_within_25_and_75:\n",
        "  print(Students[num],Marks[num])"
      ]
    },
    {
      "cell_type": "markdown",
      "metadata": {
        "id": "qha0OhQHB-k1"
      },
      "source": [
        "<h1> Q5: Find the closest points</h3>\n",
        "\n",
        "Consider you have given n data points in the form of list of tuples like S=[(x1,y1),(x2,y2),(x3,y3),(x4,y4),(x5,y5),..,(xn,yn)] and a point P=(p,q) <br> Your task is to find 5 closest points(based on cosine distance) in S from P\n",
        "<br>Cosine distance between two points (x,y) and (p,q) is defind as $cos^{-1}(\\frac{(x\\cdot p+y\\cdot q)}{\\sqrt(x^2+y^2)\\cdot\\sqrt(p^2+q^2)})$\n",
        "<pre>\n",
        "Ex:\n",
        "\n",
        "S= [(1,2),(3,4),(-1,1),(6,-7),(0, 6),(-5,-8),(-1,-1),(6,0),(1,-1)]\n",
        "P= (3,-4)\n",
        "\n",
        "<img src='https://i.imgur.com/vyZZQGu.png' width=400>\n",
        "\n",
        "Output:\n",
        "(6,-7)\n",
        "(1,-1)\n",
        "(6,0)\n",
        "(-5,-8)\n",
        "(-1,-1)\n",
        "</pre>\n",
        " Hint - If you write the formula correctly you'll get the distance between points (6,-7) and (3,-4) = 0.065"
      ]
    },
    {
      "cell_type": "code",
      "execution_count": null,
      "metadata": {
        "id": "wA5I1g-2B-k2",
        "colab": {
          "base_uri": "https://localhost:8080/"
        },
        "outputId": "0464b3c1-ffd3-43c1-c752-ee31f0b262f2"
      },
      "outputs": [
        {
          "output_type": "stream",
          "name": "stdout",
          "text": [
            "(6, -7)\n",
            "(1, -1)\n",
            "(6, 0)\n",
            "(-5, -8)\n",
            "(-1, -1)\n"
          ]
        }
      ],
      "source": [
        "import math as m\n",
        "\n",
        "\n",
        "def cos_dis(point1,point2):\n",
        "  '''\n",
        "  returns cosine distance\n",
        "  '''\n",
        "  x, y = point1\n",
        "  p, q = point2\n",
        "  return m.acos((x*p+y*q)/(m.sqrt(x*x + y*y) * m.sqrt(p*p + q*q)))\n",
        "\n",
        "\n",
        "def closest_points_to_p(S, P):\n",
        "  '''\n",
        "  gives 5 closest points of all the given points to given point\n",
        "  '''\n",
        "  dis = {}  # dict with distace as keys and points as value\n",
        "  \n",
        "  for num in S:\n",
        "    dis[cos_dis(num, P)] = num\n",
        "  \n",
        "  closest_points = []\n",
        "\n",
        "  for num in sorted(dis)[0:5]: #sorted(dis) returns the sorted keys of dis\n",
        "    closest_points.append(dis[num])\n",
        "\n",
        "  return closest_points \n",
        "\n",
        "\n",
        "#INPUT\n",
        "S= [(1,2),(3,4),(-1,1),(6,-7),(0, 6),(-5,-8),(-1,-1),(6,0),(1,-1)]\n",
        "P= (3,-4)\n",
        "\n",
        "points = closest_points_to_p(S, P)\n",
        "print(*points, sep='\\n') #prints list"
      ]
    },
    {
      "cell_type": "markdown",
      "metadata": {
        "id": "-g11jeAiB-k5"
      },
      "source": [
        "<h1> Q6: Find Which line separates oranges and apples</h3>\n",
        "consider you have given two set of data points in the form of list of tuples like \n",
        "<pre>\n",
        "Red =[(R11,R12),(R21,R22),(R31,R32),(R41,R42),(R51,R52),..,(Rn1,Rn2)]\n",
        "Blue=[(B11,B12),(B21,B22),(B31,B32),(B41,B42),(B51,B52),..,(Bm1,Bm2)]\n",
        "</pre>\n",
        "and set of line equations(in the string formate, i.e list of strings)\n",
        "<pre>\n",
        "Lines = [a1x+b1y+c1,a2x+b2y+c2,a3x+b3y+c3,a4x+b4y+c4,..,K lines]\n",
        "Note: you need to string parsing here and get the coefficients of x,y and intercept\n",
        "</pre>\n",
        "your task is to for each line that is given print \"YES\"/\"NO\", you will print yes, if all the red points are one side of the line and blue points are other side of the line, otherwise no\n",
        "<pre>\n",
        "Ex:\n",
        "Red= [(1,1),(2,1),(4,2),(2,4), (-1,4)]\n",
        "Blue= [(-2,-1),(-1,-2),(-3,-2),(-3,-1),(1,-3)]\n",
        "Lines=[\"1x+1y+0\",\"1x-1y+0\",\"1x+0y-3\",\"0x+1y-0.5\"]\n",
        "<img src='https://i.imgur.com/mSnQW5K.png' width=400>\n",
        "\n",
        "Output:\n",
        "YES\n",
        "NO\n",
        "NO\n",
        "YES\n",
        "</pre>"
      ]
    },
    {
      "cell_type": "code",
      "execution_count": null,
      "metadata": {
        "id": "eRxExaTRB-k6",
        "colab": {
          "base_uri": "https://localhost:8080/"
        },
        "outputId": "36d0d7f2-6680-4f1a-d205-9c107cb089e2"
      },
      "outputs": [
        {
          "output_type": "stream",
          "name": "stdout",
          "text": [
            "yes\n",
            "no\n",
            "no\n",
            "yes\n"
          ]
        }
      ],
      "source": [
        "import math\n",
        "\n",
        "\n",
        "def line_coef(s):\n",
        "  lst = list(s.split('x'))\n",
        "  a = lst[0]\n",
        "  b,c = lst[1].split('y')\n",
        "  return float(a),float(b),float(c)\n",
        "\n",
        "\n",
        "def i_am_the_one(red,blue,line):\n",
        "  a,b,c = line_coef(line)\n",
        "\n",
        "  for point_r in red:\n",
        "    x, y = point_r\n",
        "    r = a*x + b*y + c\n",
        "    \n",
        "    for point_b in blue:\n",
        "      x, y = point_b\n",
        "      bl = a*x + b*y + c\n",
        "\n",
        "      if r*bl > 0 :\n",
        "        return 'no'\n",
        "  return 'yes'\n",
        "\n",
        "\n",
        "Red= [(1,1),(2,1),(4,2),(2,4), (-1,4)]\n",
        "Blue= [(-2,-1),(-1,-2),(-3,-2),(-3,-1),(1,-3)]\n",
        "Lines=[\"1x+1y+0\",\"1x-1y+0\",\"1x+0y-3\",\"0x+1y-0.5\"]\n",
        "\n",
        "for i in Lines:\n",
        "    yes_or_no = i_am_the_one(Red, Blue, i)\n",
        "    print(yes_or_no)"
      ]
    },
    {
      "cell_type": "markdown",
      "metadata": {
        "id": "9OBpURbNB-k9"
      },
      "source": [
        "<h3> Q7: Filling the missing values in the specified formate</h3>\n",
        "You will be given a string with digits and '\\_'(missing value) symbols you have to replace the '\\_' symbols as explained \n",
        "<pre>\n",
        "Ex 1: _, _, _, 24 ==> 24/4, 24/4, 24/4, 24/4 i.e we. have distributed the 24 equally to all 4 places <br>\n",
        "Ex 2: 40, _, _, _, 60 ==> (60+40)/5,(60+40)/5,(60+40)/5,(60+40)/5,(60+40)/5 ==> 20, 20, 20, 20, 20 i.e. the sum of (60+40) is distributed qually to all 5 places<br>\n",
        "Ex 3: 80, _, _, _, _  ==> 80/5,80/5,80/5,80/5,80/5 ==> 16, 16, 16, 16, 16 i.e. the 80 is distributed qually to all 5 missing values that are right to it<br>\n",
        "Ex 4: _, _, 30, _, _, _, 50, _, _  \n",
        "==> we will fill the missing values from left to right \n",
        "    a. first we will distribute the 30 to left two missing values (10, 10, 10, _, _, _, 50, _, _)\n",
        "    b. now distribute the sum (10+50) missing values in between (10, 10, 12, 12, 12, 12, 12, _, _) \n",
        "    c. now we will distribute 12 to right side missing values (10, 10, 12, 12, 12, 12, 4, 4, 4)\n",
        "</pre>\n",
        "for a given string with comma seprate values, which will have both missing values numbers like ex: \"_, _, x, _, _, _\"\n",
        "you need fill the missing values\n",
        "\n",
        "Q: your program reads a string like ex: \"_, _, x, _, _, _\" and returns the filled sequence\n",
        "\n",
        "Ex: \n",
        "<pre>\n",
        "Input1: \"_,_,_,24\"\n",
        "Output1: 6,6,6,6\n",
        "\n",
        "Input2: \"40,_,_,_,60\"\n",
        "Output2: 20,20,20,20,20\n",
        "\n",
        "Input3: \"80,_,_,_,_\"\n",
        "Output3: 16,16,16,16,16\n",
        "\n",
        "Input4: \"_,_,30,_,_,_,50,_,_\"\n",
        "Output4: 10,10,12,12,12,12,4,4,4\n",
        "\n",
        "</pre>\n",
        "\n"
      ]
    },
    {
      "cell_type": "code",
      "execution_count": null,
      "metadata": {
        "id": "nZmpzHs_B-k-",
        "colab": {
          "base_uri": "https://localhost:8080/"
        },
        "outputId": "e9f8fa5d-7fc3-47bc-f225-33d75aa4e67f"
      },
      "outputs": [
        {
          "output_type": "stream",
          "name": "stdout",
          "text": [
            "_,_,_,24 \t [6.0, 6.0, 6.0, 6.0]\n",
            "40,_,_,_,60 \t [20.0, 20.0, 20.0, 20.0, 20.0]\n",
            "80,_,_,_,_ \t [16.0, 16.0, 16.0, 16.0, 16.0]\n",
            "_,_,30,_,_,_,50,_,_ \t [10.0, 10.0, 12.0, 12.0, 12.0, 12.0, 4.0, 4.0, 4.0]\n"
          ]
        }
      ],
      "source": [
        "# write your python code here\n",
        "# you can take the above example as sample input for your program to test\n",
        "# it should work for any general input try not to hard code for only given input strings\n",
        "#run your code in the function for each of the inputs mentioned above and make sure that you get the same results\n",
        "\n",
        "\n",
        "def curve_smoothing(string):\n",
        "  lst = string.split(',')\n",
        "  index_list = [i for i,ch in enumerate(lst) if ch != '_']\n",
        "  # if there is single number\n",
        "  if len(index_list) == 1:\n",
        "    if index_list[0] == 0 or index_list[0] == len(lst) - 1:\n",
        "      val = float(lst[index_list[0]])/len(lst)\n",
        "      for i in range(len(lst)):\n",
        "          lst[i] = val\n",
        "    else:\n",
        "      val = float(lst[index_list[0]]) / (index_list[0] + 1)\n",
        "      for i in range(0, index_list[0] + 1):\n",
        "        lst[i] = val\n",
        "      val = float(lst[index_list[0]]) / (len(lst) - index_list[0])\n",
        "      for i in range(index_list[0],len(lst)):\n",
        "        lst[i] = val\n",
        "  else:\n",
        "    for i,ind in enumerate(index_list[:-1]):\n",
        "      if i == 0 and ind != 0:\n",
        "        val = float(lst[index_list[i]])/(ind + 1)\n",
        "        for it in range(0,ind+1):\n",
        "          lst[it] = val      \n",
        "\n",
        "      val = (float(lst[ind])+float(lst[index_list[i+1]]))/(index_list[i+1]-ind+1)\n",
        "      for it in range(index_list[i], index_list[i+1]+1):\n",
        "        lst[it] = val\n",
        "\n",
        "      if i == (len(index_list) - 2):\n",
        "        i += 1\n",
        "        if index_list[i] < (len(lst)-1):\n",
        "          val = float(lst[index_list[i]])/(len(lst)-index_list[i])\n",
        "          for it in range(index_list[i],len(lst)):\n",
        "            lst[it] = val\n",
        "  return lst\n",
        "\n",
        "\n",
        "S=  [\"_,_,_,24\",\"40,_,_,_,60\",\"80,_,_,_,_\",\"_,_,30,_,_,_,50,_,_\"]\n",
        "for s in S:\n",
        "  print(s,'\\t', curve_smoothing(s))"
      ]
    },
    {
      "cell_type": "markdown",
      "metadata": {
        "id": "RBz4pzlfB-lB"
      },
      "source": [
        "<h1> Q8: Conditional probability</h3>\n",
        "You will be given a list of lists, each sublist will be of length 2 i.e. [[x,y],[p,q],[l,m]..[r,s]]\n",
        "consider its like a martrix of n rows and two columns\n",
        "1. the first column F will contain only 5 uniques values (F1, F2, F3, F4, F5)\n",
        "2. the second column S will contain only 3 uniques values (S1, S2, S3)\n",
        "<pre>\n",
        "your task is to find\n",
        "a. Probability of P(F=F1|S==S1), P(F=F1|S==S2), P(F=F1|S==S3)\n",
        "b. Probability of P(F=F2|S==S1), P(F=F2|S==S2), P(F=F2|S==S3)\n",
        "c. Probability of P(F=F3|S==S1), P(F=F3|S==S2), P(F=F3|S==S3)\n",
        "d. Probability of P(F=F4|S==S1), P(F=F4|S==S2), P(F=F4|S==S3)\n",
        "e. Probability of P(F=F5|S==S1), P(F=F5|S==S2), P(F=F5|S==S3)\n",
        "</pre>\n",
        "Ex:\n",
        "\n",
        "<pre>\n",
        "[[F1,S1],[F2,S2],[F3,S3],[F1,S2],[F2,S3],[F3,S2],[F2,S1],[F4,S1],[F4,S3],[F5,S1]]\n",
        "\n",
        "a. P(F=F1|S==S1)=1/4, P(F=F1|S==S2)=1/3, P(F=F1|S==S3)=0/3\n",
        "b. P(F=F2|S==S1)=1/4, P(F=F2|S==S2)=1/3, P(F=F2|S==S3)=1/3\n",
        "c. P(F=F3|S==S1)=0/4, P(F=F3|S==S2)=1/3, P(F=F3|S==S3)=1/3\n",
        "d. P(F=F4|S==S1)=1/4, P(F=F4|S==S2)=0/3, P(F=F4|S==S3)=1/3\n",
        "e. P(F=F5|S==S1)=1/4, P(F=F5|S==S2)=0/3, P(F=F5|S==S3)=0/3\n",
        "</pre>\n",
        "\n",
        "\n"
      ]
    },
    {
      "cell_type": "code",
      "execution_count": null,
      "metadata": {
        "id": "e-1giz1MB-lC",
        "colab": {
          "base_uri": "https://localhost:8080/"
        },
        "outputId": "10d103d3-50a9-4452-8a42-d573c51b88a8"
      },
      "outputs": [
        {
          "output_type": "stream",
          "name": "stdout",
          "text": [
            "['F1', 'S1'] \t 0.25\n",
            "['F1', 'S2'] \t 0.3333333333333333\n",
            "['F1', 'S3'] \t 0.0\n",
            "['F2', 'S1'] \t 0.25\n",
            "['F2', 'S2'] \t 0.3333333333333333\n",
            "['F2', 'S3'] \t 0.3333333333333333\n",
            "['F3', 'S1'] \t 0.0\n",
            "['F3', 'S2'] \t 0.3333333333333333\n",
            "['F3', 'S3'] \t 0.3333333333333333\n",
            "['F4', 'S1'] \t 0.25\n",
            "['F4', 'S2'] \t 0.0\n",
            "['F4', 'S3'] \t 0.3333333333333333\n",
            "['F5', 'S1'] \t 0.25\n",
            "['F5', 'S2'] \t 0.0\n",
            "['F5', 'S3'] \t 0.0\n"
          ]
        }
      ],
      "source": [
        "# write your python code here\n",
        "# you can take the above example as sample input for your program to test\n",
        "# it should work for any general input try not to hard code for only given input strings. Do not write 15 print statements.\n",
        "# you can use nested loops or dictionaries to write your code\n",
        "\n",
        "\n",
        "# you can free to change all these codes/structure\n",
        "def compute_conditional_probabilites(A):\n",
        "\n",
        "  output =[]\n",
        "  for pair in all_pairs:\n",
        "    f,s = pair\n",
        "    count_fns = 0\n",
        "    count_s = 0\n",
        "    for pr in A:\n",
        "      if pr[0] == f and pr[1] == s:\n",
        "        count_fns += 1\n",
        "      if pr[1] == s:\n",
        "        count_s += 1\n",
        "    output.append(count_fns/count_s)\n",
        "  return output\n",
        "\n",
        "\n",
        "all_pairs = [['F1','S1'],['F1','S2'],['F1','S3'],\n",
        "            ['F2','S1'],['F2','S2'],['F2','S3'],\n",
        "            ['F3','S1'],['F3','S2'],['F3','S3'],\n",
        "            ['F4','S1'],['F4','S2'],['F4','S3'],\n",
        "            ['F5','S1'],['F5','S2'],['F5','S3']]   \n",
        "\n",
        "A = [['F1','S1'],['F2','S2'],['F3','S3'],\n",
        "     ['F1','S2'],['F2','S3'],['F3','S2'],\n",
        "     ['F2','S1'],['F4','S1'],['F4','S3'],\n",
        "     ['F5','S1']]\n",
        "\n",
        "cond_prob_list = compute_conditional_probabilites(A)\n",
        "for i in range(len(all_pairs)):\n",
        "  print(all_pairs[i],\"\\t\",cond_prob_list[i])"
      ]
    },
    {
      "cell_type": "markdown",
      "metadata": {
        "id": "n4HS87QmB-lF"
      },
      "source": [
        "<h3> Q9: Given two sentances S1, S2</h3>\n",
        "You will be given two sentances S1, S2 your task is to find \n",
        "<pre>\n",
        "a. Number of common words between S1, S2\n",
        "b. Words in S1 but not in S2\n",
        "c. Words in S2 but not in S1\n",
        "</pre>\n",
        "\n",
        "Ex: \n",
        "<pre>\n",
        "S1= \"the first column F will contain only 5 uniques values\"\n",
        "S2= \"the second column S will contain only 3 uniques values\"\n",
        "Output:\n",
        "a. 7\n",
        "b. ['first','F','5']\n",
        "c. ['second','S','3']\n",
        "</pre>"
      ]
    },
    {
      "cell_type": "code",
      "execution_count": null,
      "metadata": {
        "id": "Ez7hlHK0B-lG",
        "colab": {
          "base_uri": "https://localhost:8080/"
        },
        "outputId": "66701ef3-e0d9-47da-c840-8506c8056372"
      },
      "outputs": [
        {
          "output_type": "stream",
          "name": "stdout",
          "text": [
            "7\n",
            "['5', 'first', 'F']\n",
            "['second', '3', 'S']\n"
          ]
        }
      ],
      "source": [
        "# write your python code here\n",
        "# you can take the above example as sample input for your program to test\n",
        "# it should work for any general input try not to hard code for only given input strings\n",
        "\n",
        "# you can free to change all these codes/structure\n",
        "def string_features(S1, S2):\n",
        "    string_set_1 = set(S1.split(' '))\n",
        "    string_set_2 = set(S2.split(' '))\n",
        "    a = len(string_set_1.intersection(string_set_2))\n",
        "    b = list(string_set_1-string_set_2)\n",
        "    c = list(string_set_2-string_set_1)\n",
        "    return a, b, c\n",
        "\n",
        "\n",
        "S1= \"the first column F will contain only 5 uniques values\"\n",
        "S2= \"the second column S will contain only 3 uniques values\"\n",
        "\n",
        "print(*string_features(S1,S2), sep = '\\n')"
      ]
    },
    {
      "cell_type": "markdown",
      "metadata": {
        "id": "XefXVEjCB-lI"
      },
      "source": [
        "<h3> Q10: Given two sentances S1, S2</h3>\n",
        "You will be given a list of lists, each sublist will be of length 2 i.e. [[x,y],[p,q],[l,m]..[r,s]]\n",
        "consider its like a martrix of n rows and two columns\n",
        "\n",
        "a. the first column Y will contain interger values <br>\n",
        "b. the second column $Y_{score}$ will be having float values <br>\n",
        "Your task is to find the value of $f(Y,Y_{score}) = -1*\\frac{1}{n}\\Sigma_{for each Y,Y_{score} pair}(Ylog10(Y_{score})+(1-Y)log10(1-Y_{score}))$ here n is the number of rows in the matrix\n",
        "<pre>\n",
        "Ex:\n",
        "[[1, 0.4], [0, 0.5], [0, 0.9], [0, 0.3], [0, 0.6], [1, 0.1], [1, 0.9], [1, 0.8]]\n",
        "output:\n",
        "0.4243099\n",
        "</pre>\n",
        "$\\frac{-1}{8}\\cdot((1\\cdot log_{10}(0.4)+0\\cdot log_{10}(0.6))+(0\\cdot log_{10}(0.5)+1\\cdot log_{10}(0.5)) + ... + (1\\cdot log_{10}(0.8)+0\\cdot log_{10}(0.2)) )$"
      ]
    },
    {
      "cell_type": "code",
      "execution_count": null,
      "metadata": {
        "id": "N9zkagyNB-lJ",
        "colab": {
          "base_uri": "https://localhost:8080/"
        },
        "outputId": "fa68af0f-3518-4756-e556-34f470c4c0c7"
      },
      "outputs": [
        {
          "output_type": "stream",
          "name": "stdout",
          "text": [
            "0.42430993457031635\n"
          ]
        }
      ],
      "source": [
        "import math as m\n",
        "\n",
        "def compute_log_loss(A):\n",
        "  sigma = 0\n",
        "  for pair in A:\n",
        "    y, y_score = pair\n",
        "    sigma += y*m.log10(y_score) + (1-y)*m.log10(1-y_score) \n",
        "  return -1 * sigma/len(A)\n",
        "\n",
        "A = [[1, 0.4], [0, 0.5], [0, 0.9], [0, 0.3], [0, 0.6], [1, 0.1], [1, 0.9], [1, 0.8]]\n",
        "loss = compute_log_loss(A)\n",
        "print(loss)"
      ]
    }
  ],
  "metadata": {
    "colab": {
      "collapsed_sections": [],
      "name": "python_mandatory_assignment.ipynb",
      "provenance": []
    },
    "kernelspec": {
      "display_name": "Python 3",
      "language": "python",
      "name": "python3"
    },
    "language_info": {
      "codemirror_mode": {
        "name": "ipython",
        "version": 3
      },
      "file_extension": ".py",
      "mimetype": "text/x-python",
      "name": "python",
      "nbconvert_exporter": "python",
      "pygments_lexer": "ipython3",
      "version": "3.6.3"
    }
  },
  "nbformat": 4,
  "nbformat_minor": 0
}