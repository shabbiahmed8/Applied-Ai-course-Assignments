{
  "cells": [
    {
      "cell_type": "markdown",
      "metadata": {
        "id": "3sNKZq4XrXQh"
      },
      "source": [
        "# <font color='red'><b>Bootstrap assignment</b> </font>"
      ]
    },
    {
      "cell_type": "markdown",
      "metadata": {
        "id": "cuxBq_bvrwh2"
      },
      "source": [
        "<font color='blue'> <b>Importing packages</b> </font>"
      ]
    },
    {
      "cell_type": "code",
      "execution_count": 12,
      "metadata": {
        "id": "m6ag91ijrQOs"
      },
      "outputs": [],
      "source": [
        "import numpy as np # importing numpy for numerical computation\n",
        "from sklearn.datasets import load_boston # here we are using sklearn's boston dataset\n",
        "from sklearn.metrics import mean_squared_error # importing mean_squared_error metric\n",
        "from sklearn.tree import DecisionTreeRegressor as dtr\n",
        "\n",
        "import warnings\n",
        "warnings.filterwarnings(\"ignore\")"
      ]
    },
    {
      "cell_type": "code",
      "execution_count": 13,
      "metadata": {
        "id": "CcHOsONTt1K_"
      },
      "outputs": [],
      "source": [
        "boston = load_boston()\n",
        "x=boston.data #independent variables\n",
        "y=boston.target #target variable"
      ]
    },
    {
      "cell_type": "code",
      "execution_count": 14,
      "metadata": {
        "colab": {
          "base_uri": "https://localhost:8080/"
        },
        "id": "pc1htEFYuLRj",
        "outputId": "f22ed872-bf6a-4f5a-c412-df8849569e70"
      },
      "outputs": [
        {
          "output_type": "execute_result",
          "data": {
            "text/plain": [
              "(506, 13)"
            ]
          },
          "metadata": {},
          "execution_count": 14
        }
      ],
      "source": [
        "x.shape"
      ]
    },
    {
      "cell_type": "markdown",
      "metadata": {
        "id": "V2fHTdS_zpgG"
      },
      "source": [
        "# <font color='blue'> <b>Task - 1</b></font>"
      ]
    },
    {
      "cell_type": "markdown",
      "metadata": {
        "id": "e0yGBuryOwHz"
      },
      "source": [
        "<font color='blue'><b>Step - 1</b></font>"
      ]
    },
    {
      "cell_type": "markdown",
      "metadata": {
        "id": "lJXX8vf3z073"
      },
      "source": [
        "*  <font color='blue'> <b>Creating samples</b></font>"
      ]
    },
    {
      "cell_type": "code",
      "execution_count": 15,
      "metadata": {
        "id": "Ph_6D2SDzz7F"
      },
      "outputs": [],
      "source": [
        "def generating_samples(input_data, target_data):\n",
        "    '''In this function, we will write code for generating 30 samples '''\n",
        "\n",
        "    selecting_rows = np.random.choice(506,replace=False,size = 303)\n",
        "    replacing_rows = np.random.choice(selecting_rows,replace = True,size =203)\n",
        "    no_of_cols = np.random.choice(np.arange(1,14))\n",
        "    select_cols = np.random.choice(13,replace=False,size= no_of_cols)\n",
        "\n",
        "    sample_data = input_data[selecting_rows[:,None],select_cols]\n",
        "    target_of_sample_data = target_data[selecting_rows]\n",
        "\n",
        "    # Replicating data\n",
        "    rep_sample_data = input_data[replacing_rows[:,None],select_cols]\n",
        "    target_of_rep_sample_data = target_data[replacing_rows]\n",
        "\n",
        "    #Concatinating data\n",
        "    final_sample_data = np.vstack((sample_data,rep_sample_data))\n",
        "    final_target_data = np.vstack((target_of_sample_data.reshape(-1,1),target_of_rep_sample_data.reshape(-1,1)))\n",
        "\n",
        "    return final_sample_data,final_target_data,selecting_rows,select_cols\n",
        "\n",
        "\n",
        "\n",
        "\n",
        "    \n",
        "    "
      ]
    },
    {
      "cell_type": "markdown",
      "metadata": {
        "id": "MivEQFlm7iOg"
      },
      "source": [
        "<font color='cyan'> <b> Grader function - 1 </b> </fongt>"
      ]
    },
    {
      "cell_type": "code",
      "execution_count": 16,
      "metadata": {
        "id": "AVvuhNzm7uld",
        "colab": {
          "base_uri": "https://localhost:8080/"
        },
        "outputId": "0446fdd2-92eb-47cc-8f7a-7e28dc8f4d19"
      },
      "outputs": [
        {
          "output_type": "execute_result",
          "data": {
            "text/plain": [
              "True"
            ]
          },
          "metadata": {},
          "execution_count": 16
        }
      ],
      "source": [
        "def grader_samples(a,b,c,d):\n",
        "    length = (len(a)==506  and len(b)==506)\n",
        "    sampled = (len(a)-len(set([str(i) for i in a]))==203)\n",
        "    rows_length = (len(c)==303)\n",
        "    column_length= (len(d)>=3)\n",
        "    assert(length and sampled and rows_length and column_length)\n",
        "    return True\n",
        "a,b,c,d = generating_samples(x, y)\n",
        "grader_samples(a,b,c,d)"
      ]
    },
    {
      "cell_type": "markdown",
      "metadata": {
        "id": "b4LSsmn4Jn2_"
      },
      "source": [
        "*  <font color='blue'> <b>Create 30 samples </b>"
      ]
    },
    {
      "cell_type": "code",
      "execution_count": 17,
      "metadata": {
        "id": "XXlKWjCcBvTk"
      },
      "outputs": [],
      "source": [
        "# Use generating_samples function to create 30 samples \n",
        "# store these created samples in a list\n",
        "list_input_data =[]\n",
        "list_output_data =[]\n",
        "list_selected_rows= []\n",
        "list_selected_columns=[]\n",
        "for i in range(30):\n",
        "    a,b,c,d = generating_samples(x,y)\n",
        "    list_input_data.append(a)\n",
        "    list_output_data.append(b)\n",
        "    list_selected_rows.append(c)\n",
        "    list_selected_columns.append(d)"
      ]
    },
    {
      "cell_type": "markdown",
      "metadata": {
        "id": "MXUz9VFiMQkh"
      },
      "source": [
        "<font color='cyan'> <b>Grader function - 2 </b></font>"
      ]
    },
    {
      "cell_type": "code",
      "execution_count": 18,
      "metadata": {
        "id": "hCvIq8NuMWOC",
        "colab": {
          "base_uri": "https://localhost:8080/"
        },
        "outputId": "41f8090d-791f-4b42-eb55-f50d8801d67a"
      },
      "outputs": [
        {
          "output_type": "execute_result",
          "data": {
            "text/plain": [
              "True"
            ]
          },
          "metadata": {},
          "execution_count": 18
        }
      ],
      "source": [
        "def grader_30(a):\n",
        "    assert(len(a)==30 and len(a[0])==506)\n",
        "    return True\n",
        "grader_30(list_input_data)"
      ]
    },
    {
      "cell_type": "markdown",
      "metadata": {
        "id": "7Pv-mkZkO6dh"
      },
      "source": [
        "<br>"
      ]
    },
    {
      "cell_type": "markdown",
      "metadata": {
        "id": "whaHCPB0O8qF"
      },
      "source": [
        "<font color='red'><b>Step - 2 </b></font>"
      ]
    },
    {
      "cell_type": "markdown",
      "metadata": {
        "id": "WRwPO_uHQjul"
      },
      "source": [
        "*  <font color='blue'><b>Building regression trees</b></font>"
      ]
    },
    {
      "cell_type": "code",
      "execution_count": 19,
      "metadata": {
        "id": "YWQp6tRwMthq"
      },
      "outputs": [],
      "source": [
        "list_of_models = []\n",
        "for i in range(30):\n",
        "    model = dtr()\n",
        "    x_data = list_input_data[i]\n",
        "    y_data = list_output_data[i]\n",
        "    model.fit(x_data,y_data)\n",
        "    list_of_models.append(model)\n"
      ]
    },
    {
      "cell_type": "markdown",
      "metadata": {
        "id": "6e-UamlHRjPy"
      },
      "source": [
        "After getting predicted_y for each data point, we can use sklearns mean_squared_error to calculate the MSE between predicted_y and actual_y."
      ]
    },
    {
      "cell_type": "markdown",
      "metadata": {
        "id": "TnIMT7_oR312"
      },
      "source": [
        "*  <font color='blue'><b>calculating MSE</b></font>"
      ]
    },
    {
      "cell_type": "code",
      "source": [
        "predict_y_of_data_point = []\n",
        "for data_point in x:\n",
        "    array_of_y = []\n",
        "    for idx, model in enumerate(list_of_models):\n",
        "        array_of_y.append(model.predict(data_point[list_selected_columns[idx]].reshape(1,-1)))\n",
        "    predict_y_of_data_point.append(np.median(array_of_y))"
      ],
      "metadata": {
        "id": "fNivaI1y61_M"
      },
      "execution_count": 20,
      "outputs": []
    },
    {
      "cell_type": "code",
      "source": [
        "task1_mse = mean_squared_error(y,predict_y_of_data_point)\n",
        "print(task1_mse)"
      ],
      "metadata": {
        "colab": {
          "base_uri": "https://localhost:8080/"
        },
        "id": "qIib5Q5NLmGB",
        "outputId": "a7401f16-ecb4-4d55-ca67-093aa1c876e2"
      },
      "execution_count": 21,
      "outputs": [
        {
          "output_type": "stream",
          "name": "stdout",
          "text": [
            "1.9952123475606867\n"
          ]
        }
      ]
    },
    {
      "cell_type": "markdown",
      "metadata": {
        "id": "RuclPDMnSz8F"
      },
      "source": [
        "<font color='blue'><b>Step - 3 </b></font>"
      ]
    },
    {
      "cell_type": "markdown",
      "metadata": {
        "id": "WW3GOcFzTqbt"
      },
      "source": [
        "Now calculate the $OOB Score =  \\frac{1}{506}\\sum_{i=1}^{506}(y^{i} - y^{i}_{pred})^{2}$."
      ]
    },
    {
      "cell_type": "markdown",
      "metadata": {
        "id": "zBqcS03pUYSZ"
      },
      "source": [
        "*  <font color='blue'><b>calculating OOB score </b></font>"
      ]
    },
    {
      "cell_type": "code",
      "execution_count": 23,
      "metadata": {
        "id": "Fog_6DNdS-h_"
      },
      "outputs": [],
      "source": [
        "y_pred =  []\n",
        "for i,data_point in zip(range(506),x):\n",
        "    y_pred_data_point = []\n",
        "    for model,columns,rows in zip(list_of_models,list_selected_columns,list_selected_rows):\n",
        "        if i not in rows:\n",
        "            y_pred_data_point.append(model.predict(data_point[columns.reshape(1,-1)]))\n",
        "    y_pred.append(np.median(y_pred_data_point))"
      ]
    },
    {
      "cell_type": "code",
      "source": [
        "task1_OOBScore = mean_squared_error(y,y_pred)\n",
        "task1_OOBScore"
      ],
      "metadata": {
        "colab": {
          "base_uri": "https://localhost:8080/"
        },
        "id": "HLWWd1IbPLUu",
        "outputId": "a9ebf238-b0b9-478d-bbff-f1c683bf02dc"
      },
      "execution_count": 24,
      "outputs": [
        {
          "output_type": "execute_result",
          "data": {
            "text/plain": [
              "20.28944347640152"
            ]
          },
          "metadata": {},
          "execution_count": 24
        }
      ]
    },
    {
      "cell_type": "markdown",
      "metadata": {
        "id": "sbuiwX3OUjUI"
      },
      "source": [
        "# <font color='blue'><b>Task 2</b></font>"
      ]
    },
    {
      "cell_type": "code",
      "execution_count": 26,
      "metadata": {
        "id": "ceW5-D88Uswi"
      },
      "outputs": [],
      "source": [
        "mse_list = []\n",
        "oobscore_list = []\n",
        "\n",
        "for i in range(35):\n",
        "    #making samples\n",
        "    list_input_data =[]\n",
        "    list_output_data =[]\n",
        "    list_selected_rows= []\n",
        "    list_selected_columns=[]\n",
        "    for i in range(30):\n",
        "        a,b,c,d = generating_samples(x,y)\n",
        "        list_input_data.append(a)\n",
        "        list_output_data.append(b)\n",
        "        list_selected_rows.append(c)\n",
        "        list_selected_columns.append(d)\n",
        "\n",
        "    #creating decision trees\n",
        "    list_of_models = []\n",
        "    for i in range(30):\n",
        "        model = dtr()\n",
        "        x_data = list_input_data[i]\n",
        "        y_data = list_output_data[i]\n",
        "        model.fit(x_data,y_data)\n",
        "        list_of_models.append(model)\n",
        "    \n",
        "    #mse of train points\n",
        "    predict_y_of_data_point = []\n",
        "    for data_point in x:\n",
        "        array_of_y = []\n",
        "        for idx, model in enumerate(list_of_models):\n",
        "            array_of_y.append(model.predict(data_point[list_selected_columns[idx]].reshape(1,-1)))\n",
        "        predict_y_of_data_point.append(np.median(array_of_y))\n",
        "    mse = mean_squared_error(y,predict_y_of_data_point)\n",
        "    mse_list.append(mse)\n",
        "\n",
        "    #oobscore \n",
        "    y_pred =  []\n",
        "    for i,data_point in zip(range(506),x):\n",
        "        y_pred_data_point = []\n",
        "        for model,columns,rows in zip(list_of_models,list_selected_columns,list_selected_rows):\n",
        "            if i not in rows:\n",
        "                y_pred_data_point.append(model.predict(data_point[columns.reshape(1,-1)]))\n",
        "        y_pred.append(np.median(y_pred_data_point))\n",
        "    OOBScore = mean_squared_error(y,y_pred)\n",
        "    oobscore_list.append(OOBScore)\n"
      ]
    },
    {
      "cell_type": "code",
      "source": [
        "def conf_int(var):\n",
        "    m = np.mean(var)\n",
        "    std = np.std(var)\n",
        "    n = len(var)\n",
        "    left  = np.round(m - 2*(std/np.sqrt(n)), 3) \n",
        "    right = np.round(m + 2*(std/np.sqrt(n)), 3)\n",
        "    return left,right\n",
        "\n",
        "    "
      ],
      "metadata": {
        "id": "uxFvQZa3fSts"
      },
      "execution_count": 27,
      "outputs": []
    },
    {
      "cell_type": "code",
      "source": [
        "print(\"confidence interval  of MSE: \",conf_int(mse_list))\n",
        "print(\"confidence interval  of OOBScore: \",conf_int(oobscore_list))"
      ],
      "metadata": {
        "colab": {
          "base_uri": "https://localhost:8080/"
        },
        "id": "bwBugfLtgDP7",
        "outputId": "b56bd37f-0a5c-4f35-d98c-afd6e62cf186"
      },
      "execution_count": 28,
      "outputs": [
        {
          "output_type": "stream",
          "name": "stdout",
          "text": [
            "confidence interval  of MSE:  (0.143, 0.234)\n",
            "confidence interval  of OOBScore:  (15.513, 17.205)\n"
          ]
        }
      ]
    },
    {
      "cell_type": "markdown",
      "metadata": {
        "id": "jKTnJdiBVS_e"
      },
      "source": [
        "# <font color='blue'><b>Task 3</b></font>"
      ]
    },
    {
      "cell_type": "code",
      "source": [
        "xq= np.array([0.18,20.0,5.00,0.0,0.421,5.60,72.2,7.95,7.0,30.0,19.1,372.13,18.60])"
      ],
      "metadata": {
        "id": "VAIpl5SIk8-C"
      },
      "execution_count": 29,
      "outputs": []
    },
    {
      "cell_type": "code",
      "execution_count": 30,
      "metadata": {
        "id": "i_pUlSD-VYD1",
        "colab": {
          "base_uri": "https://localhost:8080/"
        },
        "outputId": "24e46452-832e-40e4-e624-9d7c035bb19d"
      },
      "outputs": [
        {
          "output_type": "stream",
          "name": "stdout",
          "text": [
            "yq of Xq:  19.1\n"
          ]
        }
      ],
      "source": [
        "array_y = []\n",
        "for idx,model in enumerate(list_of_models):\n",
        "    array_y.append(model.predict(xq[list_selected_columns[idx]].reshape(1,-1)))\n",
        "print(\"yq of Xq: \",np.median(array_y))"
      ]
    },
    {
      "cell_type": "markdown",
      "metadata": {
        "id": "DJHTGEZgWJjR"
      },
      "source": [
        "<br><br><br>"
      ]
    },
    {
      "cell_type": "markdown",
      "source": [
        "#Task1 Observations:\n"
      ],
      "metadata": {
        "id": "AqQCzgbmmBHY"
      }
    },
    {
      "cell_type": "code",
      "source": [
        "print(\"Mean square error\\t\",task1_mse)\n",
        "print(\"OOBScore         \\t\",task1_OOBScore)"
      ],
      "metadata": {
        "id": "pSeDbURBnhfs",
        "colab": {
          "base_uri": "https://localhost:8080/"
        },
        "outputId": "fec5e016-7192-4482-de93-effde528924e"
      },
      "execution_count": 31,
      "outputs": [
        {
          "output_type": "stream",
          "name": "stdout",
          "text": [
            "Mean square error\t 1.9952123475606867\n",
            "OOBScore         \t 20.28944347640152\n"
          ]
        }
      ]
    },
    {
      "cell_type": "markdown",
      "source": [
        "#Task2 Observations"
      ],
      "metadata": {
        "id": "88UUamjfGVCN"
      }
    },
    {
      "cell_type": "code",
      "source": [
        "print(\"confidence interval  of MSE:     \\t\",conf_int(mse_list))\n",
        "print(\"confidence interval  of OOBScore:\\t\",conf_int(oobscore_list))"
      ],
      "metadata": {
        "colab": {
          "base_uri": "https://localhost:8080/"
        },
        "id": "7Sp8OuL3GYnu",
        "outputId": "df8bb9a4-11a3-499f-ee61-40e171899e07"
      },
      "execution_count": 32,
      "outputs": [
        {
          "output_type": "stream",
          "name": "stdout",
          "text": [
            "confidence interval  of MSE:     \t (0.143, 0.234)\n",
            "confidence interval  of OOBScore:\t (15.513, 17.205)\n"
          ]
        }
      ]
    },
    {
      "cell_type": "markdown",
      "source": [
        "#Task3 Observations"
      ],
      "metadata": {
        "id": "TYdrabqgGpua"
      }
    },
    {
      "cell_type": "code",
      "source": [
        "print(\"Xq:[0.18,20.0,5.00,0.0,0.421,5.60,72.2,7.95,7.0,30.0,19.1,372.13,18.60]\\nYq \",np.median(array_y))"
      ],
      "metadata": {
        "colab": {
          "base_uri": "https://localhost:8080/"
        },
        "id": "v4iCOt9aGpTD",
        "outputId": "985237f5-db7e-49e1-9add-42eae4696101"
      },
      "execution_count": 33,
      "outputs": [
        {
          "output_type": "stream",
          "name": "stdout",
          "text": [
            "Xq:[0.18,20.0,5.00,0.0,0.421,5.60,72.2,7.95,7.0,30.0,19.1,372.13,18.60]\n",
            "Yq  19.1\n"
          ]
        }
      ]
    }
  ],
  "metadata": {
    "colab": {
      "collapsed_sections": [],
      "provenance": []
    },
    "kernelspec": {
      "display_name": "Python 3",
      "language": "python",
      "name": "python3"
    },
    "language_info": {
      "codemirror_mode": {
        "name": "ipython",
        "version": 3
      },
      "file_extension": ".py",
      "mimetype": "text/x-python",
      "name": "python",
      "nbconvert_exporter": "python",
      "pygments_lexer": "ipython3",
      "version": "3.6.3"
    }
  },
  "nbformat": 4,
  "nbformat_minor": 0
}