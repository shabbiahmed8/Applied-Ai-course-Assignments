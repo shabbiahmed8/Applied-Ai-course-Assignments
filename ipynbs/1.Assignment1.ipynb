{
  "nbformat": 4,
  "nbformat_minor": 0,
  "metadata": {
    "colab": {
      "name": "Assignment1.ipynb",
      "provenance": [],
      "collapsed_sections": []
    },
    "kernelspec": {
      "name": "python3",
      "display_name": "Python 3"
    },
    "language_info": {
      "name": "python"
    }
  },
  "cells": [
    {
      "cell_type": "markdown",
      "source": [
        "\n",
        "\n",
        "# **Practice Questions On Funtions**\n",
        "\n",
        "## **1.Funtion that takes numbers and prints the multipliation table of that number**\n",
        "\n",
        "\n"
      ],
      "metadata": {
        "id": "zoD276h8MW--"
      }
    },
    {
      "cell_type": "code",
      "source": [
        "def print_table(n):\n",
        "  \"\"\"\n",
        "  prints table of a given number\n",
        "  \"\"\"\n",
        "  for i in range(1,11):\n",
        "    print(n ,\"\\tx\\t\", i,\"\\t=\\t\", n*i)\n",
        "\n",
        "\n",
        "print_table(int(input(\"enter the number: \")))"
      ],
      "metadata": {
        "id": "vcD5_T-ALsaN",
        "colab": {
          "base_uri": "https://localhost:8080/",
          "height": 0
        },
        "outputId": "6183e5de-e24f-4618-d6db-1217f5fd4d10"
      },
      "execution_count": 34,
      "outputs": [
        {
          "output_type": "stream",
          "name": "stdout",
          "text": [
            "enter the number: 2\n",
            "2 \tx\t 1 \t=\t 2\n",
            "2 \tx\t 2 \t=\t 4\n",
            "2 \tx\t 3 \t=\t 6\n",
            "2 \tx\t 4 \t=\t 8\n",
            "2 \tx\t 5 \t=\t 10\n",
            "2 \tx\t 6 \t=\t 12\n",
            "2 \tx\t 7 \t=\t 14\n",
            "2 \tx\t 8 \t=\t 16\n",
            "2 \tx\t 9 \t=\t 18\n",
            "2 \tx\t 10 \t=\t 20\n"
          ]
        }
      ]
    },
    {
      "cell_type": "markdown",
      "source": [
        "## **2.Printing twin primes less than 1000**\n",
        "1. Is prime function is defined. This gives the output **True** if the number is prime\n",
        "2. twin_prime function takes integer input and checks if the number and number +2 are prime by using the function **is_prime**\n",
        "3. If both are prime then these numbers are returned as twin primes. If not returns **none**\n",
        "4. Using **for** loop we print the twin primes upto 1000.\n",
        "5. Printing happens only when **twin_primes** function doesnt return **none* value"
      ],
      "metadata": {
        "id": "4G4h6xVbyurd"
      }
    },
    {
      "cell_type": "code",
      "source": [
        "def is_prime(num):  \n",
        "  \"\"\" \n",
        "  tells if the number is prime or not\n",
        "  \"\"\"\n",
        "  for i in range(2,num):\n",
        "    if num % i == 0:\n",
        "      return False\n",
        "  return True\n",
        "\n",
        "\n",
        "def twin_primes(num): \n",
        "  \"\"\"\n",
        "  gives twin prime if num, num + 2 is prime\n",
        "  \"\"\"\n",
        "  if is_prime(num) and is_prime(num+2):\n",
        "    return num, num+2\n",
        "    \n",
        "\n",
        "for i in range(3,1000): \n",
        "  \"\"\"\n",
        "  printing twin primes less than 1000\n",
        "  \"\"\"\n",
        "  if twin_primes(i):\n",
        "    print(twin_primes(i))"
      ],
      "metadata": {
        "colab": {
          "base_uri": "https://localhost:8080/",
          "height": 0
        },
        "id": "xhNki0nCSiz5",
        "outputId": "d85d4801-c69f-4147-95dc-3acc155b5254"
      },
      "execution_count": 35,
      "outputs": [
        {
          "output_type": "stream",
          "name": "stdout",
          "text": [
            "(3, 5)\n",
            "(5, 7)\n",
            "(11, 13)\n",
            "(17, 19)\n",
            "(29, 31)\n",
            "(41, 43)\n",
            "(59, 61)\n",
            "(71, 73)\n",
            "(101, 103)\n",
            "(107, 109)\n",
            "(137, 139)\n",
            "(149, 151)\n",
            "(179, 181)\n",
            "(191, 193)\n",
            "(197, 199)\n",
            "(227, 229)\n",
            "(239, 241)\n",
            "(269, 271)\n",
            "(281, 283)\n",
            "(311, 313)\n",
            "(347, 349)\n",
            "(419, 421)\n",
            "(431, 433)\n",
            "(461, 463)\n",
            "(521, 523)\n",
            "(569, 571)\n",
            "(599, 601)\n",
            "(617, 619)\n",
            "(641, 643)\n",
            "(659, 661)\n",
            "(809, 811)\n",
            "(821, 823)\n",
            "(827, 829)\n",
            "(857, 859)\n",
            "(881, 883)\n"
          ]
        }
      ]
    },
    {
      "cell_type": "markdown",
      "source": [
        "## **3.Prime factors of given number**\n",
        "\n",
        "\n",
        "1.   Input is taken and converted into integer and assigned to n\n",
        "2.   Prime_factors function is called inside print\n",
        "3.   Empty list **'output'** is initialized to store the devisors and **i** is assigned a value 2\n",
        "4.   If the given value is prime then we return the statement **number is prime**\n",
        "5.   If not then we loop by checking if num is divisbile by **i**, with initial value of **i=2**. if the condition satisfies we add **i** value to the list and reassign the value of **num** to the quotient of the division **num/i**. \n",
        "6.   If the condition does not satisfy we increase the value of i\n",
        "7.   Outside while loop stops when num value becomes 1 and fucntion returns the list\n",
        "8. print statement prints the list\n",
        "\n",
        "\n",
        "\n",
        "\n"
      ],
      "metadata": {
        "id": "cl6aKM-g0Mi1"
      }
    },
    {
      "cell_type": "code",
      "source": [
        "def prime_factors(num):\n",
        "  \"\"\"\n",
        "  Returns a list of prime factors of given number\n",
        "  \"\"\"\n",
        "  output = []  \n",
        "  i = 2   \n",
        "  if is_prime(num): #if number is prime no factors exist\n",
        "    return \"number is prime\"\n",
        "  else:             # if number is not prime\n",
        "    while num != 1: \n",
        "      while is_prime(i) and num % i == 0:\n",
        "        output.append(i) #creates a list of prime numbers\n",
        "        num /= i\n",
        "\n",
        "      i += 1\n",
        "    return output\n",
        "\n",
        "\n",
        "\n",
        "print(prime_factors(int(input(\"enter a number: \"))))\n"
      ],
      "metadata": {
        "colab": {
          "base_uri": "https://localhost:8080/",
          "height": 0
        },
        "id": "IwMXXHZF0ZrV",
        "outputId": "b3c2ed16-2d40-4abd-a587-eb5b9699d445"
      },
      "execution_count": 36,
      "outputs": [
        {
          "output_type": "stream",
          "name": "stdout",
          "text": [
            "enter a number: 54\n",
            "[2, 3, 3, 3]\n"
          ]
        }
      ]
    },
    {
      "cell_type": "markdown",
      "source": [
        "# **4.Implementing permutations and combinations formulae**\n",
        "1. Defined a factorial function\n",
        "\n",
        "    i.  It has exceptions of 0,1 and -ve values.\n",
        "    ii. For 0,1 the return value is given 1\n",
        "    \n",
        "    iii. For execution the factorial multiplication for loop is used and the variable output is used  to store the factorial value and is returned\n",
        "2. Permu and combi functions simply apply the formula by using factorial function and return the value\n",
        "\n"
      ],
      "metadata": {
        "id": "app36AFdWRl3"
      }
    },
    {
      "cell_type": "code",
      "source": [
        "def fact(num): \n",
        "  \"\"\"\n",
        "  returns factorial of a given number\n",
        "  \"\"\"\n",
        "  if num == 0 or num == 1:\n",
        "    return 1\n",
        "  elif num < 0:\n",
        "    return \"num is negative\"\n",
        "  else:\n",
        "    return num * fact(num-1)\n",
        "\n",
        "\n",
        "def permu(n, r):\n",
        "  \"\"\"\n",
        "  returns number of permutations of n objects taken r at a time\n",
        "  \"\"\"\n",
        "  return int(fact(n)/fact(n-r))\n",
        "\n",
        "\n",
        "def combi(n, r):\n",
        "  \"\"\"\n",
        "  returns number of combinations of n objects taken r at a time\n",
        "  \"\"\"\n",
        "  return int(fact(n)/(fact(n-r)*fact(r)))\n",
        "\n",
        "  \n",
        "n = int(input(\"enter n value: \"))\n",
        "r = int(input(\"enter r value: \"))\n",
        "print(\"\\tcombinations\\t\", combi(n,r))\n",
        "print(\"\\tpermutations\\t\", permu(n,r))\n"
      ],
      "metadata": {
        "id": "45249Ln6Wgpl",
        "colab": {
          "base_uri": "https://localhost:8080/",
          "height": 0
        },
        "outputId": "a35ecbf7-380d-4f15-c52b-c30216ac1530"
      },
      "execution_count": 51,
      "outputs": [
        {
          "output_type": "stream",
          "name": "stdout",
          "text": [
            "enter n value: 6\n",
            "enter r value: 2\n",
            "\tcombinations\t 15\n",
            "\tpermutations\t 30\n"
          ]
        }
      ]
    },
    {
      "cell_type": "markdown",
      "source": [
        "# **5.Converting decimal to binary**\n",
        "1.  Empty list **output** is defined to store the remainders after dividing with 2\n",
        "2. **while** loop is excecuted until the **num** value becomes 0\n",
        "3. **num** is divided by 2 and remainder is appended to the list every time by converting it into string\n",
        "4. After division the num value is updated by using **integer division**\n",
        "5. The list is joined into single string by using **.join** and stored in **out**\n",
        "6. The **out** is converted into **int** and returned\n",
        " "
      ],
      "metadata": {
        "id": "JXlqiJpofZy6"
      }
    },
    {
      "cell_type": "code",
      "source": [
        "def dec2bin(num):\n",
        "  \"\"\"\n",
        "  converts decimal number to binary number\n",
        "  \"\"\"\n",
        "  output = []\n",
        "  while num:\n",
        "     output = list(str(num%2)) + output\n",
        "     num //= 2\n",
        "  out = \"\".join(output)\n",
        "  return int(out)\n",
        "  \n",
        "\n",
        "givennum = int(input(\"enter a number: \")) \n",
        "print(dec2bin(givennum))"
      ],
      "metadata": {
        "colab": {
          "base_uri": "https://localhost:8080/",
          "height": 0
        },
        "id": "WbXXS982fsF8",
        "outputId": "8db84e4a-1474-4fb0-fe2a-1406f9e2b392"
      },
      "execution_count": 38,
      "outputs": [
        {
          "output_type": "stream",
          "name": "stdout",
          "text": [
            "enter a number: 36\n",
            "100100\n"
          ]
        }
      ]
    },
    {
      "cell_type": "markdown",
      "source": [
        "# **6.1 Cubesum, Input: Integer, Output: sum of cubes of digits**\n"
      ],
      "metadata": {
        "id": "LZT9PiHMmyLt"
      }
    },
    {
      "cell_type": "code",
      "source": [
        "def cubesum(num):\n",
        "  \"\"\"\n",
        "  returns sum of cubes of digits of the given number\n",
        "  \"\"\"\n",
        "  output = 0\n",
        "  while num:\n",
        "    mul = num % 10\n",
        "    output += mul*mul*mul\n",
        "    num //= 10\n",
        "  return output"
      ],
      "metadata": {
        "id": "8oPC6Va7pAp8"
      },
      "execution_count": 52,
      "outputs": []
    },
    {
      "cell_type": "markdown",
      "source": [
        "# **6.2 Checking if given number is armstrong number or not**\n",
        "##**Definition**\n",
        "\n",
        "The n- digit numbers equal to thr sum to the sum of nth powers of their digits are called Armstrong numbers or plus perfect number.\n",
        "\n",
        "So the **cubesum** function can only be used for 3 digit numbers for checking wheather a number is Armstrong or not."
      ],
      "metadata": {
        "id": "sicICnD3CQNT"
      }
    },
    {
      "cell_type": "code",
      "source": [
        "def isarmstrong(num):\n",
        "  \"\"\"\n",
        "  checks if a given 3 digit number is Armstrong number or not\n",
        "  \"\"\"\n",
        "  if num == cubesum(num):\n",
        "    return True\n",
        "  return False"
      ],
      "metadata": {
        "id": "ByJ5umkeCaUY"
      },
      "execution_count": 40,
      "outputs": []
    },
    {
      "cell_type": "markdown",
      "source": [
        "# **6.3 Printing  Armstrong numbers**"
      ],
      "metadata": {
        "id": "PSu2rf0Xuqdo"
      }
    },
    {
      "cell_type": "code",
      "source": [
        "def printarmstrong():\n",
        "  \"\"\"\n",
        "  prints Armstrong numbers in a given range\n",
        "  \"\"\"\n",
        "  lst = []\n",
        "  \n",
        "  for i in range(100, 1000):\n",
        "    if isarmstrong(i):\n",
        "       lst.append(i)\n",
        "    \n",
        "    \n",
        "  return lst\n",
        "\n",
        "print(printarmstrong())"
      ],
      "metadata": {
        "colab": {
          "base_uri": "https://localhost:8080/",
          "height": 0
        },
        "id": "LnMOyJ97uzoQ",
        "outputId": "cf7a533a-9b7a-4ad8-d65e-678868cc741c"
      },
      "execution_count": 41,
      "outputs": [
        {
          "output_type": "stream",
          "name": "stdout",
          "text": [
            "[153, 370, 371, 407]\n"
          ]
        }
      ]
    },
    {
      "cell_type": "markdown",
      "source": [
        "# **7. Function that returns product of digits**"
      ],
      "metadata": {
        "id": "EhVZOCKHGP6N"
      }
    },
    {
      "cell_type": "code",
      "source": [
        "def proddigits(num):\n",
        "  \"\"\"\n",
        "  Gives product of digits of a given number\n",
        "  \"\"\"\n",
        "  prod = 1\n",
        "  while num:\n",
        "    prod *= num%10\n",
        "    num = num//10\n",
        "  return prod\n",
        "\n",
        "\n",
        "print(proddigits(12345679))"
      ],
      "metadata": {
        "colab": {
          "base_uri": "https://localhost:8080/",
          "height": 0
        },
        "id": "m9nTaEjhGdIN",
        "outputId": "d68b1403-f1e3-4abd-9da0-20d6248ac0ab"
      },
      "execution_count": 42,
      "outputs": [
        {
          "output_type": "stream",
          "name": "stdout",
          "text": [
            "45360\n"
          ]
        }
      ]
    },
    {
      "cell_type": "markdown",
      "source": [
        "# **8. Functions that return Multiplicative digital root and multiplicative perisistance of a number**"
      ],
      "metadata": {
        "id": "HuSB3SyyH5SD"
      }
    },
    {
      "cell_type": "code",
      "source": [
        "def MDR(num):\n",
        "  \"\"\"\n",
        "  Gives Multiplicative Digital Root of given number\n",
        "  \"\"\"\n",
        "  while num != proddigits(num):\n",
        "    num = proddigits(num)\n",
        "  return num\n",
        "\n",
        "def Mpersi(num):\n",
        "  \"\"\"\n",
        "  Gives Mulitplicative persistance of a number\n",
        "  \"\"\"\n",
        "  i = 0\n",
        "  while num != proddigits(num):\n",
        "    i += 1\n",
        "    num = proddigits(num)\n",
        "  return i\n",
        "\n",
        "print(\"MDR \",MDR(86),\", Mperistance\", Mpersi(341))"
      ],
      "metadata": {
        "colab": {
          "base_uri": "https://localhost:8080/",
          "height": 0
        },
        "id": "9FTX8dBWIx57",
        "outputId": "1cae1349-7b2c-4711-94de-5f9e0ec17654"
      },
      "execution_count": 43,
      "outputs": [
        {
          "output_type": "stream",
          "name": "stdout",
          "text": [
            "MDR  6 , Mperistance 2\n"
          ]
        }
      ]
    },
    {
      "cell_type": "markdown",
      "source": [
        "# **9. Function that prints the sum of proper divisors of a number**\n"
      ],
      "metadata": {
        "id": "F7QjQYK5Md_c"
      }
    },
    {
      "cell_type": "code",
      "source": [
        "def sumPdivisors(num):\n",
        "  \"\"\"\n",
        "  Gives sum of perfect divisors of number\n",
        "  \"\"\"\n",
        "  sum = 0\n",
        "  for i in range(1, num):\n",
        "    if num % i == 0:\n",
        "      sum += i\n",
        "  return sum\n",
        "\n",
        "  \n",
        "print(sumPdivisors(36))"
      ],
      "metadata": {
        "colab": {
          "base_uri": "https://localhost:8080/",
          "height": 0
        },
        "id": "U9FwiMg6O-g9",
        "outputId": "fb4bb609-5cd8-4be9-ada7-7fb0d68ad66b"
      },
      "execution_count": 56,
      "outputs": [
        {
          "output_type": "stream",
          "name": "stdout",
          "text": [
            "55\n"
          ]
        }
      ]
    },
    {
      "cell_type": "markdown",
      "source": [
        "# **10. Printing all the perfect numbers in the given range**"
      ],
      "metadata": {
        "id": "aqpqSPS7Wujw"
      }
    },
    {
      "cell_type": "code",
      "source": [
        "def perfect_num(start, end):\n",
        "  \"\"\"\n",
        "  Gives a list of perfect numbers in a given range\n",
        "  \"\"\"\n",
        "  lst = []\n",
        "  for i in range(start, end):\n",
        "    if sumPdivisors(i) == i:\n",
        "      lst.append(i)\n",
        "  return lst\n",
        "  \n",
        "\n",
        "print(perfect_num(1, 10000))\n"
      ],
      "metadata": {
        "colab": {
          "base_uri": "https://localhost:8080/",
          "height": 0
        },
        "id": "kcWlhbsQXhYT",
        "outputId": "6de0c063-b950-406d-8851-39a736c2e4b7"
      },
      "execution_count": 57,
      "outputs": [
        {
          "output_type": "stream",
          "name": "stdout",
          "text": [
            "[6, 28, 496, 8128]\n"
          ]
        }
      ]
    },
    {
      "cell_type": "markdown",
      "source": [
        "# **11. Printing pairs of amicable numbers in a given range**"
      ],
      "metadata": {
        "id": "cyUvZ8F9N4So"
      }
    },
    {
      "cell_type": "code",
      "source": [
        "def amicable_num(start, end):\n",
        "  \"\"\"\n",
        "  returns a list of sets of amicable numbers in a given range\n",
        "  \"\"\"\n",
        "  lst = []\n",
        "  for i in range(start, end):\n",
        "    if sumPdivisors(sumPdivisors(i)) == i and i != sumPdivisors(i) and set([i, sumPdivisors(i)]) not in lst:\n",
        "      lst.append(set([i, sumPdivisors(i)]))\n",
        "  return lst\n",
        "\n",
        "\n",
        "amicable_num(1,10000)"
      ],
      "metadata": {
        "colab": {
          "base_uri": "https://localhost:8080/",
          "height": 0
        },
        "id": "TeGteVmpOMrk",
        "outputId": "9fa49d1a-27cd-4fe8-ee5b-00fac4c2d6ca"
      },
      "execution_count": 46,
      "outputs": [
        {
          "output_type": "execute_result",
          "data": {
            "text/plain": [
              "[{220, 284}, {1184, 1210}, {2620, 2924}, {5020, 5564}, {6232, 6368}]"
            ]
          },
          "metadata": {},
          "execution_count": 46
        }
      ]
    },
    {
      "cell_type": "markdown",
      "source": [
        "# **12. Filtering odd numbers using filter function**\n"
      ],
      "metadata": {
        "id": "BWgkx4Cqa0vU"
      }
    },
    {
      "cell_type": "code",
      "source": [
        "def odd_num(num):\n",
        "  \"\"\"\n",
        "  Returns the number if it is odd\n",
        "  \"\"\"\n",
        "  if num % 2 != 0:\n",
        "    return num\n",
        "\n",
        "\n",
        "num_list = list(range(1,11))\n",
        "print(list(filter(odd_num,num_list)))"
      ],
      "metadata": {
        "colab": {
          "base_uri": "https://localhost:8080/",
          "height": 0
        },
        "id": "ytLA7K_ybEm2",
        "outputId": "df80fb2f-a997-4938-c933-ad8cb30e084e"
      },
      "execution_count": 47,
      "outputs": [
        {
          "output_type": "stream",
          "name": "stdout",
          "text": [
            "[1, 3, 5, 7, 9]\n"
          ]
        }
      ]
    },
    {
      "cell_type": "markdown",
      "source": [
        "# **13. Making a list of cubes of elemensts using map()**"
      ],
      "metadata": {
        "id": "bv_ByINwwou4"
      }
    },
    {
      "cell_type": "code",
      "source": [
        "def cube_num(num):\n",
        "  return num*num*num\n",
        "\n",
        "print(list(map(cube_num, num_list))) # num_list is defined above\n",
        "\n"
      ],
      "metadata": {
        "colab": {
          "base_uri": "https://localhost:8080/",
          "height": 0
        },
        "id": "B4D7hfPfqoO4",
        "outputId": "f157877a-6aa5-40a9-c1b2-798955d04302"
      },
      "execution_count": 48,
      "outputs": [
        {
          "output_type": "stream",
          "name": "stdout",
          "text": [
            "[1, 8, 27, 64, 125, 216, 343, 512, 729, 1000]\n"
          ]
        }
      ]
    },
    {
      "cell_type": "markdown",
      "source": [
        "# **14. Using both filter() and map() to make a list of cubes of even numbers of a list**"
      ],
      "metadata": {
        "id": "fVGmVKBJrc5Y"
      }
    },
    {
      "cell_type": "code",
      "source": [
        "def even_num(num):\n",
        "  if num % 2 == 0:\n",
        "    return num\n",
        "\n",
        "print(list(map(cube_num, list(filter(even_num, num_list)))))"
      ],
      "metadata": {
        "colab": {
          "base_uri": "https://localhost:8080/",
          "height": 0
        },
        "id": "S3Wiw_XHr5o_",
        "outputId": "1e93a0e5-775f-4fef-cd82-cf34b6f0a92b"
      },
      "execution_count": 49,
      "outputs": [
        {
          "output_type": "stream",
          "name": "stdout",
          "text": [
            "[8, 64, 216, 512, 1000]\n"
          ]
        }
      ]
    }
  ]
}
