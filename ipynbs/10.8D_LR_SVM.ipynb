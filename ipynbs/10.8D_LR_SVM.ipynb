{
  "nbformat": 4,
  "nbformat_minor": 0,
  "metadata": {
    "kernelspec": {
      "display_name": "Python 3",
      "language": "python",
      "name": "python3"
    },
    "language_info": {
      "codemirror_mode": {
        "name": "ipython",
        "version": 3
      },
      "file_extension": ".py",
      "mimetype": "text/x-python",
      "name": "python",
      "nbconvert_exporter": "python",
      "pygments_lexer": "ipython3",
      "version": "3.6.8"
    },
    "colab": {
      "provenance": []
    }
  },
  "cells": [
    {
      "cell_type": "markdown",
      "metadata": {
        "id": "86Tvnj5UblTy"
      },
      "source": [
        "## Task-D: Collinear features and their effect on linear models"
      ]
    },
    {
      "cell_type": "code",
      "source": [
        "from google.colab import drive\n",
        "drive.mount('/content/drive')"
      ],
      "metadata": {
        "colab": {
          "base_uri": "https://localhost:8080/"
        },
        "id": "1tvO4UAuqDYz",
        "outputId": "c05742d4-2a08-4c0e-ce09-060890359bb3"
      },
      "execution_count": null,
      "outputs": [
        {
          "output_type": "stream",
          "name": "stdout",
          "text": [
            "Mounted at /content/drive\n"
          ]
        }
      ]
    },
    {
      "cell_type": "code",
      "metadata": {
        "id": "qn_eOn2EblT3"
      },
      "source": [
        "%matplotlib inline\n",
        "import warnings\n",
        "warnings.filterwarnings(\"ignore\")\n",
        "import pandas as pd\n",
        "import numpy as np\n",
        "from sklearn.datasets import load_iris\n",
        "from sklearn.linear_model import SGDClassifier\n",
        "from sklearn.model_selection import GridSearchCV\n",
        "import seaborn as sns\n",
        "import matplotlib.pyplot as plt"
      ],
      "execution_count": null,
      "outputs": []
    },
    {
      "cell_type": "code",
      "metadata": {
        "id": "VMoYWIayblUB"
      },
      "source": [
        "data = pd.read_csv('/content/drive/MyDrive/Colab Notebooks/assignments/10.linear_models/task_d.csv')"
      ],
      "execution_count": null,
      "outputs": []
    },
    {
      "cell_type": "code",
      "metadata": {
        "id": "RfStXG4tblUI",
        "outputId": "ec9d1952-a008-4e8d-9937-beadf3dfd9d5",
        "colab": {
          "base_uri": "https://localhost:8080/",
          "height": 206
        }
      },
      "source": [
        "data.head()"
      ],
      "execution_count": null,
      "outputs": [
        {
          "output_type": "execute_result",
          "data": {
            "text/plain": [
              "          x         y         z       x*x       2*y  2*z+3*x*x         w  \\\n",
              "0 -0.581066  0.841837 -1.012978 -0.604025  0.841837  -0.665927 -0.536277   \n",
              "1 -0.894309 -0.207835 -1.012978 -0.883052 -0.207835  -0.917054 -0.522364   \n",
              "2 -1.207552  0.212034 -1.082312 -1.150918  0.212034  -1.166507  0.205738   \n",
              "3 -1.364174  0.002099 -0.943643 -1.280666  0.002099  -1.266540 -0.665720   \n",
              "4 -0.737687  1.051772 -1.012978 -0.744934  1.051772  -0.792746 -0.735054   \n",
              "\n",
              "   target  \n",
              "0       0  \n",
              "1       0  \n",
              "2       0  \n",
              "3       0  \n",
              "4       0  "
            ],
            "text/html": [
              "\n",
              "  <div id=\"df-41c8dd86-5f38-419b-9cf5-772a87c635a5\">\n",
              "    <div class=\"colab-df-container\">\n",
              "      <div>\n",
              "<style scoped>\n",
              "    .dataframe tbody tr th:only-of-type {\n",
              "        vertical-align: middle;\n",
              "    }\n",
              "\n",
              "    .dataframe tbody tr th {\n",
              "        vertical-align: top;\n",
              "    }\n",
              "\n",
              "    .dataframe thead th {\n",
              "        text-align: right;\n",
              "    }\n",
              "</style>\n",
              "<table border=\"1\" class=\"dataframe\">\n",
              "  <thead>\n",
              "    <tr style=\"text-align: right;\">\n",
              "      <th></th>\n",
              "      <th>x</th>\n",
              "      <th>y</th>\n",
              "      <th>z</th>\n",
              "      <th>x*x</th>\n",
              "      <th>2*y</th>\n",
              "      <th>2*z+3*x*x</th>\n",
              "      <th>w</th>\n",
              "      <th>target</th>\n",
              "    </tr>\n",
              "  </thead>\n",
              "  <tbody>\n",
              "    <tr>\n",
              "      <th>0</th>\n",
              "      <td>-0.581066</td>\n",
              "      <td>0.841837</td>\n",
              "      <td>-1.012978</td>\n",
              "      <td>-0.604025</td>\n",
              "      <td>0.841837</td>\n",
              "      <td>-0.665927</td>\n",
              "      <td>-0.536277</td>\n",
              "      <td>0</td>\n",
              "    </tr>\n",
              "    <tr>\n",
              "      <th>1</th>\n",
              "      <td>-0.894309</td>\n",
              "      <td>-0.207835</td>\n",
              "      <td>-1.012978</td>\n",
              "      <td>-0.883052</td>\n",
              "      <td>-0.207835</td>\n",
              "      <td>-0.917054</td>\n",
              "      <td>-0.522364</td>\n",
              "      <td>0</td>\n",
              "    </tr>\n",
              "    <tr>\n",
              "      <th>2</th>\n",
              "      <td>-1.207552</td>\n",
              "      <td>0.212034</td>\n",
              "      <td>-1.082312</td>\n",
              "      <td>-1.150918</td>\n",
              "      <td>0.212034</td>\n",
              "      <td>-1.166507</td>\n",
              "      <td>0.205738</td>\n",
              "      <td>0</td>\n",
              "    </tr>\n",
              "    <tr>\n",
              "      <th>3</th>\n",
              "      <td>-1.364174</td>\n",
              "      <td>0.002099</td>\n",
              "      <td>-0.943643</td>\n",
              "      <td>-1.280666</td>\n",
              "      <td>0.002099</td>\n",
              "      <td>-1.266540</td>\n",
              "      <td>-0.665720</td>\n",
              "      <td>0</td>\n",
              "    </tr>\n",
              "    <tr>\n",
              "      <th>4</th>\n",
              "      <td>-0.737687</td>\n",
              "      <td>1.051772</td>\n",
              "      <td>-1.012978</td>\n",
              "      <td>-0.744934</td>\n",
              "      <td>1.051772</td>\n",
              "      <td>-0.792746</td>\n",
              "      <td>-0.735054</td>\n",
              "      <td>0</td>\n",
              "    </tr>\n",
              "  </tbody>\n",
              "</table>\n",
              "</div>\n",
              "      <button class=\"colab-df-convert\" onclick=\"convertToInteractive('df-41c8dd86-5f38-419b-9cf5-772a87c635a5')\"\n",
              "              title=\"Convert this dataframe to an interactive table.\"\n",
              "              style=\"display:none;\">\n",
              "        \n",
              "  <svg xmlns=\"http://www.w3.org/2000/svg\" height=\"24px\"viewBox=\"0 0 24 24\"\n",
              "       width=\"24px\">\n",
              "    <path d=\"M0 0h24v24H0V0z\" fill=\"none\"/>\n",
              "    <path d=\"M18.56 5.44l.94 2.06.94-2.06 2.06-.94-2.06-.94-.94-2.06-.94 2.06-2.06.94zm-11 1L8.5 8.5l.94-2.06 2.06-.94-2.06-.94L8.5 2.5l-.94 2.06-2.06.94zm10 10l.94 2.06.94-2.06 2.06-.94-2.06-.94-.94-2.06-.94 2.06-2.06.94z\"/><path d=\"M17.41 7.96l-1.37-1.37c-.4-.4-.92-.59-1.43-.59-.52 0-1.04.2-1.43.59L10.3 9.45l-7.72 7.72c-.78.78-.78 2.05 0 2.83L4 21.41c.39.39.9.59 1.41.59.51 0 1.02-.2 1.41-.59l7.78-7.78 2.81-2.81c.8-.78.8-2.07 0-2.86zM5.41 20L4 18.59l7.72-7.72 1.47 1.35L5.41 20z\"/>\n",
              "  </svg>\n",
              "      </button>\n",
              "      \n",
              "  <style>\n",
              "    .colab-df-container {\n",
              "      display:flex;\n",
              "      flex-wrap:wrap;\n",
              "      gap: 12px;\n",
              "    }\n",
              "\n",
              "    .colab-df-convert {\n",
              "      background-color: #E8F0FE;\n",
              "      border: none;\n",
              "      border-radius: 50%;\n",
              "      cursor: pointer;\n",
              "      display: none;\n",
              "      fill: #1967D2;\n",
              "      height: 32px;\n",
              "      padding: 0 0 0 0;\n",
              "      width: 32px;\n",
              "    }\n",
              "\n",
              "    .colab-df-convert:hover {\n",
              "      background-color: #E2EBFA;\n",
              "      box-shadow: 0px 1px 2px rgba(60, 64, 67, 0.3), 0px 1px 3px 1px rgba(60, 64, 67, 0.15);\n",
              "      fill: #174EA6;\n",
              "    }\n",
              "\n",
              "    [theme=dark] .colab-df-convert {\n",
              "      background-color: #3B4455;\n",
              "      fill: #D2E3FC;\n",
              "    }\n",
              "\n",
              "    [theme=dark] .colab-df-convert:hover {\n",
              "      background-color: #434B5C;\n",
              "      box-shadow: 0px 1px 3px 1px rgba(0, 0, 0, 0.15);\n",
              "      filter: drop-shadow(0px 1px 2px rgba(0, 0, 0, 0.3));\n",
              "      fill: #FFFFFF;\n",
              "    }\n",
              "  </style>\n",
              "\n",
              "      <script>\n",
              "        const buttonEl =\n",
              "          document.querySelector('#df-41c8dd86-5f38-419b-9cf5-772a87c635a5 button.colab-df-convert');\n",
              "        buttonEl.style.display =\n",
              "          google.colab.kernel.accessAllowed ? 'block' : 'none';\n",
              "\n",
              "        async function convertToInteractive(key) {\n",
              "          const element = document.querySelector('#df-41c8dd86-5f38-419b-9cf5-772a87c635a5');\n",
              "          const dataTable =\n",
              "            await google.colab.kernel.invokeFunction('convertToInteractive',\n",
              "                                                     [key], {});\n",
              "          if (!dataTable) return;\n",
              "\n",
              "          const docLinkHtml = 'Like what you see? Visit the ' +\n",
              "            '<a target=\"_blank\" href=https://colab.research.google.com/notebooks/data_table.ipynb>data table notebook</a>'\n",
              "            + ' to learn more about interactive tables.';\n",
              "          element.innerHTML = '';\n",
              "          dataTable['output_type'] = 'display_data';\n",
              "          await google.colab.output.renderOutput(dataTable, element);\n",
              "          const docLink = document.createElement('div');\n",
              "          docLink.innerHTML = docLinkHtml;\n",
              "          element.appendChild(docLink);\n",
              "        }\n",
              "      </script>\n",
              "    </div>\n",
              "  </div>\n",
              "  "
            ]
          },
          "metadata": {},
          "execution_count": 6
        }
      ]
    },
    {
      "cell_type": "code",
      "metadata": {
        "id": "JIIuomCkblUP",
        "colab": {
          "base_uri": "https://localhost:8080/"
        },
        "outputId": "740b0d1e-821e-448e-ac48-b5e38a7c086c"
      },
      "source": [
        "X = data.drop(['target'], axis=1).values\n",
        "Y = data['target'].values\n",
        "X.shape,Y.shape"
      ],
      "execution_count": null,
      "outputs": [
        {
          "output_type": "execute_result",
          "data": {
            "text/plain": [
              "((100, 7), (100,))"
            ]
          },
          "metadata": {},
          "execution_count": 7
        }
      ]
    },
    {
      "cell_type": "markdown",
      "source": [
        "###Task1"
      ],
      "metadata": {
        "id": "l9seOhCH3LKk"
      }
    },
    {
      "cell_type": "markdown",
      "source": [
        "####step1"
      ],
      "metadata": {
        "id": "QbyQkbnm3jdO"
      }
    },
    {
      "cell_type": "code",
      "source": [
        "cor = np.corrcoef(X,rowvar=False)\n",
        "cor.shape"
      ],
      "metadata": {
        "colab": {
          "base_uri": "https://localhost:8080/"
        },
        "id": "T2UhhsKW4sCj",
        "outputId": "a0241d2e-f201-4846-ce1a-f82cf310ee22"
      },
      "execution_count": null,
      "outputs": [
        {
          "output_type": "execute_result",
          "data": {
            "text/plain": [
              "(7, 7)"
            ]
          },
          "metadata": {},
          "execution_count": 8
        }
      ]
    },
    {
      "cell_type": "code",
      "source": [
        "sns.heatmap(cor,annot=True)"
      ],
      "metadata": {
        "colab": {
          "base_uri": "https://localhost:8080/",
          "height": 287
        },
        "id": "_yYj96sK3Kha",
        "outputId": "b06ebd45-3e5b-41cc-eb86-c371e49089ac"
      },
      "execution_count": null,
      "outputs": [
        {
          "output_type": "execute_result",
          "data": {
            "text/plain": [
              "<matplotlib.axes._subplots.AxesSubplot at 0x7f415085bf10>"
            ]
          },
          "metadata": {},
          "execution_count": 9
        },
        {
          "output_type": "display_data",
          "data": {
            "text/plain": [
              "<Figure size 432x288 with 2 Axes>"
            ],
            "image/png": "[encoded data removed]"
          },
          "metadata": {
            "needs_background": "light"
          }
        }
      ]
    },
    {
      "cell_type": "markdown",
      "source": [
        "####step2"
      ],
      "metadata": {
        "id": "b_WiS69X8R73"
      }
    },
    {
      "cell_type": "code",
      "source": [
        "clf = SGDClassifier(loss='log')\n",
        "\n",
        "params = {'alpha':np.logspace(1,100,num = 10)}\n",
        "grid_search = GridSearchCV(clf,params)\n",
        "grid_search.fit(X,Y)\n",
        "\n",
        "grid_search.best_params_"
      ],
      "metadata": {
        "id": "1s2Svgok8OcA",
        "colab": {
          "base_uri": "https://localhost:8080/"
        },
        "outputId": "12f89e90-1cfc-4797-c11f-052ffe1315e7"
      },
      "execution_count": null,
      "outputs": [
        {
          "output_type": "execute_result",
          "data": {
            "text/plain": [
              "{'alpha': 10.0}"
            ]
          },
          "metadata": {},
          "execution_count": 10
        }
      ]
    },
    {
      "cell_type": "markdown",
      "source": [
        "####step3"
      ],
      "metadata": {
        "id": "MBMwKUGcEADC"
      }
    },
    {
      "cell_type": "code",
      "source": [
        "best_model = SGDClassifier(loss='log',alpha = 10.0,random_state=1)\n",
        "best_model.fit(X,Y)\n",
        "print('Best model accuray',best_model.score(X,Y))\n",
        "best_model_accuracy = best_model.score(X,Y)\n",
        "print('best model weights',best_model.coef_)\n",
        "best_model_weights = best_model.coef_"
      ],
      "metadata": {
        "colab": {
          "base_uri": "https://localhost:8080/"
        },
        "id": "6E6UcS9z9Va-",
        "outputId": "f60bc536-51f3-4db5-a3e5-3cc38ecf2bfb"
      },
      "execution_count": null,
      "outputs": [
        {
          "output_type": "stream",
          "name": "stdout",
          "text": [
            "Best model accuray 0.64\n",
            "best model weights [[ 0.03236913 -0.03147455  0.04398744  0.03193138 -0.03147455  0.03404924\n",
            "   0.02864714]]\n"
          ]
        }
      ]
    },
    {
      "cell_type": "markdown",
      "source": [
        "####step4"
      ],
      "metadata": {
        "id": "e7nk4gkEEFIm"
      }
    },
    {
      "cell_type": "code",
      "source": [
        "noise = np.random.randint(0,10,X.shape)/100\n",
        "new_X = X+noise\n",
        "best_model.fit(new_X,Y)\n",
        "best_model_accuracy_edited = best_model.score(new_X,Y)\n",
        "print(best_model_accuracy_edited)\n",
        "best_model_weights_edited =  best_model.coef_\n",
        "print(best_model_weights_edited)"
      ],
      "metadata": {
        "colab": {
          "base_uri": "https://localhost:8080/"
        },
        "id": "1KViVAnVAowS",
        "outputId": "68ac845b-599b-4412-c1ae-41f28b95d280"
      },
      "execution_count": null,
      "outputs": [
        {
          "output_type": "stream",
          "name": "stdout",
          "text": [
            "0.62\n",
            "[[ 0.03210025 -0.03177123  0.04365687  0.03167369 -0.03169857  0.03389276\n",
            "   0.02843538]]\n"
          ]
        }
      ]
    },
    {
      "cell_type": "markdown",
      "source": [
        "####step5"
      ],
      "metadata": {
        "id": "jvqbdF5DEH4w"
      }
    },
    {
      "cell_type": "code",
      "source": [
        "print(\"Difference between accuracy \",best_model_accuracy_edited-best_model_accuracy)\n",
        "print(\"Differenec between weights :\")\n",
        "print(abs((best_model_weights_edited-best_model_weights)/best_model_weights))"
      ],
      "metadata": {
        "colab": {
          "base_uri": "https://localhost:8080/"
        },
        "id": "oUd8pM1GEJvI",
        "outputId": "24edcae7-5d01-49e4-de62-81433bfb2cc8"
      },
      "execution_count": null,
      "outputs": [
        {
          "output_type": "stream",
          "name": "stdout",
          "text": [
            "Difference between accuracy  -0.020000000000000018\n",
            "Differenec between weights :\n",
            "[[0.0083067  0.00942621 0.00751506 0.00807012 0.00711754 0.00459567\n",
            "  0.00739199]]\n"
          ]
        }
      ]
    },
    {
      "cell_type": "code",
      "source": [
        "wts = abs((best_model_weights_edited-best_model_weights)/best_model_weights)\n",
        "diff_wts = pd.DataFrame(wts[0].reshape(-1,1),data.drop(['target'], axis=1).columns,columns= ['diff'])\n",
        "diff_wts.sort_values('diff',ascending=False)"
      ],
      "metadata": {
        "colab": {
          "base_uri": "https://localhost:8080/",
          "height": 269
        },
        "id": "3LLPx7k0IF84",
        "outputId": "abff304f-ead2-4965-8ed3-efdd0e201fc6"
      },
      "execution_count": null,
      "outputs": [
        {
          "output_type": "execute_result",
          "data": {
            "text/plain": [
              "               diff\n",
              "y          0.009426\n",
              "x          0.008307\n",
              "x*x        0.008070\n",
              "z          0.007515\n",
              "w          0.007392\n",
              "2*y        0.007118\n",
              "2*z+3*x*x  0.004596"
            ],
            "text/html": [
              "\n",
              "  <div id=\"df-32789f30-12f0-4284-84bc-5728448ef512\">\n",
              "    <div class=\"colab-df-container\">\n",
              "      <div>\n",
              "<style scoped>\n",
              "    .dataframe tbody tr th:only-of-type {\n",
              "        vertical-align: middle;\n",
              "    }\n",
              "\n",
              "    .dataframe tbody tr th {\n",
              "        vertical-align: top;\n",
              "    }\n",
              "\n",
              "    .dataframe thead th {\n",
              "        text-align: right;\n",
              "    }\n",
              "</style>\n",
              "<table border=\"1\" class=\"dataframe\">\n",
              "  <thead>\n",
              "    <tr style=\"text-align: right;\">\n",
              "      <th></th>\n",
              "      <th>diff</th>\n",
              "    </tr>\n",
              "  </thead>\n",
              "  <tbody>\n",
              "    <tr>\n",
              "      <th>y</th>\n",
              "      <td>0.009426</td>\n",
              "    </tr>\n",
              "    <tr>\n",
              "      <th>x</th>\n",
              "      <td>0.008307</td>\n",
              "    </tr>\n",
              "    <tr>\n",
              "      <th>x*x</th>\n",
              "      <td>0.008070</td>\n",
              "    </tr>\n",
              "    <tr>\n",
              "      <th>z</th>\n",
              "      <td>0.007515</td>\n",
              "    </tr>\n",
              "    <tr>\n",
              "      <th>w</th>\n",
              "      <td>0.007392</td>\n",
              "    </tr>\n",
              "    <tr>\n",
              "      <th>2*y</th>\n",
              "      <td>0.007118</td>\n",
              "    </tr>\n",
              "    <tr>\n",
              "      <th>2*z+3*x*x</th>\n",
              "      <td>0.004596</td>\n",
              "    </tr>\n",
              "  </tbody>\n",
              "</table>\n",
              "</div>\n",
              "      <button class=\"colab-df-convert\" onclick=\"convertToInteractive('df-32789f30-12f0-4284-84bc-5728448ef512')\"\n",
              "              title=\"Convert this dataframe to an interactive table.\"\n",
              "              style=\"display:none;\">\n",
              "        \n",
              "  <svg xmlns=\"http://www.w3.org/2000/svg\" height=\"24px\"viewBox=\"0 0 24 24\"\n",
              "       width=\"24px\">\n",
              "    <path d=\"M0 0h24v24H0V0z\" fill=\"none\"/>\n",
              "    <path d=\"M18.56 5.44l.94 2.06.94-2.06 2.06-.94-2.06-.94-.94-2.06-.94 2.06-2.06.94zm-11 1L8.5 8.5l.94-2.06 2.06-.94-2.06-.94L8.5 2.5l-.94 2.06-2.06.94zm10 10l.94 2.06.94-2.06 2.06-.94-2.06-.94-.94-2.06-.94 2.06-2.06.94z\"/><path d=\"M17.41 7.96l-1.37-1.37c-.4-.4-.92-.59-1.43-.59-.52 0-1.04.2-1.43.59L10.3 9.45l-7.72 7.72c-.78.78-.78 2.05 0 2.83L4 21.41c.39.39.9.59 1.41.59.51 0 1.02-.2 1.41-.59l7.78-7.78 2.81-2.81c.8-.78.8-2.07 0-2.86zM5.41 20L4 18.59l7.72-7.72 1.47 1.35L5.41 20z\"/>\n",
              "  </svg>\n",
              "      </button>\n",
              "      \n",
              "  <style>\n",
              "    .colab-df-container {\n",
              "      display:flex;\n",
              "      flex-wrap:wrap;\n",
              "      gap: 12px;\n",
              "    }\n",
              "\n",
              "    .colab-df-convert {\n",
              "      background-color: #E8F0FE;\n",
              "      border: none;\n",
              "      border-radius: 50%;\n",
              "      cursor: pointer;\n",
              "      display: none;\n",
              "      fill: #1967D2;\n",
              "      height: 32px;\n",
              "      padding: 0 0 0 0;\n",
              "      width: 32px;\n",
              "    }\n",
              "\n",
              "    .colab-df-convert:hover {\n",
              "      background-color: #E2EBFA;\n",
              "      box-shadow: 0px 1px 2px rgba(60, 64, 67, 0.3), 0px 1px 3px 1px rgba(60, 64, 67, 0.15);\n",
              "      fill: #174EA6;\n",
              "    }\n",
              "\n",
              "    [theme=dark] .colab-df-convert {\n",
              "      background-color: #3B4455;\n",
              "      fill: #D2E3FC;\n",
              "    }\n",
              "\n",
              "    [theme=dark] .colab-df-convert:hover {\n",
              "      background-color: #434B5C;\n",
              "      box-shadow: 0px 1px 3px 1px rgba(0, 0, 0, 0.15);\n",
              "      filter: drop-shadow(0px 1px 2px rgba(0, 0, 0, 0.3));\n",
              "      fill: #FFFFFF;\n",
              "    }\n",
              "  </style>\n",
              "\n",
              "      <script>\n",
              "        const buttonEl =\n",
              "          document.querySelector('#df-32789f30-12f0-4284-84bc-5728448ef512 button.colab-df-convert');\n",
              "        buttonEl.style.display =\n",
              "          google.colab.kernel.accessAllowed ? 'block' : 'none';\n",
              "\n",
              "        async function convertToInteractive(key) {\n",
              "          const element = document.querySelector('#df-32789f30-12f0-4284-84bc-5728448ef512');\n",
              "          const dataTable =\n",
              "            await google.colab.kernel.invokeFunction('convertToInteractive',\n",
              "                                                     [key], {});\n",
              "          if (!dataTable) return;\n",
              "\n",
              "          const docLinkHtml = 'Like what you see? Visit the ' +\n",
              "            '<a target=\"_blank\" href=https://colab.research.google.com/notebooks/data_table.ipynb>data table notebook</a>'\n",
              "            + ' to learn more about interactive tables.';\n",
              "          element.innerHTML = '';\n",
              "          dataTable['output_type'] = 'display_data';\n",
              "          await google.colab.output.renderOutput(dataTable, element);\n",
              "          const docLink = document.createElement('div');\n",
              "          docLink.innerHTML = docLinkHtml;\n",
              "          element.appendChild(docLink);\n",
              "        }\n",
              "      </script>\n",
              "    </div>\n",
              "  </div>\n",
              "  "
            ]
          },
          "metadata": {},
          "execution_count": 14
        }
      ]
    },
    {
      "cell_type": "markdown",
      "source": [
        "Top 4 features which have higher  change in weights are\n",
        "\n",
        "x*x,\n",
        "\n",
        " y,\n",
        " \n",
        " 2*y,\n",
        "\n",
        " w"
      ],
      "metadata": {
        "id": "4U7OEwrlLw31"
      }
    },
    {
      "cell_type": "markdown",
      "source": [
        "###Task2"
      ],
      "metadata": {
        "id": "64Ksyv0VNBaC"
      }
    },
    {
      "cell_type": "markdown",
      "source": [
        "####step2"
      ],
      "metadata": {
        "id": "jhsy-hdpND-G"
      }
    },
    {
      "cell_type": "code",
      "source": [
        "linear_clf = SGDClassifier(loss='squared_error')\n",
        "params = {'alpha':np.logspace(1,100,num = 10)}\n",
        "grid_search = GridSearchCV(linear_clf,params)\n",
        "grid_search.fit(X,Y)\n",
        "grid_search.best_params_"
      ],
      "metadata": {
        "colab": {
          "base_uri": "https://localhost:8080/"
        },
        "id": "HvIry0JxNA1V",
        "outputId": "3c0816cd-57c1-427b-af83-31cabb32eca1"
      },
      "execution_count": null,
      "outputs": [
        {
          "output_type": "execute_result",
          "data": {
            "text/plain": [
              "{'alpha': 10.0}"
            ]
          },
          "metadata": {},
          "execution_count": 15
        }
      ]
    },
    {
      "cell_type": "markdown",
      "source": [
        "####step3"
      ],
      "metadata": {
        "id": "dPXIyKJYhvNA"
      }
    },
    {
      "cell_type": "code",
      "source": [
        "best_model = SGDClassifier(loss='squared_error',alpha = 10.0,random_state=1)\n",
        "best_model.fit(X,Y)\n",
        "print('Best model accuray',best_model.score(X,Y))\n",
        "best_model_accuracy = best_model.score(X,Y)\n",
        "print('best model weights',best_model.coef_)\n",
        "best_model_weights = best_model.coef_"
      ],
      "metadata": {
        "colab": {
          "base_uri": "https://localhost:8080/"
        },
        "id": "X0-RpFBuhugH",
        "outputId": "531d73fb-b5fb-4e5d-9e63-2219a08d3867"
      },
      "execution_count": null,
      "outputs": [
        {
          "output_type": "stream",
          "name": "stdout",
          "text": [
            "Best model accuray 0.59\n",
            "best model weights [[ 0.04803879 -0.04985978  0.06910478  0.04714953 -0.04985978  0.05077818\n",
            "   0.04271637]]\n"
          ]
        }
      ]
    },
    {
      "cell_type": "markdown",
      "source": [
        "####step4"
      ],
      "metadata": {
        "id": "MlRb4PW3i0lz"
      }
    },
    {
      "cell_type": "code",
      "source": [
        "noise = np.random.randint(0,10,X.shape)/100\n",
        "new_X = X+noise\n",
        "best_model.fit(new_X,Y)\n",
        "best_model_accuracy_edited = best_model.score(new_X,Y)\n",
        "print(best_model_accuracy_edited)\n",
        "best_model_weights_edited =  best_model.coef_\n",
        "print(best_model_weights_edited)"
      ],
      "metadata": {
        "colab": {
          "base_uri": "https://localhost:8080/"
        },
        "id": "nbir44hWi-yg",
        "outputId": "a400de12-b05e-4d51-f237-ae7867dc006c"
      },
      "execution_count": null,
      "outputs": [
        {
          "output_type": "stream",
          "name": "stdout",
          "text": [
            "0.58\n",
            "[[ 0.04673626 -0.05135966  0.06798438  0.04583002 -0.05136565  0.05002989\n",
            "   0.04131157]]\n"
          ]
        }
      ]
    },
    {
      "cell_type": "markdown",
      "source": [
        "####step5"
      ],
      "metadata": {
        "id": "yBuD3TfIi_X0"
      }
    },
    {
      "cell_type": "code",
      "source": [
        "print(\"Difference between accuracy \",best_model_accuracy_edited-best_model_accuracy)\n",
        "print(\"Differenec between weights :\")\n",
        "print(abs((best_model_weights_edited-best_model_weights)/best_model_weights))"
      ],
      "metadata": {
        "colab": {
          "base_uri": "https://localhost:8080/"
        },
        "id": "AGII7FLHi2fG",
        "outputId": "6e782d1d-5d6d-4ff9-c8e5-2f51b5013ecd"
      },
      "execution_count": null,
      "outputs": [
        {
          "output_type": "stream",
          "name": "stdout",
          "text": [
            "Difference between accuracy  -0.010000000000000009\n",
            "Differenec between weights :\n",
            "[[0.02711411 0.03008198 0.01621312 0.02798559 0.03020207 0.0147366\n",
            "  0.0328868 ]]\n"
          ]
        }
      ]
    },
    {
      "cell_type": "code",
      "source": [
        "wts = abs((best_model_weights_edited-best_model_weights)/best_model_weights)\n",
        "diff_wts = pd.DataFrame(wts[0].reshape(-1,1),data.drop(['target'], axis=1).columns,columns= ['diff'])\n",
        "diff_wts.sort_values('diff',ascending=False)"
      ],
      "metadata": {
        "colab": {
          "base_uri": "https://localhost:8080/",
          "height": 269
        },
        "id": "GMf3opfpjXyQ",
        "outputId": "ff48eb9a-3cfd-4fc3-e03f-33a5b26172a0"
      },
      "execution_count": null,
      "outputs": [
        {
          "output_type": "execute_result",
          "data": {
            "text/plain": [
              "               diff\n",
              "w          0.032887\n",
              "2*y        0.030202\n",
              "y          0.030082\n",
              "x*x        0.027986\n",
              "x          0.027114\n",
              "z          0.016213\n",
              "2*z+3*x*x  0.014737"
            ],
            "text/html": [
              "\n",
              "  <div id=\"df-13f5e129-ffef-4ffc-a6ae-0f70acab5c04\">\n",
              "    <div class=\"colab-df-container\">\n",
              "      <div>\n",
              "<style scoped>\n",
              "    .dataframe tbody tr th:only-of-type {\n",
              "        vertical-align: middle;\n",
              "    }\n",
              "\n",
              "    .dataframe tbody tr th {\n",
              "        vertical-align: top;\n",
              "    }\n",
              "\n",
              "    .dataframe thead th {\n",
              "        text-align: right;\n",
              "    }\n",
              "</style>\n",
              "<table border=\"1\" class=\"dataframe\">\n",
              "  <thead>\n",
              "    <tr style=\"text-align: right;\">\n",
              "      <th></th>\n",
              "      <th>diff</th>\n",
              "    </tr>\n",
              "  </thead>\n",
              "  <tbody>\n",
              "    <tr>\n",
              "      <th>w</th>\n",
              "      <td>0.032887</td>\n",
              "    </tr>\n",
              "    <tr>\n",
              "      <th>2*y</th>\n",
              "      <td>0.030202</td>\n",
              "    </tr>\n",
              "    <tr>\n",
              "      <th>y</th>\n",
              "      <td>0.030082</td>\n",
              "    </tr>\n",
              "    <tr>\n",
              "      <th>x*x</th>\n",
              "      <td>0.027986</td>\n",
              "    </tr>\n",
              "    <tr>\n",
              "      <th>x</th>\n",
              "      <td>0.027114</td>\n",
              "    </tr>\n",
              "    <tr>\n",
              "      <th>z</th>\n",
              "      <td>0.016213</td>\n",
              "    </tr>\n",
              "    <tr>\n",
              "      <th>2*z+3*x*x</th>\n",
              "      <td>0.014737</td>\n",
              "    </tr>\n",
              "  </tbody>\n",
              "</table>\n",
              "</div>\n",
              "      <button class=\"colab-df-convert\" onclick=\"convertToInteractive('df-13f5e129-ffef-4ffc-a6ae-0f70acab5c04')\"\n",
              "              title=\"Convert this dataframe to an interactive table.\"\n",
              "              style=\"display:none;\">\n",
              "        \n",
              "  <svg xmlns=\"http://www.w3.org/2000/svg\" height=\"24px\"viewBox=\"0 0 24 24\"\n",
              "       width=\"24px\">\n",
              "    <path d=\"M0 0h24v24H0V0z\" fill=\"none\"/>\n",
              "    <path d=\"M18.56 5.44l.94 2.06.94-2.06 2.06-.94-2.06-.94-.94-2.06-.94 2.06-2.06.94zm-11 1L8.5 8.5l.94-2.06 2.06-.94-2.06-.94L8.5 2.5l-.94 2.06-2.06.94zm10 10l.94 2.06.94-2.06 2.06-.94-2.06-.94-.94-2.06-.94 2.06-2.06.94z\"/><path d=\"M17.41 7.96l-1.37-1.37c-.4-.4-.92-.59-1.43-.59-.52 0-1.04.2-1.43.59L10.3 9.45l-7.72 7.72c-.78.78-.78 2.05 0 2.83L4 21.41c.39.39.9.59 1.41.59.51 0 1.02-.2 1.41-.59l7.78-7.78 2.81-2.81c.8-.78.8-2.07 0-2.86zM5.41 20L4 18.59l7.72-7.72 1.47 1.35L5.41 20z\"/>\n",
              "  </svg>\n",
              "      </button>\n",
              "      \n",
              "  <style>\n",
              "    .colab-df-container {\n",
              "      display:flex;\n",
              "      flex-wrap:wrap;\n",
              "      gap: 12px;\n",
              "    }\n",
              "\n",
              "    .colab-df-convert {\n",
              "      background-color: #E8F0FE;\n",
              "      border: none;\n",
              "      border-radius: 50%;\n",
              "      cursor: pointer;\n",
              "      display: none;\n",
              "      fill: #1967D2;\n",
              "      height: 32px;\n",
              "      padding: 0 0 0 0;\n",
              "      width: 32px;\n",
              "    }\n",
              "\n",
              "    .colab-df-convert:hover {\n",
              "      background-color: #E2EBFA;\n",
              "      box-shadow: 0px 1px 2px rgba(60, 64, 67, 0.3), 0px 1px 3px 1px rgba(60, 64, 67, 0.15);\n",
              "      fill: #174EA6;\n",
              "    }\n",
              "\n",
              "    [theme=dark] .colab-df-convert {\n",
              "      background-color: #3B4455;\n",
              "      fill: #D2E3FC;\n",
              "    }\n",
              "\n",
              "    [theme=dark] .colab-df-convert:hover {\n",
              "      background-color: #434B5C;\n",
              "      box-shadow: 0px 1px 3px 1px rgba(0, 0, 0, 0.15);\n",
              "      filter: drop-shadow(0px 1px 2px rgba(0, 0, 0, 0.3));\n",
              "      fill: #FFFFFF;\n",
              "    }\n",
              "  </style>\n",
              "\n",
              "      <script>\n",
              "        const buttonEl =\n",
              "          document.querySelector('#df-13f5e129-ffef-4ffc-a6ae-0f70acab5c04 button.colab-df-convert');\n",
              "        buttonEl.style.display =\n",
              "          google.colab.kernel.accessAllowed ? 'block' : 'none';\n",
              "\n",
              "        async function convertToInteractive(key) {\n",
              "          const element = document.querySelector('#df-13f5e129-ffef-4ffc-a6ae-0f70acab5c04');\n",
              "          const dataTable =\n",
              "            await google.colab.kernel.invokeFunction('convertToInteractive',\n",
              "                                                     [key], {});\n",
              "          if (!dataTable) return;\n",
              "\n",
              "          const docLinkHtml = 'Like what you see? Visit the ' +\n",
              "            '<a target=\"_blank\" href=https://colab.research.google.com/notebooks/data_table.ipynb>data table notebook</a>'\n",
              "            + ' to learn more about interactive tables.';\n",
              "          element.innerHTML = '';\n",
              "          dataTable['output_type'] = 'display_data';\n",
              "          await google.colab.output.renderOutput(dataTable, element);\n",
              "          const docLink = document.createElement('div');\n",
              "          docLink.innerHTML = docLinkHtml;\n",
              "          element.appendChild(docLink);\n",
              "        }\n",
              "      </script>\n",
              "    </div>\n",
              "  </div>\n",
              "  "
            ]
          },
          "metadata": {},
          "execution_count": 19
        }
      ]
    },
    {
      "cell_type": "markdown",
      "source": [
        "Top 4 features which have higher  change in weights are\n",
        "\n",
        "2*y\n",
        "\n",
        "y\n",
        "\n",
        "2**z+3*x*x\n",
        "\n",
        "x*x\n",
        "\n",
        "w\n",
        "\n",
        "z\n",
        "\n",
        "x"
      ],
      "metadata": {
        "id": "yrOBlVTujgXL"
      }
    }
  ]
}