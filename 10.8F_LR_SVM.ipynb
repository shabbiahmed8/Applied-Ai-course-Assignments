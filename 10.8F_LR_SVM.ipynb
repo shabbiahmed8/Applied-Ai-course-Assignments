{
  "nbformat": 4,
  "nbformat_minor": 0,
  "metadata": {
    "kernelspec": {
      "display_name": "Python 3",
      "language": "python",
      "name": "python3"
    },
    "language_info": {
      "codemirror_mode": {
        "name": "ipython",
        "version": 3
      },
      "file_extension": ".py",
      "mimetype": "text/x-python",
      "name": "python",
      "nbconvert_exporter": "python",
      "pygments_lexer": "ipython3",
      "version": "3.6.8"
    },
    "colab": {
      "provenance": [],
      "collapsed_sections": []
    }
  },
  "cells": [
    {
      "cell_type": "code",
      "metadata": {
        "id": "fCgMNEvI4Zxf"
      },
      "source": [
        "import numpy as np\n",
        "import pandas as pd\n",
        "from sklearn.datasets import make_classification\n",
        "import numpy as np\n",
        "from sklearn.svm import SVC\n",
        "from sklearn.model_selection import train_test_split\n",
        "import matplotlib.pyplot as plt\n"
      ],
      "execution_count": 1,
      "outputs": []
    },
    {
      "cell_type": "code",
      "metadata": {
        "id": "ANUNIqCe4Zxn"
      },
      "source": [
        "X, y = make_classification(n_samples=5000, n_features=5, n_redundant=2,\n",
        "                           n_classes=2, weights=[0.7], class_sep=0.7, random_state=15)\n",
        "\n"
      ],
      "execution_count": 2,
      "outputs": []
    },
    {
      "cell_type": "markdown",
      "metadata": {
        "id": "c0bKCboN4Zxu"
      },
      "source": [
        "<h1><font color='Geen'> 8F: Implementing Platt Scaling to find P(Y==1|X)</font></h1>"
      ]
    },
    {
      "cell_type": "markdown",
      "metadata": {
        "id": "e0n5EFkx4Zxz"
      },
      "source": [
        "# TASK F"
      ]
    },
    {
      "cell_type": "code",
      "source": [
        "def initialize_weights(row_vector):\n",
        "    ''' In this function, we will initialize our weights and bias'''\n",
        "    #initialize the weights as 1d array consisting of all zeros similar to the dimensions of row_vector\n",
        "    #you use zeros_like function to initialize zero, check this link https://docs.scipy.org/doc/numpy/reference/generated/numpy.zeros_like.html\n",
        "    #initialize bias to zero\n",
        "    \n",
        "    w = np.zeros_like(row_vector)\n",
        "    b = 0\n",
        "\n",
        "    return w,b"
      ],
      "metadata": {
        "id": "GB6fmd02Kpc0"
      },
      "execution_count": 3,
      "outputs": []
    },
    {
      "cell_type": "code",
      "source": [
        "def decision_function(x_cv,supp_vec,dual_coef,intercept,gamma):\n",
        "    fcv = []\n",
        "    \n",
        "    for xq in x_cv:\n",
        "        sigma_sum = 0\n",
        "\n",
        "        for idx, vec in enumerate(supp_vec):\n",
        "            l2_norm = np.linalg.norm(vec-xq)**2\n",
        "\n",
        "            sigma_sum += dual_coef[0,idx] * np.exp(-gamma*l2_norm)\n",
        "        sigma_sum += intercept[0]\n",
        "        fcv.append(sigma_sum)\n",
        "\n",
        "    return np.array(fcv)"
      ],
      "metadata": {
        "id": "5_9gcP6oN5Dj"
      },
      "execution_count": 4,
      "outputs": []
    },
    {
      "cell_type": "code",
      "source": [
        "def caliberate(y_train,y_cv):\n",
        "     \n",
        "    n_p = np.count_nonzero(y_train)\n",
        "    n_m =  len(y_train)- n_p\n",
        "\n",
        "    y_plus = (n_p+1)/(n_p+2)\n",
        "    y_minus = 1/(n_m +2)\n",
        "\n",
        "    cal_y = []\n",
        "    for y in y_cv:\n",
        "        if y == 1:\n",
        "            cal_y.append(y_plus)\n",
        "        else:\n",
        "            cal_y.append(y_minus)\n",
        "    return np.array(cal_y)"
      ],
      "metadata": {
        "id": "4o_yAK7NGhzN"
      },
      "execution_count": 5,
      "outputs": []
    },
    {
      "cell_type": "code",
      "source": [
        "def gradient_db(x,y,w,b):\n",
        "     '''In this function, we will compute gradient w.r.to b '''\n",
        "     db = y - sigmoid(np.dot(w,x)+b)\n",
        "     return db"
      ],
      "metadata": {
        "id": "Ix76f3HjKo8h"
      },
      "execution_count": 6,
      "outputs": []
    },
    {
      "cell_type": "code",
      "source": [
        "def gradient_dw(x,y,w,b,alpha,N):\n",
        "    '''In this function, we will compute the gardient w.r.to w '''\n",
        "    dw = (x*(y-sigmoid(np.dot(w,x)+b))-(alpha/N*w)).sum()\n",
        "    \n",
        "    return dw"
      ],
      "metadata": {
        "id": "vrfp8FteKJ4I"
      },
      "execution_count": 7,
      "outputs": []
    },
    {
      "cell_type": "code",
      "source": [
        "def sigmoid(z):\n",
        "    ''' In this function, we will return sigmoid of z'''\n",
        "    # compute sigmoid(z) and return\n",
        "\n",
        "    return 1/(1+np.exp(-z))"
      ],
      "metadata": {
        "id": "CEmMHzsoFiMy"
      },
      "execution_count": 8,
      "outputs": []
    },
    {
      "cell_type": "code",
      "source": [
        "def logloss(y_true,y_pred):\n",
        "    # you have been given two arrays y_true and y_pred and you have to calculate the logloss\n",
        "    #while dealing with numpy arrays you can use vectorized operations for quicker calculations as compared to using loops\n",
        "    #https://www.pythonlikeyoumeanit.com/Module3_IntroducingNumpy/VectorizedOperations.html\n",
        "    #https://www.geeksforgeeks.org/vectorized-operations-in-numpy/\n",
        "    #write your code here\n",
        "    n = len(y_true)\n",
        "    loss = -1*(1/n)*((y_true*np.log10(y_pred) + (1-y_true)*np.log10(1-y_pred)).sum())\n",
        "    return loss"
      ],
      "metadata": {
        "id": "OPw7gJ9nGCB1"
      },
      "execution_count": 9,
      "outputs": []
    },
    {
      "cell_type": "code",
      "execution_count": 10,
      "metadata": {
        "id": "dmAdc5ejEZ25"
      },
      "outputs": [],
      "source": [
        "def sgd_train(f_cv,y_cv,epoch,alpha,eta0):\n",
        "    tol = 0.001\n",
        "\n",
        "    test_loss = []\n",
        "    N= len(f_cv)\n",
        "    w,b = initialize_weights(f_cv) # Initialize the weights\n",
        "    \n",
        "\n",
        "\n",
        "    for e in range(epoch):          # for every epoch\n",
        "        print(\"epoch\",e+1)\n",
        "        y_pred = []\n",
        "        for i in range(N):  # for every data point(X_train,y_train)\n",
        "            dw = gradient_dw(f_cv[i],y_cv[i],w,b,alpha,N)  #compute gradient w.r.to w (call the gradient_dw() function)\n",
        "            db = gradient_db(f_cv[i],y_cv[i],w,b)          #compute gradient w.r.to b (call the gradient_db() function)\n",
        "            w =  w + eta0*dw       #update w, b\n",
        "            b =  b + eta0*db\n",
        "            z = sigmoid(np.dot(w,f_cv[i])+b)\n",
        "            y_pred.append(z)\n",
        "        y_pred = np.array(y_pred)\n",
        "        test_loss.append(logloss(y_pred,y_cv))\n",
        "        \n",
        "\n",
        "        if e >0 and abs(test_loss[e]-test_loss[e-1])<=tol:\n",
        "            break\n",
        "            \n",
        "\n",
        "    return w,b,test_loss,e+1"
      ]
    },
    {
      "cell_type": "markdown",
      "source": [
        "##Step 1: Splitting into Xtrain (60),  Xcv (20),  Xtest (20)"
      ],
      "metadata": {
        "id": "g9JjR1WOGpWg"
      }
    },
    {
      "cell_type": "code",
      "source": [
        "X_train, X_test, y_train, y_test = train_test_split(X, y, test_size=0.2, random_state=42)\n",
        "X_train,X_cv,y_train,y_cv = train_test_split(X_train,y_train,test_size=0.25,random_state= 12)"
      ],
      "metadata": {
        "id": "evenefA0Fv1Y"
      },
      "execution_count": 11,
      "outputs": []
    },
    {
      "cell_type": "markdown",
      "source": [
        "##Step 2: Training SVC(gamma=0.001,C=100) on ($X_{train}$,$y_{train}$)"
      ],
      "metadata": {
        "id": "ETerKMSMHKpf"
      }
    },
    {
      "cell_type": "code",
      "source": [
        "clf = SVC(C=100,gamma=0.001)\n",
        "clf.fit(X_train,y_train)"
      ],
      "metadata": {
        "colab": {
          "base_uri": "https://localhost:8080/"
        },
        "id": "YRItN7-HKtXN",
        "outputId": "d97a89a8-ec6e-450d-e708-1fcfc7d00f9c"
      },
      "execution_count": 12,
      "outputs": [
        {
          "output_type": "execute_result",
          "data": {
            "text/plain": [
              "SVC(C=100, gamma=0.001)"
            ]
          },
          "metadata": {},
          "execution_count": 12
        }
      ]
    },
    {
      "cell_type": "markdown",
      "source": [
        "##Step 3: Getting $f_{cv}$ valueson the $X_{cv}$ data"
      ],
      "metadata": {
        "id": "vpSj_kh0HzqH"
      }
    },
    {
      "cell_type": "code",
      "source": [
        "epoch = 20\n",
        "gamma = 0.001\n",
        "eta0 = 0.0001\n",
        "alpha = 0.0001\n",
        "f_cv =decision_function(X_cv,clf.support_vectors_,clf.dual_coef_,clf.intercept_,gamma)"
      ],
      "metadata": {
        "id": "ZNjZ6ymxYJpJ"
      },
      "execution_count": 13,
      "outputs": []
    },
    {
      "cell_type": "markdown",
      "source": [
        "##Step 4: Applying SGD on $f_{cv}$ and caliberated $y_{cv}$"
      ],
      "metadata": {
        "id": "246DlBkQILZ-"
      }
    },
    {
      "cell_type": "code",
      "source": [
        "cal_y_cv = caliberate(y_train,y_cv)"
      ],
      "metadata": {
        "id": "BVRgzfLvJzky"
      },
      "execution_count": 14,
      "outputs": []
    },
    {
      "cell_type": "code",
      "source": [
        "w,b,loss,e=sgd_train(f_cv,cal_y_cv,epoch,alpha,eta0)\n",
        "\n",
        "print(loss)\n"
      ],
      "metadata": {
        "id": "7VZjYuWmaLHl",
        "colab": {
          "base_uri": "https://localhost:8080/"
        },
        "outputId": "12d0ba74-5730-4b8f-84ef-01dba20471be"
      },
      "execution_count": 15,
      "outputs": [
        {
          "output_type": "stream",
          "name": "stdout",
          "text": [
            "epoch 1\n",
            "epoch 2\n",
            "epoch 3\n",
            "epoch 4\n",
            "epoch 5\n",
            "epoch 6\n",
            "epoch 7\n",
            "epoch 8\n",
            "epoch 9\n",
            "epoch 10\n",
            "epoch 11\n",
            "epoch 12\n",
            "epoch 13\n",
            "epoch 14\n",
            "epoch 15\n",
            "epoch 16\n",
            "epoch 17\n",
            "epoch 18\n",
            "epoch 19\n",
            "epoch 20\n",
            "[1396.1064540693774, 1394.0932926914247, 1394.1147975647136, 1394.136544386539, 1394.1581722263236, 1394.1796814288225, 1394.201072648191, 1394.2223465352386, 1394.2435037371845, 1394.2645448976732, 1394.2854706567928, 1394.3062816510976, 1394.3269785136238, 1394.347561873909, 1394.3680323580145, 1394.3883905885373, 1394.4086371846365, 1394.4287727620474, 1394.4487979330981, 1394.4687133067334]\n"
          ]
        }
      ]
    },
    {
      "cell_type": "code",
      "source": [
        "plt.plot(range(e),loss)"
      ],
      "metadata": {
        "colab": {
          "base_uri": "https://localhost:8080/",
          "height": 283
        },
        "id": "L9wmshz8KNAn",
        "outputId": "ee695d39-9d07-43b8-8b5a-fce7336f4976"
      },
      "execution_count": 16,
      "outputs": [
        {
          "output_type": "execute_result",
          "data": {
            "text/plain": [
              "[<matplotlib.lines.Line2D at 0x7f9b6555c290>]"
            ]
          },
          "metadata": {},
          "execution_count": 16
        },
        {
          "output_type": "display_data",
          "data": {
            "text/plain": [
              "<Figure size 432x288 with 1 Axes>"
            ],
            "image/png": "[encoded data removed]"
          },
          "metadata": {
            "needs_background": "light"
          }
        }
      ]
    },
    {
      "cell_type": "code",
      "source": [
        "f_test = decision_function(X_test,clf.support_vectors_,clf.dual_coef_,clf.intercept_,gamma)\n",
        "prob_y1 = sigmoid(w*f_test+b)"
      ],
      "metadata": {
        "id": "QXhZgZNeh43s"
      },
      "execution_count": 17,
      "outputs": []
    },
    {
      "cell_type": "code",
      "source": [
        "prob_y1.shape,X_test.shape"
      ],
      "metadata": {
        "colab": {
          "base_uri": "https://localhost:8080/"
        },
        "id": "BL3MBCXpi6R3",
        "outputId": "f54c582a-44ce-45f2-cbec-efa9e46d21cd"
      },
      "execution_count": 18,
      "outputs": [
        {
          "output_type": "execute_result",
          "data": {
            "text/plain": [
              "((1000,), (1000, 5))"
            ]
          },
          "metadata": {},
          "execution_count": 18
        }
      ]
    },
    {
      "cell_type": "code",
      "source": [
        "prob_y1"
      ],
      "metadata": {
        "colab": {
          "base_uri": "https://localhost:8080/"
        },
        "id": "5kPkXwnut_QU",
        "outputId": "91cf49aa-b1bb-47c3-f433-8297c93e107c"
      },
      "execution_count": 19,
      "outputs": [
        {
          "output_type": "execute_result",
          "data": {
            "text/plain": [
              "array([7.04692913e-02, 7.91851430e-02, 2.22589336e-01, 9.27288075e-03,\n",
              "       1.33347234e-03, 7.94518120e-01, 9.58029491e-01, 4.35792716e-02,\n",
              "       9.46314187e-04, 6.56813289e-01, 9.87879819e-01, 2.62771730e-03,\n",
              "       2.09445390e-01, 2.78778557e-01, 1.54844292e-01, 9.55259147e-01,\n",
              "       3.99284262e-03, 5.51554864e-03, 6.24359112e-03, 4.25048940e-02,\n",
              "       2.27381357e-02, 6.77809154e-04, 9.84737769e-01, 9.41214711e-01,\n",
              "       9.20121375e-03, 3.96399055e-03, 8.24257620e-04, 1.12538996e-01,\n",
              "       1.40757674e-01, 8.59687810e-01, 8.99897160e-03, 1.71418057e-03,\n",
              "       6.86298663e-04, 3.02988165e-03, 9.56699125e-01, 5.21441533e-01,\n",
              "       4.55434811e-01, 1.92775690e-02, 7.60389289e-01, 9.16879896e-01,\n",
              "       2.51567939e-03, 6.03179517e-01, 6.33257795e-01, 5.23872712e-01,\n",
              "       3.74072097e-03, 9.64532834e-01, 6.75739376e-03, 1.83096770e-03,\n",
              "       8.76643140e-01, 9.76720512e-01, 3.89445073e-01, 5.34392258e-02,\n",
              "       1.11774627e-02, 2.34895342e-03, 6.60487957e-03, 3.21655960e-02,\n",
              "       2.42883898e-02, 1.41817213e-02, 1.83717497e-02, 7.73947839e-01,\n",
              "       6.20937644e-03, 1.42964137e-02, 7.85045660e-03, 6.07849265e-03,\n",
              "       4.78172980e-04, 1.83470327e-03, 7.29808568e-01, 9.53836498e-01,\n",
              "       3.74417943e-02, 7.42319060e-01, 9.45650563e-01, 1.63256276e-03,\n",
              "       1.51497627e-02, 2.64890665e-03, 7.42999284e-01, 6.35444648e-03,\n",
              "       3.27257652e-01, 1.39589120e-01, 1.47447818e-01, 2.58991079e-03,\n",
              "       2.71408423e-02, 9.46470293e-01, 1.24621235e-03, 2.22652537e-02,\n",
              "       8.97305993e-01, 7.51935711e-01, 2.77513236e-01, 7.64817082e-01,\n",
              "       3.50978371e-04, 5.63851728e-02, 9.59916897e-01, 9.31500224e-04,\n",
              "       3.74230115e-02, 4.64531835e-02, 4.57504575e-02, 9.57914649e-01,\n",
              "       5.30976422e-02, 5.15606733e-03, 6.47913797e-02, 7.83740473e-01,\n",
              "       2.02039760e-03, 9.25170500e-01, 1.28673961e-02, 9.91965062e-01,\n",
              "       9.69837246e-01, 9.72772024e-01, 3.87443005e-01, 1.11986203e-02,\n",
              "       9.77129302e-01, 9.48408262e-01, 4.64611324e-03, 1.73950473e-01,\n",
              "       5.33569781e-04, 1.25224518e-03, 2.37120304e-03, 9.66566568e-01,\n",
              "       1.15159456e-01, 1.26818146e-02, 5.95376706e-02, 9.71017133e-01,\n",
              "       9.77644992e-03, 9.32872171e-01, 4.28450659e-02, 3.18466965e-02,\n",
              "       3.40073317e-04, 5.48631017e-02, 2.50381253e-03, 4.76482508e-02,\n",
              "       3.58101784e-03, 9.02535441e-01, 4.85294170e-01, 9.63871402e-01,\n",
              "       9.73542546e-01, 5.06573720e-02, 4.36949361e-02, 5.15801086e-03,\n",
              "       9.66785245e-01, 9.67180992e-01, 3.59342886e-03, 3.05121690e-03,\n",
              "       7.02785959e-02, 9.65443810e-01, 2.53195632e-02, 7.55799697e-01,\n",
              "       6.59031501e-01, 6.45675199e-04, 7.71312911e-01, 6.67828770e-01,\n",
              "       1.91589862e-01, 9.57636822e-01, 8.72114866e-04, 3.74481404e-03,\n",
              "       2.02495222e-03, 1.03028500e-02, 1.44461766e-03, 1.41279407e-03,\n",
              "       6.71043601e-01, 4.35113663e-03, 2.69730801e-02, 9.74376234e-01,\n",
              "       9.90119585e-01, 4.24077966e-03, 1.53960241e-01, 4.25507625e-01,\n",
              "       4.00077228e-02, 2.32386310e-01, 9.79406609e-01, 6.95882580e-04,\n",
              "       6.62195001e-01, 1.24662187e-01, 4.95235565e-01, 8.59640737e-03,\n",
              "       1.26829389e-02, 9.72911056e-01, 1.18400434e-02, 4.24798409e-01,\n",
              "       3.03405411e-02, 2.58213977e-01, 8.19651567e-03, 3.53232854e-01,\n",
              "       5.33453593e-02, 6.52068695e-02, 2.28321867e-01, 8.75281503e-01,\n",
              "       1.59354152e-02, 9.84362273e-01, 9.84148758e-01, 1.10980593e-02,\n",
              "       9.96496309e-01, 3.75795791e-05, 5.75690776e-03, 1.90216440e-04,\n",
              "       2.09194583e-03, 3.40260917e-01, 5.46945977e-03, 9.80265911e-01,\n",
              "       8.62520668e-03, 1.03756027e-02, 3.84792903e-01, 6.66604323e-03,\n",
              "       9.84769860e-01, 9.24246581e-03, 5.01520444e-03, 3.80466534e-02,\n",
              "       2.89934728e-03, 9.28706272e-01, 5.28404386e-02, 8.43002992e-03,\n",
              "       9.40750869e-01, 4.90582553e-02, 4.34761264e-02, 7.93051417e-01,\n",
              "       6.75447012e-01, 1.56465833e-02, 2.08142808e-02, 9.53706519e-03,\n",
              "       3.56020758e-03, 7.55139453e-03, 9.87179427e-01, 1.69539986e-02,\n",
              "       4.61261616e-03, 3.78794630e-03, 8.01174930e-02, 8.21805871e-04,\n",
              "       4.16221699e-03, 1.44491953e-01, 5.30723045e-03, 2.27613234e-02,\n",
              "       9.76754510e-01, 1.27272667e-01, 4.12844937e-02, 1.67519966e-03,\n",
              "       1.92182555e-02, 9.01132348e-01, 1.25655842e-02, 5.68792895e-02,\n",
              "       9.00882725e-01, 4.37596370e-04, 9.04529570e-02, 8.99028912e-01,\n",
              "       2.76544663e-01, 2.51660162e-01, 4.88295797e-02, 8.22901451e-01,\n",
              "       1.12455432e-03, 3.51449795e-02, 1.27781844e-03, 1.15414283e-02,\n",
              "       9.77591829e-01, 9.73114817e-01, 4.19973111e-01, 2.02433581e-02,\n",
              "       8.91810611e-01, 8.33920931e-01, 1.57891336e-03, 1.34472305e-03,\n",
              "       9.05840836e-02, 2.70236439e-03, 3.60427751e-03, 1.33330067e-02,\n",
              "       1.44211240e-03, 3.73062817e-03, 4.03486572e-02, 4.11183209e-02,\n",
              "       1.58927309e-03, 9.78706208e-01, 8.60912472e-01, 5.54225260e-04,\n",
              "       7.85650976e-02, 1.81903698e-03, 9.07015169e-01, 1.04817551e-03,\n",
              "       1.60823193e-03, 8.70656821e-01, 4.85987650e-01, 9.98301536e-01,\n",
              "       1.23455239e-02, 5.45633945e-04, 1.48089541e-01, 3.82263047e-02,\n",
              "       5.55008990e-01, 2.55959171e-02, 1.19461703e-02, 4.10915568e-02,\n",
              "       8.80630625e-01, 1.44621717e-03, 7.33743712e-03, 2.04399358e-02,\n",
              "       2.84517007e-01, 1.88465656e-03, 3.19553390e-02, 9.87810238e-01,\n",
              "       9.94506750e-01, 1.08788263e-02, 3.49331180e-03, 1.05717107e-01,\n",
              "       9.58359051e-01, 1.34949476e-03, 9.41052618e-03, 9.13805486e-01,\n",
              "       1.46306113e-02, 9.55717335e-01, 9.64622736e-01, 1.02116780e-02,\n",
              "       1.26555563e-02, 1.65220750e-01, 9.89614873e-01, 2.23610053e-03,\n",
              "       1.37262891e-01, 7.41654067e-01, 9.11216651e-02, 9.81030847e-01,\n",
              "       8.89408317e-01, 3.89918981e-03, 1.31395336e-01, 2.47731212e-02,\n",
              "       1.39093008e-01, 9.88232785e-01, 1.21334452e-02, 4.54736292e-04,\n",
              "       9.25714559e-01, 8.73950509e-03, 2.68356489e-02, 1.25892649e-01,\n",
              "       4.68331890e-02, 2.29748530e-04, 5.39337473e-03, 3.55450246e-03,\n",
              "       1.75593069e-01, 9.81865496e-01, 2.56598119e-02, 7.19183838e-03,\n",
              "       3.10473510e-03, 1.52301707e-02, 5.81896416e-04, 2.72909047e-03,\n",
              "       3.78714245e-02, 9.60793157e-01, 7.03992888e-04, 8.12595396e-01,\n",
              "       9.34603342e-01, 3.96051584e-02, 9.06756050e-02, 3.10016190e-03,\n",
              "       1.31231756e-02, 4.25053721e-03, 1.98543031e-01, 9.38873187e-01,\n",
              "       4.68981315e-01, 2.18778402e-03, 9.54721497e-04, 2.15234757e-01,\n",
              "       9.59875766e-01, 1.98721812e-02, 9.24147711e-01, 9.95931147e-01,\n",
              "       8.15049226e-04, 6.70339590e-02, 9.65176279e-03, 9.49586402e-02,\n",
              "       9.35205263e-01, 3.41325717e-03, 4.94258381e-03, 3.15856144e-03,\n",
              "       1.27373177e-02, 2.92679812e-03, 6.58423514e-01, 1.21426476e-03,\n",
              "       1.84038121e-03, 9.71744413e-01, 5.72754370e-02, 8.26558834e-01,\n",
              "       2.36696077e-03, 8.15874985e-03, 2.11327019e-01, 6.25043394e-02,\n",
              "       4.40536326e-02, 3.02132771e-01, 2.75154409e-03, 1.52844611e-02,\n",
              "       2.27118604e-02, 9.22027087e-01, 4.60888083e-03, 4.33211345e-01,\n",
              "       3.30588021e-03, 2.74329869e-02, 8.88716197e-01, 1.28245815e-02,\n",
              "       9.19162845e-04, 2.03421307e-02, 6.49516416e-02, 5.69356375e-02,\n",
              "       1.13474666e-02, 8.33798431e-01, 5.96372597e-04, 1.60949496e-01,\n",
              "       2.09680919e-01, 2.37189649e-03, 1.60558065e-02, 9.95347100e-01,\n",
              "       5.12653305e-01, 1.70545822e-02, 5.35059249e-01, 9.00710402e-01,\n",
              "       4.46003026e-02, 9.38787743e-01, 9.76885934e-01, 1.45730170e-03,\n",
              "       2.11471305e-03, 3.30963115e-01, 9.50976609e-01, 1.18238334e-02,\n",
              "       3.17625023e-01, 2.17354952e-01, 4.74664247e-02, 9.80017399e-01,\n",
              "       9.72057760e-03, 1.07420611e-02, 2.12420339e-02, 6.94391061e-04,\n",
              "       3.58801926e-03, 9.19078657e-01, 3.39922716e-03, 9.58719244e-01,\n",
              "       6.20402654e-02, 5.18757451e-01, 2.12121446e-02, 9.84669147e-01,\n",
              "       1.90214427e-01, 9.58295444e-01, 4.41647375e-02, 1.75354886e-03,\n",
              "       7.77807511e-01, 5.36123111e-03, 8.86912597e-03, 3.98768854e-02,\n",
              "       1.87578884e-02, 4.01016341e-03, 2.03016481e-04, 9.26199651e-01,\n",
              "       3.55614239e-02, 3.44455417e-03, 1.60536948e-04, 5.75887600e-01,\n",
              "       1.30107554e-02, 5.16991334e-03, 9.28483550e-03, 9.18507780e-01,\n",
              "       1.05209203e-02, 4.72883890e-03, 8.08142627e-02, 8.96080064e-01,\n",
              "       1.59089811e-02, 3.33358683e-03, 3.45314614e-03, 1.71688608e-01,\n",
              "       3.34700571e-04, 3.38411945e-01, 5.35465253e-02, 4.88975790e-04,\n",
              "       9.62032126e-01, 1.80328044e-01, 4.11524507e-03, 4.16506205e-02,\n",
              "       1.80146472e-02, 4.01754274e-03, 9.60160642e-01, 1.22180813e-01,\n",
              "       2.80255682e-02, 3.75321182e-03, 3.82882311e-03, 6.98228009e-01,\n",
              "       8.43249671e-01, 6.16082613e-03, 9.72508766e-01, 3.35838111e-02,\n",
              "       1.63193488e-02, 7.15689799e-03, 9.33089469e-01, 6.59936706e-01,\n",
              "       2.81365208e-02, 1.76666809e-02, 2.31381046e-01, 1.07671158e-02,\n",
              "       6.52905933e-04, 8.09769203e-01, 9.49027625e-01, 9.61493924e-01,\n",
              "       1.27168414e-02, 7.21310881e-01, 1.06148574e-02, 9.44368833e-01,\n",
              "       9.75157799e-01, 6.69604175e-03, 2.76437936e-02, 1.15130462e-01,\n",
              "       8.66052601e-03, 1.95571254e-01, 1.64002069e-02, 2.16132202e-02,\n",
              "       1.06778568e-01, 5.31260925e-04, 1.26577456e-03, 2.31715328e-03,\n",
              "       9.64529640e-01, 3.65858332e-01, 4.60012886e-03, 4.41855235e-03,\n",
              "       9.41173933e-01, 5.84883998e-01, 9.60026262e-01, 1.97818289e-02,\n",
              "       3.11715446e-03, 7.04146887e-03, 4.59924503e-05, 9.05916714e-03,\n",
              "       1.07817056e-01, 8.78349314e-03, 9.62900655e-01, 3.48725363e-03,\n",
              "       9.75498201e-01, 1.45784255e-02, 7.62459020e-03, 6.02830362e-03,\n",
              "       1.92204002e-01, 1.90588428e-01, 1.22870239e-02, 3.08838845e-01,\n",
              "       5.24518550e-01, 4.11757246e-04, 2.24002619e-04, 4.27929399e-01,\n",
              "       6.30793626e-03, 9.99105401e-01, 5.95274696e-02, 1.41925198e-03,\n",
              "       1.95015354e-03, 6.31195289e-01, 1.27364868e-02, 1.57216086e-02,\n",
              "       1.45275631e-02, 5.94794340e-03, 1.18192702e-02, 1.04589206e-01,\n",
              "       5.47798337e-03, 4.45537839e-03, 9.79885730e-01, 6.80770068e-01,\n",
              "       1.39225226e-01, 3.78607479e-02, 7.40893955e-02, 1.83419904e-03,\n",
              "       5.44711677e-03, 1.79490867e-02, 3.03646984e-03, 9.02376095e-03,\n",
              "       1.83620510e-04, 2.13395145e-03, 5.68816835e-04, 9.61081597e-01,\n",
              "       9.34467531e-01, 3.08366431e-02, 1.21033067e-03, 9.52297453e-01,\n",
              "       2.92846264e-03, 1.55515639e-04, 9.20449701e-01, 8.77351929e-01,\n",
              "       4.30377763e-03, 6.36646217e-01, 9.11682314e-01, 9.63377638e-01,\n",
              "       6.10838544e-02, 9.63984528e-01, 1.01260660e-02, 1.56097237e-03,\n",
              "       3.35723139e-03, 2.37288938e-03, 3.49972201e-03, 1.17166971e-02,\n",
              "       1.46456346e-02, 8.98565109e-01, 2.21310000e-02, 3.80166285e-03,\n",
              "       2.28280756e-02, 3.62557244e-03, 7.14556501e-01, 7.57354986e-04,\n",
              "       9.09559401e-01, 7.07870590e-01, 4.35568233e-02, 8.68004079e-03,\n",
              "       1.14905945e-02, 9.39218861e-01, 7.38727217e-01, 8.82942696e-01,\n",
              "       9.63606833e-01, 7.33933686e-01, 9.66456824e-01, 2.40168222e-01,\n",
              "       3.10469741e-01, 9.82415426e-01, 7.60693965e-03, 8.20505293e-03,\n",
              "       9.83187219e-01, 8.91912359e-01, 6.30614329e-02, 2.92631768e-02,\n",
              "       9.57518815e-01, 4.99671411e-02, 9.87329689e-01, 1.23614559e-01,\n",
              "       2.66412434e-03, 3.61120020e-03, 3.90076233e-02, 6.44043064e-01,\n",
              "       2.17402343e-03, 5.08893811e-01, 5.72758696e-01, 8.02925985e-02,\n",
              "       9.68382332e-01, 8.55698105e-03, 1.19201096e-03, 1.09011179e-01,\n",
              "       1.93712455e-03, 2.70864232e-03, 2.35827007e-01, 9.77024262e-01,\n",
              "       1.63483727e-02, 4.89207054e-01, 9.47612179e-01, 7.81843967e-03,\n",
              "       3.80994984e-03, 9.26002777e-01, 7.95411717e-01, 9.05821425e-01,\n",
              "       7.09115459e-03, 4.45188604e-03, 2.60730793e-03, 8.18742898e-04,\n",
              "       2.61663559e-02, 1.59389319e-02, 8.11103013e-03, 9.86496998e-01,\n",
              "       9.73679485e-01, 5.85835538e-02, 3.74819739e-01, 1.12647353e-02,\n",
              "       3.12419560e-04, 2.41985948e-02, 3.05695357e-02, 5.16361763e-03,\n",
              "       2.00153981e-02, 8.42027288e-03, 3.01862466e-03, 1.98973971e-02,\n",
              "       3.12198520e-02, 8.45310376e-01, 3.02472728e-02, 5.46672751e-03,\n",
              "       1.60031141e-04, 1.34630151e-02, 9.54081634e-01, 3.58438065e-01,\n",
              "       5.28999467e-01, 1.11515679e-04, 1.09389999e-02, 2.33890600e-03,\n",
              "       8.52904971e-03, 5.49029652e-02, 3.66745236e-03, 9.72713339e-01,\n",
              "       9.72024278e-01, 3.44170017e-03, 9.75802412e-01, 9.57783328e-01,\n",
              "       2.62305685e-02, 5.90575022e-02, 9.76412420e-01, 9.86676844e-01,\n",
              "       9.28082672e-04, 6.50477108e-03, 6.65386490e-02, 7.34311631e-02,\n",
              "       8.39457906e-03, 3.54078624e-02, 2.12040211e-02, 5.18641257e-02,\n",
              "       1.27405185e-01, 9.66036730e-01, 6.88092421e-02, 6.51659074e-03,\n",
              "       9.88128196e-01, 8.61806087e-03, 6.10094336e-02, 2.18784816e-03,\n",
              "       4.99384611e-02, 1.00570134e-02, 4.21118369e-01, 5.26752953e-04,\n",
              "       1.33538549e-02, 6.34379992e-03, 2.77852540e-02, 2.51889683e-04,\n",
              "       1.35644753e-02, 9.62043409e-01, 1.89020652e-01, 9.69245912e-01,\n",
              "       4.33264560e-02, 7.44977150e-03, 9.55743832e-01, 9.62270058e-01,\n",
              "       6.08299295e-02, 1.75777707e-02, 1.33010099e-01, 9.10962687e-01,\n",
              "       9.85557335e-01, 9.37644089e-01, 2.16101369e-01, 7.79839520e-03,\n",
              "       5.80589401e-01, 6.68668718e-01, 2.40598919e-01, 4.48896610e-03,\n",
              "       6.10917906e-02, 9.67095645e-01, 9.56763737e-01, 9.76815021e-01,\n",
              "       7.04728448e-03, 7.48938145e-02, 1.54621307e-03, 4.84183292e-03,\n",
              "       5.31560481e-04, 9.70861642e-01, 6.91009188e-04, 7.09016100e-03,\n",
              "       1.12110585e-02, 2.13066757e-02, 9.75783277e-01, 8.72487211e-01,\n",
              "       9.64447190e-01, 8.77781411e-01, 2.35958451e-04, 9.37533319e-01,\n",
              "       4.36755101e-04, 4.38470562e-02, 2.41956393e-03, 5.84464303e-03,\n",
              "       2.54643042e-02, 4.12588657e-02, 4.88648247e-02, 9.55520275e-03,\n",
              "       1.50639619e-02, 2.00984979e-02, 3.48383715e-02, 3.12405479e-03,\n",
              "       2.82611912e-02, 3.92684742e-01, 4.80424243e-03, 2.50183356e-04,\n",
              "       8.98247069e-01, 9.46748709e-01, 1.50559812e-02, 9.73811147e-01,\n",
              "       4.19251743e-01, 6.36211052e-03, 8.38211277e-01, 8.81690356e-01,\n",
              "       1.64932444e-01, 2.42053575e-02, 2.20804197e-02, 3.43699361e-03,\n",
              "       3.01919434e-02, 1.27033221e-02, 4.54129763e-03, 1.66515414e-02,\n",
              "       1.33721089e-03, 1.65789062e-03, 9.68501852e-01, 4.60791054e-02,\n",
              "       9.59066547e-01, 1.21613223e-02, 5.65249803e-03, 1.74917622e-03,\n",
              "       5.32513593e-04, 9.65987438e-01, 4.65906993e-04, 5.00666837e-02,\n",
              "       8.82987080e-01, 2.35766614e-02, 1.10238766e-03, 2.93160113e-02,\n",
              "       4.63830533e-03, 9.29486549e-01, 9.69023804e-01, 4.48851072e-02,\n",
              "       6.19557960e-03, 9.77856610e-01, 9.27645152e-01, 9.03464352e-04,\n",
              "       3.43514631e-02, 2.81768060e-03, 4.73060781e-03, 1.31317042e-02,\n",
              "       2.67512447e-02, 2.33552788e-02, 1.16751916e-02, 9.72742731e-01,\n",
              "       3.81751950e-02, 1.62010005e-02, 4.50839059e-03, 1.09120192e-03,\n",
              "       9.56605546e-01, 1.37496958e-01, 3.33258537e-03, 4.17799852e-03,\n",
              "       1.95675736e-02, 9.56389144e-01, 5.56201564e-02, 1.67630608e-02,\n",
              "       5.59358667e-02, 1.40069140e-01, 3.78736269e-02, 8.98681665e-01,\n",
              "       3.64280189e-02, 2.53398207e-02, 1.15677325e-03, 7.31526388e-01,\n",
              "       1.48856064e-02, 1.37535688e-01, 5.08593650e-01, 1.20909306e-03,\n",
              "       5.47981722e-03, 1.01496083e-03, 4.63904098e-01, 5.52388599e-01,\n",
              "       3.25264676e-04, 6.28559353e-01, 6.25936507e-03, 3.71309621e-03,\n",
              "       9.61268608e-03, 7.48901373e-04, 3.73981044e-02, 2.91312463e-04,\n",
              "       9.98865266e-01, 6.05784671e-03, 2.33083080e-02, 1.11705450e-01,\n",
              "       9.63843225e-01, 8.53552186e-01, 8.91467373e-01, 8.75676744e-02,\n",
              "       8.98286323e-01, 9.82552075e-01, 9.13935589e-01, 1.29980085e-02,\n",
              "       9.85851647e-01, 1.07213350e-03, 4.73231584e-02, 9.23254180e-01,\n",
              "       5.72422703e-01, 2.05622803e-01, 3.51107392e-03, 7.88528563e-02,\n",
              "       1.18375776e-02, 8.90269979e-01, 8.84370326e-01, 9.27775931e-01,\n",
              "       5.11832611e-03, 7.48760304e-03, 1.29491501e-01, 7.92762610e-01,\n",
              "       3.26618117e-03, 8.14446840e-01, 1.03455346e-01, 1.95148522e-03,\n",
              "       5.92495020e-03, 2.31590451e-03, 1.09609356e-03, 9.61361883e-03,\n",
              "       3.36502651e-03, 9.72558038e-01, 1.49174988e-02, 1.54468012e-01,\n",
              "       1.34024487e-02, 8.90734203e-01, 9.57566979e-01, 9.49889597e-01,\n",
              "       4.14891916e-02, 8.85276157e-03, 3.02287782e-03, 9.86810816e-01,\n",
              "       4.76350996e-01, 2.36517626e-01, 2.75011786e-01, 9.59233275e-01,\n",
              "       7.98105568e-01, 2.97453113e-02, 9.40782114e-01, 3.50962450e-03,\n",
              "       4.24928568e-02, 3.30277708e-03, 2.93314615e-03, 7.34678495e-01,\n",
              "       9.69804745e-01, 1.89575990e-02, 9.46428314e-01, 1.35181346e-03,\n",
              "       9.69380828e-01, 9.46540986e-01, 6.83937396e-02, 5.79677375e-03,\n",
              "       3.06928219e-01, 9.81676931e-01, 1.50890654e-02, 1.27068994e-02,\n",
              "       9.64533570e-01, 1.42044522e-03, 1.08315091e-03, 1.13371021e-03,\n",
              "       9.45160539e-02, 3.51932447e-02, 7.23847076e-04, 1.04467613e-03,\n",
              "       1.69554082e-03, 2.81161022e-01, 9.67858030e-01, 4.12930959e-01,\n",
              "       7.73077683e-01, 5.47601553e-02, 4.72955866e-03, 4.38868213e-03,\n",
              "       3.26494010e-01, 4.40150770e-01, 9.66563574e-01, 7.36116396e-03,\n",
              "       9.65774997e-01, 4.02030033e-01, 1.16213499e-02, 5.05398445e-03,\n",
              "       1.67888671e-01, 3.42048501e-01, 6.79338173e-02, 3.08846538e-01,\n",
              "       9.89572229e-01, 5.12056145e-02, 1.36270541e-02, 1.74427121e-01,\n",
              "       6.93301262e-03, 9.82826318e-01, 1.77233667e-02, 2.68780111e-01,\n",
              "       2.08860301e-02, 3.53072148e-01, 1.58255326e-02, 5.07461655e-03,\n",
              "       1.42521594e-02, 5.55599352e-03, 9.86025728e-01, 2.91996668e-03,\n",
              "       1.41141631e-02, 9.45489060e-01, 1.64396442e-02, 4.13826422e-02,\n",
              "       1.72689866e-01, 1.20857474e-01, 9.78382410e-03, 9.64083056e-01,\n",
              "       3.56811571e-01, 9.76856837e-01, 9.66741321e-01, 5.49262652e-03,\n",
              "       5.76959298e-01, 9.87760400e-03, 1.33399240e-01, 7.15993472e-01,\n",
              "       2.10131337e-02, 3.30443367e-03, 3.87276667e-02, 9.33983720e-01,\n",
              "       9.76490528e-01, 8.82562219e-04, 8.79855956e-01, 9.52880216e-01,\n",
              "       1.50709423e-01, 1.96584245e-03, 6.75301009e-03, 2.22332082e-03,\n",
              "       5.39857453e-02, 9.23975697e-01, 7.92848804e-03, 4.76178060e-02,\n",
              "       8.68564292e-01, 9.77707874e-01, 2.69011543e-01, 1.31874159e-02,\n",
              "       1.15549873e-01, 9.70762728e-01, 9.87426103e-01, 5.97119975e-04])"
            ]
          },
          "metadata": {},
          "execution_count": 19
        }
      ]
    }
  ]
}