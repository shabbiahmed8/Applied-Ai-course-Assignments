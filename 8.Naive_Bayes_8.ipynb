{
  "cells": [
    {
      "cell_type": "markdown",
      "metadata": {
        "id": "Dnubs-Nnb3cw"
      },
      "source": [
        "# Assignment 6: Apply NB"
      ]
    },
    {
      "cell_type": "code",
      "execution_count": 50,
      "metadata": {
        "id": "chpSjDaXm9KG"
      },
      "outputs": [],
      "source": [
        "import warnings\n",
        "warnings.filterwarnings(\"ignore\")\n",
        "\n",
        "import pandas as pd\n",
        "import numpy as np\n",
        "\n",
        "import matplotlib.pyplot as plt\n",
        "\n",
        "from sklearn.model_selection import train_test_split\n",
        "from sklearn.model_selection import GridSearchCV\n",
        "\n",
        "from sklearn.feature_extraction.text import TfidfVectorizer\n",
        "from sklearn.feature_extraction.text import CountVectorizer\n",
        "from sklearn.preprocessing import Normalizer\n",
        "\n",
        "from sklearn.metrics import confusion_matrix\n",
        "from sklearn.metrics import roc_curve, auc\n",
        "\n",
        "from sklearn.naive_bayes import MultinomialNB\n",
        "\n",
        "from scipy.sparse import hstack"
      ]
    },
    {
      "cell_type": "code",
      "source": [
        "from google.colab import drive\n",
        "drive.mount('/content/drive')"
      ],
      "metadata": {
        "colab": {
          "base_uri": "https://localhost:8080/"
        },
        "id": "rnqhPrWXP4LN",
        "outputId": "8d358172-178b-4e6d-a266-e05afb13dab8"
      },
      "execution_count": 51,
      "outputs": [
        {
          "output_type": "stream",
          "name": "stdout",
          "text": [
            "Drive already mounted at /content/drive; to attempt to forcibly remount, call drive.mount(\"/content/drive\", force_remount=True).\n"
          ]
        }
      ]
    },
    {
      "cell_type": "markdown",
      "metadata": {
        "id": "inzYCIaib3c3"
      },
      "source": [
        "<h1>2. Naive Bayes </h1>"
      ]
    },
    {
      "cell_type": "markdown",
      "metadata": {
        "id": "FYqCIxzFb3c5"
      },
      "source": [
        "## 1.1 Loading Data"
      ]
    },
    {
      "cell_type": "code",
      "execution_count": 52,
      "metadata": {
        "id": "dA1jknyqb3c_"
      },
      "outputs": [],
      "source": [
        "#make sure you are loading atleast 50k datapoints\n",
        "#you can work with features of preprocessed_data.csv for the assignment.\n",
        "# If you want to add more features, you can add. (This is purely optional, not mandatory)\n",
        "\n",
        "import pandas\n",
        "data = pandas.read_csv('/content/drive/MyDrive/Copy of preprocessed_data.csv')"
      ]
    },
    {
      "cell_type": "markdown",
      "metadata": {
        "id": "WtVV13Fyb3dH"
      },
      "source": [
        "##1.2 Splitting data into Train and cross validation(or test): Stratified Sampling"
      ]
    },
    {
      "cell_type": "code",
      "execution_count": 53,
      "metadata": {
        "id": "i-PyprDNb3dI"
      },
      "outputs": [],
      "source": [
        "# Split the dataset \n",
        "# 1) If you want to apply simple cross-validation, split the dataset into 3 parts (ie., train, CV and test sets)\n",
        "# 2) If you want to apply K-fold CV (or) GridSearch Cross Validation (or) Randomized Search Cross Validation, just split the dataset into 2 parts (ie., train and test sets)\n",
        "\n"
      ]
    },
    {
      "cell_type": "markdown",
      "source": [
        "###1.splitting"
      ],
      "metadata": {
        "id": "laOrPp_rRRe5"
      }
    },
    {
      "cell_type": "code",
      "source": [
        "y = data['project_is_approved'].values\n",
        "X = data.drop(['project_is_approved'], axis=1)\n",
        "X.columns"
      ],
      "metadata": {
        "colab": {
          "base_uri": "https://localhost:8080/"
        },
        "id": "9GAGumnwRQ3c",
        "outputId": "9e8b3f0e-4d1c-4fd4-a253-45bf31df91b1"
      },
      "execution_count": 54,
      "outputs": [
        {
          "output_type": "execute_result",
          "data": {
            "text/plain": [
              "Index(['school_state', 'teacher_prefix', 'project_grade_category',\n",
              "       'teacher_number_of_previously_posted_projects', 'clean_categories',\n",
              "       'clean_subcategories', 'essay', 'price'],\n",
              "      dtype='object')"
            ]
          },
          "metadata": {},
          "execution_count": 54
        }
      ]
    },
    {
      "cell_type": "code",
      "source": [
        "x_train, x_test, y_train, y_test = train_test_split(X, y, test_size=0.33, stratify=y)"
      ],
      "metadata": {
        "id": "j6spn59rUlHF"
      },
      "execution_count": 55,
      "outputs": []
    },
    {
      "cell_type": "markdown",
      "metadata": {
        "id": "EnZwVNULb3dO"
      },
      "source": [
        "<h2>1.3 Make Data Model Ready: encoding essay, and project_title</h2>"
      ]
    },
    {
      "cell_type": "code",
      "execution_count": 56,
      "metadata": {
        "id": "hpuUiU4-O5X3",
        "colab": {
          "base_uri": "https://localhost:8080/"
        },
        "outputId": "0dd6ec06-4e78-43ff-8ba5-580f264137db"
      },
      "outputs": [
        {
          "output_type": "stream",
          "name": "stdout",
          "text": [
            "\n"
          ]
        }
      ],
      "source": [
        "# Apply Bag of Words (BOW) vectorization on 'Preprocessed_Essay' \n",
        "# Apply Bag of Words (BOW) vectorization on 'Preprocessed_Title' (Optional)\n",
        "vectorizer =  CountVectorizer(ngram_range=(1,4),max_features=5000)\n",
        "x_train_essay_bow = vectorizer.fit_transform(x_train['essay'].values)\n",
        "x_test_essay_bow = vectorizer.transform(x_test['essay'].values)\n",
        "\n",
        "print()"
      ]
    },
    {
      "cell_type": "code",
      "source": [
        "print(x_train_essay_bow.shape, y_train.shape)\n",
        "print(x_test_essay_bow.shape, y_test.shape)"
      ],
      "metadata": {
        "colab": {
          "base_uri": "https://localhost:8080/"
        },
        "id": "6Wllhi9LgoMk",
        "outputId": "51526639-ac04-4fa2-b318-b05c6d5a9f19"
      },
      "execution_count": 57,
      "outputs": [
        {
          "output_type": "stream",
          "name": "stdout",
          "text": [
            "(73196, 5000) (73196,)\n",
            "(36052, 5000) (36052,)\n"
          ]
        }
      ]
    },
    {
      "cell_type": "code",
      "execution_count": 58,
      "metadata": {
        "id": "cmB1qMMyO5X3"
      },
      "outputs": [],
      "source": [
        "# Apply TF-IDF vectorization on 'Preprocessed_Essay' \n",
        "# Apply TF-IDF vectorization on 'Preprocessed_Title' (Optional)\n",
        "tf_idf_vec = TfidfVectorizer(ngram_range=(1,4),max_features=5000)\n",
        "x_train_essay_tfidf = tf_idf_vec.fit_transform(x_train['essay'].values)\n",
        "x_test_essay_tfidf = tf_idf_vec.transform(x_test['essay'].values)"
      ]
    },
    {
      "cell_type": "markdown",
      "metadata": {
        "id": "bGy86kgHb3dX"
      },
      "source": [
        "##<h2>1.4 Make Data Model Ready: encoding numerical, categorical features</h2>"
      ]
    },
    {
      "cell_type": "code",
      "execution_count": 59,
      "metadata": {
        "id": "EfXkofX1b3da"
      },
      "outputs": [],
      "source": [
        "# Apply One-Hot Encoding on the categorical features either using OneHotEncoder() (or) CountVectorizer(binary=True)\n",
        "# Apply Normalization on the numerical features using Normalizer().\n"
      ]
    },
    {
      "cell_type": "markdown",
      "source": [
        "###1.4.1 OneHotEncoding schoolstate"
      ],
      "metadata": {
        "id": "UUyMvrHP0ScC"
      }
    },
    {
      "cell_type": "code",
      "source": [
        "enc = CountVectorizer()\n",
        "x_train_state_ohe = enc.fit_transform(x_train['school_state'].values)\n",
        "x_test_state_ohe = enc.transform(x_test['school_state'].values)\n",
        "\n",
        "print(\"After vectorizations\")\n",
        "print(x_train_state_ohe.shape, y_train.shape)\n",
        "print(x_test_state_ohe.shape, y_test.shape)\n",
        "print(enc.get_feature_names())\n",
        "print(\"=\"*100)\n",
        "state_features = enc.get_feature_names()"
      ],
      "metadata": {
        "colab": {
          "base_uri": "https://localhost:8080/"
        },
        "id": "O7TSiJ9H2kGb",
        "outputId": "2547c069-e890-4127-dae7-3963ceafc2d8"
      },
      "execution_count": 60,
      "outputs": [
        {
          "output_type": "stream",
          "name": "stdout",
          "text": [
            "After vectorizations\n",
            "(73196, 51) (73196,)\n",
            "(36052, 51) (36052,)\n",
            "['ak', 'al', 'ar', 'az', 'ca', 'co', 'ct', 'dc', 'de', 'fl', 'ga', 'hi', 'ia', 'id', 'il', 'in', 'ks', 'ky', 'la', 'ma', 'md', 'me', 'mi', 'mn', 'mo', 'ms', 'mt', 'nc', 'nd', 'ne', 'nh', 'nj', 'nm', 'nv', 'ny', 'oh', 'ok', 'or', 'pa', 'ri', 'sc', 'sd', 'tn', 'tx', 'ut', 'va', 'vt', 'wa', 'wi', 'wv', 'wy']\n",
            "====================================================================================================\n"
          ]
        }
      ]
    },
    {
      "cell_type": "markdown",
      "source": [
        "###1.4.2 Onehotencoding teacher prefix"
      ],
      "metadata": {
        "id": "EQeIS2oLtMIj"
      }
    },
    {
      "cell_type": "code",
      "source": [
        "x_train_teacher_prefix_ohe = enc.fit_transform(x_train['teacher_prefix'].values)\n",
        "x_test_teacher_prefix_ohe = enc.transform(x_test['teacher_prefix'].values)\n",
        "\n",
        "print(\"After vectorizations\")\n",
        "print(x_train_teacher_prefix_ohe.shape, y_train.shape)\n",
        "print(x_test_teacher_prefix_ohe.shape, y_test.shape)\n",
        "print(enc.get_feature_names())\n",
        "print(\"=\"*100)\n",
        "teacher_prefix_features = enc.get_feature_names()"
      ],
      "metadata": {
        "colab": {
          "base_uri": "https://localhost:8080/"
        },
        "id": "lFs-GcEps9UK",
        "outputId": "20409607-9157-443c-e664-f0088a1eab1a"
      },
      "execution_count": 61,
      "outputs": [
        {
          "output_type": "stream",
          "name": "stdout",
          "text": [
            "After vectorizations\n",
            "(73196, 5) (73196,)\n",
            "(36052, 5) (36052,)\n",
            "['dr', 'mr', 'mrs', 'ms', 'teacher']\n",
            "====================================================================================================\n"
          ]
        }
      ]
    },
    {
      "cell_type": "markdown",
      "source": [
        "###1.4.3 Onehotencoding project_grade_category"
      ],
      "metadata": {
        "id": "3T8dFwdzttjm"
      }
    },
    {
      "cell_type": "code",
      "source": [
        "x_train_pgc_ohe = enc.fit_transform(x_train['project_grade_category'].values)\n",
        "x_test_pgc_ohe = enc.transform(x_test['project_grade_category'].values)\n",
        "\n",
        "print(\"After vectorizations\")\n",
        "print(x_train_pgc_ohe.shape, y_train.shape)\n",
        "print(x_test_pgc_ohe.shape, y_test.shape)\n",
        "print(enc.get_feature_names())\n",
        "print(\"=\"*100)\n",
        "project_grade_features = enc.get_feature_names()"
      ],
      "metadata": {
        "colab": {
          "base_uri": "https://localhost:8080/"
        },
        "id": "C3ZIQYdetsca",
        "outputId": "4e09041b-4427-4d8e-d0a0-a0745b1d9660"
      },
      "execution_count": 62,
      "outputs": [
        {
          "output_type": "stream",
          "name": "stdout",
          "text": [
            "After vectorizations\n",
            "(73196, 4) (73196,)\n",
            "(36052, 4) (36052,)\n",
            "['grades_3_5', 'grades_6_8', 'grades_9_12', 'grades_prek_2']\n",
            "====================================================================================================\n"
          ]
        }
      ]
    },
    {
      "cell_type": "markdown",
      "source": [
        "###1.4.4 clean_categories"
      ],
      "metadata": {
        "id": "WQ5YTNGBusXf"
      }
    },
    {
      "cell_type": "code",
      "source": [
        "x_train_clean_cat_ohe = enc.fit_transform(x_train['clean_categories'].values)\n",
        "x_test_clean_cat_ohe = enc.transform(x_test['clean_categories'].values)\n",
        "\n",
        "print(\"After vectorizations\")\n",
        "print(x_train_clean_cat_ohe.shape, y_train.shape)\n",
        "print(x_test_clean_cat_ohe.shape, y_test.shape)\n",
        "print(enc.get_feature_names())\n",
        "print(\"=\"*100)\n",
        "clean_cat_faetures = enc.get_feature_names()"
      ],
      "metadata": {
        "colab": {
          "base_uri": "https://localhost:8080/"
        },
        "id": "e2OcL7Rnu2Nj",
        "outputId": "2684f6ae-ba9d-4af1-90e9-b9505ac9b29e"
      },
      "execution_count": 63,
      "outputs": [
        {
          "output_type": "stream",
          "name": "stdout",
          "text": [
            "After vectorizations\n",
            "(73196, 9) (73196,)\n",
            "(36052, 9) (36052,)\n",
            "['appliedlearning', 'care_hunger', 'health_sports', 'history_civics', 'literacy_language', 'math_science', 'music_arts', 'specialneeds', 'warmth']\n",
            "====================================================================================================\n"
          ]
        }
      ]
    },
    {
      "cell_type": "markdown",
      "source": [
        "###1.4.5 Onehotencoding clean_subcategories"
      ],
      "metadata": {
        "id": "0gWMnrh4vQFp"
      }
    },
    {
      "cell_type": "code",
      "source": [
        "x_train_clean_subcat_ohe = enc.fit_transform(x_train['clean_subcategories'].values)\n",
        "x_test_clean_subcat_ohe = enc.transform(x_test['clean_subcategories'].values)\n",
        "\n",
        "print(\"After vectorizations\")\n",
        "print(x_train_clean_subcat_ohe.shape, y_train.shape)\n",
        "print(x_test_clean_subcat_ohe.shape, y_test.shape)\n",
        "print(enc.get_feature_names())\n",
        "print(\"=\"*100)\n",
        "clean_subcat_features = enc.get_feature_names()"
      ],
      "metadata": {
        "colab": {
          "base_uri": "https://localhost:8080/"
        },
        "id": "3sugRBEtvPFo",
        "outputId": "fc03e0ca-3cae-47db-cb60-6ad8ba28a964"
      },
      "execution_count": 64,
      "outputs": [
        {
          "output_type": "stream",
          "name": "stdout",
          "text": [
            "After vectorizations\n",
            "(73196, 30) (73196,)\n",
            "(36052, 30) (36052,)\n",
            "['appliedsciences', 'care_hunger', 'charactereducation', 'civics_government', 'college_careerprep', 'communityservice', 'earlydevelopment', 'economics', 'environmentalscience', 'esl', 'extracurricular', 'financialliteracy', 'foreignlanguages', 'gym_fitness', 'health_lifescience', 'health_wellness', 'history_geography', 'literacy', 'literature_writing', 'mathematics', 'music', 'nutritioneducation', 'other', 'parentinvolvement', 'performingarts', 'socialsciences', 'specialneeds', 'teamsports', 'visualarts', 'warmth']\n",
            "====================================================================================================\n"
          ]
        }
      ]
    },
    {
      "cell_type": "markdown",
      "source": [
        "###1.4.6 Encoding price"
      ],
      "metadata": {
        "id": "BLqrNS3JwzKR"
      }
    },
    {
      "cell_type": "code",
      "source": [
        "normalizer = Normalizer()\n",
        "\n",
        "normalizer.fit(x_train['price'].values.reshape(-1, 1))\n",
        "\n",
        "x_train_price_norm = normalizer.transform(x_train['price'].values.reshape(-1,1))\n",
        "\n",
        "x_test_price_norm = normalizer.transform(x_test['price'].values.reshape(-1,1))\n",
        "\n",
        "\n",
        "\n",
        "print(\"After vectorizations\")\n",
        "print(x_train_price_norm.shape, y_train.shape)\n",
        "\n",
        "print(x_test_price_norm.shape, y_test.shape)\n",
        "print(\"=\"*100)"
      ],
      "metadata": {
        "colab": {
          "base_uri": "https://localhost:8080/"
        },
        "id": "B1pYYWfIxECE",
        "outputId": "dc3122ca-ad01-448b-a3af-33dec645236f"
      },
      "execution_count": 65,
      "outputs": [
        {
          "output_type": "stream",
          "name": "stdout",
          "text": [
            "After vectorizations\n",
            "(73196, 1) (73196,)\n",
            "(36052, 1) (36052,)\n",
            "====================================================================================================\n"
          ]
        }
      ]
    },
    {
      "cell_type": "markdown",
      "metadata": {
        "id": "yYHPYadYb3dh"
      },
      "source": [
        "##<h2>1.5 Appling NB on different kind of featurization as mentioned in the instructions</h2>\n",
        "\n",
        "<br>Apply NB on different kind of featurization as mentioned in the instructions\n",
        "<br> For Every model that you work on make sure you do the step 2 and step 3 of instrucations"
      ]
    },
    {
      "cell_type": "markdown",
      "metadata": {
        "id": "DNwqilFxb3di"
      },
      "source": [
        "### Set 1"
      ]
    },
    {
      "cell_type": "code",
      "source": [
        "x_tr = hstack((x_train_essay_bow, x_train_state_ohe, x_train_teacher_prefix_ohe, x_train_pgc_ohe,x_train_clean_cat_ohe,x_train_clean_subcat_ohe, x_train_price_norm)).tocsr()\n",
        "x_te = hstack((x_test_essay_bow, x_test_state_ohe, x_test_teacher_prefix_ohe, x_test_pgc_ohe,x_test_clean_cat_ohe,x_test_clean_subcat_ohe, x_test_price_norm)).tocsr()\n",
        "\n",
        "print(\"Final Data matrix\")\n",
        "print(x_tr.shape, y_train.shape)\n",
        "print(x_te.shape, y_test.shape)\n",
        "print(\"=\"*100)"
      ],
      "metadata": {
        "colab": {
          "base_uri": "https://localhost:8080/"
        },
        "id": "0D2p85ri0VI6",
        "outputId": "6577ddfc-8943-4e95-f093-6edeaae6da04"
      },
      "execution_count": 66,
      "outputs": [
        {
          "output_type": "stream",
          "name": "stdout",
          "text": [
            "Final Data matrix\n",
            "(73196, 5100) (73196,)\n",
            "(36052, 5100) (36052,)\n",
            "====================================================================================================\n"
          ]
        }
      ]
    },
    {
      "cell_type": "code",
      "execution_count": 67,
      "metadata": {
        "id": "8xUSTO0AO5X5",
        "colab": {
          "base_uri": "https://localhost:8080/",
          "height": 933
        },
        "outputId": "b269015d-88bb-4bdc-c8eb-4312e7f821c5"
      },
      "outputs": [
        {
          "output_type": "display_data",
          "data": {
            "text/plain": [
              "<Figure size 432x288 with 1 Axes>"
            ],
            "image/png": "[encoded data removed]"
          },
          "metadata": {
            "needs_background": "light"
          }
        },
        {
          "output_type": "stream",
          "name": "stdout",
          "text": [
            "   mean_fit_time  std_fit_time  mean_score_time  std_score_time param_alpha  \\\n",
            "0       0.093666      0.001192         0.031447        0.000992       0.025   \n",
            "1       0.086597      0.000995         0.033796        0.003352        0.05   \n",
            "2       0.090236      0.001151         0.032051        0.001214         0.1   \n",
            "3       0.087742      0.001687         0.033352        0.002501         0.2   \n",
            "4       0.087839      0.000862         0.031850        0.000748         0.4   \n",
            "5       0.089468      0.001611         0.032614        0.002044           1   \n",
            "6       0.088234      0.001552         0.031284        0.000686          10   \n",
            "\n",
            "             params  split0_test_score  split1_test_score  split2_test_score  \\\n",
            "0  {'alpha': 0.025}           0.690821           0.689235           0.689551   \n",
            "1   {'alpha': 0.05}           0.690811           0.689222           0.689541   \n",
            "2    {'alpha': 0.1}           0.690786           0.689197           0.689522   \n",
            "3    {'alpha': 0.2}           0.690745           0.689147           0.689480   \n",
            "4    {'alpha': 0.4}           0.690664           0.689044           0.689397   \n",
            "5      {'alpha': 1}           0.690420           0.688750           0.689159   \n",
            "6     {'alpha': 10}           0.686587           0.684153           0.685466   \n",
            "\n",
            "   mean_test_score  std_test_score  rank_test_score  split0_train_score  \\\n",
            "0         0.689869        0.000685                1            0.722055   \n",
            "1         0.689858        0.000686                2            0.722039   \n",
            "2         0.689835        0.000686                3            0.722006   \n",
            "3         0.689791        0.000688                4            0.721942   \n",
            "4         0.689702        0.000695                5            0.721816   \n",
            "5         0.689443        0.000711                6            0.721436   \n",
            "6         0.685402        0.000995                7            0.715741   \n",
            "\n",
            "   split1_train_score  split2_train_score  mean_train_score  std_train_score  \n",
            "0            0.722694            0.726336          0.723695         0.001886  \n",
            "1            0.722679            0.726321          0.723680         0.001886  \n",
            "2            0.722649            0.726291          0.723649         0.001887  \n",
            "3            0.722589            0.726232          0.723588         0.001888  \n",
            "4            0.722469            0.726114          0.723466         0.001891  \n",
            "5            0.722107            0.725750          0.723098         0.001896  \n",
            "6            0.716647            0.720260          0.717549         0.001952  \n"
          ]
        }
      ],
      "source": [
        "# Perform Hyperparameter Tuning.\n",
        "# Plot the training and the CV AUC scores, for different values of 'alpha', using a 2D line plot\n",
        "naive = MultinomialNB()\n",
        "parameters = {'alpha': [0.025,0.05,0.1,0.2,0.4,1,10]}\n",
        "cls = GridSearchCV(naive, parameters,cv=3,scoring ='roc_auc',return_train_score= True)\n",
        "cls.fit(x_tr,y_train)\n",
        "\n",
        "results = pd.DataFrame.from_dict(cls.cv_results_)\n",
        "\n",
        "train_auc= results['mean_train_score']\n",
        "train_auc_std= results['std_train_score']\n",
        "cv_auc = results['mean_test_score'] \n",
        "cv_auc_std= results['std_test_score']\n",
        "alpha_nb =  results['param_alpha']\n",
        "\n",
        "plt.plot(alpha_nb,train_auc,label='Trian AUC')\n",
        "\n",
        "plt.plot(alpha_nb,cv_auc,label='CV AUC')\n",
        "\n",
        "plt.scatter(alpha_nb,train_auc,label='Train AUC points')\n",
        "plt.scatter(alpha_nb,cv_auc,label='CV AUC points')\n",
        "\n",
        "plt.legend()\n",
        "plt.xlabel(\"Alpha: hyperparameter\")\n",
        "plt.ylabel(\"AUC\")\n",
        "plt.title('Hyper parameter Vs AUC plot')\n",
        "plt.grid()\n",
        "plt.show()\n",
        "\n",
        "print(results)"
      ]
    },
    {
      "cell_type": "markdown",
      "source": [],
      "metadata": {
        "id": "uwSpZZvBJ-dt"
      }
    },
    {
      "cell_type": "code",
      "execution_count": 68,
      "metadata": {
        "id": "k9sxG2RIO5X5"
      },
      "outputs": [],
      "source": [
        "# Obtain the optimal value for 'alpha' and using the obtained optimal 'alpha' value, fit a multinomial naive bayes model, on the train data,\n",
        "# Note: If you have split the datase into 3 parts (ie., train, cv and test sets) in the beginning, then the training datafor this final model would be (train set + cv set)\n",
        "# Make class label and probability predictions on the train and test data.\n",
        "Best_alpha_1 = 0.025\n",
        "classifier = MultinomialNB(alpha = Best_alpha_1)\n",
        "classifier.fit(x_tr,y_train)\n",
        "\n",
        "y_train_pred = classifier.predict_proba(x_tr)\n",
        "y_test_pred = classifier.predict_proba(x_te)\n",
        "\n",
        "train_fpr,train_tpr, tr_thresholds = roc_curve(y_train,y_train_pred[:,1])\n",
        "test_fpr, test_tpr, te_thresholds = roc_curve(y_test, y_test_pred[:,1])"
      ]
    },
    {
      "cell_type": "code",
      "execution_count": 69,
      "metadata": {
        "id": "QPxvlfQ6O5X6",
        "colab": {
          "base_uri": "https://localhost:8080/",
          "height": 295
        },
        "outputId": "d0d95303-9e5b-4216-ad0f-296474f1aabd"
      },
      "outputs": [
        {
          "output_type": "display_data",
          "data": {
            "text/plain": [
              "<Figure size 432x288 with 1 Axes>"
            ],
            "image/png": "[encoded data removed]"
          },
          "metadata": {
            "needs_background": "light"
          }
        }
      ],
      "source": [
        "# Plot the ROC-AUC curves using the probability predictions made on train and test data.\n",
        "plt.plot(train_fpr, train_tpr, label=\"train AUC =\"+str(auc(train_fpr, train_tpr)))\n",
        "plt.plot(test_fpr, test_tpr, label=\"test AUC =\"+str(auc(test_fpr, test_tpr)))\n",
        "plt.legend()\n",
        "plt.xlabel(\"fpr\")\n",
        "plt.ylabel(\"tpr\")\n",
        "plt.title(\"ERROR PLOTS\")\n",
        "plt.grid()\n",
        "plt.show()"
      ]
    },
    {
      "cell_type": "code",
      "source": [
        "def find_best_threshold(threshould, fpr, tpr):\n",
        "    t = threshould[np.argmax(tpr*(1-fpr))]\n",
        "    # (tpr*(1-fpr)) will be maximum if your fpr is very low and tpr is very high\n",
        "    print(\"the maximum value of tpr*(1-fpr)\", max(tpr*(1-fpr)), \"for threshold\", np.round(t,3))\n",
        "    return t\n",
        "\n",
        "def predict_with_best_t(proba, threshould):\n",
        "    predictions = []\n",
        "    for i in proba:\n",
        "        if i>=threshould:\n",
        "            predictions.append(1)\n",
        "        else:\n",
        "            predictions.append(0)\n",
        "    return predictions"
      ],
      "metadata": {
        "id": "qmpklIRPO7qr"
      },
      "execution_count": 70,
      "outputs": []
    },
    {
      "cell_type": "code",
      "execution_count": 71,
      "metadata": {
        "id": "079CEZJ9O5X6",
        "colab": {
          "base_uri": "https://localhost:8080/"
        },
        "outputId": "90c62780-2ca9-4c51-b7df-cbae06005bfe"
      },
      "outputs": [
        {
          "output_type": "stream",
          "name": "stdout",
          "text": [
            "the maximum value of tpr*(1-fpr) 0.43959300055237344 for threshold 0.841\n",
            "Train confusion matrix\n",
            "[[ 7467  3616]\n",
            " [21586 40527]]\n",
            "Test confusion matrix\n",
            "[[ 3513  1946]\n",
            " [10806 19787]]\n"
          ]
        }
      ],
      "source": [
        "# Pick the best threshold among the probability estimates, such that it has to yield maximum value for TPR*(1-FPR)\n",
        "# Plot the confusion matrices(each for train and test data) afer encoding the predicted class labels, on the basis of the best threshod probability estimate.\n",
        "best_t = find_best_threshold(tr_thresholds,train_fpr,train_tpr)\n",
        "print(\"Train confusion matrix\")\n",
        "print(confusion_matrix(y_train, predict_with_best_t(y_train_pred[:,1], best_t)))\n",
        "print(\"Test confusion matrix\")\n",
        "print(confusion_matrix(y_test, predict_with_best_t(y_test_pred[:,1], best_t)))"
      ]
    },
    {
      "cell_type": "markdown",
      "metadata": {
        "id": "dpivszwWO5X6"
      },
      "source": [
        "### Set 2"
      ]
    },
    {
      "cell_type": "code",
      "source": [
        "x_tr = hstack((x_train_essay_tfidf, x_train_state_ohe, x_train_teacher_prefix_ohe, x_train_pgc_ohe,x_train_clean_cat_ohe,x_train_clean_subcat_ohe, x_train_price_norm)).tocsr()\n",
        "x_te = hstack((x_test_essay_tfidf, x_test_state_ohe, x_test_teacher_prefix_ohe, x_test_pgc_ohe,x_test_clean_cat_ohe,x_test_clean_subcat_ohe, x_test_price_norm)).tocsr()\n",
        "\n",
        "print(\"Final Data matrix\")\n",
        "print(x_tr.shape, y_train.shape)\n",
        "print(x_te.shape, y_test.shape)\n",
        "print(\"=\"*100)"
      ],
      "metadata": {
        "colab": {
          "base_uri": "https://localhost:8080/"
        },
        "id": "0XunCWk4Yid2",
        "outputId": "6ee14355-1884-4ce3-fae6-77abd86141c6"
      },
      "execution_count": 72,
      "outputs": [
        {
          "output_type": "stream",
          "name": "stdout",
          "text": [
            "Final Data matrix\n",
            "(73196, 5100) (73196,)\n",
            "(36052, 5100) (36052,)\n",
            "====================================================================================================\n"
          ]
        }
      ]
    },
    {
      "cell_type": "code",
      "execution_count": 73,
      "metadata": {
        "id": "zXxsUf66O5X6",
        "colab": {
          "base_uri": "https://localhost:8080/",
          "height": 787
        },
        "outputId": "3920e70e-7775-4af1-a273-c10880f42ea8"
      },
      "outputs": [
        {
          "output_type": "display_data",
          "data": {
            "text/plain": [
              "<Figure size 432x288 with 1 Axes>"
            ],
            "image/png": "[encoded data removed]"
          },
          "metadata": {
            "needs_background": "light"
          }
        },
        {
          "output_type": "stream",
          "name": "stdout",
          "text": [
            "   mean_fit_time  std_fit_time  mean_score_time  std_score_time param_alpha  \\\n",
            "0       0.091036      0.002191         0.032020        0.000774       0.025   \n",
            "1       0.088558      0.001098         0.031215        0.000163        0.05   \n",
            "2       0.089994      0.003485         0.032546        0.001015         0.1   \n",
            "3       0.091122      0.006288         0.031018        0.000187         0.2   \n",
            "4       0.090046      0.001873         0.031253        0.000494         0.4   \n",
            "\n",
            "             params  split0_test_score  split1_test_score  split2_test_score  \\\n",
            "0  {'alpha': 0.025}           0.671612           0.663406           0.675918   \n",
            "1   {'alpha': 0.05}           0.671440           0.663216           0.675764   \n",
            "2    {'alpha': 0.1}           0.671087           0.662842           0.675450   \n",
            "3    {'alpha': 0.2}           0.670411           0.662097           0.674811   \n",
            "4    {'alpha': 0.4}           0.669043           0.660614           0.673559   \n",
            "\n",
            "   mean_test_score  std_test_score  rank_test_score  split0_train_score  \\\n",
            "0         0.670312        0.005190                1            0.703851   \n",
            "1         0.670140        0.005204                2            0.703617   \n",
            "2         0.669793        0.005228                3            0.703151   \n",
            "3         0.669106        0.005272                4            0.702233   \n",
            "4         0.667739        0.005365                5            0.700424   \n",
            "\n",
            "   split1_train_score  split2_train_score  mean_train_score  std_train_score  \n",
            "0            0.702052            0.707991          0.704631         0.002486  \n",
            "1            0.701831            0.707764          0.704404         0.002486  \n",
            "2            0.701380            0.707309          0.703947         0.002485  \n",
            "3            0.700492            0.706401          0.703042         0.002479  \n",
            "4            0.698743            0.704596          0.701255         0.002461  \n"
          ]
        }
      ],
      "source": [
        "# Perform Hyperparameter Tuning.\n",
        "# Plot the training and the CV AUC scores, for different values of 'alpha', using a 2D line plot\n",
        "naive = MultinomialNB()\n",
        "parameters = {'alpha': [0.025,0.05,0.1,0.2,0.4]}\n",
        "cls = GridSearchCV(naive, parameters,cv=3,scoring ='roc_auc',return_train_score= True)\n",
        "cls.fit(x_tr,y_train)\n",
        "\n",
        "results = pd.DataFrame.from_dict(cls.cv_results_)\n",
        "\n",
        "train_auc= results['mean_train_score']\n",
        "train_auc_std= results['std_train_score']\n",
        "cv_auc = results['mean_test_score'] \n",
        "cv_auc_std= results['std_test_score']\n",
        "alpha_nb =  results['param_alpha']\n",
        "\n",
        "plt.plot(alpha_nb,train_auc,label='Trian AUC')\n",
        "\n",
        "plt.plot(alpha_nb,cv_auc,label='CV AUC')\n",
        "\n",
        "plt.scatter(alpha_nb,train_auc,label='Train AUC points')\n",
        "plt.scatter(alpha_nb,cv_auc,label='CV AUC points')\n",
        "\n",
        "plt.legend()\n",
        "plt.xlabel(\"Alpha: hyperparameter\")\n",
        "plt.ylabel(\"AUC\")\n",
        "plt.title('Hyper parameter Vs AUC plot')\n",
        "plt.grid()\n",
        "plt.show()\n",
        "\n",
        "print(results)\n"
      ]
    },
    {
      "cell_type": "code",
      "execution_count": 74,
      "metadata": {
        "id": "Jqv6chXqO5X7"
      },
      "outputs": [],
      "source": [
        "# Obtain the optimal value for 'alpha' and using the obtained optimal 'alpha' value, fit a multinomial naive bayes model, on the train data,\n",
        "# Note: If you have split the datase into 3 parts (ie., train, cv and test sets) in the beginning, then the training datafor this final model would be (train set + cv set)\n",
        "# Make class label and probability predictions on the train and test data.\n",
        "Best_alpha_2 = 0.025\n",
        "classifier = MultinomialNB(alpha = Best_alpha_2)\n",
        "classifier.fit(x_tr,y_train)\n",
        "\n",
        "\n",
        "y_train_pred = classifier.predict_proba(x_tr)\n",
        "y_test_pred = classifier.predict_proba(x_te)\n",
        "\n",
        "train_fpr,train_tpr, tr_thresholds = roc_curve(y_train,y_train_pred[:,1])\n",
        "test_fpr, test_tpr, te_thresholds = roc_curve(y_test, y_test_pred[:,1])\n"
      ]
    },
    {
      "cell_type": "code",
      "execution_count": 75,
      "metadata": {
        "id": "l49iTWMBO5X7",
        "colab": {
          "base_uri": "https://localhost:8080/",
          "height": 295
        },
        "outputId": "37e37789-9d42-4b45-bd45-a1a7030296f3"
      },
      "outputs": [
        {
          "output_type": "display_data",
          "data": {
            "text/plain": [
              "<Figure size 432x288 with 1 Axes>"
            ],
            "image/png": "[encoded data removed]"
          },
          "metadata": {
            "needs_background": "light"
          }
        }
      ],
      "source": [
        "# Plot the ROC-AUC curves using the probability predictions made on train and test data.\n",
        "plt.plot(train_fpr, train_tpr, label=\"train AUC =\"+str(auc(train_fpr, train_tpr)))\n",
        "plt.plot(test_fpr, test_tpr, label=\"test AUC =\"+str(auc(test_fpr, test_tpr)))\n",
        "plt.legend()\n",
        "plt.xlabel(\"fpr\")\n",
        "plt.ylabel(\"tpr\")\n",
        "plt.title(\"ERROR PLOTS\")\n",
        "plt.grid()\n",
        "plt.show()"
      ]
    },
    {
      "cell_type": "code",
      "execution_count": 76,
      "metadata": {
        "id": "t70YAPG5O5X7",
        "colab": {
          "base_uri": "https://localhost:8080/"
        },
        "outputId": "6bfb2081-cd2e-42b7-c5da-c6d5d9074ce4"
      },
      "outputs": [
        {
          "output_type": "stream",
          "name": "stdout",
          "text": [
            "the maximum value of tpr*(1-fpr) 0.4142411410297641 for threshold 0.85\n",
            "Train confusion matrix\n",
            "[[ 7290  3793]\n",
            " [22996 39117]]\n",
            "Test confusion matrix\n",
            "[[ 3469  1990]\n",
            " [11512 19081]]\n"
          ]
        }
      ],
      "source": [
        "# Pick the best threshold among the probability estimates, such that it has to yield maximum value for TPR*(1-FPR)\n",
        "# Plot the confusion matrices(each for train and test data) afer encoding the predicted class labels, on the basis of the best threshod probability estimate.\n",
        "best_t = find_best_threshold(tr_thresholds,train_fpr,train_tpr)\n",
        "print(\"Train confusion matrix\")\n",
        "print(confusion_matrix(y_train, predict_with_best_t(y_train_pred[:,1], best_t)))\n",
        "print(\"Test confusion matrix\")\n",
        "print(confusion_matrix(y_test, predict_with_best_t(y_test_pred[:,1], best_t)))"
      ]
    },
    {
      "cell_type": "markdown",
      "source": [
        "####Top 20 features"
      ],
      "metadata": {
        "id": "3yGKJTHHc7hp"
      }
    },
    {
      "cell_type": "code",
      "execution_count": 77,
      "metadata": {
        "id": "2YpWGUATO5X8"
      },
      "outputs": [],
      "source": [
        "# Either from set 1 (or) set 2, print the names of the top 20 features associated with the positive and negative classes each. (You have to print the names of the features, but not the indexes)\n",
        "features = tf_idf_vec.get_feature_names()+ state_features+teacher_prefix_features+project_grade_features+clean_cat_faetures+clean_subcat_features+['price_resources']\n",
        "feature_prob = classifier.feature_log_prob_"
      ]
    },
    {
      "cell_type": "code",
      "source": [
        "print(type(features),len(features),feature_prob.shape)"
      ],
      "metadata": {
        "colab": {
          "base_uri": "https://localhost:8080/"
        },
        "id": "2xA1CL0ykOkN",
        "outputId": "38423e25-f0ed-4c90-9dfd-1c5560f47dbf"
      },
      "execution_count": 78,
      "outputs": [
        {
          "output_type": "stream",
          "name": "stdout",
          "text": [
            "<class 'list'> 5100 (2, 5100)\n"
          ]
        }
      ]
    },
    {
      "cell_type": "code",
      "source": [
        "negative_prob = list(map(abs,feature_prob[0]))\n",
        "positive_prob = list(map(abs,feature_prob[1]))"
      ],
      "metadata": {
        "id": "9fOVkN1EzPqh"
      },
      "execution_count": 79,
      "outputs": []
    },
    {
      "cell_type": "code",
      "source": [
        "pos_df= pd.DataFrame(zip(features,positive_prob))\n",
        "top_20_pos_features =pos_df.sort_values(1,ascending=False)[:20][0].values\n",
        "top_20_pos_features"
      ],
      "metadata": {
        "colab": {
          "base_uri": "https://localhost:8080/"
        },
        "id": "E3Kwlq0S0plm",
        "outputId": "0acf925b-c0dc-46c2-941e-027e988b500c"
      },
      "execution_count": 80,
      "outputs": [
        {
          "output_type": "execute_result",
          "data": {
            "text/plain": [
              "array(['dr', 'many us see', 'even earliest',\n",
              "       'however certainly control experience',\n",
              "       'lives however certainly control', 'life experiences many',\n",
              "       'learners continue path academic', 'creative positive way hopeful',\n",
              "       'getting ahead', 'experiences many us',\n",
              "       'home lives however certainly', 'however certainly control',\n",
              "       'school day by', 'lives however certainly', 'life may',\n",
              "       'inspire even', 'by creative positive way', 'prevent getting',\n",
              "       'certainly control experience school', 'by creative positive'],\n",
              "      dtype=object)"
            ]
          },
          "metadata": {},
          "execution_count": 80
        }
      ]
    },
    {
      "cell_type": "code",
      "source": [
        "neg_df= pd.DataFrame(zip(features,negative_prob))\n",
        "top_20_neg_features =neg_df.sort_values(1,ascending=False)[:20][0].values\n",
        "top_20_neg_features"
      ],
      "metadata": {
        "colab": {
          "base_uri": "https://localhost:8080/"
        },
        "id": "O44OHfI84Msq",
        "outputId": "c3c426ed-aa34-4968-ac79-96efe2e0d4f3"
      },
      "execution_count": 81,
      "outputs": [
        {
          "output_type": "execute_result",
          "data": {
            "text/plain": [
              "array(['the wobble', 'chromebooks allow', 'chairs help', 'these stools',\n",
              "       'chairs allow', 'the chromebooks', 'stools allow', 'ipad minis',\n",
              "       'subscription', 'minis', 'graphing', 'chromebooks would', 'sturdy',\n",
              "       'the headphones', 'balance balls', 'these chairs',\n",
              "       'these chromebooks', 'chromebooks students', 'bouncy bands',\n",
              "       'chromebooks classroom'], dtype=object)"
            ]
          },
          "metadata": {},
          "execution_count": 81
        }
      ]
    },
    {
      "cell_type": "markdown",
      "metadata": {
        "id": "lS9hIHdib3dp"
      },
      "source": [
        "#<h1>3. Summary</h1>\n",
        "\n",
        "<br> as mentioned in the step 5 of instructions"
      ]
    },
    {
      "cell_type": "code",
      "execution_count": 82,
      "metadata": {
        "id": "OUICCagvO5X8"
      },
      "outputs": [],
      "source": [
        "#Summarize your assignment work here in a few points, and also compare the final models (from set 1 and set 2), in terms of optimal hyperparameter value 'alpha', training AUC and test AUC scores.\n",
        "# You can either use a pretty table or any other tabular structure.\n",
        "# Reference Link for Pretty table:  https://pypi.org/project/prettytable/"
      ]
    },
    {
      "cell_type": "code",
      "source": [
        "from prettytable.prettytable import ALL\n",
        "from prettytable import PrettyTable\n",
        "\n",
        "mytable = PrettyTable(['Vectorizer','Model','Hyper parameter', 'AUC'])\n",
        "mytable.add_row([\"BOW\",\"MultinomialNB\",0.025,0.69])\n",
        "mytable.add_row(['TFIDF','MultinomialNB',0.025,0.67])\n",
        "mytable.hrules = ALL\n",
        "\n",
        "print(mytable)"
      ],
      "metadata": {
        "colab": {
          "base_uri": "https://localhost:8080/"
        },
        "id": "lKp-E7jq6FDv",
        "outputId": "3497f65b-2f20-42a0-dba6-1ef1c66fb107"
      },
      "execution_count": 84,
      "outputs": [
        {
          "output_type": "stream",
          "name": "stdout",
          "text": [
            "+------------+---------------+-----------------+------+\n",
            "| Vectorizer |     Model     | Hyper parameter | AUC  |\n",
            "+------------+---------------+-----------------+------+\n",
            "|    BOW     | MultinomialNB |      0.025      | 0.69 |\n",
            "+------------+---------------+-----------------+------+\n",
            "|   TFIDF    | MultinomialNB |      0.025      | 0.67 |\n",
            "+------------+---------------+-----------------+------+\n"
          ]
        }
      ]
    }
  ],
  "metadata": {
    "colab": {
      "collapsed_sections": [],
      "provenance": []
    },
    "kernelspec": {
      "display_name": "Python 3",
      "language": "python",
      "name": "python3"
    },
    "language_info": {
      "codemirror_mode": {
        "name": "ipython",
        "version": 3
      },
      "file_extension": ".py",
      "mimetype": "text/x-python",
      "name": "python",
      "nbconvert_exporter": "python",
      "pygments_lexer": "ipython3",
      "version": "3.6.3"
    }
  },
  "nbformat": 4,
  "nbformat_minor": 0
}