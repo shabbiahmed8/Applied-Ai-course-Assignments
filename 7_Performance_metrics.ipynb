{
  "nbformat": 4,
  "nbformat_minor": 0,
  "metadata": {
    "colab": {
      "provenance": [],
      "collapsed_sections": []
    },
    "kernelspec": {
      "display_name": "Python 3",
      "language": "python",
      "name": "python3"
    },
    "language_info": {
      "codemirror_mode": {
        "name": "ipython",
        "version": 3
      },
      "file_extension": ".py",
      "mimetype": "text/x-python",
      "name": "python",
      "nbconvert_exporter": "python",
      "pygments_lexer": "ipython3",
      "version": "3.6.3"
    }
  },
  "cells": [
    {
      "cell_type": "markdown",
      "metadata": {
        "id": "s0Ej_bXyQvnV"
      },
      "source": [
        "# Compute performance metrics for the given Y and Y_score without sklearn"
      ]
    },
    {
      "cell_type": "code",
      "metadata": {
        "id": "4CHb6NE7Qvnc"
      },
      "source": [
        "import numpy as np\n",
        "import pandas as pd\n",
        "from tqdm import tqdm\n",
        "from matplotlib import pyplot as plt \n",
        "# other than these two you should not import any other packages"
      ],
      "execution_count": 2,
      "outputs": []
    },
    {
      "cell_type": "markdown",
      "metadata": {
        "id": "KbsWXuDaQvnq"
      },
      "source": [
        "\n",
        "## A. Compute performance metrics for the given data '5_a.csv'\n",
        " <pre>  <b>Note 1:</b> in this data you can see number of positive points >> number of negatives points\n",
        "   <b>Note 2:</b> use pandas or numpy to read the data from <b>5_a.csv</b>\n",
        "   <b>Note 3:</b> you need to derive the class labels from given score</pre> $y^{pred}= \\text{[0 if y_score < 0.5 else 1]}$\n",
        "\n",
        "<pre>\n",
        "<ol>\n",
        "<li> Compute Confusion Matrix </li>\n",
        "<li> Compute F1 Score </li>\n",
        "<li> Compute AUC Score, you need to compute different thresholds and for each threshold compute tpr,fpr and then use               numpy.trapz(tpr_array, fpr_array) <a href='https://stackoverflow.com/q/53603376/4084039'>https://stackoverflow.com/q/53603376/4084039</a>, <a href='https://stackoverflow.com/a/39678975/4084039'>https://stackoverflow.com/a/39678975/4084039</a> Note: it should be numpy.trapz(tpr_array, fpr_array) not numpy.trapz(fpr_array, tpr_array)\n",
        "Note- Make sure that you arrange your probability scores in descending order while calculating AUC</li>\n",
        "<li> Compute Accuracy Score </li>\n",
        "</ol>\n",
        "</pre>"
      ]
    },
    {
      "cell_type": "markdown",
      "source": [
        "###F1_score"
      ],
      "metadata": {
        "id": "aOOO-dOOuyYD"
      }
    },
    {
      "cell_type": "code",
      "metadata": {
        "id": "WaFLW7oBQvnt",
        "colab": {
          "base_uri": "https://localhost:8080/"
        },
        "outputId": "3e91861a-b272-41d0-b6ef-f349e6acdccf"
      },
      "source": [
        "df_a=pd.read_csv('5_a.csv') # impoting file\n",
        "df_a = df_a.sort_values(\"proba\",ascending = False) #sorting values by proba descending\n",
        "\n",
        "df_a['y_cap'] = np.where(df_a['proba']< 0.5,0.0,1.0) #creating predicted y with threshold 0.5\n",
        "\n",
        "TP = ((df_a[\"y\"]==1)&(df_a['y_cap']==1)).sum() #True positive\n",
        "TN = ((df_a[\"y\"]==0)&(df_a['y_cap']==0)).sum() #True negative\n",
        "FP = ((df_a[\"y\"]==0)&(df_a['y_cap']==1)).sum() # False postive\n",
        "FN = ((df_a[\"y\"]==1)&(df_a['y_cap']==0)).sum() # False negative\n",
        "\n",
        "pre = TP/(TP+FP) #precision\n",
        "rec = TP/(TP + FN) # recall\n",
        "F_1 = 2*(pre*rec)/(pre+rec) #F1 score \n",
        "print(\"F1 score =\",F_1)"
      ],
      "execution_count": null,
      "outputs": [
        {
          "output_type": "stream",
          "name": "stdout",
          "text": [
            "F1 score = 0.9950248756218906\n"
          ]
        }
      ]
    },
    {
      "cell_type": "markdown",
      "source": [
        "###AUC_score"
      ],
      "metadata": {
        "id": "s_WMZ7B1u3Y7"
      }
    },
    {
      "cell_type": "code",
      "source": [
        "thresh_a = np.unique(df_a['proba']) #list of threshold val from all unique porba values\n",
        "tpr = np.empty(len(thresh_a)) #empty np array for true positive rate values\n",
        "fpr = np.empty(len(thresh_a)) #empty np array for fale positive rate values "
      ],
      "metadata": {
        "id": "_LYp_kGV49hF"
      },
      "execution_count": null,
      "outputs": []
    },
    {
      "cell_type": "code",
      "source": [
        "\n",
        "for idx,th in tqdm(enumerate(thresh_a)):# iterating over each threshold\n",
        "\n",
        "\n",
        "    df_a['y_cap'] = np.where(df_a['proba']<th,0.0,1.0) # predicting Y_cap based on threshold\n",
        "\n",
        "    TP = ((df_a[\"y\"]==1)&(df_a['y_cap']==1)).sum() # true +ve\n",
        "    TN = ((df_a[\"y\"]==0)&(df_a['y_cap']==0)).sum() # true -ve\n",
        "    FP = ((df_a[\"y\"]==0)&(df_a['y_cap']==1)).sum() # fasle +ve\n",
        "    FN = ((df_a[\"y\"]==1)&(df_a['y_cap']==0)).sum() # fasle -ve\n",
        "    \n",
        "    tpr[idx] = TP/(FN+TP) #true +ve rate\n",
        "    fpr[idx] = FP/(TN+FP) #fasle +ve rate\n",
        "\n",
        "\n"
      ],
      "metadata": {
        "id": "VAko_vtmYllL",
        "colab": {
          "base_uri": "https://localhost:8080/"
        },
        "outputId": "8122f41c-d3ab-44cb-a224-ea8bdb2791e9"
      },
      "execution_count": null,
      "outputs": [
        {
          "output_type": "stream",
          "name": "stderr",
          "text": [
            "10100it [00:22, 446.08it/s]\n"
          ]
        }
      ]
    },
    {
      "cell_type": "code",
      "source": [
        "#soritng the values to avoid negative output from np.trapz\n",
        "fpr.sort()\n",
        "tpr.sort()"
      ],
      "metadata": {
        "id": "ik8SIhL7Nl6Z"
      },
      "execution_count": null,
      "outputs": []
    },
    {
      "cell_type": "code",
      "source": [
        "# plotting tpr vs fpr\n",
        "plt.plot(fpr,tpr)\n",
        "plt.xlabel(\"fpr\")\n",
        "plt.ylabel(\"tpr\")\n",
        "plt.legend()\n",
        "plt.show()"
      ],
      "metadata": {
        "colab": {
          "base_uri": "https://localhost:8080/",
          "height": 297
        },
        "id": "r5_h48DPPXSu",
        "outputId": "a382981e-29f7-4f19-ab50-dfa52d4692c8"
      },
      "execution_count": null,
      "outputs": [
        {
          "output_type": "stream",
          "name": "stderr",
          "text": [
            "WARNING:matplotlib.legend:No handles with labels found to put in legend.\n"
          ]
        },
        {
          "output_type": "display_data",
          "data": {
            "text/plain": [
              "<Figure size 432x288 with 1 Axes>"
            ],
            "image/png": "[encoded data removed]"
          },
          "metadata": {
            "needs_background": "light"
          }
        }
      ]
    },
    {
      "cell_type": "code",
      "source": [
        "print(\"AUC score is  = \",np.trapz(tpr,fpr))"
      ],
      "metadata": {
        "colab": {
          "base_uri": "https://localhost:8080/"
        },
        "id": "6ivlxZ9IWeC5",
        "outputId": "bbcd7e3e-f7b2-49ed-d724-fdd78709510a"
      },
      "execution_count": null,
      "outputs": [
        {
          "output_type": "stream",
          "name": "stdout",
          "text": [
            "AUC score is  =  0.48829900000000004\n"
          ]
        }
      ]
    },
    {
      "cell_type": "markdown",
      "metadata": {
        "id": "V5KZem1BQvn2"
      },
      "source": [
        "\n",
        "\n",
        "## B. Compute performance metrics for the given data '5_b.csv'\n",
        "<pre>\n",
        "   <b>Note 1:</b> in this data you can see number of positive points << number of negatives points\n",
        "   <b>Note 2:</b> use pandas or numpy to read the data from <b>5_b.csv</b>\n",
        "   <b>Note 3:</b> you need to derive the class labels from given score</pre> $y^{pred}= \\text{[0 if y_score < 0.5 else 1]}$\n",
        "\n",
        "<pre>\n",
        "<ol>\n",
        "<li> Compute Confusion Matrix </li>\n",
        "<li> Compute F1 Score </li>\n",
        "<li> Compute AUC Score, you need to compute different thresholds and for each threshold compute tpr,fpr and then use               numpy.trapz(tpr_array, fpr_array) <a href='https://stackoverflow.com/q/53603376/4084039'>https://stackoverflow.com/q/53603376/4084039</a>, <a href='https://stackoverflow.com/a/39678975/4084039'>https://stackoverflow.com/a/39678975/4084039</a>\n",
        "Note- Make sure that you arrange your probability scores in descending order while calculating AUC</li>\n",
        "<li> Compute Accuracy Score </li>\n",
        "</ol>\n",
        "</pre>"
      ]
    },
    {
      "cell_type": "markdown",
      "source": [
        "###F1_score"
      ],
      "metadata": {
        "id": "G2pM68Nduoh1"
      }
    },
    {
      "cell_type": "code",
      "source": [
        "df_b=pd.read_csv('5_b.csv')\n",
        "df_b = df_b.sort_values(\"proba\",ascending = False) #sorting base on proba values\n",
        "\n",
        "df_b['y_cap'] = np.where(df_b['proba']< 0.5,0.0,1.0) #predicting y_cap with 0.5 threshold\n",
        "\n",
        "TP = ((df_b[\"y\"]==1)&(df_b['y_cap']==1)).sum() # true +ve\n",
        "TN = ((df_b[\"y\"]==0)&(df_b['y_cap']==0)).sum() # true -ve\n",
        "FP = ((df_b[\"y\"]==0)&(df_b['y_cap']==1)).sum() # flase +ve\n",
        "FN = ((df_b[\"y\"]==1)&(df_b['y_cap']==0)).sum() # fasle -ve\n",
        "\n",
        "pre = TP/(TP+FP) # pecision\n",
        "rec = TP/(TP + FN) # recall\n",
        "F_1 = 2*(pre*rec)/(pre+rec) # F1 score\n",
        "print(\"F1 score =\",F_1)"
      ],
      "metadata": {
        "colab": {
          "base_uri": "https://localhost:8080/"
        },
        "id": "4ByS9XeGpaTw",
        "outputId": "87d95a20-cbf1-4c24-ef39-987104a271e5"
      },
      "execution_count": null,
      "outputs": [
        {
          "output_type": "stream",
          "name": "stdout",
          "text": [
            "F1 score = 0.2791878172588833\n"
          ]
        }
      ]
    },
    {
      "cell_type": "markdown",
      "source": [
        "###AUC_score"
      ],
      "metadata": {
        "id": "HddxQToou-pc"
      }
    },
    {
      "cell_type": "code",
      "source": [
        "thresh_b = np.unique(df_b['proba']) #np array of unique threshold values\n",
        "tpr = np.empty(len(thresh_b)) # empty np array for true +ve rates\n",
        "fpr = np.empty(len(thresh_b)) # empty np array for fasle +ve rates"
      ],
      "metadata": {
        "id": "5_d4ldhvqPCY"
      },
      "execution_count": null,
      "outputs": []
    },
    {
      "cell_type": "code",
      "source": [
        "for idx,th in tqdm(enumerate(thresh_b)): # iterating over each threshold\n",
        "\n",
        "\n",
        "    df_b['y_cap'] = np.where(df_b['proba']< th,0.0,1.0) # predicting y_cap based on threshold\n",
        "\n",
        "    TP = ((df_b[\"y\"]==1)&(df_b['y_cap']==1)).sum() # true +ve\n",
        "    TN = ((df_b[\"y\"]==0)&(df_b['y_cap']==0)).sum() # true -ve\n",
        "    FP = ((df_b[\"y\"]==0)&(df_b['y_cap']==1)).sum() # fasle +ve\n",
        "    FN = ((df_b[\"y\"]==1)&(df_b['y_cap']==0)).sum() # fasle -ve\n",
        "    \n",
        "    tpr[idx] = TP/(FN+TP) # true +ve rate\n",
        "    fpr[idx] = FP/(TN+FP) # fasle +ve rate\n"
      ],
      "metadata": {
        "colab": {
          "base_uri": "https://localhost:8080/"
        },
        "id": "PYEVdZHhqi8m",
        "outputId": "27a1516e-096c-423c-cd1b-883408c12f99"
      },
      "execution_count": null,
      "outputs": [
        {
          "output_type": "stream",
          "name": "stderr",
          "text": [
            "10100it [00:27, 371.41it/s]\n"
          ]
        }
      ]
    },
    {
      "cell_type": "code",
      "source": [
        "# sorting both np arrays\n",
        "fpr.sort()\n",
        "tpr.sort()"
      ],
      "metadata": {
        "id": "6jks0WijSank"
      },
      "execution_count": null,
      "outputs": []
    },
    {
      "cell_type": "code",
      "source": [
        "#plotting tpr vs fpr\n",
        "plt.plot(fpr,tpr)\n",
        "plt.xlabel(\"fpr\")\n",
        "plt.ylabel(\"tpr\")\n",
        "plt.legend()\n",
        "plt.show()"
      ],
      "metadata": {
        "colab": {
          "base_uri": "https://localhost:8080/",
          "height": 297
        },
        "id": "T0M6o_surVo-",
        "outputId": "6d47c48d-0c18-42f4-db51-8e270bdf5316"
      },
      "execution_count": null,
      "outputs": [
        {
          "output_type": "stream",
          "name": "stderr",
          "text": [
            "WARNING:matplotlib.legend:No handles with labels found to put in legend.\n"
          ]
        },
        {
          "output_type": "display_data",
          "data": {
            "text/plain": [
              "<Figure size 432x288 with 1 Axes>"
            ],
            "image/png": "[encoded data removed]"
          },
          "metadata": {
            "needs_background": "light"
          }
        }
      ]
    },
    {
      "cell_type": "code",
      "source": [
        "print(\"AUC score =\",np.trapz(tpr,fpr))"
      ],
      "metadata": {
        "colab": {
          "base_uri": "https://localhost:8080/"
        },
        "id": "ojNEwl1MuE2r",
        "outputId": "95040007-b948-47f2-8adc-401dccb1c20d"
      },
      "execution_count": null,
      "outputs": [
        {
          "output_type": "stream",
          "name": "stdout",
          "text": [
            "AUC score = 0.9377570000000001\n"
          ]
        }
      ]
    },
    {
      "cell_type": "markdown",
      "metadata": {
        "id": "GiPGonTzQvoB"
      },
      "source": [
        "## C. Compute the best threshold (similarly to ROC curve computation) of probability which gives lowest values of metric <b>A</b> for the given data \n",
        "<br>\n",
        "\n",
        "you will be predicting label of a data points like this: $y^{pred}= \\text{[0 if y_score < threshold  else 1]}$\n",
        "\n",
        "$ A = 500 \\times \\text{number of false negative} + 100 \\times \\text{numebr of false positive}$\n",
        "\n",
        "<pre>\n",
        "   <b>Note 1:</b> in this data you can see number of negative points > number of positive points\n",
        "   <b>Note 2:</b> use pandas or numpy to read the data from <b>5_c.csv</b>\n",
        "</pre>"
      ]
    },
    {
      "cell_type": "code",
      "metadata": {
        "id": "x5HIJzq1QvoE"
      },
      "source": [
        "df_c=pd.read_csv('5_c.csv') \n",
        "thresh_c = np.unique(df_c['prob']) #np array of unique prob values\n",
        "df_c = df_c.sort_values(\"prob\",ascending=False) # sorting df_c by prob values\n",
        "A = [] # empty list for score values"
      ],
      "execution_count": null,
      "outputs": []
    },
    {
      "cell_type": "code",
      "source": [
        "for idx,th in enumerate(thresh_c): # iterating over each threshold\n",
        "\n",
        "    df_c['y_cap'] = np.where(df_c['prob']< th,0.0,1.0) # predictig y_cap with threshold\n",
        "\n",
        "    FP = ((df_c['y']== 0)&(df_c['y_cap']==1)).sum() #false +ve\n",
        "    FN = ((df_c['y']== 1)&(df_c['y_cap']==0)).sum() #false -ve\n",
        "    \n",
        "    A.append( (500 * FN + 100 * FP)) # adding to the list\n",
        " \n",
        "    "
      ],
      "metadata": {
        "id": "q3Zg5sSMNEOS"
      },
      "execution_count": null,
      "outputs": []
    },
    {
      "cell_type": "code",
      "source": [
        "print(\"Mininmum value of A is {0} and corresponding threshold value is {1}\".format(np.amin(A),thresh_c[np.where(A == np.amin(A))]))"
      ],
      "metadata": {
        "colab": {
          "base_uri": "https://localhost:8080/"
        },
        "id": "nCrIVaI3VfrR",
        "outputId": "9fc6c0f1-4c2a-4ed4-e437-a669b27d58bc"
      },
      "execution_count": null,
      "outputs": [
        {
          "output_type": "stream",
          "name": "stdout",
          "text": [
            "Mininmum value of A is 141000 and corresponding threshold value is [0.23003903]\n"
          ]
        }
      ]
    },
    {
      "cell_type": "markdown",
      "metadata": {
        "id": "sD4CcgjXQvoL"
      },
      "source": [
        "\n",
        "## D.</b></font> Compute performance metrics(for regression) for the given data 5_d.csv\n",
        "<pre>    <b>Note 2:</b> use pandas or numpy to read the data from <b>5_d.csv</b>\n",
        "    <b>Note 1:</b> <b>5_d.csv</b> will having two columns Y and predicted_Y both are real valued features\n",
        "<ol>\n",
        "<li> Compute Mean Square Error </li>\n",
        "<li> Compute MAPE: https://www.youtube.com/watch?v=ly6ztgIkUxk</li>\n",
        "<li> Compute R^2 error: https://en.wikipedia.org/wiki/Coefficient_of_determination#Definitions </li>\n",
        "</ol>\n",
        "</pre>"
      ]
    },
    {
      "cell_type": "code",
      "metadata": {
        "id": "sVOj-bF9AfCd"
      },
      "source": [
        "df_d=pd.read_csv('5_d.csv')\n",
        "df_d['error']= df_d.pred - df_d.y # calculated error values for all calcalations"
      ],
      "execution_count": 3,
      "outputs": []
    },
    {
      "cell_type": "markdown",
      "source": [
        "### Mean square error"
      ],
      "metadata": {
        "id": "I4xgfQdhdHtM"
      }
    },
    {
      "cell_type": "code",
      "source": [
        "err2sum = 0 #initial error square sum to be 0\n",
        "for er in df_d.error: #iterating over errors\n",
        "    err2sum += er**2 #adding square of errors \n",
        "MSE = err2sum/len(df_d) # Dviding sum by total number of values\n",
        "print(\"Mean square error = \",MSE)"
      ],
      "metadata": {
        "colab": {
          "base_uri": "https://localhost:8080/",
          "height": 0
        },
        "id": "gxZZ_3m7oeVY",
        "outputId": "ca9cd3ac-27b8-4bf1-f42d-f8efd276be91"
      },
      "execution_count": 4,
      "outputs": [
        {
          "output_type": "stream",
          "name": "stdout",
          "text": [
            "Mean square error =  177.16569974554707\n"
          ]
        }
      ]
    },
    {
      "cell_type": "markdown",
      "source": [
        "###MAPE"
      ],
      "metadata": {
        "id": "scFApH90dOEz"
      }
    },
    {
      "cell_type": "code",
      "source": [
        "er_sum = 0 # initial sum of abs errors to be 0\n",
        "for er in df_d.error: # iterating over errors\n",
        "    er_sum += abs(er) # adding to the sum\n",
        "MAPE = er_sum/df_d['y'].sum() #dividing er_sum by sum of all y values\n",
        "print(\"MAPE = \",MAPE)"
      ],
      "metadata": {
        "colab": {
          "base_uri": "https://localhost:8080/",
          "height": 0
        },
        "id": "Cz2l-0Q6gv8W",
        "outputId": "5bbe2c5b-da12-42fb-e915-b03a2177d191"
      },
      "execution_count": 5,
      "outputs": [
        {
          "output_type": "stream",
          "name": "stdout",
          "text": [
            "MAPE =  0.1291202994009687\n"
          ]
        }
      ]
    },
    {
      "cell_type": "markdown",
      "source": [
        "###R^2 error"
      ],
      "metadata": {
        "id": "imkeh8gWdR8q"
      }
    },
    {
      "cell_type": "code",
      "source": [
        "#SSres is same as err2sum\n",
        "SStot = 0 # initial SStot to be 0\n",
        "y_mean = df_d['y'].mean() # mean of y values\n",
        "for obs in df_d.y:\n",
        "    SStot += (obs - y_mean)**2\n",
        "R_sq = 1- (err2sum/SStot)\n",
        "\n",
        "print('R squared error =',R_sq)"
      ],
      "metadata": {
        "colab": {
          "base_uri": "https://localhost:8080/",
          "height": 0
        },
        "id": "o0oqKoChp8p1",
        "outputId": "7a3cc421-d25b-482c-a740-b221f164a0c9"
      },
      "execution_count": 6,
      "outputs": [
        {
          "output_type": "stream",
          "name": "stdout",
          "text": [
            "R squared error = 0.9563582786990964\n"
          ]
        }
      ]
    }
  ]
}