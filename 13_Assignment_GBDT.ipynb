{
  "cells": [
    {
      "cell_type": "code",
      "source": [
        "import nltk\n",
        "nltk.download(\"vader_lexicon\")\n",
        "from nltk.sentiment.vader import SentimentIntensityAnalyzer\n",
        "import pickle\n",
        "import pandas as pd\n",
        "import numpy as np\n",
        "\n",
        "from sklearn.model_selection import train_test_split\n",
        "from sklearn.feature_extraction.text import TfidfVectorizer\n",
        "from sklearn.feature_extraction.text import CountVectorizer\n",
        "from sklearn.preprocessing import Normalizer\n",
        "from scipy.sparse import hstack,csr_matrix\n",
        "\n",
        "from sklearn.ensemble import GradientBoostingClassifier\n",
        "from sklearn.model_selection import GridSearchCV\n",
        "from sklearn.metrics import roc_curve,auc\n",
        "from sklearn.metrics import confusion_matrix\n",
        "from wordcloud import WordCloud, STOPWORDS\n",
        "\n",
        "import seaborn as sns\n",
        "import matplotlib.pyplot as plt"
      ],
      "metadata": {
        "colab": {
          "base_uri": "https://localhost:8080/"
        },
        "id": "UA29FfHb0LXz",
        "outputId": "3ad49137-dbe8-47cc-8cf9-39da94b25358"
      },
      "execution_count": null,
      "outputs": [
        {
          "output_type": "stream",
          "name": "stderr",
          "text": [
            "[nltk_data] Downloading package vader_lexicon to /root/nltk_data...\n"
          ]
        }
      ]
    },
    {
      "cell_type": "markdown",
      "metadata": {
        "id": "8wqapAXjsc24"
      },
      "source": [
        "# Assignment 9: GBDT"
      ]
    },
    {
      "cell_type": "code",
      "source": [
        "from google.colab import drive\n",
        "drive.mount('/content/drive')"
      ],
      "metadata": {
        "colab": {
          "base_uri": "https://localhost:8080/"
        },
        "id": "n_DWg-8btox5",
        "outputId": "dd2e94dd-a41f-4c00-9f00-d7150873f915"
      },
      "execution_count": null,
      "outputs": [
        {
          "output_type": "stream",
          "name": "stdout",
          "text": [
            "Mounted at /content/drive\n"
          ]
        }
      ]
    },
    {
      "cell_type": "markdown",
      "metadata": {
        "id": "BOyTl7oKsc3W"
      },
      "source": [
        "<h1>1. GBDT (xgboost/lightgbm) </h1>"
      ]
    },
    {
      "cell_type": "markdown",
      "metadata": {
        "id": "VWge-b2Zsc3Z"
      },
      "source": [
        "## 1.1 Loading Data"
      ]
    },
    {
      "cell_type": "code",
      "execution_count": null,
      "metadata": {
        "id": "WDZFu6-usc3d"
      },
      "outputs": [],
      "source": [
        "import pandas\n",
        "data = pandas.read_csv('/content/drive/MyDrive/Colab Notebooks/assignment files/Copy of preprocessed_data.csv')"
      ]
    },
    {
      "cell_type": "markdown",
      "source": [
        "##calculate sentiment scores for the essay feature"
      ],
      "metadata": {
        "id": "1TNJRA62zWhL"
      }
    },
    {
      "cell_type": "code",
      "source": [
        "sid = SentimentIntensityAnalyzer()\n",
        "sents = data['essay'].values\n",
        "pol_score_vec = np.vectorize(sid.polarity_scores)\n",
        "senti_scores = pol_score_vec(sents)\n",
        "\n",
        "pos =[]\n",
        "neg =[]\n",
        "neu = []\n",
        "comp = []\n",
        "for sc in senti_scores:\n",
        "    pos.append(sc['pos'])\n",
        "    neg.append(sc['neg'])\n",
        "    neu.append(sc['neu'])\n",
        "    comp.append(sc['compound'])\n",
        "\n",
        "data[\"neg\"] = neg\n",
        "data[\"pos\"] = pos\n",
        "data[\"neu\"] = neu        \n",
        "data[\"comp\"] = comp"
      ],
      "metadata": {
        "id": "nad1cDVyzfID"
      },
      "execution_count": null,
      "outputs": []
    },
    {
      "cell_type": "markdown",
      "metadata": {
        "id": "6lAMFKFcsc3j"
      },
      "source": [
        "##<h2>1.2 Splitting data into Train and cross validation(or test): Stratified Sampling</h2>"
      ]
    },
    {
      "cell_type": "code",
      "source": [
        "y = data['project_is_approved'].values\n",
        "X = data.drop(['project_is_approved'], axis=1)\n",
        "x_train, x_test, y_train, y_test = train_test_split(X, y, test_size=0.33, stratify=y)"
      ],
      "metadata": {
        "id": "KoRS3ydEx3it"
      },
      "execution_count": null,
      "outputs": []
    },
    {
      "cell_type": "markdown",
      "metadata": {
        "id": "vsALgl5Asc3u"
      },
      "source": [
        "##<h2>1.3 Make Data Model Ready: encoding eassay, and project_title</h2>"
      ]
    },
    {
      "cell_type": "markdown",
      "metadata": {
        "id": "0LPou-ktURJk"
      },
      "source": [
        "###tfidf vectorization of text data"
      ]
    },
    {
      "cell_type": "code",
      "source": [
        "tf_idf_vec = TfidfVectorizer(ngram_range=(1,4),max_features=5000)\n",
        "x_train_essay_tfidf = tf_idf_vec.fit_transform(x_train['essay'].values)\n",
        "x_test_essay_tfidf = tf_idf_vec.transform(x_test['essay'].values)"
      ],
      "metadata": {
        "id": "YDx1miG55H8N"
      },
      "execution_count": null,
      "outputs": []
    },
    {
      "cell_type": "markdown",
      "metadata": {
        "id": "fINsQOGdUVKU"
      },
      "source": [
        "###tfidf w2v vectorization of text data"
      ]
    },
    {
      "cell_type": "code",
      "execution_count": null,
      "metadata": {
        "id": "vn6ogVynRw7I",
        "colab": {
          "base_uri": "https://localhost:8080/"
        },
        "outputId": "e9faeca8-6749-4268-b760-7bf49e8b5e11"
      },
      "outputs": [
        {
          "output_type": "stream",
          "name": "stdout",
          "text": [
            "x_train_tfidfw2v (73196, 300)\n",
            "x_test_tfidf_w2v (36052, 300)\n"
          ]
        }
      ],
      "source": [
        "tf_idf = TfidfVectorizer()\n",
        "tf_idf.fit(x_train['essay'])\n",
        "tfidf_dict = dict(zip(tf_idf.get_feature_names_out(),list(tf_idf.idf_)))\n",
        "tfidf_ftrs=set(tf_idf.get_feature_names_out())\n",
        "\n",
        "with open('/content/drive/MyDrive/Colab Notebooks/assignment files/Copy of glove_vectors', 'rb') as f:\n",
        "    model = pickle.load(f)\n",
        "    glove_words =  set(model.keys())\n",
        "\n",
        "def tfidf_w2v(x_train,model,glove_words,tf_idf_ftrs,tfidf_dict):\n",
        "    tfidf_w2v =[]\n",
        "    for essay in x_train:\n",
        "        vec = np.zeros(300)\n",
        "        tfidf_sum = 0\n",
        "        for word in essay.split():\n",
        "            if (word in glove_words) and (word in tf_idf_ftrs):\n",
        "                vec += model[word]*tfidf_dict[word]\n",
        "                tfidf_sum +=tfidf_dict[word]\n",
        "        if tfidf_sum != 0:\n",
        "            vec /=tfidf_sum\n",
        "        tfidf_w2v.append(vec)\n",
        "    return np.array(tfidf_w2v)\n",
        "\n",
        "x_train_tfidf_w2v = tfidf_w2v(x_train['essay'],model,glove_words,tfidf_ftrs,tfidf_dict)\n",
        "print(\"x_train_tfidfw2v\",x_train_tfidf_w2v.shape)\n",
        "\n",
        "x_test_tfidf_w2v = tfidf_w2v(x_test['essay'],model,glove_words,tfidf_ftrs,tfidf_dict)\n",
        "print('x_test_tfidf_w2v',x_test_tfidf_w2v.shape)"
      ]
    },
    {
      "cell_type": "markdown",
      "metadata": {
        "id": "S3Vxxv2Hsc31"
      },
      "source": [
        "<h2>1.4 Make Data Model Ready: encoding numerical, categorical features</h2>"
      ]
    },
    {
      "cell_type": "code",
      "source": [
        "def cat_encoder(f_tr,f_te,y_tr,y_te):\n",
        "    count_dict ={}\n",
        "    for val in f_tr:\n",
        "        count = 0\n",
        "        if val  not in count_dict.keys():\n",
        "            for i in f_tr:\n",
        "                if val == i:\n",
        "                    count+= 1\n",
        "            count_dict[val] = count\n",
        "    count0_dict={}\n",
        "    for val in f_tr:\n",
        "        count0 = 0\n",
        "        if val not in count0_dict.keys():\n",
        "            for idx,val1 in enumerate(f_tr):\n",
        "                if (val == val1) and ( y_tr[idx] == 0):\n",
        "                    count0 += 1\n",
        "            count0_dict[val] = count0\n",
        "    \n",
        "    cat_enc_tr =[]\n",
        "    for val in f_tr:\n",
        "        lst = []\n",
        "        prob0 = count0_dict[val]/count_dict[val]\n",
        "        lst.append(prob0)\n",
        "        lst.append(1-prob0)\n",
        "        cat_enc_tr.append(lst)\n",
        "\n",
        "    cat_enc_te = []\n",
        "    for val in f_te:\n",
        "        lst =[]\n",
        "        if val in count_dict.keys():\n",
        "            prob0 = count0_dict[val]/count_dict[val]\n",
        "            lst.append(prob0)\n",
        "            lst.append(1-prob0)\n",
        "            cat_enc_te.append(lst)\n",
        "        else:\n",
        "            cat_enc_te.append([0.5,0.5])\n",
        "\n",
        "\n",
        "    print(\"After vectorizations\")\n",
        "    print(np.array(cat_enc_tr).shape, y_train.shape)\n",
        "    print(np.array(cat_enc_te).shape, y_test.shape)\n",
        "    return np.array(cat_enc_tr),np.array(cat_enc_te)\n",
        "    \n",
        "    \n"
      ],
      "metadata": {
        "id": "A1M3JupR-tyY"
      },
      "execution_count": null,
      "outputs": []
    },
    {
      "cell_type": "markdown",
      "source": [
        "###Encoding school_state"
      ],
      "metadata": {
        "id": "iDBpL5X0ga9y"
      }
    },
    {
      "cell_type": "code",
      "source": [
        "x_train_state_ohe, x_test_state_ohe = cat_encoder(x_train['school_state'],x_test['school_state'],y_train,y_test) "
      ],
      "metadata": {
        "colab": {
          "base_uri": "https://localhost:8080/"
        },
        "id": "DxKmqNSwfayl",
        "outputId": "64a2f203-927b-44a6-9c2f-04db02939407"
      },
      "execution_count": null,
      "outputs": [
        {
          "output_type": "stream",
          "name": "stdout",
          "text": [
            "After vectorizations\n",
            "(73196, 2) (73196,)\n",
            "(36052, 2) (36052,)\n"
          ]
        }
      ]
    },
    {
      "cell_type": "markdown",
      "source": [
        "###Encoding teacher_prefix"
      ],
      "metadata": {
        "id": "yM5qUHiegiTq"
      }
    },
    {
      "cell_type": "code",
      "source": [
        "x_train_teacher_prefix_ohe, x_test_teacher_prefix_ohe = cat_encoder(x_train['teacher_prefix'],x_test['teacher_prefix'],y_train,y_test)"
      ],
      "metadata": {
        "colab": {
          "base_uri": "https://localhost:8080/"
        },
        "id": "UNzEpT01gVvb",
        "outputId": "52dc0d55-4177-4ec0-8971-48cd2f6618ce"
      },
      "execution_count": null,
      "outputs": [
        {
          "output_type": "stream",
          "name": "stdout",
          "text": [
            "After vectorizations\n",
            "(73196, 2) (73196,)\n",
            "(36052, 2) (36052,)\n"
          ]
        }
      ]
    },
    {
      "cell_type": "markdown",
      "source": [
        "###Encoding project_grade_category"
      ],
      "metadata": {
        "id": "3NX5VWFji6Pc"
      }
    },
    {
      "cell_type": "code",
      "source": [
        "x_train_pgc_ohe, x_test_pgc_ohe = cat_encoder(x_train['project_grade_category'],x_test['project_grade_category'],y_train,y_test)"
      ],
      "metadata": {
        "colab": {
          "base_uri": "https://localhost:8080/"
        },
        "id": "mT_nE-8SjDVQ",
        "outputId": "d3274bcc-e2d6-4e21-af1f-6c41b5fccd3b"
      },
      "execution_count": null,
      "outputs": [
        {
          "output_type": "stream",
          "name": "stdout",
          "text": [
            "After vectorizations\n",
            "(73196, 2) (73196,)\n",
            "(36052, 2) (36052,)\n"
          ]
        }
      ]
    },
    {
      "cell_type": "markdown",
      "source": [
        "###Encoding clean_categories"
      ],
      "metadata": {
        "id": "BLY2q9sSjJMS"
      }
    },
    {
      "cell_type": "code",
      "source": [
        "x_train_clean_cat_ohe, x_test_clean_cat_ohe = cat_encoder(x_train['clean_categories'],x_test['clean_categories'],y_train,y_test)"
      ],
      "metadata": {
        "colab": {
          "base_uri": "https://localhost:8080/"
        },
        "id": "dFhb3Yn5jPuw",
        "outputId": "93fb9f31-651e-4eda-c19f-d3f569028f3a"
      },
      "execution_count": null,
      "outputs": [
        {
          "output_type": "stream",
          "name": "stdout",
          "text": [
            "After vectorizations\n",
            "(73196, 2) (73196,)\n",
            "(36052, 2) (36052,)\n"
          ]
        }
      ]
    },
    {
      "cell_type": "markdown",
      "source": [
        "###Encoding clean_subcategories"
      ],
      "metadata": {
        "id": "_aLxlQqyjf9H"
      }
    },
    {
      "cell_type": "code",
      "source": [
        "x_train_clean_subcat_ohe, x_test_clean_subcat_ohe = cat_encoder(x_train['clean_subcategories'],x_test['clean_subcategories'],y_train,y_test)"
      ],
      "metadata": {
        "colab": {
          "base_uri": "https://localhost:8080/"
        },
        "id": "eqTPYR8Ajj3_",
        "outputId": "147a55a3-8816-4863-d2f1-15477eacc666"
      },
      "execution_count": null,
      "outputs": [
        {
          "output_type": "stream",
          "name": "stdout",
          "text": [
            "After vectorizations\n",
            "(73196, 2) (73196,)\n",
            "(36052, 2) (36052,)\n"
          ]
        }
      ]
    },
    {
      "cell_type": "markdown",
      "source": [
        "###Encdoing numerical features"
      ],
      "metadata": {
        "id": "yxw9BQ0hmOqW"
      }
    },
    {
      "cell_type": "code",
      "source": [
        "def num_encoder(f_tr,f_te,y_tr,y_te):\n",
        "    normalizer = Normalizer()\n",
        "    normalizer.fit(f_tr.values.reshape(-1, 1))\n",
        "\n",
        "    f_tr_norm = normalizer.transform(f_tr.values.reshape(-1,1))\n",
        "    f_te_norm = normalizer.transform(f_te.values.reshape(-1,1))\n",
        "\n",
        "    print(\"After vectorizations\")\n",
        "    print(f_tr_norm.shape, y_train.shape)\n",
        "    print(f_te_norm.shape, y_test.shape)\n",
        "    print(\"=\"*100)\n",
        "    return f_tr_norm,f_te_norm"
      ],
      "metadata": {
        "id": "w4Rbnlr_mNdd"
      },
      "execution_count": null,
      "outputs": []
    },
    {
      "cell_type": "markdown",
      "source": [
        "###Encoding price"
      ],
      "metadata": {
        "id": "_HZUwPIgnRJM"
      }
    },
    {
      "cell_type": "code",
      "source": [
        "x_train_price_norm,x_test_price_norm = num_encoder(x_train['price'],x_test['price'],y_train,y_test)"
      ],
      "metadata": {
        "colab": {
          "base_uri": "https://localhost:8080/"
        },
        "id": "GQc-leIKnbrt",
        "outputId": "ab2b9346-11ea-42ba-fd4c-91b87f368ad1"
      },
      "execution_count": null,
      "outputs": [
        {
          "output_type": "stream",
          "name": "stdout",
          "text": [
            "After vectorizations\n",
            "(73196, 1) (73196,)\n",
            "(36052, 1) (36052,)\n",
            "====================================================================================================\n"
          ]
        }
      ]
    },
    {
      "cell_type": "markdown",
      "source": [
        "###Encoding Teacher number of previously posted projects"
      ],
      "metadata": {
        "id": "YyGWLd4NnUHM"
      }
    },
    {
      "cell_type": "code",
      "source": [
        "x_train_tppp_norm,x_test_tppp_norm = num_encoder(x_train['teacher_number_of_previously_posted_projects'],x_test['teacher_number_of_previously_posted_projects'],y_train,y_test)"
      ],
      "metadata": {
        "colab": {
          "base_uri": "https://localhost:8080/"
        },
        "id": "EkfhVBuGn3wE",
        "outputId": "a3b69b2b-cdc2-4917-aa65-90d575e9bad5"
      },
      "execution_count": null,
      "outputs": [
        {
          "output_type": "stream",
          "name": "stdout",
          "text": [
            "After vectorizations\n",
            "(73196, 1) (73196,)\n",
            "(36052, 1) (36052,)\n",
            "====================================================================================================\n"
          ]
        }
      ]
    },
    {
      "cell_type": "markdown",
      "source": [
        "###Encoding neg"
      ],
      "metadata": {
        "id": "_nda39kVndmc"
      }
    },
    {
      "cell_type": "code",
      "source": [
        "x_train_neg_norm,x_test_neg_norm = num_encoder(x_train['neg'],x_test['neg'],y_train,y_test)"
      ],
      "metadata": {
        "colab": {
          "base_uri": "https://localhost:8080/"
        },
        "id": "zyztfokGn6hr",
        "outputId": "f339cfe3-c884-4d3e-f9bd-f45b237c3af1"
      },
      "execution_count": null,
      "outputs": [
        {
          "output_type": "stream",
          "name": "stdout",
          "text": [
            "After vectorizations\n",
            "(73196, 1) (73196,)\n",
            "(36052, 1) (36052,)\n",
            "====================================================================================================\n"
          ]
        }
      ]
    },
    {
      "cell_type": "markdown",
      "source": [
        "### Encoding pos"
      ],
      "metadata": {
        "id": "LcnudpHPnf7E"
      }
    },
    {
      "cell_type": "code",
      "source": [
        "x_train_pos_norm,x_test_pos_norm = num_encoder(x_train['pos'],x_test['pos'],y_train,y_test)"
      ],
      "metadata": {
        "colab": {
          "base_uri": "https://localhost:8080/"
        },
        "id": "1o2xFWSzn-gS",
        "outputId": "d1f4fa0d-3582-4b94-ae78-28e92b339e50"
      },
      "execution_count": null,
      "outputs": [
        {
          "output_type": "stream",
          "name": "stdout",
          "text": [
            "After vectorizations\n",
            "(73196, 1) (73196,)\n",
            "(36052, 1) (36052,)\n",
            "====================================================================================================\n"
          ]
        }
      ]
    },
    {
      "cell_type": "markdown",
      "source": [
        "###Encoding neu"
      ],
      "metadata": {
        "id": "I-SVFkSmnkzE"
      }
    },
    {
      "cell_type": "code",
      "source": [
        "x_train_neu_norm,x_test_neu_norm = num_encoder(x_train['neu'],x_test['neu'],y_train,y_test)"
      ],
      "metadata": {
        "colab": {
          "base_uri": "https://localhost:8080/"
        },
        "id": "fSSfKhcBn_gL",
        "outputId": "3f4ead33-56fd-4226-f5b2-4f6c0c9677b1"
      },
      "execution_count": null,
      "outputs": [
        {
          "output_type": "stream",
          "name": "stdout",
          "text": [
            "After vectorizations\n",
            "(73196, 1) (73196,)\n",
            "(36052, 1) (36052,)\n",
            "====================================================================================================\n"
          ]
        }
      ]
    },
    {
      "cell_type": "markdown",
      "source": [
        "###Encoding comp"
      ],
      "metadata": {
        "id": "b8Vjb0AHno-0"
      }
    },
    {
      "cell_type": "code",
      "source": [
        "x_train_comp_norm,x_test_comp_norm = num_encoder(x_train['comp'],x_test['comp'],y_train,y_test)"
      ],
      "metadata": {
        "colab": {
          "base_uri": "https://localhost:8080/"
        },
        "id": "uE0Bb_vFnLCm",
        "outputId": "2e8722cf-29d2-4ac3-b871-fa349f9c2074"
      },
      "execution_count": null,
      "outputs": [
        {
          "output_type": "stream",
          "name": "stdout",
          "text": [
            "After vectorizations\n",
            "(73196, 1) (73196,)\n",
            "(36052, 1) (36052,)\n",
            "====================================================================================================\n"
          ]
        }
      ]
    },
    {
      "cell_type": "code",
      "source": [
        "def find_best_threshold(threshould, fpr, tpr):\n",
        "    t = threshould[np.argmax(tpr*(1-fpr))]\n",
        "    # (tpr*(1-fpr)) will be maximum if your fpr is very low and tpr is very high\n",
        "    print(\"the maximum value of tpr*(1-fpr)\", max(tpr*(1-fpr)), \"for threshold\", np.round(t,3))\n",
        "    return t\n",
        "\n",
        "def predict_with_best_t(proba, threshould):\n",
        "    predictions = []\n",
        "    for i in proba:\n",
        "        if i>=threshould:\n",
        "            predictions.append(1)\n",
        "        else:\n",
        "            predictions.append(0)\n",
        "    return predictions"
      ],
      "metadata": {
        "id": "rpsRR-ErFOEe"
      },
      "execution_count": null,
      "outputs": []
    },
    {
      "cell_type": "code",
      "source": [
        "def all_plots(x_tr_set_1):\n",
        "    params ={'learning_rate':[0.1,0.2,0.3,0.4],'n_estimators':[5,10,20,40]}\n",
        "\n",
        "    gbdt = GradientBoostingClassifier()\n",
        "    grid_search = GridSearchCV(gbdt,params,cv=5,scoring='roc_auc',return_train_score = True,n_jobs = -1)\n",
        "    grid_search.fit(x_tr_set1,y_train)\n",
        "\n",
        "    train_auc = grid_search.cv_results_['mean_train_score']\n",
        "    train_auc_stdd = grid_search.cv_results_['std_train_score']\n",
        "    cv_auc = grid_search.cv_results_['mean_test_score']\n",
        "    cv_auc_std = grid_search.cv_results_['std_test_score']\n",
        "\n",
        "    print(\"Best score\",grid_search.best_score_)\n",
        "    print('Best Hyper parameters',grid_search.best_params_)\n",
        "\n",
        "    #heat map\n",
        "    sns.heatmap(train_auc.reshape(4,4),annot = True,yticklabels =[0.1,0.2,0.3,0.4],xticklabels=[5,10,20,40],cmap=\"Blues\")\n",
        "    plt.ylabel(\"learning_rate\")\n",
        "    plt.xlabel(\"n_estimators\")\n",
        "    plt.title(\"Train_AUC plot\")\n",
        "    plt.show()\n",
        "    print(\"\\n\")\n",
        "    sns.heatmap(cv_auc.reshape(4,4),annot = True,yticklabels =[0.1,0.2,0.3,0.4],xticklabels=[5,10,20,40],cmap=\"Blues\")\n",
        "    plt.title(\"CV_AUC plot\")\n",
        "    plt.ylabel(\"learning_rate\")\n",
        "    plt.xlabel(\"n_estimators\")\n",
        "    plt.show()\n",
        "    #ROC curve\n",
        "    dt_set1 =gbdt.set_params(learning_rate=grid_search.best_params_['learning_rate'],n_estimators=grid_search.best_params_['n_estimators'])\n",
        "    dt_set1.fit(x_tr_set1,y_train)\n",
        "\n",
        "    y_train_pred = dt_set1.predict_proba(x_tr_set1)\n",
        "    y_test_pred = dt_set1.predict_proba(x_te_set1)\n",
        "\n",
        "    train_fpr,train_tpr, tr_thresholds = roc_curve(y_train,y_train_pred[:,1])\n",
        "    test_fpr, test_tpr, te_thresholds = roc_curve(y_test, y_test_pred[:,1])\n",
        "\n",
        "    plt.plot(train_fpr, train_tpr,label=\"train_AUC=\"+str(auc(train_fpr,train_tpr)))\n",
        "    plt.plot(test_fpr, test_tpr, label=\"test_AUC=\"+str(auc(test_fpr,test_tpr)))\n",
        "\n",
        "    plt.legend()\n",
        "    plt.xlabel(\"fpr\")\n",
        "    plt.ylabel(\"tpr\")\n",
        "    plt.title(\"ROC curve\")\n",
        "    plt.grid()\n",
        "    plt.show()\n",
        "    # confusion matrix\n",
        "    best_t_tr = find_best_threshold(tr_thresholds,train_fpr,train_tpr)\n",
        "    conf_mat_tr = confusion_matrix(y_train,predict_with_best_t(y_train_pred[:,1],best_t_tr))\n",
        "\n",
        "    sns.heatmap(conf_mat_tr,annot=True,fmt = 'd',cmap='Blues',cbar=False)\n",
        "    plt.title(\"Train Confusion Matix\")\n",
        "    plt.ylabel(\"True label\")\n",
        "    plt.xlabel(\"Predicted label\")\n",
        "\n",
        "    plt.show()\n",
        "    print()\n",
        "    best_t_te = find_best_threshold(te_thresholds,test_fpr,test_tpr)\n",
        "    conf_mat_te = confusion_matrix(y_test,predict_with_best_t(y_test_pred[:,1],best_t_te))\n",
        "\n",
        "    sns.heatmap(conf_mat_te,annot=True,fmt = 'd',cmap='Blues',cbar=False)\n",
        "    plt.title(\"Test Confusion Matix\")\n",
        "    plt.ylabel(\"True label\")\n",
        "    plt.xlabel(\"Predicted label\")\n",
        "\n",
        "    plt.show()"
      ],
      "metadata": {
        "id": "7FoZeQkogQT6"
      },
      "execution_count": null,
      "outputs": []
    },
    {
      "cell_type": "markdown",
      "source": [
        "##Set 1"
      ],
      "metadata": {
        "id": "9rscLzmxohvl"
      }
    },
    {
      "cell_type": "code",
      "source": [
        "\n",
        "x_tr_set1 = hstack((x_train_essay_tfidf,x_train_state_ohe,x_train_teacher_prefix_ohe,x_train_pgc_ohe,x_train_clean_cat_ohe,x_train_clean_subcat_ohe,x_train_price_norm,x_train_tppp_norm,x_train_neg_norm,x_train_pos_norm,x_train_neu_norm,x_train_comp_norm)).tocsr()\n",
        "x_te_set1 = hstack((x_test_essay_tfidf, x_test_state_ohe, x_test_teacher_prefix_ohe, x_test_pgc_ohe,x_test_clean_cat_ohe,x_test_clean_subcat_ohe, x_test_price_norm,x_test_tppp_norm,x_test_neg_norm,x_test_pos_norm,x_test_neu_norm,x_test_comp_norm)).tocsr()\n",
        "\n",
        "print(\"Final Data matrix\")\n",
        "print(x_tr_set1.shape, y_train.shape)\n",
        "print(x_te_set1.shape, y_test.shape)\n",
        "print(\"=\"*100)"
      ],
      "metadata": {
        "colab": {
          "base_uri": "https://localhost:8080/"
        },
        "id": "ow6j2hBmoha8",
        "outputId": "77602afe-8fe9-4e82-dee1-7af817db7c95"
      },
      "execution_count": null,
      "outputs": [
        {
          "output_type": "stream",
          "name": "stdout",
          "text": [
            "Final Data matrix\n",
            "(73196, 5016) (73196,)\n",
            "(36052, 5016) (36052,)\n",
            "====================================================================================================\n"
          ]
        }
      ]
    },
    {
      "cell_type": "code",
      "source": [
        "all_plots(x_tr_set1)"
      ],
      "metadata": {
        "id": "g6YyHKRVtWgm",
        "outputId": "0b84fda0-881f-4280-9730-a83df6d0a71c",
        "colab": {
          "base_uri": "https://localhost:8080/",
          "height": 1000
        }
      },
      "execution_count": null,
      "outputs": [
        {
          "output_type": "stream",
          "name": "stdout",
          "text": [
            "Best score 0.6914457002571168\n",
            "Best Hyper parameters {'learning_rate': 0.4, 'n_estimators': 40}\n"
          ]
        },
        {
          "output_type": "display_data",
          "data": {
            "text/plain": [
              "<Figure size 432x288 with 2 Axes>"
            ],
            "image/png": "[encoded data removed]"
          },
          "metadata": {
            "needs_background": "light"
          }
        },
        {
          "output_type": "stream",
          "name": "stdout",
          "text": [
            "\n",
            "\n"
          ]
        },
        {
          "output_type": "display_data",
          "data": {
            "text/plain": [
              "<Figure size 432x288 with 2 Axes>"
            ],
            "image/png": "[encoded data removed]"
          },
          "metadata": {
            "needs_background": "light"
          }
        },
        {
          "output_type": "display_data",
          "data": {
            "text/plain": [
              "<Figure size 432x288 with 1 Axes>"
            ],
            "image/png": "[encoded data removed]"
          },
          "metadata": {
            "needs_background": "light"
          }
        },
        {
          "output_type": "stream",
          "name": "stdout",
          "text": [
            "the maximum value of tpr*(1-fpr) 0.46085813923742547 for threshold 0.845\n"
          ]
        },
        {
          "output_type": "display_data",
          "data": {
            "text/plain": [
              "<Figure size 432x288 with 1 Axes>"
            ],
            "image/png": "[encoded data removed]"
          },
          "metadata": {
            "needs_background": "light"
          }
        },
        {
          "output_type": "stream",
          "name": "stdout",
          "text": [
            "\n",
            "the maximum value of tpr*(1-fpr) 0.4071760995531288 for threshold 0.852\n"
          ]
        },
        {
          "output_type": "display_data",
          "data": {
            "text/plain": [
              "<Figure size 432x288 with 1 Axes>"
            ],
            "image/png": "[encoded data removed]"
          },
          "metadata": {
            "needs_background": "light"
          }
        }
      ]
    },
    {
      "cell_type": "markdown",
      "source": [
        "##Set2"
      ],
      "metadata": {
        "id": "MFgoXUbWRRe2"
      }
    },
    {
      "cell_type": "code",
      "source": [
        "x_tr_set2 = hstack((csr_matrix(x_train_tfidf_w2v),x_train_state_ohe,x_train_teacher_prefix_ohe,x_train_pgc_ohe,x_train_clean_cat_ohe,x_train_clean_subcat_ohe,x_train_price_norm,x_train_tppp_norm,x_train_neg_norm,x_train_pos_norm,x_train_neu_norm,x_train_comp_norm)).tocsr()\n",
        "x_te_set2 = hstack((csr_matrix(x_test_tfidf_w2v), x_test_state_ohe, x_test_teacher_prefix_ohe, x_test_pgc_ohe,x_test_clean_cat_ohe,x_test_clean_subcat_ohe, x_test_price_norm,x_test_tppp_norm,x_test_neg_norm,x_test_pos_norm,x_test_neu_norm,x_test_comp_norm)).tocsr()\n",
        "\n",
        "print(\"Final Data matrix\")\n",
        "print(x_tr_set2.shape, y_train.shape)\n",
        "print(x_te_set2.shape, y_test.shape)\n",
        "print(\"=\"*100)"
      ],
      "metadata": {
        "colab": {
          "base_uri": "https://localhost:8080/"
        },
        "id": "mhMno3LXRa2E",
        "outputId": "d783aa84-38b5-4f2f-b767-eb3ce124b17e"
      },
      "execution_count": null,
      "outputs": [
        {
          "output_type": "stream",
          "name": "stdout",
          "text": [
            "Final Data matrix\n",
            "(73196, 316) (73196,)\n",
            "(36052, 316) (36052,)\n",
            "====================================================================================================\n"
          ]
        }
      ]
    },
    {
      "cell_type": "code",
      "source": [
        "all_plots(x_tr_set2)"
      ],
      "metadata": {
        "colab": {
          "base_uri": "https://localhost:8080/",
          "height": 1000
        },
        "id": "mTw3sGECQ2St",
        "outputId": "6e849d22-b020-4e7d-8ad2-3557ee9c481b"
      },
      "execution_count": null,
      "outputs": [
        {
          "output_type": "stream",
          "name": "stdout",
          "text": [
            "Best score 0.6913842949509539\n",
            "Best Hyper parameters {'learning_rate': 0.4, 'n_estimators': 40}\n"
          ]
        },
        {
          "output_type": "display_data",
          "data": {
            "text/plain": [
              "<Figure size 432x288 with 2 Axes>"
            ],
            "image/png": "[encoded data removed]"
          },
          "metadata": {
            "needs_background": "light"
          }
        },
        {
          "output_type": "stream",
          "name": "stdout",
          "text": [
            "\n",
            "\n"
          ]
        },
        {
          "output_type": "display_data",
          "data": {
            "text/plain": [
              "<Figure size 432x288 with 2 Axes>"
            ],
            "image/png": "[encoded data removed]"
          },
          "metadata": {
            "needs_background": "light"
          }
        },
        {
          "output_type": "display_data",
          "data": {
            "text/plain": [
              "<Figure size 432x288 with 1 Axes>"
            ],
            "image/png": "[encoded data removed]"
          },
          "metadata": {
            "needs_background": "light"
          }
        },
        {
          "output_type": "stream",
          "name": "stdout",
          "text": [
            "the maximum value of tpr*(1-fpr) 0.46085813923742547 for threshold 0.845\n"
          ]
        },
        {
          "output_type": "display_data",
          "data": {
            "text/plain": [
              "<Figure size 432x288 with 1 Axes>"
            ],
            "image/png": "[encoded data removed]"
          },
          "metadata": {
            "needs_background": "light"
          }
        },
        {
          "output_type": "stream",
          "name": "stdout",
          "text": [
            "\n",
            "the maximum value of tpr*(1-fpr) 0.40721778638185196 for threshold 0.852\n"
          ]
        },
        {
          "output_type": "display_data",
          "data": {
            "text/plain": [
              "<Figure size 432x288 with 1 Axes>"
            ],
            "image/png": "[encoded data removed]"
          },
          "metadata": {
            "needs_background": "light"
          }
        }
      ]
    },
    {
      "cell_type": "markdown",
      "metadata": {
        "id": "YhFN-lDWsc4G"
      },
      "source": [
        "#<h1>3. Summary</h1>\n",
        "\n"
      ]
    },
    {
      "cell_type": "code",
      "source": [
        "from prettytable import PrettyTable, ALL\n",
        "\n",
        "table = PrettyTable(hrules =ALL)\n",
        "table.field_names= [\"VECTORIZER\",\"MODEL\",\"learning_rate\",\"n_estimators\",'AUC']\n",
        "table.add_row([\"TFIDF\",\"GBDT\",0.4,40,0.69445])\n",
        "table.add_row([\"TFIDF W2V\",\"GBDT\",5,100,0.69437])\n",
        "\n",
        "print(table)"
      ],
      "metadata": {
        "colab": {
          "base_uri": "https://localhost:8080/"
        },
        "id": "LIBV57TahOgx",
        "outputId": "a045a4cd-ac05-4d4e-8cfb-b54c4b12babb"
      },
      "execution_count": null,
      "outputs": [
        {
          "output_type": "stream",
          "name": "stdout",
          "text": [
            "+------------+-------+---------------+--------------+---------+\n",
            "| VECTORIZER | MODEL | learning_rate | n_estimators |   AUC   |\n",
            "+------------+-------+---------------+--------------+---------+\n",
            "|   TFIDF    |  GBDT |      0.4      |      40      | 0.69445 |\n",
            "+------------+-------+---------------+--------------+---------+\n",
            "| TFIDF W2V  |  GBDT |       5       |     100      | 0.69437 |\n",
            "+------------+-------+---------------+--------------+---------+\n"
          ]
        }
      ]
    }
  ],
  "metadata": {
    "colab": {
      "collapsed_sections": [],
      "provenance": []
    },
    "kernelspec": {
      "display_name": "Python 3",
      "language": "python",
      "name": "python3"
    },
    "language_info": {
      "codemirror_mode": {
        "name": "ipython",
        "version": 3
      },
      "file_extension": ".py",
      "mimetype": "text/x-python",
      "name": "python",
      "nbconvert_exporter": "python",
      "pygments_lexer": "ipython3",
      "version": "3.6.3"
    }
  },
  "nbformat": 4,
  "nbformat_minor": 0
}